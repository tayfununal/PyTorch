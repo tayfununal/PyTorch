{
  "nbformat": 4,
  "nbformat_minor": 0,
  "metadata": {
    "colab": {
      "provenance": [],
      "authorship_tag": "ABX9TyOEvx4aK7F+/yilG4rnBYJ3",
      "include_colab_link": true
    },
    "kernelspec": {
      "name": "python3",
      "display_name": "Python 3"
    },
    "language_info": {
      "name": "python"
    }
  },
  "cells": [
    {
      "cell_type": "markdown",
      "metadata": {
        "id": "view-in-github",
        "colab_type": "text"
      },
      "source": [
        "<a href=\"https://colab.research.google.com/github/tayfununal/PyTorch/blob/main/rotate_Load_digit_1.ipynb\" target=\"_parent\"><img src=\"https://colab.research.google.com/assets/colab-badge.svg\" alt=\"Open In Colab\"/></a>"
      ]
    },
    {
      "cell_type": "code",
      "execution_count": 22,
      "metadata": {
        "id": "g5Cen0-Pcwow"
      },
      "outputs": [],
      "source": [
        "import torch\n",
        "import torch.nn.functional as F\n",
        "from torch import nn\n",
        "from torch.utils.data import DataLoader, Dataset\n",
        "import torchvision\n",
        "import numpy as np\n",
        "import matplotlib.pyplot as plt\n",
        "\n",
        "import imutils\n",
        "\n",
        "from sklearn.datasets import load_digits\n",
        "import sklearn"
      ]
    },
    {
      "cell_type": "code",
      "source": [
        "class Data(Dataset):\n",
        "    def __init__(self, dataset):\n",
        "        super(Data, self).__init__()\n",
        "\n",
        "        self.dataset = dataset\n",
        "\n",
        "    def __len__(self):\n",
        "        return len(self.dataset)\n",
        "\n",
        "    def __getitem__(self, idx):\n",
        "        x = self.dataset[idx]\n",
        "        return x"
      ],
      "metadata": {
        "id": "On1hRGS5eStw"
      },
      "execution_count": 23,
      "outputs": []
    },
    {
      "cell_type": "code",
      "source": [
        "dataset = load_digits()"
      ],
      "metadata": {
        "id": "BY2ImYeDeSwp"
      },
      "execution_count": 24,
      "outputs": []
    },
    {
      "cell_type": "code",
      "source": [
        "X = dataset.data\n",
        "y = dataset.target\n",
        "\n",
        "\"\"\"std_scale = sklearn.preprocessing.StandardScaler().fit(X)\n",
        "X = std_scale.transform(X)\"\"\""
      ],
      "metadata": {
        "colab": {
          "base_uri": "https://localhost:8080/",
          "height": 36
        },
        "id": "Ouuq-32NeSzj",
        "outputId": "6eb93f08-a2a3-448e-f4ef-7e03e72a2d36"
      },
      "execution_count": 25,
      "outputs": [
        {
          "output_type": "execute_result",
          "data": {
            "text/plain": [
              "'std_scale = sklearn.preprocessing.StandardScaler().fit(X)\\nX = std_scale.transform(X)'"
            ],
            "application/vnd.google.colaboratory.intrinsic+json": {
              "type": "string"
            }
          },
          "metadata": {},
          "execution_count": 25
        }
      ]
    },
    {
      "cell_type": "code",
      "source": [
        "X1 = X[y == 1]"
      ],
      "metadata": {
        "id": "49w4hB3equb2"
      },
      "execution_count": 26,
      "outputs": []
    },
    {
      "cell_type": "code",
      "source": [
        "plt.imshow(X1[0].reshape((8,8)))"
      ],
      "metadata": {
        "colab": {
          "base_uri": "https://localhost:8080/",
          "height": 448
        },
        "id": "oN5NPAuSg5kn",
        "outputId": "0590c39b-a26c-4fe8-add2-9f1a67311374"
      },
      "execution_count": 27,
      "outputs": [
        {
          "output_type": "execute_result",
          "data": {
            "text/plain": [
              "<matplotlib.image.AxesImage at 0x794f018e8e50>"
            ]
          },
          "metadata": {},
          "execution_count": 27
        },
        {
          "output_type": "display_data",
          "data": {
            "text/plain": [
              "<Figure size 640x480 with 1 Axes>"
            ],
            "image/png": "[encoded data removed]"
          },
          "metadata": {}
        }
      ]
    },
    {
      "cell_type": "code",
      "source": [
        "dim = X1.shape[1]\n",
        "hidden = 256\n",
        "\n",
        "\n",
        "\n",
        "model = nn.Sequential(nn.Conv2d(1, 32, 2), nn.ReLU(),\n",
        "                      nn.Conv2d(32, 32, 2), nn.ReLU(),\n",
        "                      nn.Conv2d(32, 32, 2), nn.ReLU(),\n",
        "                      nn.Flatten(),\n",
        "                      nn.Linear(160, hidden), nn.ReLU(),\n",
        "                      nn.Linear(hidden, hidden), nn.ReLU(),\n",
        "                      nn.Linear(hidden, hidden), nn.ReLU(),\n",
        "                      nn.Linear(hidden, hidden), nn.ReLU(),\n",
        "                      nn.Linear(hidden, hidden), nn.ReLU(),\n",
        "                      nn.Linear(hidden, hidden), nn.ReLU(),\n",
        "                      nn.Linear(hidden, 32))\n",
        "\n",
        "model2 = nn.Sequential(nn.Conv2d(1, 32, 2), nn.ReLU(),\n",
        "                      nn.Conv2d(32, 32, 2), nn.ReLU(),\n",
        "                      nn.Conv2d(32, 32, 2), nn.ReLU(),\n",
        "                      nn.Flatten(),\n",
        "                      nn.Linear(160, hidden), nn.ReLU(),\n",
        "                      nn.Linear(hidden, hidden), nn.ReLU(),\n",
        "                      nn.Linear(hidden, hidden), nn.ReLU(),\n",
        "                      nn.Linear(hidden, hidden), nn.ReLU(),\n",
        "                      nn.Linear(hidden, hidden), nn.ReLU(),\n",
        "                      nn.Linear(hidden, hidden), nn.ReLU(),\n",
        "                      nn.Linear(hidden, 32))\n",
        "\n",
        "model3 = nn.Sequential(nn.Conv2d(1, 32, 2), nn.ReLU(),\n",
        "                      nn.Conv2d(32, 32, 2), nn.ReLU(),\n",
        "                      nn.Conv2d(32, 32, 2), nn.ReLU(),\n",
        "                      nn.Flatten(),\n",
        "                      nn.Linear(160, hidden), nn.ReLU(),\n",
        "                      nn.Linear(hidden, hidden), nn.ReLU(),\n",
        "                      nn.Linear(hidden, hidden), nn.ReLU(),\n",
        "                      nn.Linear(hidden, hidden), nn.ReLU(),\n",
        "                      nn.Linear(hidden, hidden), nn.ReLU(),\n",
        "                      nn.Linear(hidden, hidden), nn.ReLU(),\n",
        "                      nn.Linear(hidden, 32))\n",
        "\n",
        "model4 = nn.Sequential(nn.Conv2d(1, 32, 2), nn.ReLU(),\n",
        "                      nn.Conv2d(32, 32, 2), nn.ReLU(),\n",
        "                      nn.Conv2d(32, 32, 2), nn.ReLU(),\n",
        "                      nn.Flatten(),\n",
        "                      nn.Linear(160, hidden), nn.ReLU(),\n",
        "                      nn.Linear(hidden, hidden), nn.ReLU(),\n",
        "                      nn.Linear(hidden, hidden), nn.ReLU(),\n",
        "                      nn.Linear(hidden, hidden), nn.ReLU(),\n",
        "                      nn.Linear(hidden, hidden), nn.ReLU(),\n",
        "                      nn.Linear(hidden, hidden), nn.ReLU(),\n",
        "                      nn.Linear(hidden, 32))\n",
        "\n",
        "model5 = nn.Sequential(nn.Conv2d(1, 32, 2), nn.ReLU(),\n",
        "                      nn.Conv2d(32, 32, 2), nn.ReLU(),\n",
        "                      nn.Conv2d(32, 32, 2), nn.ReLU(),\n",
        "                      nn.Flatten(),\n",
        "                      nn.Linear(160, hidden), nn.ReLU(),\n",
        "                      nn.Linear(hidden, hidden), nn.ReLU(),\n",
        "                      nn.Linear(hidden, hidden), nn.ReLU(),\n",
        "                      nn.Linear(hidden, hidden), nn.ReLU(),\n",
        "                      nn.Linear(hidden, hidden), nn.ReLU(),\n",
        "                      nn.Linear(hidden, hidden), nn.ReLU(),\n",
        "                      nn.Linear(hidden, 32))\n",
        "\n",
        "model6 = nn.Sequential(nn.Conv2d(1, 32, 2), nn.ReLU(),\n",
        "                      nn.Conv2d(32, 32, 2), nn.ReLU(),\n",
        "                      nn.Conv2d(32, 32, 2), nn.ReLU(),\n",
        "                      nn.Flatten(),\n",
        "                      nn.Linear(160, hidden), nn.ReLU(),\n",
        "                      nn.Linear(hidden, hidden), nn.ReLU(),\n",
        "                      nn.Linear(hidden, hidden), nn.ReLU(),\n",
        "                      nn.Linear(hidden, hidden), nn.ReLU(),\n",
        "                      nn.Linear(hidden, hidden), nn.ReLU(),\n",
        "                      nn.Linear(hidden, hidden), nn.ReLU(),\n",
        "                      nn.Linear(hidden, 32))\n",
        "\n",
        "model7 = nn.Sequential(nn.Conv2d(1, 32, 2), nn.ReLU(),\n",
        "                      nn.Conv2d(32, 32, 2), nn.ReLU(),\n",
        "                      nn.Conv2d(32, 32, 2), nn.ReLU(),\n",
        "                      nn.Flatten(),\n",
        "                      nn.Linear(160, hidden), nn.ReLU(),\n",
        "                      nn.Linear(hidden, hidden), nn.ReLU(),\n",
        "                      nn.Linear(hidden, hidden), nn.ReLU(),\n",
        "                      nn.Linear(hidden, hidden), nn.ReLU(),\n",
        "                      nn.Linear(hidden, hidden), nn.ReLU(),\n",
        "                      nn.Linear(hidden, hidden), nn.ReLU(),\n",
        "                      nn.Linear(hidden, 32))\n",
        "\n",
        "model8 = nn.Sequential(nn.Conv2d(1, 32, 2), nn.ReLU(),\n",
        "                      nn.Conv2d(32, 32, 2), nn.ReLU(),\n",
        "                      nn.Conv2d(32, 32, 2), nn.ReLU(),\n",
        "                      nn.Flatten(),\n",
        "                      nn.Linear(160, hidden), nn.ReLU(),\n",
        "                      nn.Linear(hidden, hidden), nn.ReLU(),\n",
        "                      nn.Linear(hidden, hidden), nn.ReLU(),\n",
        "                      nn.Linear(hidden, hidden), nn.ReLU(),\n",
        "                      nn.Linear(hidden, hidden), nn.ReLU(),\n",
        "                      nn.Linear(hidden, hidden), nn.ReLU(),\n",
        "                      nn.Linear(hidden, 32))\n",
        "\n",
        "model9 = nn.Sequential(nn.Conv2d(1, 32, 2), nn.ReLU(),\n",
        "                      nn.Conv2d(32, 32, 2), nn.ReLU(),\n",
        "                      nn.Conv2d(32, 32, 2), nn.ReLU(),\n",
        "                      nn.Flatten(),\n",
        "                      nn.Linear(160, hidden), nn.ReLU(),\n",
        "                      nn.Linear(hidden, hidden), nn.ReLU(),\n",
        "                      nn.Linear(hidden, hidden), nn.ReLU(),\n",
        "                      nn.Linear(hidden, hidden), nn.ReLU(),\n",
        "                      nn.Linear(hidden, hidden), nn.ReLU(),\n",
        "                      nn.Linear(hidden, hidden), nn.ReLU(),\n",
        "                      nn.Linear(hidden, 32))\n",
        "\n",
        "model9 = nn.Sequential(nn.Conv2d(1, 32, 2), nn.ReLU(),\n",
        "                      nn.Conv2d(32, 32, 2), nn.ReLU(),\n",
        "                      nn.Conv2d(32, 32, 2), nn.ReLU(),\n",
        "                      nn.Flatten(),\n",
        "                      nn.Linear(160, hidden), nn.ReLU(),\n",
        "                      nn.Linear(hidden, hidden), nn.ReLU(),\n",
        "                      nn.Linear(hidden, hidden), nn.ReLU(),\n",
        "                      nn.Linear(hidden, hidden), nn.ReLU(),\n",
        "                      nn.Linear(hidden, hidden), nn.ReLU(),\n",
        "                      nn.Linear(hidden, hidden), nn.ReLU(),\n",
        "                      nn.Linear(hidden, 32))\n",
        "\n",
        "model10 = nn.Sequential(nn.Conv2d(1, 32, 2), nn.ReLU(),\n",
        "                      nn.Conv2d(32, 32, 2), nn.ReLU(),\n",
        "                      nn.Conv2d(32, 32, 2), nn.ReLU(),\n",
        "                      nn.Flatten(),\n",
        "                      nn.Linear(160, hidden), nn.ReLU(),\n",
        "                      nn.Linear(hidden, hidden), nn.ReLU(),\n",
        "                      nn.Linear(hidden, hidden), nn.ReLU(),\n",
        "                      nn.Linear(hidden, hidden), nn.ReLU(),\n",
        "                      nn.Linear(hidden, hidden), nn.ReLU(),\n",
        "                      nn.Linear(hidden, hidden), nn.ReLU(),\n",
        "                      nn.Linear(hidden, 32))\n",
        "\n",
        "model11 = nn.Sequential(nn.Conv2d(1, 32, 2), nn.ReLU(),\n",
        "                      nn.Conv2d(32, 32, 2), nn.ReLU(),\n",
        "                      nn.Conv2d(32, 32, 2), nn.ReLU(),\n",
        "                      nn.Flatten(),\n",
        "                      nn.Linear(160, hidden), nn.ReLU(),\n",
        "                      nn.Linear(hidden, hidden), nn.ReLU(),\n",
        "                      nn.Linear(hidden, hidden), nn.ReLU(),\n",
        "                      nn.Linear(hidden, hidden), nn.ReLU(),\n",
        "                      nn.Linear(hidden, hidden), nn.ReLU(),\n",
        "                      nn.Linear(hidden, hidden), nn.ReLU(),\n",
        "                      nn.Linear(hidden, 32))\n",
        "\n",
        "model12 = nn.Sequential(nn.Conv2d(1, 32, 2), nn.ReLU(),\n",
        "                      nn.Conv2d(32, 32, 2), nn.ReLU(),\n",
        "                      nn.Conv2d(32, 32, 2), nn.ReLU(),\n",
        "                      nn.Flatten(),\n",
        "                      nn.Linear(160, hidden), nn.ReLU(),\n",
        "                      nn.Linear(hidden, hidden), nn.ReLU(),\n",
        "                      nn.Linear(hidden, hidden), nn.ReLU(),\n",
        "                      nn.Linear(hidden, hidden), nn.ReLU(),\n",
        "                      nn.Linear(hidden, hidden), nn.ReLU(),\n",
        "                      nn.Linear(hidden, hidden), nn.ReLU(),\n",
        "                      nn.Linear(hidden, 32))\n",
        "\n",
        "model13 = nn.Sequential(nn.Conv2d(1, 32, 2), nn.ReLU(),\n",
        "                      nn.Conv2d(32, 32, 2), nn.ReLU(),\n",
        "                      nn.Conv2d(32, 32, 2), nn.ReLU(),\n",
        "                      nn.Flatten(),\n",
        "                      nn.Linear(160, hidden), nn.ReLU(),\n",
        "                      nn.Linear(hidden, hidden), nn.ReLU(),\n",
        "                      nn.Linear(hidden, hidden), nn.ReLU(),\n",
        "                      nn.Linear(hidden, hidden), nn.ReLU(),\n",
        "                      nn.Linear(hidden, hidden), nn.ReLU(),\n",
        "                      nn.Linear(hidden, hidden), nn.ReLU(),\n",
        "                      nn.Linear(hidden, 32))"
      ],
      "metadata": {
        "id": "dyvmxuTChFMW"
      },
      "execution_count": 28,
      "outputs": []
    },
    {
      "cell_type": "code",
      "source": [
        "\"\"\"def coupling_layer(x, m, flow, forward=True):\n",
        "\n",
        "    x_a = x[:, ::2] if flow%2==0 else x[:, 1::2]\n",
        "    x_b = x[:, 1::2] if flow%2==0 else x[:, ::2]\n",
        "\n",
        "    if forward:\n",
        "        y_b = x_b - m(x_a)\n",
        "    else:\n",
        "        y_b = x_b + m(x_a.reshape(-1,1,4,8))\n",
        "\n",
        "    z = torch.empty(x.shape)\n",
        "    z[:, ::2] = x_a if flow%2==0 else y_b\n",
        "    z[:, 1::2] = y_b if flow%2==0 else x_a\n",
        "    return z\"\"\""
      ],
      "metadata": {
        "id": "V3pAyHuslYRD",
        "colab": {
          "base_uri": "https://localhost:8080/",
          "height": 73
        },
        "outputId": "9c71b937-77a3-4c2c-a138-4f658d70ca06"
      },
      "execution_count": 29,
      "outputs": [
        {
          "output_type": "execute_result",
          "data": {
            "text/plain": [
              "'def coupling_layer(x, m, flow, forward=True):\\n\\n    x_a = x[:, ::2] if flow%2==0 else x[:, 1::2]\\n    x_b = x[:, 1::2] if flow%2==0 else x[:, ::2]\\n\\n    if forward:\\n        y_b = x_b - m(x_a)\\n    else:\\n        y_b = x_b + m(x_a.reshape(-1,1,4,8))\\n\\n    z = torch.empty(x.shape)\\n    z[:, ::2] = x_a if flow%2==0 else y_b\\n    z[:, 1::2] = y_b if flow%2==0 else x_a\\n    return z'"
            ],
            "application/vnd.google.colaboratory.intrinsic+json": {
              "type": "string"
            }
          },
          "metadata": {},
          "execution_count": 29
        }
      ]
    },
    {
      "cell_type": "code",
      "source": [
        "def coupling_layer(x, m, flow, forward=True):\n",
        "    dim = x.shape[1]//2\n",
        "    x_a = x[:, :dim] if flow%2==0 else x[:, dim:]\n",
        "    x_b = x[:, dim:] if flow%2==0 else x[:, :dim]\n",
        "\n",
        "    if forward:\n",
        "        y_b = x_b - m(x_a)\n",
        "    else:\n",
        "        y_b = x_b + m(x_a.reshape(-1,1,4,8))\n",
        "\n",
        "    z = torch.empty(x.shape)\n",
        "    z[:, :dim] = x_a if flow%2==0 else y_b\n",
        "    z[:, dim:] = y_b if flow%2==0 else x_a\n",
        "    return z"
      ],
      "metadata": {
        "id": "fhWUvP6AWeTE"
      },
      "execution_count": 30,
      "outputs": []
    },
    {
      "cell_type": "code",
      "source": [
        "rotated_X1 = np.zeros((X1.shape))\n",
        "for i in range(len(X1)):\n",
        "  rot = imutils.rotate(torch.from_numpy(X1[i]).detach().numpy().reshape(8,8), angle=90).reshape((1,64))\n",
        "  rotated_X1[i] = rot\n",
        "rotated_X1 = torch.from_numpy(rotated_X1).to(torch.float32)"
      ],
      "metadata": {
        "id": "Vkxv-9Bc1Rig"
      },
      "execution_count": 31,
      "outputs": []
    },
    {
      "cell_type": "code",
      "source": [
        "plt.imshow(rotated_X1[5].reshape((8,8)))"
      ],
      "metadata": {
        "colab": {
          "base_uri": "https://localhost:8080/",
          "height": 448
        },
        "id": "cyzwJZuG2Kf3",
        "outputId": "e6e865b2-f0e9-4f56-e137-f36cd32ecefb"
      },
      "execution_count": 32,
      "outputs": [
        {
          "output_type": "execute_result",
          "data": {
            "text/plain": [
              "<matplotlib.image.AxesImage at 0x794f02c8e560>"
            ]
          },
          "metadata": {},
          "execution_count": 32
        },
        {
          "output_type": "display_data",
          "data": {
            "text/plain": [
              "<Figure size 640x480 with 1 Axes>"
            ],
            "image/png": "[encoded data removed]"
          },
          "metadata": {}
        }
      ]
    },
    {
      "cell_type": "code",
      "source": [
        "learning_rate = 0.001\n",
        "optimizer = torch.optim.Adam(model.parameters(), lr=learning_rate)\n",
        "mse = nn.MSELoss()\n",
        "\n",
        "n_epochs = 5000\n",
        "for epoch in range(n_epochs):\n",
        "  #random = torch.randint(0,9,(1,1)).item()\n",
        "  z = coupling_layer(torch.from_numpy(X1).to(torch.float32), m=model, flow=2, forward=False)\n",
        "  z2 = coupling_layer(z, m=model2, flow=1, forward=False)\n",
        "  z3 = coupling_layer(z2, m=model3, flow=2, forward=False)\n",
        "  z4 = coupling_layer(z3, m=model4, flow=1, forward=False)\n",
        "  z5 = coupling_layer(z4, m=model5, flow=2, forward=False)\n",
        "  z6 = coupling_layer(z5, m=model6, flow=1, forward=False)\n",
        "  z7 = coupling_layer(z6, m=model7, flow=2, forward=False)\n",
        "  z8 = coupling_layer(z7, m=model8, flow=1, forward=False)\n",
        "  z9 = coupling_layer(z8, m=model9, flow=2, forward=False)\n",
        "  z10 = coupling_layer(z9, m=model10, flow=1, forward=False)\n",
        "  z11 = coupling_layer(z10, m=model11, flow=2, forward=False)\n",
        "  z12 = coupling_layer(z11, m=model12, flow=1, forward=False)\n",
        "  z13 = coupling_layer(z12, m=model13, flow=2, forward=False)\n",
        "\n",
        "  loss = mse(rotated_X1, z13)\n",
        "\n",
        "  optimizer.zero_grad()\n",
        "  loss.backward()\n",
        "  optimizer.step()\n",
        "  if epoch%1000 == 0:\n",
        "    print(\"Epoch :\", epoch,\"loss :\", loss.item())"
      ],
      "metadata": {
        "colab": {
          "base_uri": "https://localhost:8080/"
        },
        "id": "pf84koIMo7kX",
        "outputId": "5984588c-d04b-401c-c65c-2ce9be34a040"
      },
      "execution_count": 33,
      "outputs": [
        {
          "output_type": "stream",
          "name": "stdout",
          "text": [
            "Epoch : 0 loss : 78.65719604492188\n",
            "Epoch : 1000 loss : 36.25498962402344\n",
            "Epoch : 2000 loss : 35.59218215942383\n",
            "Epoch : 3000 loss : 35.293251037597656\n",
            "Epoch : 4000 loss : 35.13761901855469\n"
          ]
        }
      ]
    },
    {
      "cell_type": "code",
      "source": [
        "random = torch.randint(0,181,(1,)).item()\n",
        "z =  coupling_layer(torch.from_numpy(X[y==1][random].reshape(1,64)).to(torch.float32), model, flow=2, forward=False)\n",
        "z2 = coupling_layer(z, m=model2, flow=1, forward=False)\n",
        "z3 = coupling_layer(z2, m=model3, flow=2, forward=False)\n",
        "z4 = coupling_layer(z3, m=model4, flow=1, forward=False)\n",
        "z5 = coupling_layer(z4, m=model5, flow=2, forward=False)\n",
        "z6 = coupling_layer(z5, m=model6, flow=1, forward=False)\n",
        "z7 = coupling_layer(z6, m=model7, flow=2, forward=False)\n",
        "z8 = coupling_layer(z7, m=model8, flow=1, forward=False)\n",
        "z9 = coupling_layer(z8, m=model9, flow=2, forward=False)\n",
        "z10 = coupling_layer(z9, m=model10, flow=1, forward=False)\n",
        "z11 = coupling_layer(z10, m=model11, flow=2, forward=False)\n",
        "z12 = coupling_layer(z11, m=model12, flow=1, forward=False)\n",
        "x_hat = coupling_layer(z12, m=model13, flow=2, forward=False)\n",
        "\n",
        "plt.imshow(x_hat.detach().numpy().reshape((8,8)))"
      ],
      "metadata": {
        "id": "WlIaQKEW46fP",
        "outputId": "62a299b7-eb7f-45da-fd4b-20bc9a7375d8",
        "colab": {
          "base_uri": "https://localhost:8080/",
          "height": 448
        }
      },
      "execution_count": 51,
      "outputs": [
        {
          "output_type": "execute_result",
          "data": {
            "text/plain": [
              "<matplotlib.image.AxesImage at 0x794f01c0baf0>"
            ]
          },
          "metadata": {},
          "execution_count": 51
        },
        {
          "output_type": "display_data",
          "data": {
            "text/plain": [
              "<Figure size 640x480 with 1 Axes>"
            ],
            "image/png": "[encoded data removed]"
          },
          "metadata": {}
        }
      ]
    },
    {
      "cell_type": "code",
      "source": [
        "X[y==1][4]"
      ],
      "metadata": {
        "id": "_qGiJcG35_Rw",
        "outputId": "d5856b40-25ad-4cab-a9e3-1c03c24fb964",
        "colab": {
          "base_uri": "https://localhost:8080/"
        }
      },
      "execution_count": 35,
      "outputs": [
        {
          "output_type": "execute_result",
          "data": {
            "text/plain": [
              "array([ 0.,  0.,  0.,  1., 11.,  9.,  0.,  0.,  0.,  0.,  0.,  7., 16.,\n",
              "       13.,  0.,  0.,  0.,  0.,  4., 14., 16.,  9.,  0.,  0.,  0., 10.,\n",
              "       16., 11., 16.,  8.,  0.,  0.,  0.,  0.,  0.,  3., 16.,  6.,  0.,\n",
              "        0.,  0.,  0.,  0.,  3., 16.,  8.,  0.,  0.,  0.,  0.,  0.,  5.,\n",
              "       16., 10.,  0.,  0.,  0.,  0.,  0.,  2., 14.,  6.,  0.,  0.])"
            ]
          },
          "metadata": {},
          "execution_count": 35
        }
      ]
    },
    {
      "cell_type": "code",
      "source": [
        "X1[1]"
      ],
      "metadata": {
        "id": "lI1vhwDz9gtY",
        "outputId": "0f5ce992-f08b-44dd-b469-5ed49d4010c4",
        "colab": {
          "base_uri": "https://localhost:8080/"
        }
      },
      "execution_count": 36,
      "outputs": [
        {
          "output_type": "execute_result",
          "data": {
            "text/plain": [
              "array([ 0.,  0.,  0.,  0., 14., 13.,  1.,  0.,  0.,  0.,  0.,  5., 16.,\n",
              "       16.,  2.,  0.,  0.,  0.,  0., 14., 16., 12.,  0.,  0.,  0.,  1.,\n",
              "       10., 16., 16., 12.,  0.,  0.,  0.,  3., 12., 14., 16.,  9.,  0.,\n",
              "        0.,  0.,  0.,  0.,  5., 16., 15.,  0.,  0.,  0.,  0.,  0.,  4.,\n",
              "       16., 14.,  0.,  0.,  0.,  0.,  0.,  1., 13., 16.,  1.,  0.])"
            ]
          },
          "metadata": {},
          "execution_count": 36
        }
      ]
    },
    {
      "cell_type": "code",
      "source": [
        "plt.imshow(X1[65].reshape((8,8)))"
      ],
      "metadata": {
        "id": "dGUK1OMX7hAl",
        "outputId": "d83d1da9-19d7-43ef-ac1b-d1f95a8a6cbf",
        "colab": {
          "base_uri": "https://localhost:8080/",
          "height": 448
        }
      },
      "execution_count": 37,
      "outputs": [
        {
          "output_type": "execute_result",
          "data": {
            "text/plain": [
              "<matplotlib.image.AxesImage at 0x794f00ba9570>"
            ]
          },
          "metadata": {},
          "execution_count": 37
        },
        {
          "output_type": "display_data",
          "data": {
            "text/plain": [
              "<Figure size 640x480 with 1 Axes>"
            ],
            "image/png": "[encoded data removed]"
          },
          "metadata": {}
        }
      ]
    },
    {
      "cell_type": "code",
      "source": [],
      "metadata": {
        "id": "kWMmlmLS5e49"
      },
      "execution_count": 37,
      "outputs": []
    }
  ]
}