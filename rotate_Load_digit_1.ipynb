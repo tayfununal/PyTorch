{
  "nbformat": 4,
  "nbformat_minor": 0,
  "metadata": {
    "colab": {
      "provenance": [],
      "authorship_tag": "ABX9TyO0D4VJMqjQsU2zFm0GJTvN",
      "include_colab_link": true
    },
    "kernelspec": {
      "name": "python3",
      "display_name": "Python 3"
    },
    "language_info": {
      "name": "python"
    }
  },
  "cells": [
    {
      "cell_type": "markdown",
      "metadata": {
        "id": "view-in-github",
        "colab_type": "text"
      },
      "source": [
        "<a href=\"https://colab.research.google.com/github/tayfununal/PyTorch/blob/main/rotate_Load_digit_1.ipynb\" target=\"_parent\"><img src=\"https://colab.research.google.com/assets/colab-badge.svg\" alt=\"Open In Colab\"/></a>"
      ]
    },
    {
      "cell_type": "code",
      "execution_count": 116,
      "metadata": {
        "id": "g5Cen0-Pcwow"
      },
      "outputs": [],
      "source": [
        "import torch\n",
        "import torch.nn.functional as F\n",
        "from torch import nn\n",
        "from torch.utils.data import DataLoader, Dataset\n",
        "import torchvision\n",
        "import numpy as np\n",
        "import matplotlib.pyplot as plt\n",
        "\n",
        "import imutils\n",
        "\n",
        "from sklearn.datasets import load_digits\n",
        "import sklearn"
      ]
    },
    {
      "cell_type": "code",
      "source": [
        "class Data(Dataset):\n",
        "    def __init__(self, dataset):\n",
        "        super(Data, self).__init__()\n",
        "\n",
        "        self.dataset = dataset\n",
        "\n",
        "    def __len__(self):\n",
        "        return len(self.dataset)\n",
        "\n",
        "    def __getitem__(self, idx):\n",
        "        x = self.dataset[idx]\n",
        "        return x"
      ],
      "metadata": {
        "id": "On1hRGS5eStw"
      },
      "execution_count": 117,
      "outputs": []
    },
    {
      "cell_type": "code",
      "source": [
        "dataset = load_digits()"
      ],
      "metadata": {
        "id": "BY2ImYeDeSwp"
      },
      "execution_count": 118,
      "outputs": []
    },
    {
      "cell_type": "code",
      "source": [
        "X = dataset.data\n",
        "y = dataset.target\n",
        "\n",
        "\"\"\"std_scale = sklearn.preprocessing.StandardScaler().fit(X)\n",
        "X = std_scale.transform(X)\"\"\""
      ],
      "metadata": {
        "colab": {
          "base_uri": "https://localhost:8080/",
          "height": 36
        },
        "id": "Ouuq-32NeSzj",
        "outputId": "94489d79-75c9-4922-d257-f83d3065a33f"
      },
      "execution_count": 119,
      "outputs": [
        {
          "output_type": "execute_result",
          "data": {
            "text/plain": [
              "'std_scale = sklearn.preprocessing.StandardScaler().fit(X)\\nX = std_scale.transform(X)'"
            ],
            "application/vnd.google.colaboratory.intrinsic+json": {
              "type": "string"
            }
          },
          "metadata": {},
          "execution_count": 119
        }
      ]
    },
    {
      "cell_type": "code",
      "source": [
        "X1 = X[y == 1]"
      ],
      "metadata": {
        "id": "49w4hB3equb2"
      },
      "execution_count": 120,
      "outputs": []
    },
    {
      "cell_type": "code",
      "source": [
        "plt.imshow(X1[0].reshape((8,8)))"
      ],
      "metadata": {
        "colab": {
          "base_uri": "https://localhost:8080/",
          "height": 448
        },
        "id": "oN5NPAuSg5kn",
        "outputId": "cee34f29-d1e0-4852-d17e-4c2a58751fc4"
      },
      "execution_count": 121,
      "outputs": [
        {
          "output_type": "execute_result",
          "data": {
            "text/plain": [
              "<matplotlib.image.AxesImage at 0x7879ec1af730>"
            ]
          },
          "metadata": {},
          "execution_count": 121
        },
        {
          "output_type": "display_data",
          "data": {
            "text/plain": [
              "<Figure size 640x480 with 1 Axes>"
            ],
            "image/png": "[encoded data removed]"
          },
          "metadata": {}
        }
      ]
    },
    {
      "cell_type": "code",
      "source": [
        "class Sin(nn.Module):\n",
        "  def forward(self, x):\n",
        "    return torch.sin(x)"
      ],
      "metadata": {
        "id": "pv9CQd2FXHS4"
      },
      "execution_count": 122,
      "outputs": []
    },
    {
      "cell_type": "code",
      "source": [
        "dim = X1.shape[1]\n",
        "hidden = 256\n",
        "\n",
        "\n",
        "\n",
        "model = nn.Sequential(nn.Conv2d(1, 64, 1), nn.ReLU(),\n",
        "                      nn.Conv2d(64, 64, 1), nn.ReLU(),\n",
        "                      nn.Conv2d(64, 64, 1), nn.ReLU(),\n",
        "                      nn.Flatten(),\n",
        "                      nn.Linear(2048, hidden), nn.LeakyReLU(),\n",
        "                      nn.Linear(hidden, hidden), nn.LeakyReLU(),\n",
        "                      nn.Linear(hidden, hidden), nn.LeakyReLU(),\n",
        "                      nn.Linear(hidden, hidden), nn.LeakyReLU(),\n",
        "                      nn.Linear(hidden, hidden), nn.LeakyReLU(),\n",
        "                      nn.Linear(hidden, hidden), nn.LeakyReLU(),\n",
        "                      nn.Linear(hidden, 32), nn.LeakyReLU())\n",
        "\n",
        "model2 = nn.Sequential(nn.Conv2d(1, 64, 1), nn.ReLU(),\n",
        "                      nn.Conv2d(64, 64, 1), nn.ReLU(),\n",
        "                      nn.Conv2d(64, 64, 1), nn.ReLU(),\n",
        "                      nn.Flatten(),\n",
        "                      nn.Linear(2048, hidden), nn.LeakyReLU(),\n",
        "                      nn.Linear(hidden, hidden), nn.LeakyReLU(),\n",
        "                      nn.Linear(hidden, hidden), nn.LeakyReLU(),\n",
        "                      nn.Linear(hidden, hidden), nn.LeakyReLU(),\n",
        "                      nn.Linear(hidden, hidden), nn.LeakyReLU(),\n",
        "                      nn.Linear(hidden, hidden), nn.LeakyReLU(),\n",
        "                      nn.Linear(hidden, 32), nn.LeakyReLU())\n",
        "\n",
        "model3 = nn.Sequential(nn.Conv2d(1, 64, 1), nn.ReLU(),\n",
        "                      nn.Conv2d(64, 64, 1), nn.ReLU(),\n",
        "                      nn.Conv2d(64, 64, 1), nn.ReLU(),\n",
        "                      nn.Flatten(),\n",
        "                      nn.Linear(2048, hidden), nn.LeakyReLU(),\n",
        "                      nn.Linear(hidden, hidden), nn.LeakyReLU(),\n",
        "                      nn.Linear(hidden, hidden), nn.LeakyReLU(),\n",
        "                      nn.Linear(hidden, hidden), nn.LeakyReLU(),\n",
        "                      nn.Linear(hidden, hidden), nn.LeakyReLU(),\n",
        "                      nn.Linear(hidden, hidden), nn.LeakyReLU(),\n",
        "                      nn.Linear(hidden, 32), nn.LeakyReLU())\n",
        "\n",
        "model4 = nn.Sequential(nn.Conv2d(1, 64, 1), nn.ReLU(),\n",
        "                      nn.Conv2d(64, 64, 1), nn.ReLU(),\n",
        "                      nn.Conv2d(64, 64, 1), nn.ReLU(),\n",
        "                      nn.Flatten(),\n",
        "                      nn.Linear(2048, hidden), nn.LeakyReLU(),\n",
        "                      nn.Linear(hidden, hidden), nn.LeakyReLU(),\n",
        "                      nn.Linear(hidden, hidden), nn.LeakyReLU(),\n",
        "                      nn.Linear(hidden, hidden), nn.LeakyReLU(),\n",
        "                      nn.Linear(hidden, hidden), nn.LeakyReLU(),\n",
        "                      nn.Linear(hidden, hidden), nn.LeakyReLU(),\n",
        "                      nn.Linear(hidden, 32), nn.LeakyReLU())\n",
        "\n",
        "model5 = nn.Sequential(nn.Conv2d(1, 64, 1), nn.ReLU(),\n",
        "                      nn.Conv2d(64, 64, 1), nn.ReLU(),\n",
        "                      nn.Conv2d(64, 64, 1), nn.ReLU(),\n",
        "                      nn.Flatten(),\n",
        "                      nn.Linear(2048, hidden), nn.LeakyReLU(),\n",
        "                      nn.Linear(hidden, hidden), nn.LeakyReLU(),\n",
        "                      nn.Linear(hidden, hidden), nn.LeakyReLU(),\n",
        "                      nn.Linear(hidden, hidden), nn.LeakyReLU(),\n",
        "                      nn.Linear(hidden, hidden), nn.LeakyReLU(),\n",
        "                      nn.Linear(hidden, hidden), nn.LeakyReLU(),\n",
        "                      nn.Linear(hidden, 32), nn.LeakyReLU())\n",
        "\n",
        "model6 = nn.Sequential(nn.Conv2d(1, 64, 1), nn.ReLU(),\n",
        "                      nn.Conv2d(64, 64, 1), nn.ReLU(),\n",
        "                      nn.Conv2d(64, 64, 1), nn.ReLU(),\n",
        "                      nn.Flatten(),\n",
        "                      nn.Linear(2048, hidden), nn.LeakyReLU(),\n",
        "                      nn.Linear(hidden, hidden), nn.LeakyReLU(),\n",
        "                      nn.Linear(hidden, hidden), nn.LeakyReLU(),\n",
        "                      nn.Linear(hidden, hidden), nn.LeakyReLU(),\n",
        "                      nn.Linear(hidden, hidden), nn.LeakyReLU(),\n",
        "                      nn.Linear(hidden, hidden), nn.LeakyReLU(),\n",
        "                      nn.Linear(hidden, 32), nn.LeakyReLU())\n",
        "\n",
        "model7 = nn.Sequential(nn.Conv2d(1, 64, 1), nn.ReLU(),\n",
        "                      nn.Conv2d(64, 64, 1), nn.ReLU(),\n",
        "                      nn.Conv2d(64, 64, 1), nn.ReLU(),\n",
        "                      nn.Flatten(),\n",
        "                      nn.Linear(2048, hidden), nn.LeakyReLU(),\n",
        "                      nn.Linear(hidden, hidden), nn.LeakyReLU(),\n",
        "                      nn.Linear(hidden, hidden), nn.LeakyReLU(),\n",
        "                      nn.Linear(hidden, hidden), nn.LeakyReLU(),\n",
        "                      nn.Linear(hidden, hidden), nn.LeakyReLU(),\n",
        "                      nn.Linear(hidden, hidden), nn.LeakyReLU(),\n",
        "                      nn.Linear(hidden, 32), nn.LeakyReLU())\n",
        "\n",
        "model8 = nn.Sequential(nn.Conv2d(1, 64, 1), nn.ReLU(),\n",
        "                      nn.Conv2d(64, 64, 1), nn.ReLU(),\n",
        "                      nn.Conv2d(64, 64, 1), nn.ReLU(),\n",
        "                      nn.Flatten(),\n",
        "                      nn.Linear(2048, hidden), nn.LeakyReLU(),\n",
        "                      nn.Linear(hidden, hidden), nn.LeakyReLU(),\n",
        "                      nn.Linear(hidden, hidden), nn.LeakyReLU(),\n",
        "                      nn.Linear(hidden, hidden), nn.LeakyReLU(),\n",
        "                      nn.Linear(hidden, hidden), nn.LeakyReLU(),\n",
        "                      nn.Linear(hidden, hidden), nn.LeakyReLU(),\n",
        "                      nn.Linear(hidden, 32), nn.LeakyReLU())\n",
        "\n",
        "model9 = nn.Sequential(nn.Conv2d(1, 64, 1), nn.ReLU(),\n",
        "                      nn.Conv2d(64, 64, 1), nn.ReLU(),\n",
        "                      nn.Conv2d(64, 64, 1), nn.ReLU(),\n",
        "                      nn.Flatten(),\n",
        "                      nn.Linear(2048, hidden), nn.LeakyReLU(),\n",
        "                      nn.Linear(hidden, hidden), nn.LeakyReLU(),\n",
        "                      nn.Linear(hidden, hidden), nn.LeakyReLU(),\n",
        "                      nn.Linear(hidden, hidden), nn.LeakyReLU(),\n",
        "                      nn.Linear(hidden, hidden), nn.LeakyReLU(),\n",
        "                      nn.Linear(hidden, hidden), nn.LeakyReLU(),\n",
        "                      nn.Linear(hidden, 32), nn.LeakyReLU())\n",
        "\n",
        "model9 = nn.Sequential(nn.Conv2d(1, 64, 1), nn.ReLU(),\n",
        "                      nn.Conv2d(64, 64, 1), nn.ReLU(),\n",
        "                      nn.Conv2d(64, 64, 1), nn.ReLU(),\n",
        "                      nn.Flatten(),\n",
        "                      nn.Linear(2048, hidden), nn.LeakyReLU(),\n",
        "                      nn.Linear(hidden, hidden), nn.LeakyReLU(),\n",
        "                      nn.Linear(hidden, hidden), nn.LeakyReLU(),\n",
        "                      nn.Linear(hidden, hidden), nn.LeakyReLU(),\n",
        "                      nn.Linear(hidden, hidden), nn.LeakyReLU(),\n",
        "                      nn.Linear(hidden, hidden), nn.LeakyReLU(),\n",
        "                      nn.Linear(hidden, 32), nn.LeakyReLU())\n",
        "\n",
        "model10 = nn.Sequential(nn.Conv2d(1, 64, 1), nn.ReLU(),\n",
        "                      nn.Conv2d(64, 64, 1), nn.ReLU(),\n",
        "                      nn.Conv2d(64, 64, 1), nn.ReLU(),\n",
        "                      nn.Flatten(),\n",
        "                      nn.Linear(2048, hidden), nn.LeakyReLU(),\n",
        "                      nn.Linear(hidden, hidden), nn.LeakyReLU(),\n",
        "                      nn.Linear(hidden, hidden), nn.LeakyReLU(),\n",
        "                      nn.Linear(hidden, hidden), nn.LeakyReLU(),\n",
        "                      nn.Linear(hidden, hidden), nn.LeakyReLU(),\n",
        "                      nn.Linear(hidden, hidden), nn.LeakyReLU(),\n",
        "                      nn.Linear(hidden, 32), nn.LeakyReLU())\n",
        "\n",
        "model11 = nn.Sequential(nn.Conv2d(1, 64, 1), nn.ReLU(),\n",
        "                      nn.Conv2d(64, 64, 1), nn.ReLU(),\n",
        "                      nn.Conv2d(64, 64, 1), nn.ReLU(),\n",
        "                      nn.Flatten(),\n",
        "                      nn.Linear(2048, hidden), nn.LeakyReLU(),\n",
        "                      nn.Linear(hidden, hidden), nn.LeakyReLU(),\n",
        "                      nn.Linear(hidden, hidden), nn.LeakyReLU(),\n",
        "                      nn.Linear(hidden, hidden), nn.LeakyReLU(),\n",
        "                      nn.Linear(hidden, hidden), nn.LeakyReLU(),\n",
        "                      nn.Linear(hidden, hidden), nn.LeakyReLU(),\n",
        "                      nn.Linear(hidden, 32), nn.LeakyReLU())\n",
        "\n",
        "model12 = nn.Sequential(nn.Conv2d(1, 64, 1), nn.ReLU(),\n",
        "                      nn.Conv2d(64, 64, 1), nn.ReLU(),\n",
        "                      nn.Conv2d(64, 64, 1), nn.ReLU(),\n",
        "                      nn.Flatten(),\n",
        "                      nn.Linear(2048, hidden), nn.LeakyReLU(),\n",
        "                      nn.Linear(hidden, hidden), nn.LeakyReLU(),\n",
        "                      nn.Linear(hidden, hidden), nn.LeakyReLU(),\n",
        "                      nn.Linear(hidden, hidden), nn.LeakyReLU(),\n",
        "                      nn.Linear(hidden, hidden), nn.LeakyReLU(),\n",
        "                      nn.Linear(hidden, hidden), nn.LeakyReLU(),\n",
        "                      nn.Linear(hidden, 32), nn.LeakyReLU())\n",
        "\n",
        "model13 = nn.Sequential(nn.Conv2d(1, 64, 1), nn.ReLU(),\n",
        "                      nn.Conv2d(64, 64, 1), nn.ReLU(),\n",
        "                      nn.Conv2d(64, 64, 1), nn.ReLU(),\n",
        "                      nn.Flatten(),\n",
        "                      nn.Linear(2048, hidden), nn.LeakyReLU(),\n",
        "                      nn.Linear(hidden, hidden), nn.LeakyReLU(),\n",
        "                      nn.Linear(hidden, hidden), nn.LeakyReLU(),\n",
        "                      nn.Linear(hidden, hidden), nn.LeakyReLU(),\n",
        "                      nn.Linear(hidden, hidden), nn.LeakyReLU(),\n",
        "                      nn.Linear(hidden, hidden), nn.LeakyReLU(),\n",
        "                      nn.Linear(hidden, 32), nn.LeakyReLU())"
      ],
      "metadata": {
        "id": "dyvmxuTChFMW"
      },
      "execution_count": 123,
      "outputs": []
    },
    {
      "cell_type": "code",
      "source": [
        "\"\"\"def coupling_layer(x, m, flow, forward=True):\n",
        "\n",
        "    x_a = x[:, ::2] if flow%2==0 else x[:, 1::2]\n",
        "    x_b = x[:, 1::2] if flow%2==0 else x[:, ::2]\n",
        "\n",
        "    if forward:\n",
        "        y_b = x_b - m(x_a)\n",
        "    else:\n",
        "        y_b = x_b + m(x_a.reshape(-1,1,4,8))\n",
        "\n",
        "    z = torch.empty(x.shape)\n",
        "    z[:, ::2] = x_a if flow%2==0 else y_b\n",
        "    z[:, 1::2] = y_b if flow%2==0 else x_a\n",
        "    return z\"\"\""
      ],
      "metadata": {
        "id": "V3pAyHuslYRD",
        "colab": {
          "base_uri": "https://localhost:8080/",
          "height": 55
        },
        "outputId": "6e9e2776-3bb9-4b5f-97b1-30248d7d6d88"
      },
      "execution_count": 124,
      "outputs": [
        {
          "output_type": "execute_result",
          "data": {
            "text/plain": [
              "'def coupling_layer(x, m, flow, forward=True):\\n\\n    x_a = x[:, ::2] if flow%2==0 else x[:, 1::2]\\n    x_b = x[:, 1::2] if flow%2==0 else x[:, ::2]\\n\\n    if forward:\\n        y_b = x_b - m(x_a)\\n    else:\\n        y_b = x_b + m(x_a.reshape(-1,1,4,8))\\n\\n    z = torch.empty(x.shape)\\n    z[:, ::2] = x_a if flow%2==0 else y_b\\n    z[:, 1::2] = y_b if flow%2==0 else x_a\\n    return z'"
            ],
            "application/vnd.google.colaboratory.intrinsic+json": {
              "type": "string"
            }
          },
          "metadata": {},
          "execution_count": 124
        }
      ]
    },
    {
      "cell_type": "code",
      "source": [
        "def coupling_layer(x, m, flow, forward=True):\n",
        "    dim = x.shape[1]//2\n",
        "    x_a = x[:, :dim] if flow%2==0 else x[:, dim:]\n",
        "    x_b = x[:, dim:] if flow%2==0 else x[:, :dim]\n",
        "\n",
        "    if forward:\n",
        "        y_b = x_b - m(x_a)\n",
        "    else:\n",
        "        y_b = x_b + m(x_a.reshape(-1,1,4,8))\n",
        "\n",
        "    z = torch.empty(x.shape)\n",
        "    z[:, :dim] = x_a if flow%2==0 else y_b\n",
        "    z[:, dim:] = y_b if flow%2==0 else x_a\n",
        "    return z"
      ],
      "metadata": {
        "id": "fhWUvP6AWeTE"
      },
      "execution_count": 125,
      "outputs": []
    },
    {
      "cell_type": "code",
      "source": [
        "rotated_X1 = np.zeros((X1.shape))\n",
        "for i in range(len(X1)):\n",
        "  rot = imutils.rotate(torch.from_numpy(X1[i]).detach().numpy().reshape(8,8), angle=90).reshape((1,64))\n",
        "  rotated_X1[i] = rot\n",
        "rotated_X1 = torch.from_numpy(rotated_X1).to(torch.float32)"
      ],
      "metadata": {
        "id": "Vkxv-9Bc1Rig"
      },
      "execution_count": 126,
      "outputs": []
    },
    {
      "cell_type": "code",
      "source": [
        "plt.imshow(rotated_X1[5].reshape((8,8)))"
      ],
      "metadata": {
        "colab": {
          "base_uri": "https://localhost:8080/",
          "height": 448
        },
        "id": "cyzwJZuG2Kf3",
        "outputId": "b0340bee-989e-43a6-d24b-3bc7c207db24"
      },
      "execution_count": 127,
      "outputs": [
        {
          "output_type": "execute_result",
          "data": {
            "text/plain": [
              "<matplotlib.image.AxesImage at 0x7879e90e7370>"
            ]
          },
          "metadata": {},
          "execution_count": 127
        },
        {
          "output_type": "display_data",
          "data": {
            "text/plain": [
              "<Figure size 640x480 with 1 Axes>"
            ],
            "image/png": "[encoded data removed]"
          },
          "metadata": {}
        }
      ]
    },
    {
      "cell_type": "code",
      "source": [
        "learning_rate = 0.003\n",
        "optimizer = torch.optim.Adam(model.parameters(), lr=learning_rate)\n",
        "mse = nn.MSELoss()\n",
        "\n",
        "n_epochs = 2000\n",
        "for epoch in range(n_epochs):\n",
        "  #random = torch.randint(0,9,(1,1)).item()\n",
        "  z = coupling_layer(torch.from_numpy(X1).to(torch.float32), m=model, flow=2, forward=False)\n",
        "  z2 = coupling_layer(z, m=model2, flow=1, forward=False)\n",
        "  z3 = coupling_layer(z2, m=model3, flow=2, forward=False)\n",
        "  z4 = coupling_layer(z3, m=model4, flow=1, forward=False)\n",
        "  z5 = coupling_layer(z4, m=model5, flow=2, forward=False)\n",
        "  z6 = coupling_layer(z5, m=model6, flow=1, forward=False)\n",
        "  z7 = coupling_layer(z6, m=model7, flow=2, forward=False)\n",
        "  z8 = coupling_layer(z7, m=model8, flow=1, forward=False)\n",
        "  z9 = coupling_layer(z8, m=model9, flow=2, forward=False)\n",
        "  z10 = coupling_layer(z9, m=model10, flow=1, forward=False)\n",
        "  z11 = coupling_layer(z10, m=model11, flow=2, forward=False)\n",
        "  z12 = coupling_layer(z11, m=model12, flow=1, forward=False)\n",
        "  z13 = coupling_layer(z12, m=model13, flow=2, forward=False)\n",
        "\n",
        "  loss = mse(rotated_X1, z13)\n",
        "\n",
        "  optimizer.zero_grad()\n",
        "  loss.backward()\n",
        "  optimizer.step()\n",
        "  if epoch%100 == 0:\n",
        "    print(\"Epoch :\", epoch,\"loss :\", loss.item())"
      ],
      "metadata": {
        "colab": {
          "base_uri": "https://localhost:8080/"
        },
        "id": "pf84koIMo7kX",
        "outputId": "cb1e8026-b403-4546-8ea4-ec20b57360cf"
      },
      "execution_count": 128,
      "outputs": [
        {
          "output_type": "stream",
          "name": "stdout",
          "text": [
            "Epoch : 0 loss : 79.1089859008789\n",
            "Epoch : 100 loss : 48.650447845458984\n",
            "Epoch : 200 loss : 45.218257904052734\n",
            "Epoch : 300 loss : 42.771183013916016\n",
            "Epoch : 400 loss : 41.76222229003906\n",
            "Epoch : 500 loss : 40.62114715576172\n",
            "Epoch : 600 loss : 40.29668045043945\n",
            "Epoch : 700 loss : 39.20859909057617\n",
            "Epoch : 800 loss : 38.56392288208008\n",
            "Epoch : 900 loss : 38.270294189453125\n",
            "Epoch : 1000 loss : 38.1778564453125\n",
            "Epoch : 1100 loss : 37.6590461730957\n",
            "Epoch : 1200 loss : 37.47616958618164\n",
            "Epoch : 1300 loss : 37.29574203491211\n",
            "Epoch : 1400 loss : 37.177921295166016\n",
            "Epoch : 1500 loss : 37.18300247192383\n",
            "Epoch : 1600 loss : 37.172203063964844\n",
            "Epoch : 1700 loss : 36.916873931884766\n",
            "Epoch : 1800 loss : 38.01853942871094\n",
            "Epoch : 1900 loss : 37.00697708129883\n"
          ]
        }
      ]
    },
    {
      "cell_type": "code",
      "source": [
        "random = torch.randint(0,181,(1,)).item()\n",
        "z =  coupling_layer(torch.from_numpy(X[y==1][random].reshape(1,64)).to(torch.float32), model, flow=2, forward=False)\n",
        "z2 = coupling_layer(z, m=model2, flow=1, forward=False)\n",
        "z3 = coupling_layer(z2, m=model3, flow=2, forward=False)\n",
        "z4 = coupling_layer(z3, m=model4, flow=1, forward=False)\n",
        "z5 = coupling_layer(z4, m=model5, flow=2, forward=False)\n",
        "z6 = coupling_layer(z5, m=model6, flow=1, forward=False)\n",
        "z7 = coupling_layer(z6, m=model7, flow=2, forward=False)\n",
        "z8 = coupling_layer(z7, m=model8, flow=1, forward=False)\n",
        "z9 = coupling_layer(z8, m=model9, flow=2, forward=False)\n",
        "z10 = coupling_layer(z9, m=model10, flow=1, forward=False)\n",
        "z11 = coupling_layer(z10, m=model11, flow=2, forward=False)\n",
        "z12 = coupling_layer(z11, m=model12, flow=1, forward=False)\n",
        "x_hat = coupling_layer(z12, m=model13, flow=2, forward=False)\n",
        "\n",
        "plt.imshow(x_hat.detach().numpy().reshape((8,8)))"
      ],
      "metadata": {
        "id": "WlIaQKEW46fP",
        "outputId": "2591dd41-8b00-4f8f-ec7f-9be2df6774ec",
        "colab": {
          "base_uri": "https://localhost:8080/",
          "height": 448
        }
      },
      "execution_count": 136,
      "outputs": [
        {
          "output_type": "execute_result",
          "data": {
            "text/plain": [
              "<matplotlib.image.AxesImage at 0x7879e78da8f0>"
            ]
          },
          "metadata": {},
          "execution_count": 136
        },
        {
          "output_type": "display_data",
          "data": {
            "text/plain": [
              "<Figure size 640x480 with 1 Axes>"
            ],
            "image/png": "[encoded data removed]"
          },
          "metadata": {}
        }
      ]
    },
    {
      "cell_type": "code",
      "source": [
        "X[y==1][4]"
      ],
      "metadata": {
        "id": "_qGiJcG35_Rw",
        "outputId": "00c08d06-6634-4d52-fe56-e858805d4439",
        "colab": {
          "base_uri": "https://localhost:8080/"
        }
      },
      "execution_count": 130,
      "outputs": [
        {
          "output_type": "execute_result",
          "data": {
            "text/plain": [
              "array([ 0.,  0.,  0.,  1., 11.,  9.,  0.,  0.,  0.,  0.,  0.,  7., 16.,\n",
              "       13.,  0.,  0.,  0.,  0.,  4., 14., 16.,  9.,  0.,  0.,  0., 10.,\n",
              "       16., 11., 16.,  8.,  0.,  0.,  0.,  0.,  0.,  3., 16.,  6.,  0.,\n",
              "        0.,  0.,  0.,  0.,  3., 16.,  8.,  0.,  0.,  0.,  0.,  0.,  5.,\n",
              "       16., 10.,  0.,  0.,  0.,  0.,  0.,  2., 14.,  6.,  0.,  0.])"
            ]
          },
          "metadata": {},
          "execution_count": 130
        }
      ]
    },
    {
      "cell_type": "code",
      "source": [
        "rotated_X1[1]"
      ],
      "metadata": {
        "id": "lI1vhwDz9gtY",
        "outputId": "df8110fd-a22e-441f-fcc2-8f113ba5b005",
        "colab": {
          "base_uri": "https://localhost:8080/"
        }
      },
      "execution_count": 131,
      "outputs": [
        {
          "output_type": "execute_result",
          "data": {
            "text/plain": [
              "tensor([ 0.,  0.,  0.,  0.,  0.,  0.,  0.,  0.,  0.,  0.,  0.,  0.,  0.,  0.,\n",
              "         0.,  0.,  1.,  2.,  0.,  0.,  0.,  0.,  0.,  1., 13., 16., 12., 12.,\n",
              "         9., 15., 14., 16., 14., 16., 16., 16., 16., 16., 16., 13.,  0.,  5.,\n",
              "        14., 16., 14.,  5.,  4.,  1.,  0.,  0.,  0., 10., 12.,  0.,  0.,  0.,\n",
              "         0.,  0.,  0.,  1.,  3.,  0.,  0.,  0.])"
            ]
          },
          "metadata": {},
          "execution_count": 131
        }
      ]
    },
    {
      "cell_type": "code",
      "source": [
        "plt.imshow(rotated_X1[20].reshape((8,8)))"
      ],
      "metadata": {
        "id": "dGUK1OMX7hAl",
        "outputId": "eaeac612-efa7-447b-cf35-4fc29d046a38",
        "colab": {
          "base_uri": "https://localhost:8080/",
          "height": 448
        }
      },
      "execution_count": 132,
      "outputs": [
        {
          "output_type": "execute_result",
          "data": {
            "text/plain": [
              "<matplotlib.image.AxesImage at 0x7879e8685450>"
            ]
          },
          "metadata": {},
          "execution_count": 132
        },
        {
          "output_type": "display_data",
          "data": {
            "text/plain": [
              "<Figure size 640x480 with 1 Axes>"
            ],
            "image/png": "[encoded data removed]"
          },
          "metadata": {}
        }
      ]
    },
    {
      "cell_type": "code",
      "source": [],
      "metadata": {
        "id": "kWMmlmLS5e49"
      },
      "execution_count": 132,
      "outputs": []
    }
  ]
}