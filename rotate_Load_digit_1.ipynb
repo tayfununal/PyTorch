{
  "nbformat": 4,
  "nbformat_minor": 0,
  "metadata": {
    "colab": {
      "provenance": [],
      "authorship_tag": "ABX9TyOBt/8ub13AlLS25K+u0FeW",
      "include_colab_link": true
    },
    "kernelspec": {
      "name": "python3",
      "display_name": "Python 3"
    },
    "language_info": {
      "name": "python"
    }
  },
  "cells": [
    {
      "cell_type": "markdown",
      "metadata": {
        "id": "view-in-github",
        "colab_type": "text"
      },
      "source": [
        "<a href=\"https://colab.research.google.com/github/tayfununal/PyTorch/blob/main/rotate_Load_digit_1.ipynb\" target=\"_parent\"><img src=\"https://colab.research.google.com/assets/colab-badge.svg\" alt=\"Open In Colab\"/></a>"
      ]
    },
    {
      "cell_type": "code",
      "execution_count": 127,
      "metadata": {
        "id": "g5Cen0-Pcwow"
      },
      "outputs": [],
      "source": [
        "import torch\n",
        "import torch.nn.functional as F\n",
        "from torch import nn\n",
        "from torch.utils.data import DataLoader, Dataset\n",
        "import torchvision\n",
        "import numpy as np\n",
        "import matplotlib.pyplot as plt\n",
        "\n",
        "import imutils\n",
        "\n",
        "from sklearn.datasets import load_digits\n",
        "import sklearn"
      ]
    },
    {
      "cell_type": "code",
      "source": [
        "class Data(Dataset):\n",
        "    def __init__(self, dataset):\n",
        "        super(Data, self).__init__()\n",
        "\n",
        "        self.dataset = dataset\n",
        "\n",
        "    def __len__(self):\n",
        "        return len(self.dataset)\n",
        "\n",
        "    def __getitem__(self, idx):\n",
        "        x = self.dataset[idx]\n",
        "        return x"
      ],
      "metadata": {
        "id": "On1hRGS5eStw"
      },
      "execution_count": 128,
      "outputs": []
    },
    {
      "cell_type": "code",
      "source": [
        "dataset = load_digits()"
      ],
      "metadata": {
        "id": "BY2ImYeDeSwp"
      },
      "execution_count": 129,
      "outputs": []
    },
    {
      "cell_type": "code",
      "source": [
        "X = dataset.data\n",
        "y = dataset.target\n",
        "\n",
        "\"\"\"std_scale = sklearn.preprocessing.StandardScaler().fit(X)\n",
        "X = std_scale.transform(X)\"\"\""
      ],
      "metadata": {
        "colab": {
          "base_uri": "https://localhost:8080/",
          "height": 36
        },
        "id": "Ouuq-32NeSzj",
        "outputId": "6b73d53b-d39b-408e-f939-ed2e26de6183"
      },
      "execution_count": 130,
      "outputs": [
        {
          "output_type": "execute_result",
          "data": {
            "text/plain": [
              "'std_scale = sklearn.preprocessing.StandardScaler().fit(X)\\nX = std_scale.transform(X)'"
            ],
            "application/vnd.google.colaboratory.intrinsic+json": {
              "type": "string"
            }
          },
          "metadata": {},
          "execution_count": 130
        }
      ]
    },
    {
      "cell_type": "code",
      "source": [
        "X1 = X[y == 1]"
      ],
      "metadata": {
        "id": "49w4hB3equb2"
      },
      "execution_count": 131,
      "outputs": []
    },
    {
      "cell_type": "code",
      "source": [
        "plt.imshow(X1[0].reshape((8,8)))"
      ],
      "metadata": {
        "colab": {
          "base_uri": "https://localhost:8080/",
          "height": 448
        },
        "id": "oN5NPAuSg5kn",
        "outputId": "793e4a71-d3cc-4ea6-9e1c-90b6079a40ee"
      },
      "execution_count": 132,
      "outputs": [
        {
          "output_type": "execute_result",
          "data": {
            "text/plain": [
              "<matplotlib.image.AxesImage at 0x7c49e9f43250>"
            ]
          },
          "metadata": {},
          "execution_count": 132
        },
        {
          "output_type": "display_data",
          "data": {
            "text/plain": [
              "<Figure size 640x480 with 1 Axes>"
            ],
            "image/png": "[encoded data removed]"
          },
          "metadata": {}
        }
      ]
    },
    {
      "cell_type": "code",
      "source": [
        "class Sin(nn.Module):\n",
        "  def forward(self, x):\n",
        "    return torch.sin(x)"
      ],
      "metadata": {
        "id": "pv9CQd2FXHS4"
      },
      "execution_count": 133,
      "outputs": []
    },
    {
      "cell_type": "code",
      "source": [
        "dim = X1.shape[1]\n",
        "hidden = 256\n",
        "\n",
        "\n",
        "\n",
        "model = nn.Sequential(nn.Conv2d(1, 32, 1), nn.ReLU(),\n",
        "                      nn.Conv2d(32, 32, 1), nn.ReLU(),\n",
        "                      nn.Conv2d(32, 32, 1), nn.ReLU(),\n",
        "                      nn.Flatten(),\n",
        "                      nn.Linear(1024, hidden), nn.LeakyReLU(),\n",
        "                      nn.Linear(hidden, hidden), nn.LeakyReLU(),\n",
        "                      nn.Linear(hidden, hidden), nn.LeakyReLU(),\n",
        "                      nn.Linear(hidden, hidden), nn.LeakyReLU(),\n",
        "                      nn.Linear(hidden, hidden), nn.LeakyReLU(),\n",
        "                      nn.Linear(hidden, hidden), nn.LeakyReLU(),\n",
        "                      nn.Linear(hidden, 32), nn.LeakyReLU())\n",
        "\n",
        "model2 = nn.Sequential(nn.Conv2d(1, 32, 1), nn.ReLU(),\n",
        "                      nn.Conv2d(32, 32, 1), nn.ReLU(),\n",
        "                      nn.Conv2d(32, 32, 1), nn.ReLU(),\n",
        "                      nn.Flatten(),\n",
        "                      nn.Linear(1024, hidden), nn.LeakyReLU(),\n",
        "                      nn.Linear(hidden, hidden), nn.LeakyReLU(),\n",
        "                      nn.Linear(hidden, hidden), nn.LeakyReLU(),\n",
        "                      nn.Linear(hidden, hidden), nn.LeakyReLU(),\n",
        "                      nn.Linear(hidden, hidden), nn.LeakyReLU(),\n",
        "                      nn.Linear(hidden, hidden), nn.LeakyReLU(),\n",
        "                      nn.Linear(hidden, 32), nn.LeakyReLU())\n",
        "\n",
        "model3 = nn.Sequential(nn.Conv2d(1, 32, 1), nn.ReLU(),\n",
        "                      nn.Conv2d(32, 32, 1), nn.ReLU(),\n",
        "                      nn.Conv2d(32, 32, 1), nn.ReLU(),\n",
        "                      nn.Flatten(),\n",
        "                      nn.Linear(1024, hidden), nn.LeakyReLU(),\n",
        "                      nn.Linear(hidden, hidden), nn.LeakyReLU(),\n",
        "                      nn.Linear(hidden, hidden), nn.LeakyReLU(),\n",
        "                      nn.Linear(hidden, hidden), nn.LeakyReLU(),\n",
        "                      nn.Linear(hidden, hidden), nn.LeakyReLU(),\n",
        "                      nn.Linear(hidden, hidden), nn.LeakyReLU(),\n",
        "                      nn.Linear(hidden, 32), nn.LeakyReLU())\n",
        "\n",
        "model4 = nn.Sequential(nn.Conv2d(1, 32, 1), nn.ReLU(),\n",
        "                      nn.Conv2d(32, 32, 1), nn.ReLU(),\n",
        "                      nn.Conv2d(32, 32, 1), nn.ReLU(),\n",
        "                      nn.Flatten(),\n",
        "                      nn.Linear(1024, hidden), nn.LeakyReLU(),\n",
        "                      nn.Linear(hidden, hidden), nn.LeakyReLU(),\n",
        "                      nn.Linear(hidden, hidden), nn.LeakyReLU(),\n",
        "                      nn.Linear(hidden, hidden), nn.LeakyReLU(),\n",
        "                      nn.Linear(hidden, hidden), nn.LeakyReLU(),\n",
        "                      nn.Linear(hidden, hidden), nn.LeakyReLU(),\n",
        "                      nn.Linear(hidden, 32), nn.LeakyReLU())\n",
        "\n",
        "model5 = nn.Sequential(nn.Conv2d(1, 32, 1), nn.ReLU(),\n",
        "                      nn.Conv2d(32, 32, 1), nn.ReLU(),\n",
        "                      nn.Conv2d(32, 32, 1), nn.ReLU(),\n",
        "                      nn.Flatten(),\n",
        "                      nn.Linear(1024, hidden), nn.LeakyReLU(),\n",
        "                      nn.Linear(hidden, hidden), nn.LeakyReLU(),\n",
        "                      nn.Linear(hidden, hidden), nn.LeakyReLU(),\n",
        "                      nn.Linear(hidden, hidden), nn.LeakyReLU(),\n",
        "                      nn.Linear(hidden, hidden), nn.LeakyReLU(),\n",
        "                      nn.Linear(hidden, hidden), nn.LeakyReLU(),\n",
        "                      nn.Linear(hidden, 32), nn.LeakyReLU())\n",
        "\n",
        "model6 = nn.Sequential(nn.Conv2d(1, 32, 1), nn.ReLU(),\n",
        "                      nn.Conv2d(32, 32, 1), nn.ReLU(),\n",
        "                      nn.Conv2d(32, 32, 1), nn.ReLU(),\n",
        "                      nn.Flatten(),\n",
        "                      nn.Linear(1024, hidden), nn.LeakyReLU(),\n",
        "                      nn.Linear(hidden, hidden), nn.LeakyReLU(),\n",
        "                      nn.Linear(hidden, hidden), nn.LeakyReLU(),\n",
        "                      nn.Linear(hidden, hidden), nn.LeakyReLU(),\n",
        "                      nn.Linear(hidden, hidden), nn.LeakyReLU(),\n",
        "                      nn.Linear(hidden, hidden), nn.LeakyReLU(),\n",
        "                      nn.Linear(hidden, 32), nn.ReLU())\n",
        "\n",
        "model7 = nn.Sequential(nn.Conv2d(1, 32, 1), nn.ReLU(),\n",
        "                      nn.Conv2d(32, 32, 1), nn.ReLU(),\n",
        "                      nn.Conv2d(32, 32, 1), nn.ReLU(),\n",
        "                      nn.Flatten(),\n",
        "                      nn.Linear(1024, hidden), nn.LeakyReLU(),\n",
        "                      nn.Linear(hidden, hidden), nn.LeakyReLU(),\n",
        "                      nn.Linear(hidden, hidden), nn.LeakyReLU(),\n",
        "                      nn.Linear(hidden, hidden), nn.LeakyReLU(),\n",
        "                      nn.Linear(hidden, hidden), nn.LeakyReLU(),\n",
        "                      nn.Linear(hidden, hidden), nn.LeakyReLU(),\n",
        "                      nn.Linear(hidden, 32), nn.LeakyReLU())\n",
        "\n",
        "model8 = nn.Sequential(nn.Conv2d(1, 32, 1), nn.ReLU(),\n",
        "                      nn.Conv2d(32, 32, 1), nn.ReLU(),\n",
        "                      nn.Conv2d(32, 32, 1), nn.ReLU(),\n",
        "                      nn.Flatten(),\n",
        "                      nn.Linear(1024, hidden), nn.LeakyReLU(),\n",
        "                      nn.Linear(hidden, hidden), nn.LeakyReLU(),\n",
        "                      nn.Linear(hidden, hidden), nn.LeakyReLU(),\n",
        "                      nn.Linear(hidden, hidden), nn.LeakyReLU(),\n",
        "                      nn.Linear(hidden, hidden), nn.LeakyReLU(),\n",
        "                      nn.Linear(hidden, hidden), nn.LeakyReLU(),\n",
        "                      nn.Linear(hidden, 32), nn.LeakyReLU())\n",
        "\n",
        "model9 = nn.Sequential(nn.Conv2d(1, 32, 1), nn.ReLU(),\n",
        "                      nn.Conv2d(32, 32, 1), nn.ReLU(),\n",
        "                      nn.Conv2d(32, 32, 1), nn.ReLU(),\n",
        "                      nn.Flatten(),\n",
        "                      nn.Linear(1024, hidden), nn.LeakyReLU(),\n",
        "                      nn.Linear(hidden, hidden), nn.LeakyReLU(),\n",
        "                      nn.Linear(hidden, hidden), nn.LeakyReLU(),\n",
        "                      nn.Linear(hidden, hidden), nn.LeakyReLU(),\n",
        "                      nn.Linear(hidden, hidden), nn.LeakyReLU(),\n",
        "                      nn.Linear(hidden, hidden), nn.LeakyReLU(),\n",
        "                      nn.Linear(hidden, 32), nn.LeakyReLU())\n",
        "\n",
        "model9 = nn.Sequential(nn.Conv2d(1, 32, 1), nn.ReLU(),\n",
        "                      nn.Conv2d(32, 32, 1), nn.ReLU(),\n",
        "                      nn.Conv2d(32, 32, 1), nn.ReLU(),\n",
        "                      nn.Flatten(),\n",
        "                      nn.Linear(1024, hidden), nn.LeakyReLU(),\n",
        "                      nn.Linear(hidden, hidden), nn.LeakyReLU(),\n",
        "                      nn.Linear(hidden, hidden), nn.LeakyReLU(),\n",
        "                      nn.Linear(hidden, hidden), nn.LeakyReLU(),\n",
        "                      nn.Linear(hidden, hidden), nn.LeakyReLU(),\n",
        "                      nn.Linear(hidden, hidden), nn.LeakyReLU(),\n",
        "                      nn.Linear(hidden, 32), nn.LeakyReLU())\n",
        "\n",
        "model10 = nn.Sequential(nn.Conv2d(1, 32, 1), nn.ReLU(),\n",
        "                      nn.Conv2d(32, 32, 1), nn.ReLU(),\n",
        "                      nn.Conv2d(32, 32, 1), nn.ReLU(),\n",
        "                      nn.Flatten(),\n",
        "                      nn.Linear(1024, hidden), nn.LeakyReLU(),\n",
        "                      nn.Linear(hidden, hidden), nn.LeakyReLU(),\n",
        "                      nn.Linear(hidden, hidden), nn.LeakyReLU(),\n",
        "                      nn.Linear(hidden, hidden), nn.LeakyReLU(),\n",
        "                      nn.Linear(hidden, hidden), nn.LeakyReLU(),\n",
        "                      nn.Linear(hidden, hidden), nn.LeakyReLU(),\n",
        "                      nn.Linear(hidden, 32), nn.LeakyReLU())\n",
        "\n",
        "model11 = nn.Sequential(nn.Conv2d(1, 32, 1), nn.ReLU(),\n",
        "                      nn.Conv2d(32, 32, 1), nn.ReLU(),\n",
        "                      nn.Conv2d(32, 32, 1), nn.ReLU(),\n",
        "                      nn.Flatten(),\n",
        "                      nn.Linear(1024, hidden), nn.LeakyReLU(),\n",
        "                      nn.Linear(hidden, hidden), nn.LeakyReLU(),\n",
        "                      nn.Linear(hidden, hidden), nn.LeakyReLU(),\n",
        "                      nn.Linear(hidden, hidden), nn.LeakyReLU(),\n",
        "                      nn.Linear(hidden, hidden), nn.LeakyReLU(),\n",
        "                      nn.Linear(hidden, hidden), nn.LeakyReLU(),\n",
        "                      nn.Linear(hidden, 32), nn.LeakyReLU())\n",
        "\n",
        "model12 = nn.Sequential(nn.Conv2d(1, 32, 1), nn.ReLU(),\n",
        "                      nn.Conv2d(32, 32, 1), nn.ReLU(),\n",
        "                      nn.Conv2d(32, 32, 1), nn.ReLU(),\n",
        "                      nn.Flatten(),\n",
        "                      nn.Linear(1024, hidden), nn.LeakyReLU(),\n",
        "                      nn.Linear(hidden, hidden), nn.LeakyReLU(),\n",
        "                      nn.Linear(hidden, hidden), nn.LeakyReLU(),\n",
        "                      nn.Linear(hidden, hidden), nn.LeakyReLU(),\n",
        "                      nn.Linear(hidden, hidden), nn.LeakyReLU(),\n",
        "                      nn.Linear(hidden, hidden), nn.LeakyReLU(),\n",
        "                      nn.Linear(hidden, 32), nn.LeakyReLU())\n",
        "\n",
        "model13 = nn.Sequential(nn.Conv2d(1, 32, 1), nn.ReLU(),\n",
        "                      nn.Conv2d(32, 32, 1), nn.ReLU(),\n",
        "                      nn.Conv2d(32, 32, 1), nn.ReLU(),\n",
        "                      nn.Flatten(),\n",
        "                      nn.Linear(1024, hidden), nn.LeakyReLU(),\n",
        "                      nn.Linear(hidden, hidden), nn.LeakyReLU(),\n",
        "                      nn.Linear(hidden, hidden), nn.LeakyReLU(),\n",
        "                      nn.Linear(hidden, hidden), nn.LeakyReLU(),\n",
        "                      nn.Linear(hidden, hidden), nn.LeakyReLU(),\n",
        "                      nn.Linear(hidden, hidden), nn.LeakyReLU(),\n",
        "                      nn.Linear(hidden, 32), nn.ReLU())"
      ],
      "metadata": {
        "id": "dyvmxuTChFMW"
      },
      "execution_count": 134,
      "outputs": []
    },
    {
      "cell_type": "code",
      "source": [
        "\"\"\"def coupling_layer(x, m, flow, forward=True):\n",
        "\n",
        "    x_a = x[:, ::2] if flow%2==0 else x[:, 1::2]\n",
        "    x_b = x[:, 1::2] if flow%2==0 else x[:, ::2]\n",
        "\n",
        "    if forward:\n",
        "        y_b = x_b - m(x_a)\n",
        "    else:\n",
        "        y_b = x_b + m(x_a.reshape(-1,1,4,8))\n",
        "\n",
        "    z = torch.empty(x.shape)\n",
        "    z[:, ::2] = x_a if flow%2==0 else y_b\n",
        "    z[:, 1::2] = y_b if flow%2==0 else x_a\n",
        "    return z\"\"\""
      ],
      "metadata": {
        "id": "V3pAyHuslYRD",
        "colab": {
          "base_uri": "https://localhost:8080/",
          "height": 55
        },
        "outputId": "4ec9ca4d-34cb-4102-d577-a5bc768d9f7a"
      },
      "execution_count": 135,
      "outputs": [
        {
          "output_type": "execute_result",
          "data": {
            "text/plain": [
              "'def coupling_layer(x, m, flow, forward=True):\\n\\n    x_a = x[:, ::2] if flow%2==0 else x[:, 1::2]\\n    x_b = x[:, 1::2] if flow%2==0 else x[:, ::2]\\n\\n    if forward:\\n        y_b = x_b - m(x_a)\\n    else:\\n        y_b = x_b + m(x_a.reshape(-1,1,4,8))\\n\\n    z = torch.empty(x.shape)\\n    z[:, ::2] = x_a if flow%2==0 else y_b\\n    z[:, 1::2] = y_b if flow%2==0 else x_a\\n    return z'"
            ],
            "application/vnd.google.colaboratory.intrinsic+json": {
              "type": "string"
            }
          },
          "metadata": {},
          "execution_count": 135
        }
      ]
    },
    {
      "cell_type": "code",
      "source": [
        "def coupling_layer(x, m, flow, forward=True):\n",
        "    dim = x.shape[1]//2\n",
        "    x_a = x[:, :dim] if flow%2==0 else x[:, dim:]\n",
        "    x_b = x[:, dim:] if flow%2==0 else x[:, :dim]\n",
        "\n",
        "    if forward:\n",
        "        y_b = x_b - m(x_a)\n",
        "    else:\n",
        "        y_b = x_b + m(x_a.reshape(-1,1,4,8))\n",
        "\n",
        "    z = torch.empty(x.shape)\n",
        "    z[:, :dim] = x_a if flow%2==0 else y_b\n",
        "    z[:, dim:] = y_b if flow%2==0 else x_a\n",
        "    return z"
      ],
      "metadata": {
        "id": "fhWUvP6AWeTE"
      },
      "execution_count": 136,
      "outputs": []
    },
    {
      "cell_type": "code",
      "source": [
        "rotated_X1 = np.zeros((X1.shape))\n",
        "for i in range(len(X1)):\n",
        "  rot = imutils.rotate(torch.from_numpy(X1[i]).detach().numpy().reshape(8,8), angle=90).reshape((1,64))\n",
        "  rotated_X1[i] = rot\n",
        "rotated_X1 = torch.from_numpy(rotated_X1).to(torch.float32)"
      ],
      "metadata": {
        "id": "Vkxv-9Bc1Rig"
      },
      "execution_count": 137,
      "outputs": []
    },
    {
      "cell_type": "code",
      "source": [
        "plt.imshow(rotated_X1[5].reshape((8,8)))"
      ],
      "metadata": {
        "colab": {
          "base_uri": "https://localhost:8080/",
          "height": 448
        },
        "id": "cyzwJZuG2Kf3",
        "outputId": "17578e54-b10a-4cf4-f518-d5ab977a3227"
      },
      "execution_count": 138,
      "outputs": [
        {
          "output_type": "execute_result",
          "data": {
            "text/plain": [
              "<matplotlib.image.AxesImage at 0x7c49ea6954b0>"
            ]
          },
          "metadata": {},
          "execution_count": 138
        },
        {
          "output_type": "display_data",
          "data": {
            "text/plain": [
              "<Figure size 640x480 with 1 Axes>"
            ],
            "image/png": "[encoded data removed]"
          },
          "metadata": {}
        }
      ]
    },
    {
      "cell_type": "code",
      "source": [
        "learning_rate = 0.0001\n",
        "optimizer = torch.optim.Adam(model.parameters(), lr=learning_rate)\n",
        "mse = nn.MSELoss()\n",
        "\n",
        "n_epochs = 10000\n",
        "for epoch in range(n_epochs):\n",
        "  #random = torch.randint(0,9,(1,1)).item()\n",
        "  z = coupling_layer(torch.from_numpy(X1).to(torch.float32), m=model, flow=2, forward=False)\n",
        "  z2 = coupling_layer(z, m=model2, flow=1, forward=False)\n",
        "  z3 = coupling_layer(z2, m=model3, flow=2, forward=False)\n",
        "  z4 = coupling_layer(z3, m=model4, flow=1, forward=False)\n",
        "  z5 = coupling_layer(z4, m=model5, flow=2, forward=False)\n",
        "  z6 = coupling_layer(z5, m=model6, flow=1, forward=False)\n",
        "  z7 = coupling_layer(z6, m=model7, flow=2, forward=False)\n",
        "  z8 = coupling_layer(z7, m=model8, flow=1, forward=False)\n",
        "  z9 = coupling_layer(z8, m=model9, flow=2, forward=False)\n",
        "  z10 = coupling_layer(z9, m=model10, flow=1, forward=False)\n",
        "  z11 = coupling_layer(z10, m=model11, flow=2, forward=False)\n",
        "  z12 = coupling_layer(z11, m=model12, flow=1, forward=False)\n",
        "  z13 = coupling_layer(z12, m=model13, flow=2, forward=False)\n",
        "\n",
        "  loss = mse(rotated_X1, z13)\n",
        "\n",
        "  optimizer.zero_grad()\n",
        "  loss.backward()\n",
        "  optimizer.step()\n",
        "  if epoch%100 == 0:\n",
        "    print(\"Epoch :\", epoch,\"loss :\", loss.item())"
      ],
      "metadata": {
        "colab": {
          "base_uri": "https://localhost:8080/"
        },
        "id": "pf84koIMo7kX",
        "outputId": "ac0e9456-0dca-410c-bbf2-1a66ca6760f1"
      },
      "execution_count": 139,
      "outputs": [
        {
          "output_type": "stream",
          "name": "stdout",
          "text": [
            "Epoch : 0 loss : 78.89739990234375\n",
            "Epoch : 100 loss : 57.990234375\n",
            "Epoch : 200 loss : 56.696746826171875\n",
            "Epoch : 300 loss : 53.42680740356445\n",
            "Epoch : 400 loss : 47.41594696044922\n",
            "Epoch : 500 loss : 45.64707946777344\n",
            "Epoch : 600 loss : 44.11011505126953\n",
            "Epoch : 700 loss : 43.387962341308594\n",
            "Epoch : 800 loss : 42.86177062988281\n",
            "Epoch : 900 loss : 42.509090423583984\n",
            "Epoch : 1000 loss : 41.944847106933594\n",
            "Epoch : 1100 loss : 41.66181945800781\n",
            "Epoch : 1200 loss : 41.44606399536133\n",
            "Epoch : 1300 loss : 41.06098556518555\n",
            "Epoch : 1400 loss : 40.69929122924805\n",
            "Epoch : 1500 loss : 40.431129455566406\n",
            "Epoch : 1600 loss : 40.28192138671875\n",
            "Epoch : 1700 loss : 40.114501953125\n",
            "Epoch : 1800 loss : 39.99150466918945\n",
            "Epoch : 1900 loss : 39.89230728149414\n",
            "Epoch : 2000 loss : 39.79724884033203\n",
            "Epoch : 2100 loss : 39.71132278442383\n",
            "Epoch : 2200 loss : 39.608848571777344\n",
            "Epoch : 2300 loss : 39.51565170288086\n",
            "Epoch : 2400 loss : 39.45756149291992\n",
            "Epoch : 2500 loss : 39.38021469116211\n",
            "Epoch : 2600 loss : 39.3089599609375\n",
            "Epoch : 2700 loss : 39.26774597167969\n",
            "Epoch : 2800 loss : 39.17512512207031\n",
            "Epoch : 2900 loss : 39.11715316772461\n",
            "Epoch : 3000 loss : 39.06979751586914\n",
            "Epoch : 3100 loss : 39.022560119628906\n",
            "Epoch : 3200 loss : 38.98997116088867\n",
            "Epoch : 3300 loss : 38.948299407958984\n",
            "Epoch : 3400 loss : 38.89277267456055\n",
            "Epoch : 3500 loss : 38.84634780883789\n",
            "Epoch : 3600 loss : 38.816837310791016\n",
            "Epoch : 3700 loss : 38.752384185791016\n",
            "Epoch : 3800 loss : 38.6823844909668\n",
            "Epoch : 3900 loss : 38.640106201171875\n",
            "Epoch : 4000 loss : 38.57992935180664\n",
            "Epoch : 4100 loss : 38.48004913330078\n",
            "Epoch : 4200 loss : 38.5113410949707\n",
            "Epoch : 4300 loss : 38.39773178100586\n",
            "Epoch : 4400 loss : 38.420509338378906\n",
            "Epoch : 4500 loss : 38.345611572265625\n",
            "Epoch : 4600 loss : 38.37771224975586\n",
            "Epoch : 4700 loss : 38.22711944580078\n",
            "Epoch : 4800 loss : 38.2137451171875\n",
            "Epoch : 4900 loss : 38.16027069091797\n",
            "Epoch : 5000 loss : 38.12229919433594\n",
            "Epoch : 5100 loss : 38.0760498046875\n",
            "Epoch : 5200 loss : 38.04970932006836\n",
            "Epoch : 5300 loss : 38.05556106567383\n",
            "Epoch : 5400 loss : 37.969966888427734\n",
            "Epoch : 5500 loss : 37.935665130615234\n",
            "Epoch : 5600 loss : 37.898956298828125\n",
            "Epoch : 5700 loss : 37.888675689697266\n",
            "Epoch : 5800 loss : 37.87357711791992\n",
            "Epoch : 5900 loss : 37.83741760253906\n",
            "Epoch : 6000 loss : 37.87020492553711\n",
            "Epoch : 6100 loss : 37.790531158447266\n",
            "Epoch : 6200 loss : 37.81476974487305\n",
            "Epoch : 6300 loss : 37.761688232421875\n",
            "Epoch : 6400 loss : 37.772850036621094\n",
            "Epoch : 6500 loss : 37.71152114868164\n",
            "Epoch : 6600 loss : 37.726863861083984\n",
            "Epoch : 6700 loss : 37.66332244873047\n",
            "Epoch : 6800 loss : 37.660186767578125\n",
            "Epoch : 6900 loss : 37.6055908203125\n",
            "Epoch : 7000 loss : 37.59794616699219\n",
            "Epoch : 7100 loss : 37.74204635620117\n",
            "Epoch : 7200 loss : 37.648834228515625\n",
            "Epoch : 7300 loss : 37.537925720214844\n",
            "Epoch : 7400 loss : 37.60044479370117\n",
            "Epoch : 7500 loss : 37.52311706542969\n",
            "Epoch : 7600 loss : 37.55235290527344\n",
            "Epoch : 7700 loss : 37.56026840209961\n",
            "Epoch : 7800 loss : 37.465667724609375\n",
            "Epoch : 7900 loss : 37.49406433105469\n",
            "Epoch : 8000 loss : 37.4622688293457\n",
            "Epoch : 8100 loss : 37.457767486572266\n",
            "Epoch : 8200 loss : 37.48057174682617\n",
            "Epoch : 8300 loss : 37.42405700683594\n",
            "Epoch : 8400 loss : 37.40164566040039\n",
            "Epoch : 8500 loss : 37.40043258666992\n",
            "Epoch : 8600 loss : 37.40169906616211\n",
            "Epoch : 8700 loss : 37.36005401611328\n",
            "Epoch : 8800 loss : 37.32931137084961\n",
            "Epoch : 8900 loss : 37.37734603881836\n",
            "Epoch : 9000 loss : 37.33918762207031\n",
            "Epoch : 9100 loss : 37.29751968383789\n",
            "Epoch : 9200 loss : 37.28298568725586\n",
            "Epoch : 9300 loss : 37.32489776611328\n",
            "Epoch : 9400 loss : 37.284603118896484\n",
            "Epoch : 9500 loss : 37.298866271972656\n",
            "Epoch : 9600 loss : 37.28453826904297\n",
            "Epoch : 9700 loss : 37.27619171142578\n",
            "Epoch : 9800 loss : 37.23688507080078\n",
            "Epoch : 9900 loss : 37.23109817504883\n"
          ]
        }
      ]
    },
    {
      "cell_type": "code",
      "source": [
        "random = torch.randint(0,181,(1,)).item()\n",
        "z =  coupling_layer(torch.from_numpy(X[y==1][random].reshape(1,64)).to(torch.float32), model, flow=2, forward=False)\n",
        "z2 = coupling_layer(z, m=model2, flow=1, forward=False)\n",
        "z3 = coupling_layer(z2, m=model3, flow=2, forward=False)\n",
        "z4 = coupling_layer(z3, m=model4, flow=1, forward=False)\n",
        "z5 = coupling_layer(z4, m=model5, flow=2, forward=False)\n",
        "z6 = coupling_layer(z5, m=model6, flow=1, forward=False)\n",
        "z7 = coupling_layer(z6, m=model7, flow=2, forward=False)\n",
        "z8 = coupling_layer(z7, m=model8, flow=1, forward=False)\n",
        "z9 = coupling_layer(z8, m=model9, flow=2, forward=False)\n",
        "z10 = coupling_layer(z9, m=model10, flow=1, forward=False)\n",
        "z11 = coupling_layer(z10, m=model11, flow=2, forward=False)\n",
        "z12 = coupling_layer(z11, m=model12, flow=1, forward=False)\n",
        "x_hat = coupling_layer(z12, m=model13, flow=2, forward=False)\n",
        "\n",
        "plt.imshow(x_hat.detach().numpy().reshape((8,8)))"
      ],
      "metadata": {
        "id": "WlIaQKEW46fP",
        "outputId": "6209ed55-1ab2-4d1f-f603-b2896aaff762",
        "colab": {
          "base_uri": "https://localhost:8080/",
          "height": 448
        }
      },
      "execution_count": 152,
      "outputs": [
        {
          "output_type": "execute_result",
          "data": {
            "text/plain": [
              "<matplotlib.image.AxesImage at 0x7c49e99bf850>"
            ]
          },
          "metadata": {},
          "execution_count": 152
        },
        {
          "output_type": "display_data",
          "data": {
            "text/plain": [
              "<Figure size 640x480 with 1 Axes>"
            ],
            "image/png": "[encoded data removed]"
          },
          "metadata": {}
        }
      ]
    },
    {
      "cell_type": "code",
      "source": [
        "X[y==1][4]"
      ],
      "metadata": {
        "id": "_qGiJcG35_Rw",
        "outputId": "f8081569-4b4b-4951-9866-da358c563226",
        "colab": {
          "base_uri": "https://localhost:8080/"
        }
      },
      "execution_count": 141,
      "outputs": [
        {
          "output_type": "execute_result",
          "data": {
            "text/plain": [
              "array([ 0.,  0.,  0.,  1., 11.,  9.,  0.,  0.,  0.,  0.,  0.,  7., 16.,\n",
              "       13.,  0.,  0.,  0.,  0.,  4., 14., 16.,  9.,  0.,  0.,  0., 10.,\n",
              "       16., 11., 16.,  8.,  0.,  0.,  0.,  0.,  0.,  3., 16.,  6.,  0.,\n",
              "        0.,  0.,  0.,  0.,  3., 16.,  8.,  0.,  0.,  0.,  0.,  0.,  5.,\n",
              "       16., 10.,  0.,  0.,  0.,  0.,  0.,  2., 14.,  6.,  0.,  0.])"
            ]
          },
          "metadata": {},
          "execution_count": 141
        }
      ]
    },
    {
      "cell_type": "code",
      "source": [
        "rotated_X1[1]"
      ],
      "metadata": {
        "id": "lI1vhwDz9gtY",
        "outputId": "97daf16a-e4c7-4b96-a9bb-31bfcbf6caf9",
        "colab": {
          "base_uri": "https://localhost:8080/"
        }
      },
      "execution_count": 142,
      "outputs": [
        {
          "output_type": "execute_result",
          "data": {
            "text/plain": [
              "tensor([ 0.,  0.,  0.,  0.,  0.,  0.,  0.,  0.,  0.,  0.,  0.,  0.,  0.,  0.,\n",
              "         0.,  0.,  1.,  2.,  0.,  0.,  0.,  0.,  0.,  1., 13., 16., 12., 12.,\n",
              "         9., 15., 14., 16., 14., 16., 16., 16., 16., 16., 16., 13.,  0.,  5.,\n",
              "        14., 16., 14.,  5.,  4.,  1.,  0.,  0.,  0., 10., 12.,  0.,  0.,  0.,\n",
              "         0.,  0.,  0.,  1.,  3.,  0.,  0.,  0.])"
            ]
          },
          "metadata": {},
          "execution_count": 142
        }
      ]
    },
    {
      "cell_type": "code",
      "source": [
        "plt.imshow(rotated_X1[20].reshape((8,8)))"
      ],
      "metadata": {
        "id": "dGUK1OMX7hAl",
        "outputId": "574fc498-88de-490b-fb9c-dc0251f5d3a0",
        "colab": {
          "base_uri": "https://localhost:8080/",
          "height": 448
        }
      },
      "execution_count": 143,
      "outputs": [
        {
          "output_type": "execute_result",
          "data": {
            "text/plain": [
              "<matplotlib.image.AxesImage at 0x7c49e9d448e0>"
            ]
          },
          "metadata": {},
          "execution_count": 143
        },
        {
          "output_type": "display_data",
          "data": {
            "text/plain": [
              "<Figure size 640x480 with 1 Axes>"
            ],
            "image/png": "[encoded data removed]"
          },
          "metadata": {}
        }
      ]
    },
    {
      "cell_type": "code",
      "source": [],
      "metadata": {
        "id": "kWMmlmLS5e49"
      },
      "execution_count": 143,
      "outputs": []
    }
  ]
}