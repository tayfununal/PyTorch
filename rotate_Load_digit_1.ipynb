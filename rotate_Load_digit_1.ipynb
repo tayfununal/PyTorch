{
  "nbformat": 4,
  "nbformat_minor": 0,
  "metadata": {
    "colab": {
      "provenance": [],
      "authorship_tag": "ABX9TyOosiK6ZPsVabjB0P9Gktjv",
      "include_colab_link": true
    },
    "kernelspec": {
      "name": "python3",
      "display_name": "Python 3"
    },
    "language_info": {
      "name": "python"
    }
  },
  "cells": [
    {
      "cell_type": "markdown",
      "metadata": {
        "id": "view-in-github",
        "colab_type": "text"
      },
      "source": [
        "<a href=\"https://colab.research.google.com/github/tayfununal/PyTorch/blob/main/rotate_Load_digit_1.ipynb\" target=\"_parent\"><img src=\"https://colab.research.google.com/assets/colab-badge.svg\" alt=\"Open In Colab\"/></a>"
      ]
    },
    {
      "cell_type": "code",
      "execution_count": 307,
      "metadata": {
        "id": "g5Cen0-Pcwow"
      },
      "outputs": [],
      "source": [
        "import torch\n",
        "import torch.nn.functional as F\n",
        "from torch import nn\n",
        "from torch.utils.data import DataLoader, Dataset\n",
        "import torchvision\n",
        "import numpy as np\n",
        "import matplotlib.pyplot as plt\n",
        "\n",
        "import imutils\n",
        "\n",
        "from sklearn.datasets import load_digits\n",
        "import sklearn"
      ]
    },
    {
      "cell_type": "code",
      "source": [
        "class Data(Dataset):\n",
        "    def __init__(self, dataset):\n",
        "        super(Data, self).__init__()\n",
        "\n",
        "        self.dataset = dataset\n",
        "\n",
        "    def __len__(self):\n",
        "        return len(self.dataset)\n",
        "\n",
        "    def __getitem__(self, idx):\n",
        "        x = self.dataset[idx]\n",
        "        return x"
      ],
      "metadata": {
        "id": "On1hRGS5eStw"
      },
      "execution_count": 308,
      "outputs": []
    },
    {
      "cell_type": "code",
      "source": [
        "dataset = load_digits()"
      ],
      "metadata": {
        "id": "BY2ImYeDeSwp"
      },
      "execution_count": 309,
      "outputs": []
    },
    {
      "cell_type": "code",
      "source": [
        "X = dataset.data\n",
        "y = dataset.target\n",
        "\n",
        "\"\"\"std_scale = sklearn.preprocessing.StandardScaler().fit(X)\n",
        "X = std_scale.transform(X)\"\"\""
      ],
      "metadata": {
        "colab": {
          "base_uri": "https://localhost:8080/",
          "height": 36
        },
        "id": "Ouuq-32NeSzj",
        "outputId": "9e4b49c2-5f60-4a49-ec43-9c2ad1478829"
      },
      "execution_count": 310,
      "outputs": [
        {
          "output_type": "execute_result",
          "data": {
            "text/plain": [
              "'std_scale = sklearn.preprocessing.StandardScaler().fit(X)\\nX = std_scale.transform(X)'"
            ],
            "application/vnd.google.colaboratory.intrinsic+json": {
              "type": "string"
            }
          },
          "metadata": {},
          "execution_count": 310
        }
      ]
    },
    {
      "cell_type": "code",
      "source": [
        "X1 = X[y == 1]"
      ],
      "metadata": {
        "id": "49w4hB3equb2"
      },
      "execution_count": 311,
      "outputs": []
    },
    {
      "cell_type": "code",
      "source": [
        "plt.imshow(X1[0].reshape((8,8)))"
      ],
      "metadata": {
        "colab": {
          "base_uri": "https://localhost:8080/",
          "height": 448
        },
        "id": "oN5NPAuSg5kn",
        "outputId": "2f9658d3-0aa4-41ca-f76e-e8477e7c2ed6"
      },
      "execution_count": 312,
      "outputs": [
        {
          "output_type": "execute_result",
          "data": {
            "text/plain": [
              "<matplotlib.image.AxesImage at 0x7ebaf2f5d1b0>"
            ]
          },
          "metadata": {},
          "execution_count": 312
        },
        {
          "output_type": "display_data",
          "data": {
            "text/plain": [
              "<Figure size 640x480 with 1 Axes>"
            ],
            "image/png": "[encoded data removed]"
          },
          "metadata": {}
        }
      ]
    },
    {
      "cell_type": "code",
      "source": [
        "dim = X1.shape[1]\n",
        "hidden = 256\n",
        "\n",
        "model = nn.Sequential(nn.Conv2d(1, 32, 2),\n",
        "                      nn.Conv2d(32, 32, 2),\n",
        "                      nn.Conv2d(32, 32, 2),\n",
        "                      nn.Flatten(),\n",
        "                      nn.Linear(160, hidden), nn.ReLU(),\n",
        "                      nn.Linear(hidden, hidden), nn.ReLU(),\n",
        "                      nn.Linear(hidden, hidden), nn.ReLU(),\n",
        "                      nn.Linear(hidden, hidden), nn.ReLU(),\n",
        "                      nn.Linear(hidden, hidden), nn.ReLU(),\n",
        "                      nn.Linear(hidden, hidden), nn.ReLU(),\n",
        "                      nn.Linear(hidden, 32), nn.ReLU())\n",
        "\n",
        "model2 = nn.Sequential(nn.Conv2d(1, 32, 2),\n",
        "                      nn.Conv2d(32, 32, 2),\n",
        "                      nn.Conv2d(32, 32, 2),\n",
        "                      nn.Flatten(),\n",
        "                      nn.Linear(160, hidden), nn.ReLU(),\n",
        "                      nn.Linear(hidden, hidden), nn.ReLU(),\n",
        "                      nn.Linear(hidden, hidden), nn.ReLU(),\n",
        "                      nn.Linear(hidden, hidden), nn.ReLU(),\n",
        "                      nn.Linear(hidden, hidden), nn.ReLU(),\n",
        "                      nn.Linear(hidden, hidden), nn.ReLU(),\n",
        "                      nn.Linear(hidden, 32), nn.ReLU())\n",
        "\n",
        "model3 = nn.Sequential(nn.Conv2d(1, 32, 2),\n",
        "                      nn.Conv2d(32, 32, 2),\n",
        "                      nn.Conv2d(32, 32, 2),\n",
        "                      nn.Flatten(),\n",
        "                      nn.Linear(160, hidden), nn.ReLU(),\n",
        "                      nn.Linear(hidden, hidden), nn.ReLU(),\n",
        "                      nn.Linear(hidden, hidden), nn.ReLU(),\n",
        "                      nn.Linear(hidden, hidden), nn.ReLU(),\n",
        "                      nn.Linear(hidden, hidden), nn.ReLU(),\n",
        "                      nn.Linear(hidden, hidden), nn.ReLU(),\n",
        "                      nn.Linear(hidden, 32), nn.ReLU())\n",
        "\n",
        "model4 = nn.Sequential(nn.Conv2d(1, 32, 2),\n",
        "                      nn.Conv2d(32, 32, 2),\n",
        "                      nn.Conv2d(32, 32, 2),\n",
        "                      nn.Flatten(),\n",
        "                      nn.Linear(160, hidden), nn.ReLU(),\n",
        "                      nn.Linear(hidden, hidden), nn.ReLU(),\n",
        "                      nn.Linear(hidden, hidden), nn.ReLU(),\n",
        "                      nn.Linear(hidden, hidden), nn.ReLU(),\n",
        "                      nn.Linear(hidden, hidden), nn.ReLU(),\n",
        "                      nn.Linear(hidden, hidden), nn.ReLU(),\n",
        "                      nn.Linear(hidden, 32), nn.ReLU())\n",
        "\n",
        "model5 = nn.Sequential(nn.Conv2d(1, 32, 2),\n",
        "                      nn.Conv2d(32, 32, 2),\n",
        "                      nn.Conv2d(32, 32, 2),\n",
        "                      nn.Flatten(),\n",
        "                      nn.Linear(160, hidden), nn.ReLU(),\n",
        "                      nn.Linear(hidden, hidden), nn.ReLU(),\n",
        "                      nn.Linear(hidden, hidden), nn.ReLU(),\n",
        "                      nn.Linear(hidden, hidden), nn.ReLU(),\n",
        "                      nn.Linear(hidden, hidden), nn.ReLU(),\n",
        "                      nn.Linear(hidden, hidden), nn.ReLU(),\n",
        "                      nn.Linear(hidden, 32), nn.ReLU())"
      ],
      "metadata": {
        "id": "dyvmxuTChFMW"
      },
      "execution_count": 313,
      "outputs": []
    },
    {
      "cell_type": "code",
      "source": [
        "def coupling_layer(x, m, flow, forward=True):\n",
        "\n",
        "    x_a = x[:, ::2] if flow%2==0 else x[:, 1::2]\n",
        "    x_b = x[:, 1::2] if flow%2==0 else x[:, ::2]\n",
        "\n",
        "    if forward:\n",
        "        y_b = x_b - m(x_a)\n",
        "    else:\n",
        "        y_b = x_b + m(x_a.reshape(-1,1,4,8))\n",
        "\n",
        "    z = torch.empty(x.shape)\n",
        "    z[:, ::2] = x_a if flow%2==0 else y_b\n",
        "    z[:, 1::2] = y_b if flow%2==0 else x_a\n",
        "    return z"
      ],
      "metadata": {
        "id": "V3pAyHuslYRD"
      },
      "execution_count": 314,
      "outputs": []
    },
    {
      "cell_type": "code",
      "source": [
        "rotated_X1 = np.zeros((X1.shape))\n",
        "for i in range(len(X1)):\n",
        "  rot = imutils.rotate(torch.from_numpy(X1[i]).detach().numpy().reshape(8,8), angle=90).reshape((1,64))\n",
        "  rotated_X1[i] = rot\n",
        "rotated_X1 = torch.from_numpy(rotated_X1).to(torch.float32)"
      ],
      "metadata": {
        "id": "Vkxv-9Bc1Rig"
      },
      "execution_count": 315,
      "outputs": []
    },
    {
      "cell_type": "code",
      "source": [
        "plt.imshow(rotated_X1[5].reshape((8,8)))"
      ],
      "metadata": {
        "colab": {
          "base_uri": "https://localhost:8080/",
          "height": 448
        },
        "id": "cyzwJZuG2Kf3",
        "outputId": "b315bf41-fa66-41e7-f52a-e7c926d2291a"
      },
      "execution_count": 316,
      "outputs": [
        {
          "output_type": "execute_result",
          "data": {
            "text/plain": [
              "<matplotlib.image.AxesImage at 0x7ebaf23825c0>"
            ]
          },
          "metadata": {},
          "execution_count": 316
        },
        {
          "output_type": "display_data",
          "data": {
            "text/plain": [
              "<Figure size 640x480 with 1 Axes>"
            ],
            "image/png": "[encoded data removed]"
          },
          "metadata": {}
        }
      ]
    },
    {
      "cell_type": "code",
      "source": [
        "learning_rate = 0.01\n",
        "optimizer = torch.optim.Adam(model.parameters(), lr=learning_rate)\n",
        "mse = nn.MSELoss()\n",
        "\n",
        "n_epochs = 10000\n",
        "for epoch in range(n_epochs):\n",
        "  #random = torch.randint(0,9,(1,1)).item()\n",
        "  z = coupling_layer(torch.from_numpy(X1).to(torch.float32), m=model, flow=2, forward=False)\n",
        "  z2 = coupling_layer(z, m=model2, flow=1, forward=False)\n",
        "  z3 = coupling_layer(z2, m=model3, flow=2, forward=False)\n",
        "  z4 = coupling_layer(z3, m=model4, flow=1, forward=False)\n",
        "  z5 = coupling_layer(z4, m=model5, flow=2, forward=False)\n",
        "\n",
        "  loss = mse(rotated_X1, z5)\n",
        "\n",
        "  optimizer.zero_grad()\n",
        "  loss.backward()\n",
        "  optimizer.step()\n",
        "  if epoch%1000 == 0:\n",
        "    print(\"loss :\", loss.item())"
      ],
      "metadata": {
        "colab": {
          "base_uri": "https://localhost:8080/"
        },
        "id": "pf84koIMo7kX",
        "outputId": "0864b969-24ea-49ee-b6f5-523aefa43e49"
      },
      "execution_count": 317,
      "outputs": [
        {
          "output_type": "stream",
          "name": "stdout",
          "text": [
            "loss : 78.97044372558594\n",
            "loss : 63.17169189453125\n",
            "loss : 62.544952392578125\n",
            "loss : 63.0966682434082\n",
            "loss : 62.3701171875\n",
            "loss : 62.10163116455078\n",
            "loss : 62.10411071777344\n",
            "loss : 62.09709167480469\n",
            "loss : 62.07568359375\n",
            "loss : 62.18468475341797\n"
          ]
        }
      ]
    },
    {
      "cell_type": "code",
      "source": [
        "random = torch.randint(0,181,(1,)).item()\n",
        "z =  coupling_layer(torch.from_numpy(X[y==1][random].reshape(1,64)).to(torch.float32), model, flow=2, forward=False)\n",
        "z2 = coupling_layer(z, m=model2, flow=1, forward=False)\n",
        "z3 = coupling_layer(z2, m=model3, flow=2, forward=False)\n",
        "z4 = coupling_layer(z3, m=model4, flow=1, forward=False)\n",
        "x_hat = coupling_layer(z4, m=model5, flow=2, forward=False)\n",
        "\n",
        "plt.imshow(x_hat.detach().numpy().reshape((8,8)))"
      ],
      "metadata": {
        "id": "WlIaQKEW46fP",
        "outputId": "c7901d2a-36b6-4212-f23c-7928f5c38ce7",
        "colab": {
          "base_uri": "https://localhost:8080/",
          "height": 448
        }
      },
      "execution_count": 326,
      "outputs": [
        {
          "output_type": "execute_result",
          "data": {
            "text/plain": [
              "<matplotlib.image.AxesImage at 0x7ebaf3603550>"
            ]
          },
          "metadata": {},
          "execution_count": 326
        },
        {
          "output_type": "display_data",
          "data": {
            "text/plain": [
              "<Figure size 640x480 with 1 Axes>"
            ],
            "image/png": "[encoded data removed]"
          },
          "metadata": {}
        }
      ]
    },
    {
      "cell_type": "code",
      "source": [
        "X[y==1][4]"
      ],
      "metadata": {
        "id": "_qGiJcG35_Rw",
        "outputId": "df6f5e2a-5861-4b77-fd40-3306b66d6c90",
        "colab": {
          "base_uri": "https://localhost:8080/"
        }
      },
      "execution_count": 319,
      "outputs": [
        {
          "output_type": "execute_result",
          "data": {
            "text/plain": [
              "array([ 0.,  0.,  0.,  1., 11.,  9.,  0.,  0.,  0.,  0.,  0.,  7., 16.,\n",
              "       13.,  0.,  0.,  0.,  0.,  4., 14., 16.,  9.,  0.,  0.,  0., 10.,\n",
              "       16., 11., 16.,  8.,  0.,  0.,  0.,  0.,  0.,  3., 16.,  6.,  0.,\n",
              "        0.,  0.,  0.,  0.,  3., 16.,  8.,  0.,  0.,  0.,  0.,  0.,  5.,\n",
              "       16., 10.,  0.,  0.,  0.,  0.,  0.,  2., 14.,  6.,  0.,  0.])"
            ]
          },
          "metadata": {},
          "execution_count": 319
        }
      ]
    },
    {
      "cell_type": "code",
      "source": [
        "X1[1]"
      ],
      "metadata": {
        "id": "lI1vhwDz9gtY",
        "outputId": "31721876-d3ad-472b-d8c6-1b54d7efa5ec",
        "colab": {
          "base_uri": "https://localhost:8080/"
        }
      },
      "execution_count": 320,
      "outputs": [
        {
          "output_type": "execute_result",
          "data": {
            "text/plain": [
              "array([ 0.,  0.,  0.,  0., 14., 13.,  1.,  0.,  0.,  0.,  0.,  5., 16.,\n",
              "       16.,  2.,  0.,  0.,  0.,  0., 14., 16., 12.,  0.,  0.,  0.,  1.,\n",
              "       10., 16., 16., 12.,  0.,  0.,  0.,  3., 12., 14., 16.,  9.,  0.,\n",
              "        0.,  0.,  0.,  0.,  5., 16., 15.,  0.,  0.,  0.,  0.,  0.,  4.,\n",
              "       16., 14.,  0.,  0.,  0.,  0.,  0.,  1., 13., 16.,  1.,  0.])"
            ]
          },
          "metadata": {},
          "execution_count": 320
        }
      ]
    },
    {
      "cell_type": "code",
      "source": [
        "plt.imshow(X1[65].reshape((8,8)))"
      ],
      "metadata": {
        "id": "dGUK1OMX7hAl",
        "outputId": "b7cecdab-2dbd-4502-bccf-cb9ea34a0493",
        "colab": {
          "base_uri": "https://localhost:8080/",
          "height": 448
        }
      },
      "execution_count": 321,
      "outputs": [
        {
          "output_type": "execute_result",
          "data": {
            "text/plain": [
              "<matplotlib.image.AxesImage at 0x7ebaf225da80>"
            ]
          },
          "metadata": {},
          "execution_count": 321
        },
        {
          "output_type": "display_data",
          "data": {
            "text/plain": [
              "<Figure size 640x480 with 1 Axes>"
            ],
            "image/png": "[encoded data removed]"
          },
          "metadata": {}
        }
      ]
    },
    {
      "cell_type": "code",
      "source": [],
      "metadata": {
        "id": "kWMmlmLS5e49"
      },
      "execution_count": 321,
      "outputs": []
    }
  ]
}