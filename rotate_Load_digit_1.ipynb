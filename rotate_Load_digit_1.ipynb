{
  "nbformat": 4,
  "nbformat_minor": 0,
  "metadata": {
    "colab": {
      "provenance": [],
      "authorship_tag": "ABX9TyPuZSf7xpXYh2tDBTSforcY",
      "include_colab_link": true
    },
    "kernelspec": {
      "name": "python3",
      "display_name": "Python 3"
    },
    "language_info": {
      "name": "python"
    }
  },
  "cells": [
    {
      "cell_type": "markdown",
      "metadata": {
        "id": "view-in-github",
        "colab_type": "text"
      },
      "source": [
        "<a href=\"https://colab.research.google.com/github/tayfununal/PyTorch/blob/main/rotate_Load_digit_1.ipynb\" target=\"_parent\"><img src=\"https://colab.research.google.com/assets/colab-badge.svg\" alt=\"Open In Colab\"/></a>"
      ]
    },
    {
      "cell_type": "code",
      "execution_count": 546,
      "metadata": {
        "id": "g5Cen0-Pcwow"
      },
      "outputs": [],
      "source": [
        "import torch\n",
        "import torch.nn.functional as F\n",
        "from torch import nn\n",
        "from torch.utils.data import DataLoader, Dataset\n",
        "import torchvision\n",
        "import numpy as np\n",
        "import matplotlib.pyplot as plt\n",
        "\n",
        "import imutils\n",
        "\n",
        "from sklearn.datasets import load_digits\n",
        "import sklearn"
      ]
    },
    {
      "cell_type": "code",
      "source": [
        "class Data(Dataset):\n",
        "    def __init__(self, dataset):\n",
        "        super(Data, self).__init__()\n",
        "\n",
        "        self.dataset = dataset\n",
        "\n",
        "    def __len__(self):\n",
        "        return len(self.dataset)\n",
        "\n",
        "    def __getitem__(self, idx):\n",
        "        x = self.dataset[idx]\n",
        "        return x"
      ],
      "metadata": {
        "id": "On1hRGS5eStw"
      },
      "execution_count": 547,
      "outputs": []
    },
    {
      "cell_type": "code",
      "source": [
        "dataset = load_digits()"
      ],
      "metadata": {
        "id": "BY2ImYeDeSwp"
      },
      "execution_count": 548,
      "outputs": []
    },
    {
      "cell_type": "code",
      "source": [
        "X = dataset.data\n",
        "y = dataset.target\n",
        "\n",
        "\"\"\"std_scale = sklearn.preprocessing.StandardScaler().fit(X)\n",
        "X = std_scale.transform(X)\"\"\""
      ],
      "metadata": {
        "colab": {
          "base_uri": "https://localhost:8080/",
          "height": 36
        },
        "id": "Ouuq-32NeSzj",
        "outputId": "97b66596-8709-4a68-fefe-2f9b1b5e7850"
      },
      "execution_count": 549,
      "outputs": [
        {
          "output_type": "execute_result",
          "data": {
            "text/plain": [
              "'std_scale = sklearn.preprocessing.StandardScaler().fit(X)\\nX = std_scale.transform(X)'"
            ],
            "application/vnd.google.colaboratory.intrinsic+json": {
              "type": "string"
            }
          },
          "metadata": {},
          "execution_count": 549
        }
      ]
    },
    {
      "cell_type": "code",
      "source": [
        "X1 = X[y == 1]"
      ],
      "metadata": {
        "id": "49w4hB3equb2"
      },
      "execution_count": 550,
      "outputs": []
    },
    {
      "cell_type": "code",
      "source": [
        "plt.imshow(X1[0].reshape((8,8)))"
      ],
      "metadata": {
        "colab": {
          "base_uri": "https://localhost:8080/",
          "height": 448
        },
        "id": "oN5NPAuSg5kn",
        "outputId": "2d104712-be99-4d69-ea49-b0f56318b36c"
      },
      "execution_count": 551,
      "outputs": [
        {
          "output_type": "execute_result",
          "data": {
            "text/plain": [
              "<matplotlib.image.AxesImage at 0x79e3f2b27d00>"
            ]
          },
          "metadata": {},
          "execution_count": 551
        },
        {
          "output_type": "display_data",
          "data": {
            "text/plain": [
              "<Figure size 640x480 with 1 Axes>"
            ],
            "image/png": "[encoded data removed]"
          },
          "metadata": {}
        }
      ]
    },
    {
      "cell_type": "code",
      "source": [
        "dim = X1.shape[1]\n",
        "hidden = 256\n",
        "\n",
        "model = nn.Sequential(nn.Conv2d(1, 32, 2),\n",
        "                      nn.Conv2d(32, 32, 2),\n",
        "                      nn.Conv2d(32, 32, 2),\n",
        "                      nn.Flatten(),\n",
        "                      nn.Linear(160, hidden), nn.ReLU(),\n",
        "                      nn.Linear(hidden, hidden), nn.ReLU(),\n",
        "                      nn.Linear(hidden, hidden), nn.ReLU(),\n",
        "                      nn.Linear(hidden, hidden), nn.ReLU(),\n",
        "                      nn.Linear(hidden, 32))\n",
        "\n",
        "model2 = nn.Sequential(nn.Conv2d(1, 32, 2),\n",
        "                      nn.Conv2d(32, 32, 2),\n",
        "                      nn.Conv2d(32, 32, 2),\n",
        "                      nn.Flatten(),\n",
        "                      nn.Linear(160, hidden), nn.ReLU(),\n",
        "                      nn.Linear(hidden, hidden), nn.ReLU(),\n",
        "                      nn.Linear(hidden, hidden), nn.ReLU(),\n",
        "                      nn.Linear(hidden, hidden), nn.ReLU(),\n",
        "                      nn.Linear(hidden, 32))"
      ],
      "metadata": {
        "id": "dyvmxuTChFMW"
      },
      "execution_count": 552,
      "outputs": []
    },
    {
      "cell_type": "code",
      "source": [
        "def coupling_layer(x, m, flow, forward=True):\n",
        "\n",
        "    x_a = x[:, ::2] if flow%2==0 else x[:, 1::2]\n",
        "    x_b = x[:, 1::2] if flow%2==0 else x[:, ::2]\n",
        "\n",
        "    if forward:\n",
        "        y_b = x_b - m(x_a)\n",
        "    else:\n",
        "        y_b = x_b + m(x_a.reshape(-1,1,4,8))\n",
        "\n",
        "    z = torch.empty(x.shape)\n",
        "    z[:, ::2] = x_a if flow%2==0 else y_b\n",
        "    z[:, 1::2] = y_b if flow%2==0 else x_a\n",
        "    return z"
      ],
      "metadata": {
        "id": "V3pAyHuslYRD"
      },
      "execution_count": 553,
      "outputs": []
    },
    {
      "cell_type": "code",
      "source": [
        "rotated_X1 = np.zeros((X1.shape))\n",
        "for i in range(len(X1)):\n",
        "  rot = imutils.rotate(torch.from_numpy(X1[i]).detach().numpy().reshape(8,8), angle=90).reshape((1,64))\n",
        "  rotated_X1[i] = rot\n",
        "rotated_X1 = torch.from_numpy(rotated_X1).to(torch.float32)"
      ],
      "metadata": {
        "id": "Vkxv-9Bc1Rig"
      },
      "execution_count": 554,
      "outputs": []
    },
    {
      "cell_type": "code",
      "source": [
        "plt.imshow(rotated_X1[5].reshape((8,8)))"
      ],
      "metadata": {
        "colab": {
          "base_uri": "https://localhost:8080/",
          "height": 448
        },
        "id": "cyzwJZuG2Kf3",
        "outputId": "ef0c80e4-e4f8-46a3-dee8-6e7c1e5487c4"
      },
      "execution_count": 555,
      "outputs": [
        {
          "output_type": "execute_result",
          "data": {
            "text/plain": [
              "<matplotlib.image.AxesImage at 0x79e3f2bafd90>"
            ]
          },
          "metadata": {},
          "execution_count": 555
        },
        {
          "output_type": "display_data",
          "data": {
            "text/plain": [
              "<Figure size 640x480 with 1 Axes>"
            ],
            "image/png": "[encoded data removed]"
          },
          "metadata": {}
        }
      ]
    },
    {
      "cell_type": "code",
      "source": [
        "learning_rate = 0.01\n",
        "optimizer = torch.optim.Adam(model.parameters(), lr=learning_rate)\n",
        "\n",
        "\n",
        "n_epochs = 5000\n",
        "for epoch in range(n_epochs):\n",
        "  #random = torch.randint(0,9,(1,1)).item()\n",
        "  z = coupling_layer(torch.from_numpy(X1).to(torch.float32), m=model, flow=1, forward=False)\n",
        "  z2 = coupling_layer(z, m=model2, flow=2, forward=False)\n",
        "  loss = torch.nn.functional.mse_loss(rotated_X1, z2)\n",
        "\n",
        "  optimizer.zero_grad()\n",
        "  loss.backward()\n",
        "  optimizer.step()\n",
        "  if epoch%1000 == 0:\n",
        "    print(\"loss :\", loss.item())"
      ],
      "metadata": {
        "colab": {
          "base_uri": "https://localhost:8080/"
        },
        "id": "pf84koIMo7kX",
        "outputId": "69056745-06df-461a-cda0-a381518993a4"
      },
      "execution_count": 556,
      "outputs": [
        {
          "output_type": "stream",
          "name": "stdout",
          "text": [
            "loss : 78.88832092285156\n",
            "loss : 44.63801193237305\n",
            "loss : 43.640838623046875\n",
            "loss : 42.96877670288086\n",
            "loss : 44.00742721557617\n"
          ]
        }
      ]
    },
    {
      "cell_type": "code",
      "source": [
        "x_hat = coupling_layer(torch.from_numpy(X[y==1][55].reshape(1,64)).to(torch.float32), model, flow=2, forward=False)\n",
        "plt.imshow(x_hat.detach().numpy().reshape((8,8)))"
      ],
      "metadata": {
        "id": "WlIaQKEW46fP",
        "outputId": "3f862082-9d11-4804-81cf-f1771ee1d3e5",
        "colab": {
          "base_uri": "https://localhost:8080/",
          "height": 448
        }
      },
      "execution_count": 557,
      "outputs": [
        {
          "output_type": "execute_result",
          "data": {
            "text/plain": [
              "<matplotlib.image.AxesImage at 0x79e3f2a37460>"
            ]
          },
          "metadata": {},
          "execution_count": 557
        },
        {
          "output_type": "display_data",
          "data": {
            "text/plain": [
              "<Figure size 640x480 with 1 Axes>"
            ],
            "image/png": "[encoded data removed]"
          },
          "metadata": {}
        }
      ]
    },
    {
      "cell_type": "code",
      "source": [
        "X[y==1][4]"
      ],
      "metadata": {
        "id": "_qGiJcG35_Rw",
        "outputId": "4a43844d-df63-447c-bafc-ea826ed833e6",
        "colab": {
          "base_uri": "https://localhost:8080/"
        }
      },
      "execution_count": 558,
      "outputs": [
        {
          "output_type": "execute_result",
          "data": {
            "text/plain": [
              "array([ 0.,  0.,  0.,  1., 11.,  9.,  0.,  0.,  0.,  0.,  0.,  7., 16.,\n",
              "       13.,  0.,  0.,  0.,  0.,  4., 14., 16.,  9.,  0.,  0.,  0., 10.,\n",
              "       16., 11., 16.,  8.,  0.,  0.,  0.,  0.,  0.,  3., 16.,  6.,  0.,\n",
              "        0.,  0.,  0.,  0.,  3., 16.,  8.,  0.,  0.,  0.,  0.,  0.,  5.,\n",
              "       16., 10.,  0.,  0.,  0.,  0.,  0.,  2., 14.,  6.,  0.,  0.])"
            ]
          },
          "metadata": {},
          "execution_count": 558
        }
      ]
    },
    {
      "cell_type": "code",
      "source": [
        "X1[1]"
      ],
      "metadata": {
        "id": "lI1vhwDz9gtY",
        "outputId": "5f7e9be8-2f85-4a35-ea26-776b8fe6fd10",
        "colab": {
          "base_uri": "https://localhost:8080/"
        }
      },
      "execution_count": 559,
      "outputs": [
        {
          "output_type": "execute_result",
          "data": {
            "text/plain": [
              "array([ 0.,  0.,  0.,  0., 14., 13.,  1.,  0.,  0.,  0.,  0.,  5., 16.,\n",
              "       16.,  2.,  0.,  0.,  0.,  0., 14., 16., 12.,  0.,  0.,  0.,  1.,\n",
              "       10., 16., 16., 12.,  0.,  0.,  0.,  3., 12., 14., 16.,  9.,  0.,\n",
              "        0.,  0.,  0.,  0.,  5., 16., 15.,  0.,  0.,  0.,  0.,  0.,  4.,\n",
              "       16., 14.,  0.,  0.,  0.,  0.,  0.,  1., 13., 16.,  1.,  0.])"
            ]
          },
          "metadata": {},
          "execution_count": 559
        }
      ]
    },
    {
      "cell_type": "code",
      "source": [
        "plt.imshow(X1[0].reshape((8,8)))"
      ],
      "metadata": {
        "id": "dGUK1OMX7hAl",
        "outputId": "e788437a-530c-4c31-9acb-2388d045de5c",
        "colab": {
          "base_uri": "https://localhost:8080/",
          "height": 448
        }
      },
      "execution_count": 560,
      "outputs": [
        {
          "output_type": "execute_result",
          "data": {
            "text/plain": [
              "<matplotlib.image.AxesImage at 0x79e3f28cceb0>"
            ]
          },
          "metadata": {},
          "execution_count": 560
        },
        {
          "output_type": "display_data",
          "data": {
            "text/plain": [
              "<Figure size 640x480 with 1 Axes>"
            ],
            "image/png": "[encoded data removed]"
          },
          "metadata": {}
        }
      ]
    },
    {
      "cell_type": "code",
      "source": [],
      "metadata": {
        "id": "DXEU_aGk7q1P"
      },
      "execution_count": 560,
      "outputs": []
    }
  ]
}