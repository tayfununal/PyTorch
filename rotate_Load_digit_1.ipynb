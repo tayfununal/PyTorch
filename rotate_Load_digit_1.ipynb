{
  "nbformat": 4,
  "nbformat_minor": 0,
  "metadata": {
    "colab": {
      "provenance": [],
      "authorship_tag": "ABX9TyPJUBNCsWcbzplvpsAWUDfT",
      "include_colab_link": true
    },
    "kernelspec": {
      "name": "python3",
      "display_name": "Python 3"
    },
    "language_info": {
      "name": "python"
    }
  },
  "cells": [
    {
      "cell_type": "markdown",
      "metadata": {
        "id": "view-in-github",
        "colab_type": "text"
      },
      "source": [
        "<a href=\"https://colab.research.google.com/github/tayfununal/PyTorch/blob/main/rotate_Load_digit_1.ipynb\" target=\"_parent\"><img src=\"https://colab.research.google.com/assets/colab-badge.svg\" alt=\"Open In Colab\"/></a>"
      ]
    },
    {
      "cell_type": "code",
      "execution_count": 260,
      "metadata": {
        "id": "g5Cen0-Pcwow"
      },
      "outputs": [],
      "source": [
        "import torch\n",
        "import torch.nn.functional as F\n",
        "from torch import nn\n",
        "from torch.utils.data import DataLoader, Dataset\n",
        "import torchvision\n",
        "import numpy as np\n",
        "import matplotlib.pyplot as plt\n",
        "\n",
        "import imutils\n",
        "\n",
        "from sklearn.datasets import load_digits\n",
        "import sklearn"
      ]
    },
    {
      "cell_type": "code",
      "source": [
        "class Data(Dataset):\n",
        "    def __init__(self, dataset):\n",
        "        super(Data, self).__init__()\n",
        "\n",
        "        self.dataset = dataset\n",
        "\n",
        "    def __len__(self):\n",
        "        return len(self.dataset)\n",
        "\n",
        "    def __getitem__(self, idx):\n",
        "        x = self.dataset[idx]\n",
        "        return x"
      ],
      "metadata": {
        "id": "On1hRGS5eStw"
      },
      "execution_count": 261,
      "outputs": []
    },
    {
      "cell_type": "code",
      "source": [
        "dataset = load_digits()"
      ],
      "metadata": {
        "id": "BY2ImYeDeSwp"
      },
      "execution_count": 262,
      "outputs": []
    },
    {
      "cell_type": "code",
      "source": [
        "X = dataset.data\n",
        "y = dataset.target\n",
        "\n",
        "\"\"\"std_scale = sklearn.preprocessing.StandardScaler().fit(X)\n",
        "X = std_scale.transform(X)\"\"\""
      ],
      "metadata": {
        "colab": {
          "base_uri": "https://localhost:8080/",
          "height": 36
        },
        "id": "Ouuq-32NeSzj",
        "outputId": "822ded22-5bfe-4ede-faa5-9ba2000ff001"
      },
      "execution_count": 263,
      "outputs": [
        {
          "output_type": "execute_result",
          "data": {
            "text/plain": [
              "'std_scale = sklearn.preprocessing.StandardScaler().fit(X)\\nX = std_scale.transform(X)'"
            ],
            "application/vnd.google.colaboratory.intrinsic+json": {
              "type": "string"
            }
          },
          "metadata": {},
          "execution_count": 263
        }
      ]
    },
    {
      "cell_type": "code",
      "source": [
        "X1 = X[y == 1]"
      ],
      "metadata": {
        "id": "49w4hB3equb2"
      },
      "execution_count": 264,
      "outputs": []
    },
    {
      "cell_type": "code",
      "source": [
        "plt.imshow(X1[0].reshape((8,8)))"
      ],
      "metadata": {
        "colab": {
          "base_uri": "https://localhost:8080/",
          "height": 448
        },
        "id": "oN5NPAuSg5kn",
        "outputId": "0e30f726-efdf-48dc-fa66-6f06bb921e2d"
      },
      "execution_count": 265,
      "outputs": [
        {
          "output_type": "execute_result",
          "data": {
            "text/plain": [
              "<matplotlib.image.AxesImage at 0x7e653e127e50>"
            ]
          },
          "metadata": {},
          "execution_count": 265
        },
        {
          "output_type": "display_data",
          "data": {
            "text/plain": [
              "<Figure size 640x480 with 1 Axes>"
            ],
            "image/png": "[encoded data removed]"
          },
          "metadata": {}
        }
      ]
    },
    {
      "cell_type": "code",
      "source": [
        "dim = X1.shape[1]\n",
        "hidden = 256\n",
        "\n",
        "model = nn.Sequential(nn.Conv2d(1, 32, 2),\n",
        "                      nn.Conv2d(32, 32, 2),\n",
        "                      nn.Conv2d(32, 32, 2),\n",
        "                      nn.Flatten(),\n",
        "                      nn.Linear(160, hidden), nn.ReLU(),\n",
        "                      nn.Linear(hidden, hidden), nn.ReLU(),\n",
        "                      nn.Linear(hidden, hidden), nn.ReLU(),\n",
        "                      nn.Linear(hidden, hidden), nn.ReLU(),\n",
        "                      nn.Linear(hidden, 32), nn.ReLU())\n",
        "\n",
        "model2 = nn.Sequential(nn.Conv2d(1, 32, 2),\n",
        "                      nn.Conv2d(32, 32, 2),\n",
        "                      nn.Conv2d(32, 32, 2),\n",
        "                      nn.Flatten(),\n",
        "                      nn.Linear(160, hidden), nn.ReLU(),\n",
        "                      nn.Linear(hidden, hidden), nn.ReLU(),\n",
        "                      nn.Linear(hidden, hidden), nn.ReLU(),\n",
        "                      nn.Linear(hidden, hidden), nn.ReLU(),\n",
        "                      nn.Linear(hidden, 32), nn.ReLU())\n",
        "\n",
        "model3 = nn.Sequential(nn.Conv2d(1, 32, 2),\n",
        "                      nn.Conv2d(32, 32, 2),\n",
        "                      nn.Conv2d(32, 32, 2),\n",
        "                      nn.Flatten(),\n",
        "                      nn.Linear(160, hidden), nn.ReLU(),\n",
        "                      nn.Linear(hidden, hidden), nn.ReLU(),\n",
        "                      nn.Linear(hidden, hidden), nn.ReLU(),\n",
        "                      nn.Linear(hidden, hidden), nn.ReLU(),\n",
        "                      nn.Linear(hidden, 32), nn.ReLU())\n",
        "\n",
        "model4 = nn.Sequential(nn.Conv2d(1, 32, 2),\n",
        "                      nn.Conv2d(32, 32, 2),\n",
        "                      nn.Conv2d(32, 32, 2),\n",
        "                      nn.Flatten(),\n",
        "                      nn.Linear(160, hidden), nn.ReLU(),\n",
        "                      nn.Linear(hidden, hidden), nn.ReLU(),\n",
        "                      nn.Linear(hidden, hidden), nn.ReLU(),\n",
        "                      nn.Linear(hidden, hidden), nn.ReLU(),\n",
        "                      nn.Linear(hidden, 32), nn.ReLU())\n",
        "\n",
        "model5 = nn.Sequential(nn.Conv2d(1, 32, 2),\n",
        "                      nn.Conv2d(32, 32, 2),\n",
        "                      nn.Conv2d(32, 32, 2),\n",
        "                      nn.Flatten(),\n",
        "                      nn.Linear(160, hidden), nn.ReLU(),\n",
        "                      nn.Linear(hidden, hidden), nn.ReLU(),\n",
        "                      nn.Linear(hidden, hidden), nn.ReLU(),\n",
        "                      nn.Linear(hidden, hidden), nn.ReLU(),\n",
        "                      nn.Linear(hidden, 32), nn.ReLU())"
      ],
      "metadata": {
        "id": "dyvmxuTChFMW"
      },
      "execution_count": 266,
      "outputs": []
    },
    {
      "cell_type": "code",
      "source": [
        "def coupling_layer(x, m, flow, forward=True):\n",
        "\n",
        "    x_a = x[:, ::2] if flow%2==0 else x[:, 1::2]\n",
        "    x_b = x[:, 1::2] if flow%2==0 else x[:, ::2]\n",
        "\n",
        "    if forward:\n",
        "        y_b = x_b - m(x_a)\n",
        "    else:\n",
        "        y_b = x_b + m(x_a.reshape(-1,1,4,8))\n",
        "\n",
        "    z = torch.empty(x.shape)\n",
        "    z[:, ::2] = x_a if flow%2==0 else y_b\n",
        "    z[:, 1::2] = y_b if flow%2==0 else x_a\n",
        "    return z"
      ],
      "metadata": {
        "id": "V3pAyHuslYRD"
      },
      "execution_count": 267,
      "outputs": []
    },
    {
      "cell_type": "code",
      "source": [
        "rotated_X1 = np.zeros((X1.shape))\n",
        "for i in range(len(X1)):\n",
        "  rot = imutils.rotate(torch.from_numpy(X1[i]).detach().numpy().reshape(8,8), angle=90).reshape((1,64))\n",
        "  rotated_X1[i] = rot\n",
        "rotated_X1 = torch.from_numpy(rotated_X1).to(torch.float32)"
      ],
      "metadata": {
        "id": "Vkxv-9Bc1Rig"
      },
      "execution_count": 268,
      "outputs": []
    },
    {
      "cell_type": "code",
      "source": [
        "plt.imshow(rotated_X1[5].reshape((8,8)))"
      ],
      "metadata": {
        "colab": {
          "base_uri": "https://localhost:8080/",
          "height": 448
        },
        "id": "cyzwJZuG2Kf3",
        "outputId": "ae210060-cd7f-44c4-ebe5-acd1a19be80f"
      },
      "execution_count": 269,
      "outputs": [
        {
          "output_type": "execute_result",
          "data": {
            "text/plain": [
              "<matplotlib.image.AxesImage at 0x7e653df7b580>"
            ]
          },
          "metadata": {},
          "execution_count": 269
        },
        {
          "output_type": "display_data",
          "data": {
            "text/plain": [
              "<Figure size 640x480 with 1 Axes>"
            ],
            "image/png": "[encoded data removed]"
          },
          "metadata": {}
        }
      ]
    },
    {
      "cell_type": "code",
      "source": [
        "learning_rate = 0.01\n",
        "optimizer = torch.optim.Adam(model.parameters(), lr=learning_rate)\n",
        "\n",
        "\n",
        "n_epochs = 5000\n",
        "for epoch in range(n_epochs):\n",
        "  #random = torch.randint(0,9,(1,1)).item()\n",
        "  z = coupling_layer(torch.from_numpy(X1).to(torch.float32), m=model, flow=1, forward=False)\n",
        "  z2 = coupling_layer(z, m=model2, flow=2, forward=False)\n",
        "  z3 = coupling_layer(z2, m=model3, flow=1, forward=False)\n",
        "  z4 = coupling_layer(z3, m=model4, flow=2, forward=False)\n",
        "  z5 = coupling_layer(z4, m=model5, flow=1, forward=False)\n",
        "\n",
        "  loss = torch.nn.functional.mse_loss(z2, rotated_X1)\n",
        "\n",
        "  optimizer.zero_grad()\n",
        "  loss.backward()\n",
        "  optimizer.step()\n",
        "  if epoch%1000 == 0:\n",
        "    print(\"loss :\", loss.item())"
      ],
      "metadata": {
        "colab": {
          "base_uri": "https://localhost:8080/"
        },
        "id": "pf84koIMo7kX",
        "outputId": "e789d1ef-8ff3-4396-f0fd-9617c29b7471"
      },
      "execution_count": 270,
      "outputs": [
        {
          "output_type": "stream",
          "name": "stdout",
          "text": [
            "loss : 78.95359802246094\n",
            "loss : 64.69383239746094\n",
            "loss : 64.67301177978516\n",
            "loss : 63.5101318359375\n",
            "loss : 63.50571823120117\n"
          ]
        }
      ]
    },
    {
      "cell_type": "code",
      "source": [
        "z =  coupling_layer(torch.from_numpy(X[y==1][55].reshape(1,64)).to(torch.float32), model4, flow=2, forward=False)\n",
        "z2 = coupling_layer(z, m=model2, flow=2, forward=False)\n",
        "z3 = coupling_layer(z2, m=model3, flow=1, forward=False)\n",
        "z4 = coupling_layer(z3, m=model4, flow=2, forward=False)\n",
        "x_hat = coupling_layer(z4, m=model5, flow=1, forward=False)\n",
        "\n",
        "plt.imshow(x_hat.detach().numpy().reshape((8,8)))"
      ],
      "metadata": {
        "id": "WlIaQKEW46fP",
        "outputId": "2e37017e-3109-4df2-a944-3e9d94408632",
        "colab": {
          "base_uri": "https://localhost:8080/",
          "height": 448
        }
      },
      "execution_count": 271,
      "outputs": [
        {
          "output_type": "execute_result",
          "data": {
            "text/plain": [
              "<matplotlib.image.AxesImage at 0x7e653de030d0>"
            ]
          },
          "metadata": {},
          "execution_count": 271
        },
        {
          "output_type": "display_data",
          "data": {
            "text/plain": [
              "<Figure size 640x480 with 1 Axes>"
            ],
            "image/png": "[encoded data removed]"
          },
          "metadata": {}
        }
      ]
    },
    {
      "cell_type": "code",
      "source": [
        "X[y==1][4]"
      ],
      "metadata": {
        "id": "_qGiJcG35_Rw",
        "outputId": "b8743dc9-a7fd-42cb-df6d-6fb401af0fdd",
        "colab": {
          "base_uri": "https://localhost:8080/"
        }
      },
      "execution_count": 272,
      "outputs": [
        {
          "output_type": "execute_result",
          "data": {
            "text/plain": [
              "array([ 0.,  0.,  0.,  1., 11.,  9.,  0.,  0.,  0.,  0.,  0.,  7., 16.,\n",
              "       13.,  0.,  0.,  0.,  0.,  4., 14., 16.,  9.,  0.,  0.,  0., 10.,\n",
              "       16., 11., 16.,  8.,  0.,  0.,  0.,  0.,  0.,  3., 16.,  6.,  0.,\n",
              "        0.,  0.,  0.,  0.,  3., 16.,  8.,  0.,  0.,  0.,  0.,  0.,  5.,\n",
              "       16., 10.,  0.,  0.,  0.,  0.,  0.,  2., 14.,  6.,  0.,  0.])"
            ]
          },
          "metadata": {},
          "execution_count": 272
        }
      ]
    },
    {
      "cell_type": "code",
      "source": [
        "X1[1]"
      ],
      "metadata": {
        "id": "lI1vhwDz9gtY",
        "outputId": "a0d4745f-4abe-4a55-cd1a-f6012b711bf6",
        "colab": {
          "base_uri": "https://localhost:8080/"
        }
      },
      "execution_count": 273,
      "outputs": [
        {
          "output_type": "execute_result",
          "data": {
            "text/plain": [
              "array([ 0.,  0.,  0.,  0., 14., 13.,  1.,  0.,  0.,  0.,  0.,  5., 16.,\n",
              "       16.,  2.,  0.,  0.,  0.,  0., 14., 16., 12.,  0.,  0.,  0.,  1.,\n",
              "       10., 16., 16., 12.,  0.,  0.,  0.,  3., 12., 14., 16.,  9.,  0.,\n",
              "        0.,  0.,  0.,  0.,  5., 16., 15.,  0.,  0.,  0.,  0.,  0.,  4.,\n",
              "       16., 14.,  0.,  0.,  0.,  0.,  0.,  1., 13., 16.,  1.,  0.])"
            ]
          },
          "metadata": {},
          "execution_count": 273
        }
      ]
    },
    {
      "cell_type": "code",
      "source": [
        "plt.imshow(X1[0].reshape((8,8)))"
      ],
      "metadata": {
        "id": "dGUK1OMX7hAl",
        "outputId": "032aa49a-ae72-4691-bfed-53c72c3fc1a7",
        "colab": {
          "base_uri": "https://localhost:8080/",
          "height": 448
        }
      },
      "execution_count": 274,
      "outputs": [
        {
          "output_type": "execute_result",
          "data": {
            "text/plain": [
              "<matplotlib.image.AxesImage at 0x7e653de67af0>"
            ]
          },
          "metadata": {},
          "execution_count": 274
        },
        {
          "output_type": "display_data",
          "data": {
            "text/plain": [
              "<Figure size 640x480 with 1 Axes>"
            ],
            "image/png": "[encoded data removed]"
          },
          "metadata": {}
        }
      ]
    },
    {
      "cell_type": "code",
      "source": [],
      "metadata": {
        "id": "kWMmlmLS5e49"
      },
      "execution_count": 274,
      "outputs": []
    }
  ]
}