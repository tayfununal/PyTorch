{
  "nbformat": 4,
  "nbformat_minor": 0,
  "metadata": {
    "colab": {
      "provenance": [],
      "gpuType": "V28",
      "authorship_tag": "ABX9TyPphXJVQrG3ibzjCs8Bf/SS",
      "include_colab_link": true
    },
    "kernelspec": {
      "name": "python3",
      "display_name": "Python 3"
    },
    "language_info": {
      "name": "python"
    },
    "accelerator": "TPU"
  },
  "cells": [
    {
      "cell_type": "markdown",
      "metadata": {
        "id": "view-in-github",
        "colab_type": "text"
      },
      "source": [
        "<a href=\"https://colab.research.google.com/github/tayfununal/PyTorch/blob/main/01_NICE_MNIST_28*28.ipynb\" target=\"_parent\"><img src=\"https://colab.research.google.com/assets/colab-badge.svg\" alt=\"Open In Colab\"/></a>"
      ]
    },
    {
      "cell_type": "code",
      "execution_count": 1,
      "metadata": {
        "id": "TFzJfJZLsBGN"
      },
      "outputs": [],
      "source": [
        "import torch\n",
        "import numpy as np\n",
        "import matplotlib.pyplot as plt\n",
        "import seaborn as sns\n",
        "from torch import nn\n",
        "import torchvision\n",
        "from torch.utils.data import DataLoader, Dataset\n",
        "from torchvision import transforms\n",
        "\n",
        "from sklearn.datasets import load_digits\n",
        "from sklearn.model_selection import train_test_split"
      ]
    },
    {
      "cell_type": "code",
      "source": [
        "class Data(Dataset):\n",
        "    def __init__(self, dataset):\n",
        "        super(Data, self).__init__()\n",
        "\n",
        "        self.dataset = dataset\n",
        "\n",
        "    def __len__(self):\n",
        "        return len(self.dataset)\n",
        "\n",
        "    def __getitem__(self, idx):\n",
        "        x = self.dataset[idx]\n",
        "        return x"
      ],
      "metadata": {
        "id": "mGL-ID89sjLK"
      },
      "execution_count": 2,
      "outputs": []
    },
    {
      "cell_type": "code",
      "source": [
        "class NICE(nn.Module):\n",
        "    def __init__(self, input_dim, hidden_layer, num_flows=2):\n",
        "        super(NICE, self).__init__()\n",
        "\n",
        "        self.input_dim = input_dim\n",
        "        self.hidden_layer = hidden_layer\n",
        "        self.num_flows = num_flows\n",
        "\n",
        "        self.net = lambda : nn.Sequential(\n",
        "                                 nn.Linear(self.input_dim//2, self.hidden_layer), nn.ReLU(),\n",
        "                                 nn.Linear(self.hidden_layer, self.hidden_layer), nn.ReLU(),\n",
        "                                 nn.Linear(self.hidden_layer, self.hidden_layer), nn.ReLU(),\n",
        "                                 nn.Linear(self.hidden_layer, self.hidden_layer), nn.ReLU(),\n",
        "                                 nn.Linear(self.hidden_layer, self.hidden_layer), nn.ReLU(),\n",
        "                                 nn.Linear(self.hidden_layer, self.hidden_layer), nn.ReLU(),\n",
        "                                 nn.Linear(self.hidden_layer, self.hidden_layer), nn.ReLU(),\n",
        "                                 nn.Linear(self.hidden_layer, self.input_dim//2)) # input dimension must be equal to output dimension\n",
        "\n",
        "        self.m = nn.ModuleList([self.net() for _ in range(self.num_flows)])\n",
        "\n",
        "        self.s = nn.Parameter(torch.rand(1, input_dim), requires_grad=True)\n",
        "\n",
        "        self.per_list = self.permutation()\n",
        "\n",
        "    def forward(self, x):\n",
        "        x = x.view(len(x), -1,).to(torch.float32)\n",
        "        return self.f(x)\n",
        "\n",
        "    def permutation(self):\n",
        "        per_list =[]\n",
        "\n",
        "        p = torch.eye(self.input_dim)\n",
        "        for flow in range(self.num_flows):\n",
        "            per_list.append(p[torch.randperm(p.size()[0])])\n",
        "\n",
        "        return per_list\n",
        "\n",
        "    def coupling_layer(self, x, m, flow, forward=True):\n",
        "\n",
        "        x_a = x[:, ::2] if flow%2==0 else x[:, 1::2]\n",
        "        x_b = x[:, 1::2] if flow%2==0 else x[:, ::2]\n",
        "\n",
        "        if forward:\n",
        "            y_b = x_b - m(x_a)\n",
        "        else:\n",
        "            y_b = x_b + m(x_a)\n",
        "\n",
        "        #z = torch.concat((x_a, y_b), axis=1) if flow%2==0 else torch.concat((y_b, x_a), axis=1)\n",
        "        z = torch.empty(x.shape)\n",
        "        z[:, ::2] = x_a if flow%2==0 else y_b\n",
        "        z[:, 1::2] = y_b if flow%2==0 else x_a\n",
        "\n",
        "        return z\n",
        "\n",
        "\n",
        "    def f(self, x):\n",
        "        z = x / torch.exp(self.s)\n",
        "\n",
        "        for flow, model in enumerate(self.m, start=0):\n",
        "            z = torch.matmul(z, self.per_list[flow])\n",
        "            z = self.coupling_layer(z, model, flow, forward=True)\n",
        "\n",
        "        log_det_j = torch.sum(-self.s)\n",
        "\n",
        "        return z, log_det_j\n",
        "\n",
        "    def f_inv(self, z):\n",
        "\n",
        "        for flow, model in reversed(list(enumerate(self.m, start=0))):\n",
        "            z = self.coupling_layer(z, model, flow, forward=False)\n",
        "            z = torch.matmul(z, self.per_list[flow].T)\n",
        "\n",
        "        x = z * torch.exp(self.s)\n",
        "\n",
        "        return x\n",
        "\n",
        "    def criterion(self, z, prior, log_det_j, reduction = \"sum\"):\n",
        "\n",
        "        if reduction == \"sum\":\n",
        "            loss = - (prior.log_prob(z) + log_det_j).sum()\n",
        "        else:\n",
        "\n",
        "            loss = - (prior.log_prob(z) + log_det_j).mean()\n",
        "        return loss\n",
        "\n",
        "def rescale(x, lo, hi):\n",
        "    \"\"\"Rescale a tensor to [lo,hi].\"\"\"\n",
        "    assert(lo < hi), \"[rescale] lo={0} must be smaller than hi={1}\".format(lo,hi)\n",
        "    old_width = torch.max(x)-torch.min(x)\n",
        "    old_center = torch.min(x) + (old_width / 2.)\n",
        "    new_width = float(hi-lo)\n",
        "    new_center = lo + (new_width / 2.)\n",
        "    # shift everything back to zero:\n",
        "    x = x - old_center\n",
        "    # rescale to correct width:\n",
        "    x = x * (new_width / old_width)\n",
        "    # shift everything to the new center:\n",
        "    x = x + new_center\n",
        "    # return:\n",
        "    return x"
      ],
      "metadata": {
        "id": "cCI8H-6ysk2g"
      },
      "execution_count": 3,
      "outputs": []
    },
    {
      "cell_type": "code",
      "source": [
        "train_loader = torch.utils.data.DataLoader(\n",
        "  torchvision.datasets.MNIST('/files/', train=True, download=True,\n",
        "                             transform=torchvision.transforms.Compose([\n",
        "                               torchvision.transforms.ToTensor()])),\n",
        "  batch_size=20000, shuffle=True)"
      ],
      "metadata": {
        "id": "jghX4EoHjNkE",
        "outputId": "8aed39f7-f065-416a-b7dd-fc3a081191ea",
        "colab": {
          "base_uri": "https://localhost:8080/"
        }
      },
      "execution_count": 4,
      "outputs": [
        {
          "output_type": "stream",
          "name": "stdout",
          "text": [
            "Downloading http://yann.lecun.com/exdb/mnist/train-images-idx3-ubyte.gz\n",
            "Failed to download (trying next):\n",
            "HTTP Error 403: Forbidden\n",
            "\n",
            "Downloading https://ossci-datasets.s3.amazonaws.com/mnist/train-images-idx3-ubyte.gz\n",
            "Downloading https://ossci-datasets.s3.amazonaws.com/mnist/train-images-idx3-ubyte.gz to /files/MNIST/raw/train-images-idx3-ubyte.gz\n"
          ]
        },
        {
          "output_type": "stream",
          "name": "stderr",
          "text": [
            "100%|██████████| 9912422/9912422 [00:01<00:00, 5974713.24it/s]\n"
          ]
        },
        {
          "output_type": "stream",
          "name": "stdout",
          "text": [
            "Extracting /files/MNIST/raw/train-images-idx3-ubyte.gz to /files/MNIST/raw\n",
            "\n",
            "Downloading http://yann.lecun.com/exdb/mnist/train-labels-idx1-ubyte.gz\n",
            "Failed to download (trying next):\n",
            "HTTP Error 403: Forbidden\n",
            "\n",
            "Downloading https://ossci-datasets.s3.amazonaws.com/mnist/train-labels-idx1-ubyte.gz\n",
            "Downloading https://ossci-datasets.s3.amazonaws.com/mnist/train-labels-idx1-ubyte.gz to /files/MNIST/raw/train-labels-idx1-ubyte.gz\n"
          ]
        },
        {
          "output_type": "stream",
          "name": "stderr",
          "text": [
            "100%|██████████| 28881/28881 [00:00<00:00, 160599.27it/s]\n"
          ]
        },
        {
          "output_type": "stream",
          "name": "stdout",
          "text": [
            "Extracting /files/MNIST/raw/train-labels-idx1-ubyte.gz to /files/MNIST/raw\n",
            "\n",
            "Downloading http://yann.lecun.com/exdb/mnist/t10k-images-idx3-ubyte.gz\n",
            "Failed to download (trying next):\n",
            "HTTP Error 403: Forbidden\n",
            "\n",
            "Downloading https://ossci-datasets.s3.amazonaws.com/mnist/t10k-images-idx3-ubyte.gz\n",
            "Downloading https://ossci-datasets.s3.amazonaws.com/mnist/t10k-images-idx3-ubyte.gz to /files/MNIST/raw/t10k-images-idx3-ubyte.gz\n"
          ]
        },
        {
          "output_type": "stream",
          "name": "stderr",
          "text": [
            "100%|██████████| 1648877/1648877 [00:01<00:00, 1501520.63it/s]\n"
          ]
        },
        {
          "output_type": "stream",
          "name": "stdout",
          "text": [
            "Extracting /files/MNIST/raw/t10k-images-idx3-ubyte.gz to /files/MNIST/raw\n",
            "\n",
            "Downloading http://yann.lecun.com/exdb/mnist/t10k-labels-idx1-ubyte.gz\n",
            "Failed to download (trying next):\n",
            "HTTP Error 403: Forbidden\n",
            "\n",
            "Downloading https://ossci-datasets.s3.amazonaws.com/mnist/t10k-labels-idx1-ubyte.gz\n",
            "Downloading https://ossci-datasets.s3.amazonaws.com/mnist/t10k-labels-idx1-ubyte.gz to /files/MNIST/raw/t10k-labels-idx1-ubyte.gz\n"
          ]
        },
        {
          "output_type": "stream",
          "name": "stderr",
          "text": [
            "100%|██████████| 4542/4542 [00:00<00:00, 7974269.05it/s]\n"
          ]
        },
        {
          "output_type": "stream",
          "name": "stdout",
          "text": [
            "Extracting /files/MNIST/raw/t10k-labels-idx1-ubyte.gz to /files/MNIST/raw\n",
            "\n"
          ]
        }
      ]
    },
    {
      "cell_type": "code",
      "source": [
        "dataset = torchvision.datasets.MNIST('/files/', train=True, download=True,\n",
        "                             transform=torchvision.transforms.Compose([\n",
        "                               torchvision.transforms.ToTensor()]))\n",
        "\n",
        "X_train = dataset.data.reshape(-1, 28*28)\n",
        "y_train = dataset.targets"
      ],
      "metadata": {
        "id": "Tk6JzY3ikO1i"
      },
      "execution_count": 5,
      "outputs": []
    },
    {
      "cell_type": "code",
      "source": [
        "# Dequantization\n",
        "uniform = torch.distributions.uniform.Uniform(torch.tensor([-0.5]), torch.tensor([0.5]))\n",
        "\n",
        "X_train = torch.tensor(X_train) + uniform.sample(X_train.shape).squeeze()\n",
        "X_train = rescale(X_train, 0., 1.).numpy()\n"
      ],
      "metadata": {
        "id": "9Ufz_u5Esk4-",
        "outputId": "e49ad68a-7a0e-4243-8c14-7ae661ffcced",
        "colab": {
          "base_uri": "https://localhost:8080/"
        }
      },
      "execution_count": 6,
      "outputs": [
        {
          "output_type": "stream",
          "name": "stderr",
          "text": [
            "<ipython-input-6-8a2fbc20245e>:4: UserWarning: To copy construct from a tensor, it is recommended to use sourceTensor.clone().detach() or sourceTensor.clone().detach().requires_grad_(True), rather than torch.tensor(sourceTensor).\n",
            "  X_train = torch.tensor(X_train) + uniform.sample(X_train.shape).squeeze()\n"
          ]
        }
      ]
    },
    {
      "cell_type": "code",
      "source": [
        "train_loader = torch.utils.data.DataLoader(\n",
        "  X_train,\n",
        "  batch_size=20000, shuffle=True)"
      ],
      "metadata": {
        "id": "ah27kWy3l1_G"
      },
      "execution_count": 7,
      "outputs": []
    },
    {
      "cell_type": "code",
      "source": [
        "random_number = torch.randint(0, 9, [1]).item()\n",
        "image_train, category_train = X_train[random_number], y_train[random_number]\n",
        "#image_test, category_test = X_test[random_number], y_test[random_number]\n",
        "\n",
        "\n",
        "plt.figure(figsize=(5,5))\n",
        "plt.subplot(1,2,1)\n",
        "plt.imshow(image_train.reshape((28,28)), cmap='binary')\n",
        "plt.title(f'train\\ntarget : {category_train}')\n",
        "plt.axis('off')\n",
        "\n",
        "\"\"\"plt.subplot(1,2,2)\n",
        "plt.imshow(image_test.reshape((8,8)), cmap='binary')\n",
        "plt.title(f'test\\ntarget : {category_test}')\n",
        "plt.axis('off')\"\"\"\n",
        "\n",
        "plt.show()"
      ],
      "metadata": {
        "colab": {
          "base_uri": "https://localhost:8080/",
          "height": 256
        },
        "id": "oJsa1JAVsk7l",
        "outputId": "ea6d0443-0a01-443a-abe6-e97bb32a2ac8"
      },
      "execution_count": 8,
      "outputs": [
        {
          "output_type": "display_data",
          "data": {
            "text/plain": [
              "<Figure size 500x500 with 1 Axes>"
            ],
            "image/png": "[encoded data removed]"
          },
          "metadata": {}
        }
      ]
    },
    {
      "cell_type": "code",
      "source": [
        "data_dim = 28*28\n",
        "\n",
        "prior = torch.distributions.multivariate_normal.MultivariateNormal(loc=torch.zeros((data_dim)),\n",
        "                                                    scale_tril=torch.diag(torch.ones((data_dim))))\n",
        "\"\"\"\n",
        "prior = torch.distributions.normal.Normal(loc=torch.zeros((data_dim)),\n",
        "                                                    scale=torch.ones((data_dim)))\n",
        "\"\"\"\n",
        "model = NICE(input_dim=data_dim, hidden_layer=128, num_flows=10)\n",
        "\n",
        "train_loader = torch.utils.data.DataLoader(X_train, batch_size=10000, shuffle=True)"
      ],
      "metadata": {
        "id": "KaiYDkzlsk-L"
      },
      "execution_count": 9,
      "outputs": []
    },
    {
      "cell_type": "code",
      "source": [
        "epochs = 100\n",
        "optimizer = torch.optim.Adam(model.parameters(), lr=0.01)   # weight_decay=0.9\n",
        "\n",
        "COST = []\n",
        "\n",
        "for epoch in range(epochs):\n",
        "    total_loss = []\n",
        "\n",
        "    for x in train_loader:\n",
        "\n",
        "        z, log_det_j = model.forward(x)\n",
        "        loss = model.criterion(z, prior, log_det_j, reduction=\"avg\")\n",
        "\n",
        "        optimizer.zero_grad()\n",
        "        loss.backward()\n",
        "        optimizer.step()\n",
        "\n",
        "        total_loss.append(loss.item())\n",
        "\n",
        "    COST.append(np.mean(total_loss))\n",
        "\n",
        "    if epoch==0:\n",
        "        print(\"Epoch : \", epoch+1, \"  -----------> Loss : \", np.mean(total_loss))\n",
        "    elif (epoch+1)%10 == 0:\n",
        "        print(\"Epoch : \", epoch+1, \"  -----------> Loss : \", np.mean(total_loss))"
      ],
      "metadata": {
        "colab": {
          "base_uri": "https://localhost:8080/"
        },
        "id": "doTxgJFaslAm",
        "outputId": "7e1289cb-a22e-4ac5-df0e-4c16d8907b68"
      },
      "execution_count": 10,
      "outputs": [
        {
          "output_type": "stream",
          "name": "stdout",
          "text": [
            "Epoch :  1   -----------> Loss :  1104.895263671875\n",
            "Epoch :  10   -----------> Loss :  689.8751831054688\n",
            "Epoch :  20   -----------> Loss :  273.9318389892578\n",
            "Epoch :  30   -----------> Loss :  -77.98865254720052\n",
            "Epoch :  40   -----------> Loss :  -365.0117950439453\n",
            "Epoch :  50   -----------> Loss :  -605.010243733724\n",
            "Epoch :  60   -----------> Loss :  -796.8653361002604\n",
            "Epoch :  70   -----------> Loss :  -964.3763529459635\n",
            "Epoch :  80   -----------> Loss :  -1082.0887858072917\n",
            "Epoch :  90   -----------> Loss :  -1189.9583740234375\n",
            "Epoch :  100   -----------> Loss :  -1288.3682657877605\n"
          ]
        }
      ]
    },
    {
      "cell_type": "code",
      "source": [
        "plt.plot(COST)"
      ],
      "metadata": {
        "colab": {
          "base_uri": "https://localhost:8080/",
          "height": 448
        },
        "id": "FuxUsEzYslC6",
        "outputId": "a27a0cdc-d61d-4586-ca86-55ae0159c07c"
      },
      "execution_count": 11,
      "outputs": [
        {
          "output_type": "execute_result",
          "data": {
            "text/plain": [
              "[<matplotlib.lines.Line2D at 0x7a01ca752830>]"
            ]
          },
          "metadata": {},
          "execution_count": 11
        },
        {
          "output_type": "display_data",
          "data": {
            "text/plain": [
              "<Figure size 640x480 with 1 Axes>"
            ],
            "image/png": "[encoded data removed]"
          },
          "metadata": {}
        }
      ]
    },
    {
      "cell_type": "code",
      "source": [
        "test = prior.sample((1797,))\n",
        "sonuc = model.f_inv(test)\n",
        "sonuc[sonuc[:]>=0.4] = 1\n",
        "sonuc[sonuc[:]<0.4] = 0\n",
        "\n",
        "fig, axs = plt.subplots(5, 10, sharex=True, sharey=True, figsize=(18, 8), subplot_kw={'xticks':[], 'yticks':[]}, gridspec_kw=dict(hspace=0.1, wspace=0.1))\n",
        "\n",
        "for i in range(0,10):\n",
        "    axs[0, i].imshow((sonuc[i]).detach().numpy().clip(0,1).reshape((28,28)), cmap='binary', interpolation='nearest', clim=(0, 1))\n",
        "    axs[1, i].imshow((sonuc[10+i]).detach().numpy().clip(0,1).reshape((28,28)), cmap='binary', interpolation='nearest', clim=(0, 1))\n",
        "    axs[2, i].imshow((sonuc[20+i]).detach().numpy().clip(0,1).reshape((28,28)), cmap='binary', interpolation='nearest', clim=(0, 1))\n",
        "    axs[3, i].imshow((sonuc[30+i]).detach().numpy().clip(0,1).reshape((28,28)), cmap='binary', interpolation='nearest', clim=(0, 1))\n",
        "    axs[4, i].imshow((sonuc[40+i]).detach().numpy().clip(0,1).reshape((28,28)), cmap='binary', interpolation='nearest', clim=(0, 1))\n",
        "fig.show()"
      ],
      "metadata": {
        "colab": {
          "base_uri": "https://localhost:8080/",
          "height": 513
        },
        "id": "STKKW7TIslH0",
        "outputId": "58b9baa0-06dd-4871-80e0-b87247ecb9f3"
      },
      "execution_count": 24,
      "outputs": [
        {
          "output_type": "display_data",
          "data": {
            "text/plain": [
              "<Figure size 1800x800 with 50 Axes>"
            ],
            "image/png": "[encoded data removed]"
          },
          "metadata": {}
        }
      ]
    },
    {
      "cell_type": "code",
      "source": [],
      "metadata": {
        "id": "wqmlqHDMslbn"
      },
      "execution_count": 12,
      "outputs": []
    }
  ]
}