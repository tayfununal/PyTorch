{
  "nbformat": 4,
  "nbformat_minor": 0,
  "metadata": {
    "colab": {
      "private_outputs": true,
      "provenance": [],
      "authorship_tag": "ABX9TyMYVBMYkNfQ4W8BGbXHyjGN",
      "include_colab_link": true
    },
    "kernelspec": {
      "name": "python3",
      "display_name": "Python 3"
    },
    "language_info": {
      "name": "python"
    }
  },
  "cells": [
    {
      "cell_type": "markdown",
      "metadata": {
        "id": "view-in-github",
        "colab_type": "text"
      },
      "source": [
        "<a href=\"https://colab.research.google.com/github/tayfununal/PyTorch/blob/main/deneme1.ipynb\" target=\"_parent\"><img src=\"https://colab.research.google.com/assets/colab-badge.svg\" alt=\"Open In Colab\"/></a>"
      ]
    },
    {
      "cell_type": "code",
      "execution_count": null,
      "metadata": {
        "id": "qP9oWAsxnAaK"
      },
      "outputs": [],
      "source": [
        "import torch\n",
        "from torch import optim, nn\n",
        "from torch.utils.data import Dataset, DataLoader\n",
        "import torchvision.datasets as dsets\n",
        "import torchvision.transforms as transforms\n",
        "\n",
        "import numpy as np\n",
        "import matplotlib.pyplot as plt\n",
        "import seaborn as sns\n",
        "import pandas as pd\n"
      ]
    },
    {
      "cell_type": "code",
      "source": [
        "train_data = dsets.MNIST(root='./data/train', train= True, transform=transforms.ToTensor(), download=True)\n",
        "test_data = dsets.MNIST(root='./data/test', train= False, transform=transforms.ToTensor(), download=True)"
      ],
      "metadata": {
        "id": "DxDew22Anhyx"
      },
      "execution_count": null,
      "outputs": []
    },
    {
      "cell_type": "code",
      "source": [
        "plt.imshow(train_data[0][0].numpy().transpose(1,2,0))"
      ],
      "metadata": {
        "id": "YV13IWZ5on7X"
      },
      "execution_count": null,
      "outputs": []
    },
    {
      "cell_type": "code",
      "source": [
        "trainloader = DataLoader(dataset=train_data, batch_size=1000)"
      ],
      "metadata": {
        "id": "Dd5PFBUuo3x_"
      },
      "execution_count": null,
      "outputs": []
    },
    {
      "cell_type": "code",
      "source": [
        "class NN(nn.Module):\n",
        "  'neural network'\n",
        "  def __init__(self, input_dim, h1, h2, output_dim):\n",
        "    super(NN, self).__init__()\n",
        "\n",
        "    self.linear1 = nn.Linear(input_dim, h1)\n",
        "    self.linear2 = nn.Linear(h1, h2)\n",
        "    self.linear3 = nn.Linear(h2, output_dim)\n",
        "\n",
        "  \n",
        "  def forward(self, x):\n",
        "    x = self.linear1(x)\n",
        "    x = self.linear2(x)\n",
        "    x = self.linear3(x)\n",
        "    return x\n"
      ],
      "metadata": {
        "id": "I3YWbB78p5Mx"
      },
      "execution_count": null,
      "outputs": []
    },
    {
      "cell_type": "code",
      "source": [
        "input_dim = 28*28\n",
        "output_dim = 10\n",
        "epochs = 100\n",
        "model = NN(input_dim, 10, 10, output_dim)"
      ],
      "metadata": {
        "id": "JJ4k1XS7wWBq"
      },
      "execution_count": null,
      "outputs": []
    },
    {
      "cell_type": "code",
      "source": [
        "model.state_dict()"
      ],
      "metadata": {
        "id": "gUHnTPsyw07S"
      },
      "execution_count": null,
      "outputs": []
    },
    {
      "cell_type": "code",
      "source": [
        "optimizer = optim.Adam(params=model.parameters(), lr = 0.01)\n",
        "criterion = nn.CrossEntropyLoss()"
      ],
      "metadata": {
        "id": "faVr5kiLw484"
      },
      "execution_count": null,
      "outputs": []
    },
    {
      "cell_type": "code",
      "source": [
        "cost = []\n",
        "\n",
        "for epoch in range(epochs):\n",
        "\n",
        "  print ('------------------------------------------ Epoch : {} ------------------------------------------'.format(epoch))\n",
        "  for x, y in trainloader:\n",
        "\n",
        "    z = model(x.view(-1,28*28))\n",
        "    loss = criterion(z, y)\n",
        "\n",
        "    optimizer.zero_grad()\n",
        "    loss.backward()\n",
        "    optimizer.step()\n",
        "\n",
        "  cost.append(loss)\n",
        "  print('Epoch: {}'.format(epoch), '----------------> cost : {}'.format(cost[epoch]))\n"
      ],
      "metadata": {
        "id": "Vm53gDyrxfCg"
      },
      "execution_count": null,
      "outputs": []
    },
    {
      "cell_type": "code",
      "source": [
        "pred = model(test_data[54][0].view(-1,28*28))"
      ],
      "metadata": {
        "id": "zSDmcHtn1wTC"
      },
      "execution_count": null,
      "outputs": []
    },
    {
      "cell_type": "code",
      "source": [
        "_, pred = pred.max(axis=1)\n",
        "pred"
      ],
      "metadata": {
        "id": "MRCJhRtj74wC"
      },
      "execution_count": null,
      "outputs": []
    },
    {
      "cell_type": "code",
      "source": [
        "plt.imshow(test_data[54][0].numpy().transpose(1,2,0))"
      ],
      "metadata": {
        "id": "ibCsVD0r7_QM"
      },
      "execution_count": null,
      "outputs": []
    },
    {
      "cell_type": "code",
      "source": [],
      "metadata": {
        "id": "fBDfGQxG8SGD"
      },
      "execution_count": null,
      "outputs": []
    }
  ]
}