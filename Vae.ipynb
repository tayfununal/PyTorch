{
  "nbformat": 4,
  "nbformat_minor": 0,
  "metadata": {
    "colab": {
      "private_outputs": true,
      "provenance": [],
      "authorship_tag": "ABX9TyPXxDkWjgfHb4bkD4Gfsqxe",
      "include_colab_link": true
    },
    "kernelspec": {
      "name": "python3",
      "display_name": "Python 3"
    },
    "language_info": {
      "name": "python"
    }
  },
  "cells": [
    {
      "cell_type": "markdown",
      "metadata": {
        "id": "view-in-github",
        "colab_type": "text"
      },
      "source": [
        "<a href=\"https://colab.research.google.com/github/tayfununal/PyTorch/blob/main/Vae.ipynb\" target=\"_parent\"><img src=\"https://colab.research.google.com/assets/colab-badge.svg\" alt=\"Open In Colab\"/></a>"
      ]
    },
    {
      "cell_type": "code",
      "execution_count": null,
      "metadata": {
        "id": "La6WRi4yT33W"
      },
      "outputs": [],
      "source": [
        "import numpy as np\n",
        "import matplotlib.pyplot as plt\n",
        "\n",
        "import torch\n",
        "import torch.nn as nn\n",
        "from torch.utils.data import Dataset, DataLoader\n",
        "\n",
        "from sklearn.datasets import load_digits\n",
        "from sklearn import datasets"
      ]
    },
    {
      "cell_type": "code",
      "source": [
        "class Digits(Dataset):\n",
        "    \"\"\"Scikit-Learn Digits dataset.\"\"\"\n",
        "\n",
        "    def __init__(self, mode='train', transforms=None):\n",
        "\n",
        "        digits = load_digits()\n",
        "\n",
        "        if mode == 'train':\n",
        "            self.data = digits.data[:1000].astype(np.float32)\n",
        "        elif mode == 'val':\n",
        "            self.data = digits.data[1000:1350].astype(np.float32)\n",
        "        else:\n",
        "            self.data = digits.data[1350:].astype(np.float32)\n",
        "\n",
        "        self.transforms = transforms\n",
        "\n",
        "    def __len__(self):\n",
        "        return len(self.data)\n",
        "\n",
        "    def __getitem__(self, idx):\n",
        "        sample = self.data[idx]\n",
        "        if self.transforms:\n",
        "            sample = self.transforms(sample)\n",
        "        return sample"
      ],
      "metadata": {
        "id": "-tHgbo9tUmJ7"
      },
      "execution_count": null,
      "outputs": []
    },
    {
      "cell_type": "code",
      "source": [
        "data = Digits()"
      ],
      "metadata": {
        "id": "JyS3Be8YVxOd"
      },
      "execution_count": null,
      "outputs": []
    },
    {
      "cell_type": "code",
      "source": [
        "PI = torch.from_numpy(np.asarray(np.pi))\n",
        "EPS = 1.e-5\n",
        "\n",
        "def log_normal_diag(x, mu, log_var, reduction=None, dim=None):\n",
        "    D = x.shape[1]\n",
        "    log_p = -0.5 * D * torch.log(2. * PI) - 0.5 * D * log_var - 0.5 * torch.exp(-log_var) * (x - mu)**2.\n",
        "    if reduction == 'avg':\n",
        "        return torch.mean(log_p, dim)\n",
        "    elif reduction == 'sum':\n",
        "        return torch.sum(log_p, dim)\n",
        "    else:\n",
        "        return log_p"
      ],
      "metadata": {
        "id": "IBpeKlivjnCL"
      },
      "execution_count": null,
      "outputs": []
    },
    {
      "cell_type": "code",
      "source": [
        "class Encoder(nn.Module):\n",
        "\n",
        "  def __init__(self, encoder_net):\n",
        "    super(Encoder, self).__init__()\n",
        "\n",
        "    self.encoder = encoder_net\n",
        "\n",
        "  @staticmethod\n",
        "  def reparametrization(mu, log_var):\n",
        "\n",
        "    std = torch.exp(0.5 * log_var)\n",
        "    eps = torch.randn_like(std)\n",
        "\n",
        "    return mu + std * eps\n",
        "\n",
        "  def encode(self, x):\n",
        "\n",
        "    h_e = self.encoder(x)\n",
        "    mu_e, log_var_e = torch.chunk(h_e, 2, dim=1)\n",
        "\n",
        "    return mu_e, log_var_e\n",
        "\n",
        "  def sample(self, x=None):\n",
        "\n",
        "    mu_e, log_var_e = self.encode(x)\n",
        "    z = self.reparameterization(mu_e, log_var_e)\n",
        "\n",
        "    return z\n",
        "\n",
        "  def log_prob(self, x=None, mu_e=None, log_var_e=None, z=None):\n",
        "    if x is not None:\n",
        "        mu_e, log_var_e = self.encode(x)\n",
        "        z = self.sample(mu_e=mu_e, log_var_e=log_var_e)\n",
        "    else:\n",
        "        if (mu_e is None) or (log_var_e is None) or (z is None):\n",
        "            raise ValueError('mu, log-var and z can`t be None!')\n",
        "\n",
        "    return log_normal_diag(z, mu_e, log_var_e)"
      ],
      "metadata": {
        "id": "DZWDGnzrV0jC"
      },
      "execution_count": null,
      "outputs": []
    },
    {
      "cell_type": "code",
      "source": [
        ""
      ],
      "metadata": {
        "id": "yBSi6LUpfU0j"
      },
      "execution_count": null,
      "outputs": []
    }
  ]
}