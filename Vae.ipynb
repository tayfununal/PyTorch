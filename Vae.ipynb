{
  "nbformat": 4,
  "nbformat_minor": 0,
  "metadata": {
    "colab": {
      "provenance": [],
      "authorship_tag": "ABX9TyOPIqH+HM+sGgdO+2eiv3nQ",
      "include_colab_link": true
    },
    "kernelspec": {
      "name": "python3",
      "display_name": "Python 3"
    },
    "language_info": {
      "name": "python"
    }
  },
  "cells": [
    {
      "cell_type": "markdown",
      "metadata": {
        "id": "view-in-github",
        "colab_type": "text"
      },
      "source": [
        "<a href=\"https://colab.research.google.com/github/tayfununal/PyTorch/blob/main/Vae.ipynb\" target=\"_parent\"><img src=\"https://colab.research.google.com/assets/colab-badge.svg\" alt=\"Open In Colab\"/></a>"
      ]
    },
    {
      "cell_type": "code",
      "execution_count": 135,
      "metadata": {
        "id": "La6WRi4yT33W"
      },
      "outputs": [],
      "source": [
        "import numpy as np\n",
        "import matplotlib.pyplot as plt\n",
        "\n",
        "import torch\n",
        "import torch.nn as nn\n",
        "from torch.utils.data import Dataset, DataLoader\n",
        "\n",
        "from sklearn.datasets import load_digits\n",
        "from sklearn import datasets"
      ]
    },
    {
      "cell_type": "code",
      "source": [
        "class Digits(Dataset):\n",
        "    \"\"\"Scikit-Learn Digits dataset.\"\"\"\n",
        "\n",
        "    def __init__(self, mode='train', transforms=None):\n",
        "\n",
        "        digits = load_digits()\n",
        "\n",
        "        if mode == 'train':\n",
        "            self.data = digits.data[:1000].astype(np.float32)\n",
        "        elif mode == 'val':\n",
        "            self.data = digits.data[1000:1350].astype(np.float32)\n",
        "        else:\n",
        "            self.data = digits.data[1350:].astype(np.float32)\n",
        "\n",
        "        self.transforms = transforms\n",
        "\n",
        "    def __len__(self):\n",
        "        return len(self.data)\n",
        "\n",
        "    def __getitem__(self, idx):\n",
        "        sample = self.data[idx]\n",
        "        if self.transforms:\n",
        "            sample = self.transforms(sample)\n",
        "        return sample"
      ],
      "metadata": {
        "id": "-tHgbo9tUmJ7"
      },
      "execution_count": 136,
      "outputs": []
    },
    {
      "cell_type": "code",
      "source": [
        "data = Digits()"
      ],
      "metadata": {
        "id": "JyS3Be8YVxOd"
      },
      "execution_count": 137,
      "outputs": []
    },
    {
      "cell_type": "code",
      "source": [
        "PI = torch.from_numpy(np.asarray(np.pi))\n",
        "EPS = 1.e-5\n",
        "\n",
        "def log_normal_diag(x, mu, log_var, reduction=None, dim=None):\n",
        "    D = x.shape[1]\n",
        "    log_p = -0.5 * D * torch.log(2. * PI) - 0.5 * D * log_var - 0.5 * torch.exp(-log_var) * (x - mu)**2.\n",
        "    if reduction == 'avg':\n",
        "        return torch.mean(log_p, dim)\n",
        "    elif reduction == 'sum':\n",
        "        return torch.sum(log_p, dim)\n",
        "    else:\n",
        "        return log_p"
      ],
      "metadata": {
        "id": "IBpeKlivjnCL"
      },
      "execution_count": 138,
      "outputs": []
    },
    {
      "cell_type": "code",
      "source": [
        "class Encoder(nn.Module):\n",
        "\n",
        "  def __init__(self, encoder_net):\n",
        "    super(Encoder, self).__init__()\n",
        "\n",
        "    self.encoder = encoder_net\n",
        "\n",
        "  @staticmethod\n",
        "  def reparameterization(mu, log_var):\n",
        "\n",
        "    std = torch.exp(0.5 * log_var)\n",
        "    eps = torch.randn_like(std)\n",
        "\n",
        "    return mu + std * eps\n",
        "\n",
        "  def encode(self, x):\n",
        "\n",
        "    h_e = self.encoder(x)\n",
        "    mu_e, log_var_e = torch.chunk(h_e, 2, dim=1)\n",
        "\n",
        "    return mu_e, log_var_e\n",
        "\n",
        "  def sample(self, x=None, mu_e=None, log_var_e=None):\n",
        "    if (mu_e is None) and (log_var_e is None):\n",
        "        mu_e, log_var_e = self.encode(x)\n",
        "    else:\n",
        "        if (mu_e is None) or (log_var_e is None):\n",
        "            raise ValueError('mu and log-var can`t be None!')\n",
        "    z = self.reparameterization(mu_e, log_var_e)\n",
        "    return z\n",
        "\n",
        "  def log_prob(self, x=None, mu_e=None, log_var_e=None, z=None):\n",
        "    if x is not None:\n",
        "        mu_e, log_var_e = self.encode(x)\n",
        "        z = self.sample(mu_e=mu_e, log_var_e=log_var_e)\n",
        "    else:\n",
        "        if (mu_e is None) or (log_var_e is None) or (z is None):\n",
        "            raise ValueError('mu, log-var and z can`t be None!')\n",
        "\n",
        "    return log_normal_diag(z, mu_e, log_var_e)\n",
        "\n",
        "  def forward(self, x, type='log_prob'):\n",
        "    assert type in ['encode', 'log_prob'], 'Type could be either encode or log_prob'\n",
        "    if type == 'log_prob':\n",
        "        return self.log_prob(x)\n",
        "    else:\n",
        "        return self.sample(x)"
      ],
      "metadata": {
        "id": "DZWDGnzrV0jC"
      },
      "execution_count": 139,
      "outputs": []
    },
    {
      "cell_type": "code",
      "source": [
        "D = 64      # Batch size\n",
        "M = 256     # Number of neuron in the hidden layer\n",
        "L = 16      # Number of latents"
      ],
      "metadata": {
        "id": "YcItsgSOAZPY"
      },
      "execution_count": 140,
      "outputs": []
    },
    {
      "cell_type": "code",
      "source": [
        " encoder = nn.Sequential(\n",
        "                          nn.Linear(D, M), nn.ReLU(),\n",
        "                          nn.Linear(M, M), nn.ReLU(),\n",
        "                          nn.Linear(M, 2 * L)\n",
        "                        )"
      ],
      "metadata": {
        "id": "yBSi6LUpfU0j"
      },
      "execution_count": 141,
      "outputs": []
    },
    {
      "cell_type": "code",
      "source": [
        "encod = Encoder(encoder)"
      ],
      "metadata": {
        "id": "xoXIABCKCg59"
      },
      "execution_count": 142,
      "outputs": []
    },
    {
      "cell_type": "code",
      "source": [
        "mu, var = encod.forward(torch.from_numpy(data[:2]), 'log_prob')"
      ],
      "metadata": {
        "colab": {
          "base_uri": "https://localhost:8080/"
        },
        "id": "qNjay4g-BGre",
        "outputId": "7da3b4a2-9ab3-4d34-f712-b0aa2f0b6c75"
      },
      "execution_count": 145,
      "outputs": [
        {
          "output_type": "stream",
          "name": "stdout",
          "text": [
            "tensor([[ 1.3316,  0.0640,  0.3693, -0.9586, -0.2108,  1.1805, -0.3041, -0.6399,\n",
            "          1.1513,  1.1011, -0.2846,  1.5771, -0.7675,  1.0661, -0.4585, -0.6613],\n",
            "        [ 0.7910,  0.1572,  1.3897, -1.4139, -0.9077, -0.1735,  0.8505,  0.2297,\n",
            "          0.6535,  0.5542, -1.2437,  1.4594, -0.3360,  1.0421, -0.2311, -0.8626]],\n",
            "       grad_fn=<SplitBackward0>)\n"
          ]
        }
      ]
    },
    {
      "cell_type": "code",
      "source": [],
      "metadata": {
        "id": "3gPyC7BAE3x6"
      },
      "execution_count": null,
      "outputs": []
    }
  ]
}