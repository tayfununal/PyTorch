{
  "nbformat": 4,
  "nbformat_minor": 0,
  "metadata": {
    "colab": {
      "private_outputs": true,
      "provenance": [],
      "authorship_tag": "ABX9TyMf/6cde+g/vR6RSCXkwOLV",
      "include_colab_link": true
    },
    "kernelspec": {
      "name": "python3",
      "display_name": "Python 3"
    },
    "language_info": {
      "name": "python"
    }
  },
  "cells": [
    {
      "cell_type": "markdown",
      "metadata": {
        "id": "view-in-github",
        "colab_type": "text"
      },
      "source": [
        "<a href=\"https://colab.research.google.com/github/tayfununal/PyTorch/blob/main/001_karisik_yok.ipynb\" target=\"_parent\"><img src=\"https://colab.research.google.com/assets/colab-badge.svg\" alt=\"Open In Colab\"/></a>"
      ]
    },
    {
      "cell_type": "code",
      "execution_count": null,
      "metadata": {
        "id": "Km-xRdVHXeKQ"
      },
      "outputs": [],
      "source": [
        "import torch\n",
        "import numpy as np\n",
        "import matplotlib.pyplot as plt\n",
        "import seaborn as sns\n",
        "from torch import nn\n",
        "import torchvision\n",
        "from torch.utils.data import DataLoader, Dataset\n",
        "from torchvision import transforms\n",
        "\n",
        "from sklearn.datasets import load_digits\n",
        "from sklearn.model_selection import train_test_split\n",
        "from sklearn.datasets import make_moons"
      ]
    },
    {
      "cell_type": "code",
      "source": [
        "class Data(Dataset):\n",
        "    def __init__(self, dataset):\n",
        "        super(Data, self).__init__()\n",
        "\n",
        "        self.dataset = dataset\n",
        "\n",
        "    def __len__(self):\n",
        "        return len(self.dataset)\n",
        "\n",
        "    def __getitem__(self, idx):\n",
        "        x = self.dataset[idx]\n",
        "        return x"
      ],
      "metadata": {
        "id": "4orLvu7ZXg9M"
      },
      "execution_count": null,
      "outputs": []
    },
    {
      "cell_type": "code",
      "source": [
        "class NICE(nn.Module):\n",
        "    def __init__(self, input_dim, hidden_layer, num_flows=2):\n",
        "        super(NICE, self).__init__()\n",
        "\n",
        "        self.input_dim = input_dim\n",
        "        self.hidden_layer = hidden_layer\n",
        "        self.num_flows = num_flows\n",
        "\n",
        "        self.net = lambda : nn.Sequential(\n",
        "                                 nn.Linear(self.input_dim//2, self.hidden_layer), nn.ReLU(),\n",
        "                                 nn.Linear(self.hidden_layer, self.hidden_layer), nn.ReLU(),\n",
        "                                 nn.Linear(self.hidden_layer, self.hidden_layer), nn.ReLU(),\n",
        "                                 nn.Linear(self.hidden_layer, self.hidden_layer), nn.ReLU(),\n",
        "                                 nn.Linear(self.hidden_layer, self.hidden_layer), nn.ReLU(),\n",
        "                                 nn.Linear(self.hidden_layer, self.hidden_layer), nn.ReLU(),\n",
        "                                 nn.Linear(self.hidden_layer, self.hidden_layer), nn.ReLU(),\n",
        "                                 nn.Linear(self.hidden_layer, self.input_dim//2), nn.ReLU()) # input dimension must be equal to output dimension\n",
        "\n",
        "        self.m = nn.ModuleList([self.net() for _ in range(self.num_flows)])\n",
        "\n",
        "        self.s = nn.Parameter(torch.rand(1, input_dim), requires_grad=True)\n",
        "\n",
        "        self.per_list = self.permutation()\n",
        "\n",
        "    def forward(self, x):\n",
        "        x = x.view(len(x), -1,).to(torch.float32)\n",
        "        return self.f(x)\n",
        "\n",
        "    def permutation(self):\n",
        "        per_list =[]\n",
        "\n",
        "        p = torch.eye(self.input_dim)\n",
        "        for flow in range(self.num_flows):\n",
        "            per_list.append(p[torch.randperm(p.size()[0])])\n",
        "\n",
        "        return per_list\n",
        "\n",
        "    def coupling_layer(self, x, m, flow, forward=True):\n",
        "\n",
        "        x_a = x[:, :self.input_dim//2].reshape((len(x), -1,))\n",
        "        x_b = x[:, self.input_dim//2:].reshape((len(x), -1, ))\n",
        "\n",
        "        if forward:\n",
        "            y_b = x_b - m(x_a)\n",
        "        else:\n",
        "            y_b = x_b + m(x_a)\n",
        "\n",
        "        #z = torch.concat((x_a, y_b), axis=1) if flow%2==0 else torch.concat((y_b, x_a), axis=1)\n",
        "        z = torch.concat((x_a, y_b), axis=1)\n",
        "\n",
        "        return z\n",
        "\n",
        "\n",
        "    def f(self, x):\n",
        "        z = x / torch.exp(self.s)\n",
        "\n",
        "        for flow, model in enumerate(self.m, start=0):\n",
        "            z = torch.matmul(z, self.per_list[flow])\n",
        "            z = self.coupling_layer(z, model, flow, forward=True)\n",
        "\n",
        "        log_det_j = torch.sum(self.s)\n",
        "\n",
        "        return z, log_det_j\n",
        "\n",
        "    def f_inv(self, z):\n",
        "\n",
        "        for flow, model in reversed(list(enumerate(self.m, start=0))):\n",
        "            z = self.coupling_layer(z, model, flow, forward=False)\n",
        "            z = torch.matmul(z, self.per_list[flow].T)\n",
        "\n",
        "        x = z * torch.exp(self.s)\n",
        "\n",
        "        return x\n",
        "\n",
        "    def criterion(self, z, prior, log_det_j, reduction = \"sum\"):\n",
        "\n",
        "        if reduction == \"sum\":\n",
        "            loss = - (prior.log_prob(z) + log_det_j).sum()\n",
        "        else:\n",
        "\n",
        "            loss = - (prior.log_prob(z) - log_det_j).mean()\n",
        "        return loss"
      ],
      "metadata": {
        "id": "ob7eG6jYXg_8"
      },
      "execution_count": null,
      "outputs": []
    },
    {
      "cell_type": "code",
      "source": [
        "def rescale(x, lo, hi):\n",
        "    \"\"\"Rescale a tensor to [lo,hi].\"\"\"\n",
        "    assert(lo < hi), \"[rescale] lo={0} must be smaller than hi={1}\".format(lo,hi)\n",
        "    old_width = torch.max(x)-torch.min(x)\n",
        "    old_center = torch.min(x) + (old_width / 2.)\n",
        "    new_width = float(hi-lo)\n",
        "    new_center = lo + (new_width / 2.)\n",
        "    # shift everything back to zero:\n",
        "    x = x - old_center\n",
        "    # rescale to correct width:\n",
        "    x = x * (new_width / old_width)\n",
        "    # shift everything to the new center:\n",
        "    x = x + new_center\n",
        "    # return:\n",
        "    return x"
      ],
      "metadata": {
        "id": "2CYGx_ADXhCb"
      },
      "execution_count": null,
      "outputs": []
    },
    {
      "cell_type": "code",
      "source": [],
      "metadata": {
        "id": "F-q0K3toXhEs"
      },
      "execution_count": null,
      "outputs": []
    },
    {
      "cell_type": "code",
      "source": [
        "digits = load_digits()\n",
        "\n",
        "X_train, X_test, y_train, y_test = train_test_split(digits.data, digits.target,\n",
        "                                                    stratify=digits.target,\n",
        "                                                    test_size=0.20,\n",
        "                                                   random_state=42)\n",
        "\n",
        "#X_train = (X_train - X_train.min()) / (X_train.max()-X_train.min())\n",
        "\n",
        "X_train = torch.tensor(X_train) + torch.rand_like(torch.tensor(X_train)).div_(256.)\n",
        "X_train = rescale(X_train, 0., 1.).numpy()\n",
        "\n",
        "train_data = Data(X_train)\n"
      ],
      "metadata": {
        "id": "61Bk8bccO_gl"
      },
      "execution_count": null,
      "outputs": []
    },
    {
      "cell_type": "code",
      "source": [
        "random_number = torch.randint(0,9,[1]).item()\n",
        "image_train, category_train = X_train[random_number], y_train[random_number]\n",
        "image_test, category_test = X_test[random_number], y_test[random_number]\n",
        "\n",
        "\n",
        "plt.figure(figsize=(5,5))\n",
        "plt.subplot(1,2,1)\n",
        "plt.imshow(image_train.reshape((8,8)), cmap='gray')\n",
        "plt.title(f'train\\ntarget : {category_train}')\n",
        "plt.axis('off')\n",
        "\n",
        "plt.subplot(1,2,2)\n",
        "plt.imshow(image_test.reshape((8,8)), cmap='gray')\n",
        "plt.title(f'test\\ntarget : {category_test}')\n",
        "plt.axis('off')\n",
        "\n",
        "plt.show()"
      ],
      "metadata": {
        "id": "mn2HDNucO_i_"
      },
      "execution_count": null,
      "outputs": []
    },
    {
      "cell_type": "code",
      "source": [
        "data_dim = 8*8\n",
        "\n",
        "prior = torch.distributions.multivariate_normal.MultivariateNormal(loc=torch.zeros((data_dim)),\n",
        "                                                    scale_tril=torch.diag(torch.ones((data_dim))))\n",
        "\"\"\"\n",
        "prior = torch.distributions.normal.Normal(loc=torch.zeros((data_dim)),\n",
        "                                                    scale=torch.ones((data_dim)))\n",
        "\"\"\"\n",
        "model = NICE(input_dim=data_dim, hidden_layer=512, num_flows=10)\n",
        "\n",
        "train_loader = DataLoader(train_data, batch_size=250, shuffle=True)\n"
      ],
      "metadata": {
        "id": "rQs7Q0x8O_lW"
      },
      "execution_count": null,
      "outputs": []
    },
    {
      "cell_type": "code",
      "source": [
        "epochs = 1000\n",
        "optimizer = torch.optim.Adam(model.parameters(), lr=0.001)   # weight_decay=0.9\n",
        "\n",
        "COST = []\n",
        "\n",
        "for epoch in range(epochs):\n",
        "    total_loss = []\n",
        "\n",
        "    for x in train_loader:\n",
        "\n",
        "        z, log_det_j = model.forward(x)\n",
        "        loss = model.criterion(z, prior, log_det_j, reduction=\"avg\")\n",
        "\n",
        "        optimizer.zero_grad()\n",
        "        loss.backward()\n",
        "        optimizer.step()\n",
        "\n",
        "        total_loss.append(loss.item())\n",
        "\n",
        "    COST.append(np.mean(total_loss))\n",
        "\n",
        "    if epoch==0:\n",
        "        print(\"Epoch : \", epoch+1, \"  -----------> Loss : \", np.mean(total_loss))\n",
        "    elif (epoch+1)%100 == 0:\n",
        "        print(\"Epoch : \", epoch+1, \"  -----------> Loss : \", np.mean(total_loss))"
      ],
      "metadata": {
        "id": "wwMpBqaBO_np"
      },
      "execution_count": null,
      "outputs": []
    },
    {
      "cell_type": "code",
      "source": [
        "test = prior.sample((50,))\n",
        "test"
      ],
      "metadata": {
        "id": "qJy70H-_O_pw"
      },
      "execution_count": null,
      "outputs": []
    },
    {
      "cell_type": "code",
      "source": [
        "sonuc = model.f_inv(test)\n",
        "sonuc"
      ],
      "metadata": {
        "id": "rjNtmsr9O_sB"
      },
      "execution_count": null,
      "outputs": []
    },
    {
      "cell_type": "code",
      "source": [
        "test = prior.sample((1797,))\n",
        "sonuc = torch.nn.ReLU()(model.f_inv(test))\n",
        "\n",
        "fig, axs = plt.subplots(5, 10, sharex=True, sharey=True, figsize=(18, 8), subplot_kw={'xticks':[], 'yticks':[]}, gridspec_kw=dict(hspace=0.1, wspace=0.1))\n",
        "\n",
        "for i in range(0,10):\n",
        "\n",
        "    axs[0, i].imshow((sonuc[i]).detach().numpy().reshape((8,8)), cmap='binary', interpolation='nearest', clim=(0, 0.8))\n",
        "    axs[1, i].imshow((sonuc[10+i]).detach().numpy().reshape((8,8)), cmap='binary', interpolation='nearest', clim=(0, 0.8))\n",
        "    axs[2, i].imshow((sonuc[20+i]).detach().numpy().reshape((8,8)), cmap='binary', interpolation='nearest', clim=(0, 0.8))\n",
        "    axs[3, i].imshow((sonuc[30+i]).detach().numpy().reshape((8,8)), cmap='binary', interpolation='nearest', clim=(0, 0.8))\n",
        "    axs[4, i].imshow((sonuc[40+i]).detach().numpy().reshape((8,8)), cmap='binary', interpolation='nearest', clim=(0, 0.8))\n",
        "fig.show()\n"
      ],
      "metadata": {
        "id": "EJXVv9wyPMXm"
      },
      "execution_count": null,
      "outputs": []
    },
    {
      "cell_type": "code",
      "source": [
        "from sklearn.decomposition import PCA\n",
        "pca = PCA(n_components=2)\n",
        "#pca.fit(sonuc)"
      ],
      "metadata": {
        "id": "Hh8kh82aFumO"
      },
      "execution_count": null,
      "outputs": []
    },
    {
      "cell_type": "code",
      "source": [
        "forward, logdet_j = model.forward(torch.tensor(X_test))\n",
        "backward = model.f_inv(forward)"
      ],
      "metadata": {
        "id": "DOBJKKwxXh89"
      },
      "execution_count": null,
      "outputs": []
    },
    {
      "cell_type": "code",
      "source": [
        "pca = PCA(2)  # project from 64 to 2 dimensions\n",
        "projected = pca.fit_transform(backward.detach().numpy())          #sonuc.detach().numpy()\n",
        "print(digits.data.shape)\n",
        "print(projected.shape)"
      ],
      "metadata": {
        "id": "yeC_qG00LgpN"
      },
      "execution_count": null,
      "outputs": []
    },
    {
      "cell_type": "code",
      "source": [
        "projected_raw = pca.fit_transform(X_test)          #sonuc.detach().numpy()\n",
        "print(digits.data.shape)\n",
        "print(projected_raw.shape)"
      ],
      "metadata": {
        "id": "Em1Ans1vaNHt"
      },
      "execution_count": null,
      "outputs": []
    },
    {
      "cell_type": "code",
      "source": [
        "fig = plt.figure(figsize=(15,5))\n",
        "\n",
        "ax1 = fig.add_subplot(1, 2, 1)\n",
        "im1 = ax1.scatter(projected_raw[:, 0], projected_raw[:, 1],\n",
        "            c=y_test, edgecolor='none', alpha=0.5,\n",
        "            cmap=plt.get_cmap('Paired', 10))\n",
        "ax1.set_xlabel('component 1')\n",
        "ax1.set_ylabel('component 2')\n",
        "plt.colorbar(im1, ax=ax1)\n",
        "\n",
        "ax2 = fig.add_subplot(1, 2, 2)\n",
        "im2 = ax2.scatter(projected[:, 0], projected[:, 1],\n",
        "            c=y_test, edgecolor='none', alpha=0.5,\n",
        "            cmap=plt.get_cmap('Paired', 10))\n",
        "ax2.set_xlabel('component 1')\n",
        "ax2.set_ylabel('component 2')\n",
        "plt.colorbar(im2, ax=ax2)\n",
        "\n",
        "plt.show()"
      ],
      "metadata": {
        "id": "JV8-ymICfIST"
      },
      "execution_count": null,
      "outputs": []
    },
    {
      "cell_type": "code",
      "source": [],
      "metadata": {
        "id": "eXmomqgZXhP9"
      },
      "execution_count": null,
      "outputs": []
    }
  ]
}