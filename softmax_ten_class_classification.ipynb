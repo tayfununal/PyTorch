{
  "nbformat": 4,
  "nbformat_minor": 0,
  "metadata": {
    "colab": {
      "private_outputs": true,
      "provenance": [],
      "gpuType": "T4",
      "authorship_tag": "ABX9TyPBScaw9btko7DKcLl/Z3ws",
      "include_colab_link": true
    },
    "kernelspec": {
      "name": "python3",
      "display_name": "Python 3"
    },
    "language_info": {
      "name": "python"
    },
    "accelerator": "GPU",
    "gpuClass": "standard"
  },
  "cells": [
    {
      "cell_type": "markdown",
      "metadata": {
        "id": "view-in-github",
        "colab_type": "text"
      },
      "source": [
        "<a href=\"https://colab.research.google.com/github/tayfununal/PyTorch/blob/main/softmax_ten_class_classification.ipynb\" target=\"_parent\"><img src=\"https://colab.research.google.com/assets/colab-badge.svg\" alt=\"Open In Colab\"/></a>"
      ]
    },
    {
      "cell_type": "code",
      "execution_count": null,
      "metadata": {
        "id": "EgtTS9_CPRl7"
      },
      "outputs": [],
      "source": [
        "import torch\n",
        "import torch.nn as nn\n",
        "\n",
        "import torchvision.transforms as transforms\n",
        "import torchvision.datasets as dsets\n",
        "\n",
        "import matplotlib.pyplot as plt\n",
        "import numpy as np\n"
      ]
    },
    {
      "cell_type": "code",
      "source": [
        "train_dataset = dsets.MNIST(root='.data', train=True, download=True, transform=transforms.ToTensor())\n",
        "validation_dataset = dsets.MNIST(root='.data', train=False, download=True, transform=transforms.ToTensor())"
      ],
      "metadata": {
        "id": "dpIfNQIMQVwX"
      },
      "execution_count": null,
      "outputs": []
    },
    {
      "cell_type": "code",
      "source": [
        "print('train dataset :', len(train_dataset), '\\nvalidation dataset :', len(validation_dataset))"
      ],
      "metadata": {
        "id": "kIlFW5DJQyAf"
      },
      "execution_count": null,
      "outputs": []
    },
    {
      "cell_type": "code",
      "source": [
        "plt.imshow(train_dataset[0][0].numpy().transpose(1, 2, 0))\n",
        "plt.title('Hedef : {}'.format(train_dataset[0][1]))\n",
        "plt.axis('off')\n",
        "plt.show()"
      ],
      "metadata": {
        "id": "2su_g8FZQ9O2"
      },
      "execution_count": null,
      "outputs": []
    },
    {
      "cell_type": "code",
      "source": [
        "train_dataset[0][0].numpy().shape"
      ],
      "metadata": {
        "id": "I8xf3p4PU9lk"
      },
      "execution_count": null,
      "outputs": []
    },
    {
      "cell_type": "code",
      "source": [
        "train_dataset[0][0].numpy().transpose(1,2,0).shape           # transpose un içinde yazan 0 = 1, 1 = 28 ve 2 = 28 'i temsil etmektedir."
      ],
      "metadata": {
        "id": "QhlEyRd7RZDt"
      },
      "execution_count": null,
      "outputs": []
    },
    {
      "cell_type": "code",
      "source": [
        "class SoftMax(nn.Module):\n",
        "  def __init__(self, input_size, output_size):\n",
        "    super(SoftMax, self).__init__()\n",
        "\n",
        "    self.linear = nn.Linear(input_size, output_size)\n",
        "\n",
        "  def forward(self,x):\n",
        "    out = self.linear(x)\n",
        "    return out"
      ],
      "metadata": {
        "id": "hj4OepRRTzTc"
      },
      "execution_count": null,
      "outputs": []
    },
    {
      "cell_type": "code",
      "source": [
        "input_dim = 28*28\n",
        "output_dim = 10\n",
        "model = SoftMax(input_dim, output_dim)\n",
        "list(model.parameters())"
      ],
      "metadata": {
        "id": "bZnmcZv6XGYc"
      },
      "execution_count": null,
      "outputs": []
    },
    {
      "cell_type": "code",
      "source": [
        "print('shape of w : ', model.state_dict()['linear.weight'].shape, '\\nshape of b : ', model.state_dict()['linear.bias'].shape)"
      ],
      "metadata": {
        "id": "g1ZZ5bv-Xd2S"
      },
      "execution_count": null,
      "outputs": []
    },
    {
      "cell_type": "code",
      "source": [
        "criterion = nn.CrossEntropyLoss()\n",
        "optimizer = torch.optim.SGD(params=model.parameters(), lr=0.001)\n",
        "\n",
        "train_loader = torch.utils.data.DataLoader(dataset=train_dataset, batch_size=1000)\n",
        "validation_loader = torch.utils.data.DataLoader(dataset=validation_dataset, batch_size=5000)"
      ],
      "metadata": {
        "id": "ZUECL5jtahXh"
      },
      "execution_count": null,
      "outputs": []
    },
    {
      "cell_type": "code",
      "source": [
        "n_epochs = 100\n",
        "accuracy_list = []\n",
        "\n",
        "for epoch in range(n_epochs):\n",
        "\n",
        "  print('Epoch {}'.format(epoch), '-----------------------------------------------------')\n",
        "  \n",
        "  for x, y in train_loader:\n",
        "\n",
        "    z = model(x.view(-1, 28*28))\n",
        "    loss = criterion(z,y)\n",
        "    print('loss : ', loss.item())\n",
        "\n",
        "    optimizer.zero_grad()\n",
        "    loss.backward()\n",
        "    optimizer.step()\n",
        "  \n",
        "  correct = 0\n",
        "  for x_test, y_test in validation_dataset:\n",
        "    \n",
        "    z_test = model(x_test.view(-1, 28*28))\n",
        "    _, zhat_test = torch.max(z_test, 1)\n",
        "\n",
        "    correct = correct + (zhat_test == y_test).sum().item()\n",
        "\n",
        "  accuracy = correct / len(validation_dataset)\n",
        "  accuracy_list.append(accuracy)"
      ],
      "metadata": {
        "id": "wg9e-EiOfJ_I"
      },
      "execution_count": null,
      "outputs": []
    },
    {
      "cell_type": "code",
      "source": [
        "plt.plot([e for e in range(n_epochs)], accuracy_list)\n",
        "plt.show()"
      ],
      "metadata": {
        "id": "gKNC00aXj7hG"
      },
      "execution_count": null,
      "outputs": []
    },
    {
      "cell_type": "code",
      "source": [
        "data = validation_dataset[15]\n",
        "\n",
        "plt.imshow(data[0].numpy().transpose(1,2,0))\n",
        "plt.title('hedef : {} \\ntahmin : {}'.format(data[1], torch.max(model(data[0].view(-1,28*28)),1)[1].item()))\n",
        "plt.axis('off')\n",
        "plt.show()"
      ],
      "metadata": {
        "id": "BGDZ36lKj7jt"
      },
      "execution_count": null,
      "outputs": []
    },
    {
      "cell_type": "code",
      "source": [],
      "metadata": {
        "id": "wg5f9rtKj7mE"
      },
      "execution_count": null,
      "outputs": []
    },
    {
      "cell_type": "code",
      "source": [],
      "metadata": {
        "id": "WVZ7FWVOnOV8"
      },
      "execution_count": null,
      "outputs": []
    }
  ]
}