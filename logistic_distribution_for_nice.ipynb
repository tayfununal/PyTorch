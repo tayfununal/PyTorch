{
  "nbformat": 4,
  "nbformat_minor": 0,
  "metadata": {
    "colab": {
      "provenance": [],
      "authorship_tag": "ABX9TyN+xvAw9mHijSwYffLV8UUr",
      "include_colab_link": true
    },
    "kernelspec": {
      "name": "python3",
      "display_name": "Python 3"
    },
    "language_info": {
      "name": "python"
    }
  },
  "cells": [
    {
      "cell_type": "markdown",
      "metadata": {
        "id": "view-in-github",
        "colab_type": "text"
      },
      "source": [
        "<a href=\"https://colab.research.google.com/github/tayfununal/PyTorch/blob/main/logistic_distribution_for_nice.ipynb\" target=\"_parent\"><img src=\"https://colab.research.google.com/assets/colab-badge.svg\" alt=\"Open In Colab\"/></a>"
      ]
    },
    {
      "cell_type": "code",
      "source": [
        "from torch.distributions import Uniform\n",
        "from torch.distributions import TransformedDistribution\n",
        "from torch.distributions import SigmoidTransform\n",
        "from torch.distributions import AffineTransform"
      ],
      "metadata": {
        "id": "StZKmz9U6lGf"
      },
      "execution_count": 9,
      "outputs": []
    },
    {
      "cell_type": "code",
      "execution_count": 21,
      "metadata": {
        "id": "RiSi70it6jji"
      },
      "outputs": [],
      "source": [
        "# Y ~ f(X) ~ Logistic(a, b)\n",
        "base_distribution = Uniform(0, 1)\n",
        "transforms = [SigmoidTransform().inv, AffineTransform(loc=3, scale=10)]\n",
        "logistic = TransformedDistribution(base_distribution, transforms)"
      ]
    },
    {
      "cell_type": "code",
      "source": [
        "logistic.sample((20,))\n"
      ],
      "metadata": {
        "colab": {
          "base_uri": "https://localhost:8080/"
        },
        "id": "WceZKTWt7Gf7",
        "outputId": "e6a92e35-b4a4-4624-de58-c62150ed5d94"
      },
      "execution_count": 22,
      "outputs": [
        {
          "output_type": "execute_result",
          "data": {
            "text/plain": [
              "tensor([ 12.1673,   1.3882,  12.3432,  11.2681, -16.1809,  12.2301,  27.3634,\n",
              "         22.4627, -18.5942,  -5.3011,   3.4609, -17.7156,  12.1772,  16.3454,\n",
              "         -2.2273,   7.8407,   5.8760, -12.6302, -14.1682,   2.1650])"
            ]
          },
          "metadata": {},
          "execution_count": 22
        }
      ]
    },
    {
      "cell_type": "code",
      "source": [],
      "metadata": {
        "id": "7dTX90cy8E_p"
      },
      "execution_count": null,
      "outputs": []
    }
  ]
}