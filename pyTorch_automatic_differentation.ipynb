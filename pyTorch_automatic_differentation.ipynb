{
  "nbformat": 4,
  "nbformat_minor": 0,
  "metadata": {
    "colab": {
      "name": "pyTorch_automatic_differentation.ipynb",
      "private_outputs": true,
      "provenance": [],
      "authorship_tag": "ABX9TyOotYMpCy3wEy2v/r34jknD",
      "include_colab_link": true
    },
    "kernelspec": {
      "name": "python3",
      "display_name": "Python 3"
    },
    "language_info": {
      "name": "python"
    }
  },
  "cells": [
    {
      "cell_type": "markdown",
      "metadata": {
        "id": "view-in-github",
        "colab_type": "text"
      },
      "source": [
        "<a href=\"https://colab.research.google.com/github/tayfununal/PyTorch/blob/main/pyTorch_automatic_differentation.ipynb\" target=\"_parent\"><img src=\"https://colab.research.google.com/assets/colab-badge.svg\" alt=\"Open In Colab\"/></a>"
      ]
    },
    {
      "cell_type": "markdown",
      "source": [
        "## **PyTorch Automatic Differentation**"
      ],
      "metadata": {
        "id": "DQDDJYcKpm44"
      }
    },
    {
      "cell_type": "markdown",
      "source": [
        "# **Problem :**\n",
        "\\begin{align*}\n",
        "              y = f(x) = x^2 \\\\\n",
        "              z = g(y) = y^3 \\\\\n",
        "              \\\\\n",
        "              \\frac{dg(f(2))}{dx} = ?\n",
        "\\end{align*}"
      ],
      "metadata": {
        "id": "USHLBd7bqET5"
      }
    },
    {
      "cell_type": "markdown",
      "source": [
        "# **Solution :** \n",
        "\n",
        "\\begin{align*}\n",
        "              \\frac{dg(f(x))}{dx} &= \\frac{dz}{dx} = \\frac{dz}{dy} * \\frac{dy}{dx} = (3y^2)* (2x) = [3(x^2)^2] * 2x = 6x^5\\\\\n",
        "              \\\\\n",
        "              \\frac{dg(f(2))}{dx} &= 6*2^5 = 192\n",
        "\\end{align*}"
      ],
      "metadata": {
        "id": "vDY_gQ51r0mK"
      }
    },
    {
      "cell_type": "code",
      "execution_count": null,
      "metadata": {
        "id": "CFObhehhojij"
      },
      "outputs": [],
      "source": [
        "import torch"
      ]
    },
    {
      "cell_type": "code",
      "source": [
        "x = torch.tensor([2.], requires_grad=True)"
      ],
      "metadata": {
        "id": "r6fRTGETom3s"
      },
      "execution_count": null,
      "outputs": []
    },
    {
      "cell_type": "code",
      "source": [
        "y = x**2"
      ],
      "metadata": {
        "id": "bDsHVLSnos7r"
      },
      "execution_count": null,
      "outputs": []
    },
    {
      "cell_type": "code",
      "source": [
        "z = y**3"
      ],
      "metadata": {
        "id": "Hd_0C3X3ovpi"
      },
      "execution_count": null,
      "outputs": []
    },
    {
      "cell_type": "code",
      "source": [
        "z.backward()"
      ],
      "metadata": {
        "id": "q4zDfcq0ozGC"
      },
      "execution_count": null,
      "outputs": []
    },
    {
      "cell_type": "code",
      "source": [
        "x.grad"
      ],
      "metadata": {
        "id": "853dQpLNo22y"
      },
      "execution_count": null,
      "outputs": []
    }
  ]
}