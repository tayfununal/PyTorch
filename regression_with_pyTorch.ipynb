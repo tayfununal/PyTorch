{
  "nbformat": 4,
  "nbformat_minor": 0,
  "metadata": {
    "colab": {
      "name": "regression_with_pyTorch.ipynb",
      "private_outputs": true,
      "provenance": [],
      "authorship_tag": "ABX9TyNKjwOre5e4Ikc8k4qR9kns",
      "include_colab_link": true
    },
    "kernelspec": {
      "name": "python3",
      "display_name": "Python 3"
    },
    "language_info": {
      "name": "python"
    }
  },
  "cells": [
    {
      "cell_type": "markdown",
      "metadata": {
        "id": "view-in-github",
        "colab_type": "text"
      },
      "source": [
        "<a href=\"https://colab.research.google.com/github/tayfununal/PyTorch/blob/main/regression_with_pyTorch.ipynb\" target=\"_parent\"><img src=\"https://colab.research.google.com/assets/colab-badge.svg\" alt=\"Open In Colab\"/></a>"
      ]
    },
    {
      "cell_type": "code",
      "source": [
        "!pip install playground-data\n",
        "import plygdata as pg"
      ],
      "metadata": {
        "id": "czCZYlWbc43j"
      },
      "execution_count": null,
      "outputs": []
    },
    {
      "cell_type": "code",
      "execution_count": null,
      "metadata": {
        "id": "2ZWJEeY9aPBZ"
      },
      "outputs": [],
      "source": [
        "import torch\n",
        "from torch import nn\n",
        "import pandas as pd\n",
        "import numpy as np\n",
        "import seaborn as sns\n",
        "import matplotlib.pyplot as plt"
      ]
    },
    {
      "cell_type": "code",
      "source": [
        "data = pg.dataset.DataGenerator.classify_two_gauss(100, noise=0.2)\n",
        "\n",
        "df = pd.DataFrame(data, columns=[\"x1\", \"x2\", \"y\"])\n",
        "df"
      ],
      "metadata": {
        "id": "3D58hDvbchn1"
      },
      "execution_count": null,
      "outputs": []
    },
    {
      "cell_type": "code",
      "source": [
        "sns.scatterplot(x=df[\"x1\"], y =df[\"x2\"], data=df, hue =\"y\", palette=\"pastel\")"
      ],
      "metadata": {
        "id": "DkAbNQrVc6zr"
      },
      "execution_count": null,
      "outputs": []
    },
    {
      "cell_type": "code",
      "source": [
        "train_x = df[[\"x1\"]].values\n",
        "y = df[[\"x2\"]].values\n",
        "\n",
        "train_x = torch.tensor(train_x, dtype=torch.float32)\n",
        "y = torch.tensor(y, dtype=torch.float32)"
      ],
      "metadata": {
        "id": "dGct4kAPc61y"
      },
      "execution_count": null,
      "outputs": []
    },
    {
      "cell_type": "code",
      "source": [
        "class LinearReg(nn.Module):\n",
        "  def __init__(self, input_size, output_size):\n",
        "    super(LinearReg, self).__init__()\n",
        "    self.linear = nn.Linear(input_size,output_size)\n",
        "\n",
        "  def forward(self, x):\n",
        "    return self.linear(x)"
      ],
      "metadata": {
        "id": "ifPHikQ1aaEb"
      },
      "execution_count": null,
      "outputs": []
    },
    {
      "cell_type": "code",
      "source": [
        "model = LinearReg(1,1)"
      ],
      "metadata": {
        "id": "AnqoFbzca8Au"
      },
      "execution_count": null,
      "outputs": []
    },
    {
      "cell_type": "code",
      "source": [
        "model.state_dict()['linear.weight'].data[0] = torch.tensor([0.51])\n",
        "model.state_dict()['linear.bias'].data[0] = torch.tensor([0.2])\n",
        "model.state_dict()"
      ],
      "metadata": {
        "id": "YLRiiCUdpXhX"
      },
      "execution_count": null,
      "outputs": []
    },
    {
      "cell_type": "code",
      "source": [
        "list(model.parameters())"
      ],
      "metadata": {
        "id": "aB6T1ABxp19u"
      },
      "execution_count": null,
      "outputs": []
    },
    {
      "cell_type": "code",
      "source": [
        "epoch = 1000\n",
        "loss = torch.nn.MSELoss()\n",
        "optimizer = torch.optim.SGD(params=model.parameters(), lr=0.01)\n",
        "\n",
        "for epoch in range(epoch):\n",
        "  y_hat = model(train_x)\n",
        "  out = loss(y, y_hat)\n",
        "\n",
        "  optimizer.zero_grad()\n",
        "  out.backward()\n",
        "  optimizer.step()"
      ],
      "metadata": {
        "id": "xBuorMyBbj6D"
      },
      "execution_count": null,
      "outputs": []
    },
    {
      "cell_type": "code",
      "source": [
        "list(model.parameters())"
      ],
      "metadata": {
        "id": "UR7EyU0dlLgA"
      },
      "execution_count": null,
      "outputs": []
    },
    {
      "cell_type": "code",
      "source": [
        "line = torch.linspace(-4,4,100)\n",
        "\n",
        "with torch.no_grad():\n",
        "  pred = []\n",
        "  for x in range(100):\n",
        "    pred.append(model(torch.tensor([line[x]])))"
      ],
      "metadata": {
        "id": "Pz5ZVqW--GYv"
      },
      "execution_count": null,
      "outputs": []
    },
    {
      "cell_type": "code",
      "source": [
        "plt.plot(line, pred)\n",
        "plt.scatter(df[[\"x1\"]], df[[\"x2\"]])"
      ],
      "metadata": {
        "id": "cFRbfRN-_8oV"
      },
      "execution_count": null,
      "outputs": []
    },
    {
      "cell_type": "code",
      "source": [
        ""
      ],
      "metadata": {
        "id": "cXKo7kDbAHw_"
      },
      "execution_count": null,
      "outputs": []
    }
  ]
}