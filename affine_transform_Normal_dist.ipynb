{
  "nbformat": 4,
  "nbformat_minor": 0,
  "metadata": {
    "colab": {
      "private_outputs": true,
      "provenance": [],
      "authorship_tag": "ABX9TyNFyiQ8ajOxXzKHIyYVGCER",
      "include_colab_link": true
    },
    "kernelspec": {
      "name": "python3",
      "display_name": "Python 3"
    },
    "language_info": {
      "name": "python"
    }
  },
  "cells": [
    {
      "cell_type": "markdown",
      "metadata": {
        "id": "view-in-github",
        "colab_type": "text"
      },
      "source": [
        "<a href=\"https://colab.research.google.com/github/tayfununal/PyTorch/blob/main/affine_transform_Normal_dist.ipynb\" target=\"_parent\"><img src=\"https://colab.research.google.com/assets/colab-badge.svg\" alt=\"Open In Colab\"/></a>"
      ]
    },
    {
      "cell_type": "code",
      "execution_count": null,
      "metadata": {
        "id": "KYTcSo3rAh2N"
      },
      "outputs": [],
      "source": [
        "import torch\n",
        "import numpy as np\n",
        "import matplotlib.pyplot as plt\n",
        "import seaborn as sns"
      ]
    },
    {
      "cell_type": "code",
      "source": [
        "dist = torch.distributions.Normal(loc=torch.tensor(0.), scale=torch.tensor(1.))\n",
        "dist2 = torch.distributions.Normal(loc=torch.tensor(2.), scale=torch.tensor(5.))"
      ],
      "metadata": {
        "id": "9Er4jrwMAnsw"
      },
      "execution_count": null,
      "outputs": []
    },
    {
      "cell_type": "code",
      "source": [
        "z = 2 + 5 * dist.sample([1000])\n",
        "z2 = dist2.sample([1000])"
      ],
      "metadata": {
        "id": "TUtpZDNyAz4n"
      },
      "execution_count": null,
      "outputs": []
    },
    {
      "cell_type": "code",
      "source": [
        "torch.exp(dist2.log_prob(torch.tensor([i for i in np.linspace(-15,15,1000)]))).detach().numpy().reshape(-1,1).shape"
      ],
      "metadata": {
        "id": "Z2-1oc9cEoeJ"
      },
      "execution_count": null,
      "outputs": []
    },
    {
      "cell_type": "code",
      "source": [
        "sns.histplot(z, kde=True, stat = \"probability\")\n",
        "plt.plot(torch.tensor([i for i in torch.linspace(-15,20,1000)]).detach().numpy().reshape(-1,1), torch.exp(dist2.log_prob(torch.tensor([i for i in np.linspace(-15,20,1000)]))).detach().numpy().reshape(-1,1),color=\"red\")"
      ],
      "metadata": {
        "id": "hhhvhA1bA8bH"
      },
      "execution_count": null,
      "outputs": []
    },
    {
      "cell_type": "code",
      "source": [],
      "metadata": {
        "id": "o8WQiKycA-aX"
      },
      "execution_count": null,
      "outputs": []
    }
  ]
}