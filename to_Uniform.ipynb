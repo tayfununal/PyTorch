{
  "nbformat": 4,
  "nbformat_minor": 0,
  "metadata": {
    "colab": {
      "private_outputs": true,
      "provenance": [],
      "authorship_tag": "ABX9TyMlK/3h52ycYC2W/+uh8vxq",
      "include_colab_link": true
    },
    "kernelspec": {
      "name": "python3",
      "display_name": "Python 3"
    },
    "language_info": {
      "name": "python"
    }
  },
  "cells": [
    {
      "cell_type": "markdown",
      "metadata": {
        "id": "view-in-github",
        "colab_type": "text"
      },
      "source": [
        "<a href=\"https://colab.research.google.com/github/tayfununal/PyTorch/blob/main/to_Uniform.ipynb\" target=\"_parent\"><img src=\"https://colab.research.google.com/assets/colab-badge.svg\" alt=\"Open In Colab\"/></a>"
      ]
    },
    {
      "cell_type": "code",
      "execution_count": null,
      "metadata": {
        "id": "f35OPgiF-VoI"
      },
      "outputs": [],
      "source": [
        "import random\n",
        "import numpy as np\n",
        "import torch\n",
        "from torch.utils.data import DataLoader, Dataset\n",
        "from torch import nn\n",
        "import matplotlib.pyplot as plt\n",
        "\n",
        "\n",
        "%matplotlib inline\n",
        "random.seed(0)\n",
        "np.random.seed(0)\n",
        "torch.manual_seed(0)"
      ]
    },
    {
      "cell_type": "code",
      "source": [
        "from sklearn.datasets import load_digits\n",
        "\n",
        "\n",
        "digits = load_digits()\n",
        "X = digits.data\n",
        "print('Data shape', X.shape)\n",
        "\n",
        "\n",
        "def plot_digits(data, w=8):\n",
        "    fig, axes = plt.subplots(4, 10, figsize=(10, 4),\n",
        "                             subplot_kw={'xticks':[], 'yticks':[]},\n",
        "                             gridspec_kw=dict(hspace=0.1, wspace=0.1))\n",
        "    for i, ax in enumerate(axes.flat):\n",
        "        ax.imshow(data[i].reshape(w, w),\n",
        "                  cmap='binary', interpolation='nearest',\n",
        "                  clim=(0, 16))\n",
        "\n",
        "plot_digits(digits.data)\n"
      ],
      "metadata": {
        "id": "STjyEwEg_IUt"
      },
      "execution_count": null,
      "outputs": []
    },
    {
      "cell_type": "code",
      "source": [
        "class Data(Dataset):\n",
        "    def __init__(self, dataset):\n",
        "        super(Data, self).__init__()\n",
        "\n",
        "        self.dataset = dataset\n",
        "\n",
        "    def __len__(self):\n",
        "        return len(self.dataset)\n",
        "\n",
        "    def __getitem__(self, idx):\n",
        "        x = self.dataset[idx]\n",
        "        return x"
      ],
      "metadata": {
        "id": "iBPAXoojAy9W"
      },
      "execution_count": null,
      "outputs": []
    },
    {
      "cell_type": "code",
      "source": [
        "class To_Uniform(torch.nn.Module):\n",
        "\n",
        "    def __init__(self, input_dim, hidden_layer, output_dim):\n",
        "        super(To_Uniform, self).__init__()\n",
        "\n",
        "        self.input_dim = input_dim\n",
        "        self.hidden_layer = hidden_layer\n",
        "        self.output_dim = output_dim\n",
        "\n",
        "        self.linear1 = nn.Sequential(\n",
        "            nn.Linear(self.input_dim, self.hidden_layer),\n",
        "            nn.ReLU(),\n",
        "            nn.BatchNorm1d(self.hidden_layer)\n",
        "        )\n",
        "        self.linear2 = nn.Sequential(\n",
        "            nn.Linear(self.hidden_layer, self.hidden_layer),\n",
        "            nn.ReLU(),\n",
        "            nn.BatchNorm1d(self.hidden_layer)\n",
        "        )\n",
        "        self.linear3 = nn.Sequential(\n",
        "            nn.Linear(self.hidden_layer, self.hidden_layer),\n",
        "            nn.ReLU(),\n",
        "            nn.BatchNorm1d(self.hidden_layer)\n",
        "        )\n",
        "        self.linear4 = nn.Sequential(\n",
        "            nn.Linear(self.hidden_layer, self.hidden_layer),\n",
        "            nn.ReLU(),\n",
        "            nn.BatchNorm1d(self.hidden_layer)\n",
        "        )\n",
        "        self.linear5 = nn.Sequential(\n",
        "            nn.Linear(self.hidden_layer, self.output_dim),\n",
        "            nn.ReLU(),\n",
        "        )\n",
        "\n",
        "    def forward(self, x):\n",
        "        x = self.linear1(x)\n",
        "        x = self.linear2(x)\n",
        "        x = self.linear3(x)\n",
        "        x = self.linear4(x)\n",
        "        x = self.linear5(x)\n",
        "        return x\n",
        "\n",
        "    def criterion(self, y, y_hat):\n",
        "      return - nn.MSELoss()(y, y_hat)"
      ],
      "metadata": {
        "id": "KDUIU91GIXvr"
      },
      "execution_count": null,
      "outputs": []
    },
    {
      "cell_type": "code",
      "source": [
        "X = digits.data\n",
        "X = X.reshape(1797, 64)\n",
        "X = (X - X.min()) / (X.max()-X.min())\n",
        "\n",
        "X = Data(torch.from_numpy(X).type(torch.float32))\n",
        "y = torch.from_numpy(digits.target).type(torch.float32)"
      ],
      "metadata": {
        "id": "NQ34bviVABKy"
      },
      "execution_count": null,
      "outputs": []
    },
    {
      "cell_type": "code",
      "source": [
        "model = To_Uniform(64, 256, 24)\n",
        "optimizer = torch.optim.Adam(model.parameters(), lr=0.01)"
      ],
      "metadata": {
        "id": "J-zQc5lhH6Wb"
      },
      "execution_count": null,
      "outputs": []
    },
    {
      "cell_type": "code",
      "source": [
        "train_loader = DataLoader(X, batch_size=1797, shuffle=True)"
      ],
      "metadata": {
        "id": "WF-YuBZUIM5f"
      },
      "execution_count": null,
      "outputs": []
    },
    {
      "cell_type": "code",
      "source": [
        "epochs = 20\n",
        "optimizer = torch.optim.Adam(model.parameters(), lr=0.01)\n",
        "\n",
        "COST = []\n",
        "\n",
        "for epoch in range(epochs):\n",
        "    total_loss = []\n",
        "    x_ = x.type(torch.float32) + torch.normal(mean=0.0, std=0.000001, size=(x.shape[0], 64)).type(torch.float32)\n",
        "    for x in train_loader:\n",
        "\n",
        "        y_hat = model(x_)\n",
        "\n",
        "        loss = model.criterion(model(x), y_hat)\n",
        "\n",
        "        optimizer.zero_grad()\n",
        "        loss.backward()\n",
        "        optimizer.step()\n",
        "\n",
        "        total_loss.append(loss.item())\n",
        "\n",
        "    COST.append(np.mean(total_loss))\n",
        "\n",
        "    if epoch==0:\n",
        "        print(\"Epoch : \", epoch+1, \"  -----------> Loss : \", np.mean(total_loss))\n",
        "    elif (epoch+1)%1 == 0:\n",
        "        print(\"Epoch : \", epoch+1, \"  -----------> Loss : \", np.mean(total_loss))"
      ],
      "metadata": {
        "id": "Sib4WV6CIq2c"
      },
      "execution_count": null,
      "outputs": []
    },
    {
      "cell_type": "code",
      "source": [
        "Y = model(x)"
      ],
      "metadata": {
        "id": "WGR-JzF1KIM6"
      },
      "execution_count": null,
      "outputs": []
    },
    {
      "cell_type": "code",
      "source": [
        "plt.scatter(Y[:,0].detach().numpy(), Y[:,1].detach().numpy(), c=y)\n",
        "plt.show()"
      ],
      "metadata": {
        "id": "DtQK1Ab7XS0i"
      },
      "execution_count": null,
      "outputs": []
    },
    {
      "cell_type": "code",
      "source": [],
      "metadata": {
        "id": "C1xuTx3FXXO1"
      },
      "execution_count": null,
      "outputs": []
    }
  ]
}