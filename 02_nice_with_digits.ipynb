{
  "nbformat": 4,
  "nbformat_minor": 0,
  "metadata": {
    "colab": {
      "provenance": [],
      "authorship_tag": "ABX9TyNZjpezRdgfZo4/BJmQpooy",
      "include_colab_link": true
    },
    "kernelspec": {
      "name": "python3",
      "display_name": "Python 3"
    },
    "language_info": {
      "name": "python"
    }
  },
  "cells": [
    {
      "cell_type": "markdown",
      "metadata": {
        "id": "view-in-github",
        "colab_type": "text"
      },
      "source": [
        "<a href=\"https://colab.research.google.com/github/tayfununal/PyTorch/blob/main/02_nice_with_digits.ipynb\" target=\"_parent\"><img src=\"https://colab.research.google.com/assets/colab-badge.svg\" alt=\"Open In Colab\"/></a>"
      ]
    },
    {
      "cell_type": "code",
      "execution_count": 187,
      "metadata": {
        "id": "87RALZ-3O9AN"
      },
      "outputs": [],
      "source": [
        "import torch\n",
        "import numpy as np\n",
        "import matplotlib.pyplot as plt\n",
        "import seaborn as sns\n",
        "from torch import nn\n",
        "import torchvision\n",
        "from torch.utils.data import DataLoader, Dataset\n",
        "from torchvision import transforms\n",
        "\n",
        "from sklearn.datasets import load_digits\n",
        "from sklearn.model_selection import train_test_split\n",
        "from sklearn.datasets import make_moons"
      ]
    },
    {
      "cell_type": "code",
      "source": [
        "class Data(Dataset):\n",
        "    def __init__(self, dataset):\n",
        "        super(Data, self).__init__()\n",
        "\n",
        "        self.dataset = dataset\n",
        "\n",
        "    def __len__(self):\n",
        "        return len(self.dataset)\n",
        "\n",
        "    def __getitem__(self, idx):\n",
        "        x = self.dataset[idx]\n",
        "        return x"
      ],
      "metadata": {
        "id": "y_iZwiHXO_bt"
      },
      "execution_count": 188,
      "outputs": []
    },
    {
      "cell_type": "code",
      "source": [
        "class NICE(nn.Module):\n",
        "    def __init__(self, input_dim, hidden_layer, num_flows=2):\n",
        "        super(NICE, self).__init__()\n",
        "\n",
        "        self.input_dim = input_dim\n",
        "        self.hidden_layer = hidden_layer\n",
        "        self.num_flows = num_flows\n",
        "\n",
        "        self.net = lambda : nn.Sequential(\n",
        "                                 nn.Linear(self.input_dim//2, self.hidden_layer), nn.ReLU(),\n",
        "                                 nn.Linear(self.hidden_layer, self.hidden_layer), nn.ReLU(),\n",
        "                                 nn.Linear(self.hidden_layer, self.hidden_layer), nn.ReLU(),\n",
        "                                 nn.Linear(self.hidden_layer, self.hidden_layer), nn.ReLU(),\n",
        "                                 nn.Linear(self.hidden_layer, self.hidden_layer), nn.ReLU(),\n",
        "                                 nn.Linear(self.hidden_layer, self.hidden_layer), nn.ReLU(),\n",
        "                                 nn.Linear(self.hidden_layer, self.hidden_layer), nn.ReLU(),\n",
        "                                 nn.Linear(self.hidden_layer, self.input_dim//2)) # input dimension must be equal to output dimension\n",
        "\n",
        "        self.m = nn.ModuleList([self.net() for _ in range(self.num_flows)])\n",
        "\n",
        "        self.s = nn.Parameter(torch.rand(1, input_dim), requires_grad=True)\n",
        "\n",
        "\n",
        "    def forward(self, x):\n",
        "        x = x.view(len(x), -1,).to(torch.float32)\n",
        "        return self.f(x)\n",
        "\n",
        "    def coupling_layer(self, x, m, flow, forward=True):\n",
        "        x = x.clone()\n",
        "\n",
        "        x_a = x[:, ::2] if flow%2==0 else x[:, 1::2]\n",
        "        x_b = x[:, 1::2] if flow%2==0 else x[:, ::2]\n",
        "\n",
        "        if forward:\n",
        "            y_b = x_b - m(x_a)\n",
        "        else:\n",
        "            y_b = x_b + m(x_a)\n",
        "\n",
        "        #z = torch.concat((x_a, y_b), axis=1) if flow%2==0 else torch.concat((y_b, x_a), axis=1)\n",
        "        z = torch.empty(x.shape)\n",
        "        z[:, ::2] = x_a if flow%2==0 else y_b\n",
        "        z[:, 1::2] = y_b if flow%2==0 else x_a\n",
        "        return z\n",
        "\n",
        "\n",
        "    def f(self, x):\n",
        "        z = x\n",
        "\n",
        "        for flow, model in enumerate(self.m, start=0):\n",
        "            z = self.coupling_layer(z, model, flow, forward=True)\n",
        "\n",
        "        z = z / torch.exp(self.s)\n",
        "        log_det_j = torch.sum(torch.abs(self.s))\n",
        "\n",
        "        return z, log_det_j\n",
        "\n",
        "    def f_inv(self, z):\n",
        "        x = z * torch.exp(self.s)\n",
        "\n",
        "        for flow, model in reversed(list(enumerate(self.m, start=0))):\n",
        "            x = self.coupling_layer(x, model, flow,forward=False)\n",
        "\n",
        "        return x\n",
        "\n",
        "    def criterion(self, z, prior, log_det_j, reduction = \"sum\"):\n",
        "\n",
        "        if reduction == \"sum\":\n",
        "            loss = - (prior.log_prob(z) + log_det_j).sum()\n",
        "        else:\n",
        "\n",
        "            loss = - (prior.log_prob(z) - log_det_j).mean()\n",
        "        return loss"
      ],
      "metadata": {
        "id": "dNv7fminO_d7"
      },
      "execution_count": 189,
      "outputs": []
    },
    {
      "cell_type": "code",
      "source": [
        "a = np.array([[1,2,3,4,5,6,7,8],\n",
        "             [9,10,11,12,13,14,15,16]])"
      ],
      "metadata": {
        "id": "bW0ySi0i1Wnu"
      },
      "execution_count": 190,
      "outputs": []
    },
    {
      "cell_type": "code",
      "source": [
        "a[:, 1::2]"
      ],
      "metadata": {
        "colab": {
          "base_uri": "https://localhost:8080/"
        },
        "id": "0SVNY_5K1WGN",
        "outputId": "500e49ac-af28-420c-dd6b-863ac6b40926"
      },
      "execution_count": 191,
      "outputs": [
        {
          "output_type": "execute_result",
          "data": {
            "text/plain": [
              "array([[ 2,  4,  6,  8],\n",
              "       [10, 12, 14, 16]])"
            ]
          },
          "metadata": {},
          "execution_count": 191
        }
      ]
    },
    {
      "cell_type": "code",
      "source": [
        "digits = load_digits()\n",
        "\n",
        "X_train, X_test, y_train, y_test = train_test_split(digits.data, digits.target,\n",
        "                                                    stratify=digits.target,\n",
        "                                                    test_size=0.25,\n",
        "                                                   random_state=42)\n",
        "\n",
        "train_data = Data(X_train)\n"
      ],
      "metadata": {
        "id": "61Bk8bccO_gl"
      },
      "execution_count": 192,
      "outputs": []
    },
    {
      "cell_type": "code",
      "source": [
        "random_number = torch.randint(0,9,[1]).item()\n",
        "image_train, category_train = X_train[random_number], y_train[random_number]\n",
        "image_test, category_test = X_test[random_number], y_test[random_number]\n",
        "\n",
        "\n",
        "plt.figure(figsize=(5,5))\n",
        "plt.subplot(1,2,1)\n",
        "plt.imshow(image_train.reshape((8,8)), cmap='gray')\n",
        "plt.title(f'train\\ntarget : {category_train}')\n",
        "plt.axis('off')\n",
        "\n",
        "plt.subplot(1,2,2)\n",
        "plt.imshow(image_test.reshape((8,8)), cmap='gray')\n",
        "plt.title(f'test\\ntarget : {category_test}')\n",
        "plt.axis('off')\n",
        "\n",
        "plt.show()"
      ],
      "metadata": {
        "id": "mn2HDNucO_i_",
        "outputId": "266fc507-879a-4192-aede-147dc8bf18a5",
        "colab": {
          "base_uri": "https://localhost:8080/",
          "height": 256
        }
      },
      "execution_count": 193,
      "outputs": [
        {
          "output_type": "display_data",
          "data": {
            "text/plain": [
              "<Figure size 500x500 with 2 Axes>"
            ],
            "image/png": "[encoded data removed]"
          },
          "metadata": {}
        }
      ]
    },
    {
      "cell_type": "code",
      "source": [
        "data_dim = 8*8\n",
        "\"\"\"\n",
        "prior = torch.distributions.multivariate_normal.MultivariateNormal(loc=torch.zeros((data_dim)),\n",
        "                                                    scale_tril=torch.diag(torch.ones((data_dim))))\n",
        "\"\"\"\n",
        "prior = torch.distributions.normal.Normal(loc=torch.zeros((data_dim)),\n",
        "                                                    scale=torch.ones((data_dim)))\n",
        "\n",
        "model = NICE(input_dim=data_dim, hidden_layer=256, num_flows=10)\n",
        "\n",
        "train_loader = DataLoader(train_data, batch_size=100, shuffle=True)\n"
      ],
      "metadata": {
        "id": "rQs7Q0x8O_lW"
      },
      "execution_count": 194,
      "outputs": []
    },
    {
      "cell_type": "code",
      "source": [
        "epochs = 100\n",
        "optimizer = torch.optim.Adam(model.parameters(), lr=0.01)   # weight_decay=0.9\n",
        "\n",
        "COST = []\n",
        "\n",
        "for epoch in range(epochs):\n",
        "    total_loss = []\n",
        "\n",
        "    for x in train_loader:\n",
        "\n",
        "        z, log_det_j = model.forward(x)\n",
        "        loss = model.criterion(z, prior, log_det_j, reduction=\"avg\")\n",
        "\n",
        "        optimizer.zero_grad()\n",
        "        loss.backward()\n",
        "        optimizer.step()\n",
        "\n",
        "        total_loss.append(loss.item())\n",
        "\n",
        "    COST.append(np.mean(total_loss))\n",
        "\n",
        "    if epoch==0:\n",
        "        print(\"Epoch : \", epoch+1, \"  -----------> Loss : \", np.mean(total_loss))\n",
        "    elif (epoch+1)%1 == 0:\n",
        "        print(\"Epoch : \", epoch+1, \"  -----------> Loss : \", np.mean(total_loss))"
      ],
      "metadata": {
        "id": "wwMpBqaBO_np",
        "outputId": "97aa006d-db63-48d2-ca9d-2938c047432f",
        "colab": {
          "base_uri": "https://localhost:8080/"
        }
      },
      "execution_count": 195,
      "outputs": [
        {
          "output_type": "stream",
          "name": "stdout",
          "text": [
            "Epoch :  1   -----------> Loss :  78.07422256469727\n",
            "Epoch :  2   -----------> Loss :  36.399802344185964\n",
            "Epoch :  3   -----------> Loss :  31.044864790780203\n",
            "Epoch :  4   -----------> Loss :  26.017421313694545\n",
            "Epoch :  5   -----------> Loss :  20.975526128496444\n",
            "Epoch :  6   -----------> Loss :  16.575784342629568\n",
            "Epoch :  7   -----------> Loss :  12.918220928737096\n",
            "Epoch :  8   -----------> Loss :  10.78182131903512\n",
            "Epoch :  9   -----------> Loss :  8.657676833016533\n",
            "Epoch :  10   -----------> Loss :  7.321035010474069\n",
            "Epoch :  11   -----------> Loss :  6.906572648457119\n",
            "Epoch :  12   -----------> Loss :  6.452607120786395\n",
            "Epoch :  13   -----------> Loss :  6.153293779918125\n",
            "Epoch :  14   -----------> Loss :  6.531261410032\n",
            "Epoch :  15   -----------> Loss :  6.828174999782017\n",
            "Epoch :  16   -----------> Loss :  6.019459043230329\n",
            "Epoch :  17   -----------> Loss :  5.684771231242588\n",
            "Epoch :  18   -----------> Loss :  5.489704540797642\n",
            "Epoch :  19   -----------> Loss :  5.414211784090314\n",
            "Epoch :  20   -----------> Loss :  5.3623184476579935\n",
            "Epoch :  21   -----------> Loss :  5.211214780807495\n",
            "Epoch :  22   -----------> Loss :  5.147243193217686\n",
            "Epoch :  23   -----------> Loss :  5.08257600239345\n",
            "Epoch :  24   -----------> Loss :  5.148090056010655\n",
            "Epoch :  25   -----------> Loss :  4.975665433066232\n",
            "Epoch :  26   -----------> Loss :  4.914239576884678\n",
            "Epoch :  27   -----------> Loss :  4.80083213533674\n",
            "Epoch :  28   -----------> Loss :  4.688052313668387\n",
            "Epoch :  29   -----------> Loss :  4.694440160478864\n",
            "Epoch :  30   -----------> Loss :  4.711217505591256\n",
            "Epoch :  31   -----------> Loss :  4.570247309548514\n",
            "Epoch :  32   -----------> Loss :  4.471323251724243\n",
            "Epoch :  33   -----------> Loss :  4.399317400796073\n",
            "Epoch :  34   -----------> Loss :  4.375260761805943\n",
            "Epoch :  35   -----------> Loss :  4.329554421561105\n",
            "Epoch :  36   -----------> Loss :  4.293781212397984\n",
            "Epoch :  37   -----------> Loss :  4.444882767541068\n",
            "Epoch :  38   -----------> Loss :  4.264832377433777\n",
            "Epoch :  39   -----------> Loss :  4.243176221847534\n",
            "Epoch :  40   -----------> Loss :  4.308238097599575\n",
            "Epoch :  41   -----------> Loss :  4.248363188334873\n",
            "Epoch :  42   -----------> Loss :  4.08572484765734\n",
            "Epoch :  43   -----------> Loss :  4.099813682692392\n",
            "Epoch :  44   -----------> Loss :  3.9681030682155063\n",
            "Epoch :  45   -----------> Loss :  3.9229014941624234\n",
            "Epoch :  46   -----------> Loss :  3.994003006390163\n",
            "Epoch :  47   -----------> Loss :  3.934330548558916\n",
            "Epoch :  48   -----------> Loss :  3.836227144513811\n",
            "Epoch :  49   -----------> Loss :  3.813213893345424\n",
            "Epoch :  50   -----------> Loss :  3.875676853316171\n",
            "Epoch :  51   -----------> Loss :  3.8538176672799245\n",
            "Epoch :  52   -----------> Loss :  3.7900190012795583\n",
            "Epoch :  53   -----------> Loss :  3.73721512726375\n",
            "Epoch :  54   -----------> Loss :  3.791655966213771\n",
            "Epoch :  55   -----------> Loss :  3.6922430651528493\n",
            "Epoch :  56   -----------> Loss :  3.6514386449541365\n",
            "Epoch :  57   -----------> Loss :  3.598972882543291\n",
            "Epoch :  58   -----------> Loss :  3.5797938959939137\n",
            "Epoch :  59   -----------> Loss :  3.5770929030009677\n",
            "Epoch :  60   -----------> Loss :  3.570933699607849\n",
            "Epoch :  61   -----------> Loss :  3.5567784309387207\n",
            "Epoch :  62   -----------> Loss :  3.4409880808421542\n",
            "Epoch :  63   -----------> Loss :  3.4598058802740916\n",
            "Epoch :  64   -----------> Loss :  3.574861867087228\n",
            "Epoch :  65   -----------> Loss :  3.55400013923645\n",
            "Epoch :  66   -----------> Loss :  3.6048825638634816\n",
            "Epoch :  67   -----------> Loss :  3.4538874285561696\n",
            "Epoch :  68   -----------> Loss :  3.451653701918466\n",
            "Epoch :  69   -----------> Loss :  3.481855205127171\n",
            "Epoch :  70   -----------> Loss :  3.42421441418784\n",
            "Epoch :  71   -----------> Loss :  3.3720947674342563\n",
            "Epoch :  72   -----------> Loss :  3.41856016431536\n",
            "Epoch :  73   -----------> Loss :  3.3533574172428677\n",
            "Epoch :  74   -----------> Loss :  3.2909168686185564\n",
            "Epoch :  75   -----------> Loss :  3.29368565763746\n",
            "Epoch :  76   -----------> Loss :  3.252964871270316\n",
            "Epoch :  77   -----------> Loss :  3.253143378666469\n",
            "Epoch :  78   -----------> Loss :  3.2380265848977223\n",
            "Epoch :  79   -----------> Loss :  3.1759078672954013\n",
            "Epoch :  80   -----------> Loss :  3.2040907655443465\n",
            "Epoch :  81   -----------> Loss :  3.2666576419557845\n",
            "Epoch :  82   -----------> Loss :  3.310682398932321\n",
            "Epoch :  83   -----------> Loss :  3.3604298489434377\n",
            "Epoch :  84   -----------> Loss :  3.374666486467634\n",
            "Epoch :  85   -----------> Loss :  3.2723250729697093\n",
            "Epoch :  86   -----------> Loss :  3.2553525822503224\n",
            "Epoch :  87   -----------> Loss :  3.1573851108551025\n",
            "Epoch :  88   -----------> Loss :  3.19564494064876\n",
            "Epoch :  89   -----------> Loss :  3.1837923526763916\n",
            "Epoch :  90   -----------> Loss :  3.118326885359628\n",
            "Epoch :  91   -----------> Loss :  3.1387877634593417\n",
            "Epoch :  92   -----------> Loss :  3.114614929471697\n",
            "Epoch :  93   -----------> Loss :  3.1122740507125854\n",
            "Epoch :  94   -----------> Loss :  3.1244677986417497\n",
            "Epoch :  95   -----------> Loss :  3.1694786037717546\n",
            "Epoch :  96   -----------> Loss :  3.1795287983758107\n",
            "Epoch :  97   -----------> Loss :  3.0955339670181274\n",
            "Epoch :  98   -----------> Loss :  3.0715952600751604\n",
            "Epoch :  99   -----------> Loss :  3.0214663403374806\n",
            "Epoch :  100   -----------> Loss :  3.0136844260352\n"
          ]
        }
      ]
    },
    {
      "cell_type": "code",
      "source": [
        "plt.plot(COST)"
      ],
      "metadata": {
        "id": "3lgGpF_wybkp",
        "colab": {
          "base_uri": "https://localhost:8080/",
          "height": 447
        },
        "outputId": "d502ea73-ed25-4a7c-d8d7-b1a98248d2e8"
      },
      "execution_count": 196,
      "outputs": [
        {
          "output_type": "execute_result",
          "data": {
            "text/plain": [
              "[<matplotlib.lines.Line2D at 0x7b35b0f63460>]"
            ]
          },
          "metadata": {},
          "execution_count": 196
        },
        {
          "output_type": "display_data",
          "data": {
            "text/plain": [
              "<Figure size 640x480 with 1 Axes>"
            ],
            "image/png": "[encoded data removed]"
          },
          "metadata": {}
        }
      ]
    },
    {
      "cell_type": "code",
      "source": [
        "test = prior.sample((50,))\n",
        "test"
      ],
      "metadata": {
        "id": "qJy70H-_O_pw",
        "colab": {
          "base_uri": "https://localhost:8080/"
        },
        "outputId": "fc33d2c0-d038-4866-e9f0-e70a9a38ab90"
      },
      "execution_count": 197,
      "outputs": [
        {
          "output_type": "execute_result",
          "data": {
            "text/plain": [
              "tensor([[-0.5244,  0.1654, -0.4501,  ..., -2.0307,  0.6297,  0.5593],\n",
              "        [ 1.1091,  1.7838, -1.6736,  ...,  0.2654, -0.3514,  0.5063],\n",
              "        [ 1.0620,  0.5344, -1.4378,  ..., -0.6642,  0.1152,  0.9297],\n",
              "        ...,\n",
              "        [-0.7401,  0.9919, -1.6170,  ..., -0.3469,  0.4643, -1.1494],\n",
              "        [ 0.3669,  0.1086, -0.6629,  ...,  1.6684,  1.7423,  0.2891],\n",
              "        [-0.6326, -0.5472, -0.1626,  ...,  0.3414, -0.6674,  0.9241]])"
            ]
          },
          "metadata": {},
          "execution_count": 197
        }
      ]
    },
    {
      "cell_type": "code",
      "source": [
        "sonuc = model.f_inv(test)\n",
        "sonuc"
      ],
      "metadata": {
        "id": "rjNtmsr9O_sB",
        "colab": {
          "base_uri": "https://localhost:8080/"
        },
        "outputId": "06da4f48-6d8e-42b3-c624-244c0b839b25"
      },
      "execution_count": 198,
      "outputs": [
        {
          "output_type": "execute_result",
          "data": {
            "text/plain": [
              "tensor([[-0.5136,  0.2603,  7.0258,  ...,  0.5755,  0.0758,  0.1264],\n",
              "        [ 0.2265,  3.4934, 18.0323,  ...,  0.3692,  1.6662,  0.6735],\n",
              "        [ 0.9577,  1.8616, 14.2916,  ..., -4.4362, -0.1724,  0.5665],\n",
              "        ...,\n",
              "        [ 0.0939,  0.5638,  0.5956,  ..., 10.7486,  2.1054, -0.0598],\n",
              "        [ 0.6617,  0.6823,  2.9691,  ..., 12.7934,  1.9681, -0.0940],\n",
              "        [-1.1140, -0.5537, -0.8771,  ...,  3.0801, -0.7062,  0.1077]],\n",
              "       grad_fn=<CopySlices>)"
            ]
          },
          "metadata": {},
          "execution_count": 198
        }
      ]
    },
    {
      "cell_type": "code",
      "source": [
        "test = prior.sample((50,))\n",
        "sonuc = model.f_inv(test)\n",
        "\n",
        "fig, axs = plt.subplots(5, 10, sharex=True, sharey=True, figsize=(18, 8))\n",
        "\n",
        "for i in range(0,10):\n",
        "\n",
        "    axs[0, i].imshow(torch.nn.ReLU()(sonuc[i]).detach().numpy().reshape((8,8)), cmap='gray')\n",
        "    axs[1, i].imshow(torch.nn.ReLU()(sonuc[10+i]).detach().numpy().reshape((8,8)), cmap='gray')\n",
        "    axs[2, i].imshow(torch.nn.ReLU()(sonuc[20+i]).detach().numpy().reshape((8,8)), cmap='gray')\n",
        "    axs[3, i].imshow(torch.nn.ReLU()(sonuc[30+i]).detach().numpy().reshape((8,8)), cmap='gray')\n",
        "    axs[4, i].imshow(torch.nn.ReLU()(sonuc[40+i]).detach().numpy().reshape((8,8)), cmap='gray')\n",
        "    axs[0, i].axis('off')\n",
        "    axs[1, i].axis('off')\n",
        "    axs[2, i].axis('off')\n",
        "    axs[3, i].axis('off')\n",
        "    axs[4, i].axis('off')\n",
        "fig.show()"
      ],
      "metadata": {
        "id": "EJXVv9wyPMXm",
        "colab": {
          "base_uri": "https://localhost:8080/",
          "height": 653
        },
        "outputId": "35d686fd-4fd8-46d8-8156-ef138f46a75e"
      },
      "execution_count": 199,
      "outputs": [
        {
          "output_type": "display_data",
          "data": {
            "text/plain": [
              "<Figure size 1800x800 with 50 Axes>"
            ],
            "image/png": "[encoded data removed]"
          },
          "metadata": {}
        }
      ]
    }
  ]
}