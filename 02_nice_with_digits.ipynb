{
  "nbformat": 4,
  "nbformat_minor": 0,
  "metadata": {
    "colab": {
      "provenance": [],
      "authorship_tag": "ABX9TyPAsjLNtMMwF89JyxPDl2Tl",
      "include_colab_link": true
    },
    "kernelspec": {
      "name": "python3",
      "display_name": "Python 3"
    },
    "language_info": {
      "name": "python"
    }
  },
  "cells": [
    {
      "cell_type": "markdown",
      "metadata": {
        "id": "view-in-github",
        "colab_type": "text"
      },
      "source": [
        "<a href=\"https://colab.research.google.com/github/tayfununal/PyTorch/blob/main/02_nice_with_digits.ipynb\" target=\"_parent\"><img src=\"https://colab.research.google.com/assets/colab-badge.svg\" alt=\"Open In Colab\"/></a>"
      ]
    },
    {
      "cell_type": "code",
      "execution_count": 322,
      "metadata": {
        "id": "87RALZ-3O9AN"
      },
      "outputs": [],
      "source": [
        "import torch\n",
        "import numpy as np\n",
        "import matplotlib.pyplot as plt\n",
        "import seaborn as sns\n",
        "from torch import nn\n",
        "import torchvision\n",
        "from torch.utils.data import DataLoader, Dataset\n",
        "from torchvision import transforms\n",
        "\n",
        "from sklearn.datasets import load_digits\n",
        "from sklearn.model_selection import train_test_split\n",
        "from sklearn.datasets import make_moons"
      ]
    },
    {
      "cell_type": "code",
      "source": [
        "class Data(Dataset):\n",
        "    def __init__(self, dataset):\n",
        "        super(Data, self).__init__()\n",
        "\n",
        "        self.dataset = dataset\n",
        "\n",
        "    def __len__(self):\n",
        "        return len(self.dataset)\n",
        "\n",
        "    def __getitem__(self, idx):\n",
        "        x = self.dataset[idx]\n",
        "        return x"
      ],
      "metadata": {
        "id": "y_iZwiHXO_bt"
      },
      "execution_count": 323,
      "outputs": []
    },
    {
      "cell_type": "code",
      "source": [
        "class NICE(nn.Module):\n",
        "    def __init__(self, input_dim, hidden_layer, num_flows=2):\n",
        "        super(NICE, self).__init__()\n",
        "\n",
        "        self.input_dim = input_dim\n",
        "        self.hidden_layer = hidden_layer\n",
        "        self.num_flows = num_flows\n",
        "\n",
        "        self.net = lambda : nn.Sequential(\n",
        "                                 nn.Linear(self.input_dim//2, self.hidden_layer), nn.ReLU(),\n",
        "                                 nn.Linear(self.hidden_layer, self.hidden_layer), nn.ReLU(),\n",
        "                                 nn.Linear(self.hidden_layer, self.hidden_layer), nn.ReLU(),\n",
        "                                 nn.Linear(self.hidden_layer, self.hidden_layer), nn.ReLU(),\n",
        "                                 nn.Linear(self.hidden_layer, self.hidden_layer), nn.ReLU(),\n",
        "                                 nn.Linear(self.hidden_layer, self.hidden_layer), nn.ReLU(),\n",
        "                                 nn.Linear(self.hidden_layer, self.hidden_layer), nn.ReLU(),\n",
        "                                 nn.Linear(self.hidden_layer, self.input_dim//2)) # input dimension must be equal to output dimension\n",
        "\n",
        "        self.m = nn.ModuleList([self.net() for _ in range(self.num_flows)])\n",
        "\n",
        "        self.s = nn.Parameter(torch.rand(1, input_dim), requires_grad=True)\n",
        "\n",
        "\n",
        "    def forward(self, x):\n",
        "        x = x.view(len(x), -1,).to(torch.float32)\n",
        "        return self.f(x)\n",
        "\n",
        "    def coupling_layer(self, x, m, flow, forward=True):\n",
        "        x = x.clone()\n",
        "\n",
        "        x_a = x[:, ::2] if flow%2==0 else x[:, 1::2]\n",
        "        x_b = x[:, 1::2] if flow%2==0 else x[:, ::2]\n",
        "\n",
        "        if forward:\n",
        "            y_b = x_b - m(x_a)\n",
        "        else:\n",
        "            y_b = x_b + m(x_a)\n",
        "\n",
        "        #z = torch.concat((x_a, y_b), axis=1) if flow%2==0 else torch.concat((y_b, x_a), axis=1)\n",
        "        z = torch.empty(x.shape)\n",
        "        z[:, ::2] = x_a if flow%2==0 else y_b\n",
        "        z[:, 1::2] = y_b if flow%2==0 else x_a\n",
        "        return z\n",
        "\n",
        "\n",
        "    def f(self, x):\n",
        "        z = x\n",
        "\n",
        "        for flow, model in enumerate(self.m, start=0):\n",
        "            z = self.coupling_layer(z, model, flow, forward=True)\n",
        "\n",
        "        z = z / torch.exp(self.s)\n",
        "        log_det_j = torch.sum(self.s)\n",
        "\n",
        "        return z, log_det_j\n",
        "\n",
        "    def f_inv(self, z):\n",
        "        x = z * torch.exp(self.s)\n",
        "\n",
        "        for flow, model in reversed(list(enumerate(self.m, start=0))):\n",
        "            x = self.coupling_layer(x, model, flow,forward=False)\n",
        "\n",
        "        return x\n",
        "\n",
        "    def criterion(self, z, prior, log_det_j, reduction = \"sum\"):\n",
        "\n",
        "        if reduction == \"sum\":\n",
        "            loss = - (prior.log_prob(z) + log_det_j).sum()\n",
        "        else:\n",
        "\n",
        "            loss = - (prior.log_prob(z) - log_det_j).mean()\n",
        "        return loss"
      ],
      "metadata": {
        "id": "dNv7fminO_d7"
      },
      "execution_count": 324,
      "outputs": []
    },
    {
      "cell_type": "code",
      "source": [
        "digits = load_digits()\n",
        "\n",
        "X_train, X_test, y_train, y_test = train_test_split(digits.data, digits.target,\n",
        "                                                    stratify=digits.target,\n",
        "                                                    test_size=0.25,\n",
        "                                                   random_state=42)\n",
        "\n",
        "train_data = Data(X_train)\n"
      ],
      "metadata": {
        "id": "61Bk8bccO_gl"
      },
      "execution_count": 325,
      "outputs": []
    },
    {
      "cell_type": "code",
      "source": [
        "random_number = torch.randint(0,9,[1]).item()\n",
        "image_train, category_train = X_train[random_number], y_train[random_number]\n",
        "image_test, category_test = X_test[random_number], y_test[random_number]\n",
        "\n",
        "\n",
        "plt.figure(figsize=(5,5))\n",
        "plt.subplot(1,2,1)\n",
        "plt.imshow(image_train.reshape((8,8)), cmap='gray')\n",
        "plt.title(f'train\\ntarget : {category_train}')\n",
        "plt.axis('off')\n",
        "\n",
        "plt.subplot(1,2,2)\n",
        "plt.imshow(image_test.reshape((8,8)), cmap='gray')\n",
        "plt.title(f'test\\ntarget : {category_test}')\n",
        "plt.axis('off')\n",
        "\n",
        "plt.show()"
      ],
      "metadata": {
        "id": "mn2HDNucO_i_",
        "outputId": "7a0aa294-0e8a-40c2-8913-d233b776c59f",
        "colab": {
          "base_uri": "https://localhost:8080/",
          "height": 256
        }
      },
      "execution_count": 326,
      "outputs": [
        {
          "output_type": "display_data",
          "data": {
            "text/plain": [
              "<Figure size 500x500 with 2 Axes>"
            ],
            "image/png": "[encoded data removed]"
          },
          "metadata": {}
        }
      ]
    },
    {
      "cell_type": "code",
      "source": [
        "data_dim = 8*8\n",
        "\n",
        "prior = torch.distributions.multivariate_normal.MultivariateNormal(loc=torch.zeros((data_dim)),\n",
        "                                                    scale_tril=torch.diag(torch.ones((data_dim))))\n",
        "\"\"\"\n",
        "prior = torch.distributions.normal.Normal(loc=torch.zeros((data_dim)),\n",
        "                                                    scale=torch.ones((data_dim)))\n",
        "\"\"\"\n",
        "model = NICE(input_dim=data_dim, hidden_layer=512, num_flows=10)\n",
        "\n",
        "train_loader = DataLoader(train_data, batch_size=250, shuffle=True)\n"
      ],
      "metadata": {
        "id": "rQs7Q0x8O_lW"
      },
      "execution_count": 327,
      "outputs": []
    },
    {
      "cell_type": "code",
      "source": [
        "epochs = 100\n",
        "optimizer = torch.optim.Adam(model.parameters(), lr=0.005)   # weight_decay=0.9\n",
        "\n",
        "COST = []\n",
        "\n",
        "for epoch in range(epochs):\n",
        "    total_loss = []\n",
        "\n",
        "    for x in train_loader:\n",
        "\n",
        "        z, log_det_j = model.forward(x)\n",
        "        loss = model.criterion(z, prior, log_det_j, reduction=\"avg\")\n",
        "\n",
        "        optimizer.zero_grad()\n",
        "        loss.backward()\n",
        "        optimizer.step()\n",
        "\n",
        "        total_loss.append(loss.item())\n",
        "\n",
        "    COST.append(np.mean(total_loss))\n",
        "\n",
        "    if epoch==0:\n",
        "        print(\"Epoch : \", epoch+1, \"  -----------> Loss : \", np.mean(total_loss))\n",
        "    elif (epoch+1)%1 == 0:\n",
        "        print(\"Epoch : \", epoch+1, \"  -----------> Loss : \", np.mean(total_loss))"
      ],
      "metadata": {
        "id": "wwMpBqaBO_np",
        "outputId": "953247b9-286f-4016-9fb5-99abaa79a259",
        "colab": {
          "base_uri": "https://localhost:8080/"
        }
      },
      "execution_count": 328,
      "outputs": [
        {
          "output_type": "stream",
          "name": "stdout",
          "text": [
            "Epoch :  1   -----------> Loss :  304875.15408325195\n",
            "Epoch :  2   -----------> Loss :  809.9533640543619\n",
            "Epoch :  3   -----------> Loss :  477.0824228922526\n",
            "Epoch :  4   -----------> Loss :  413.1043192545573\n",
            "Epoch :  5   -----------> Loss :  384.2955678304036\n",
            "Epoch :  6   -----------> Loss :  370.15020751953125\n",
            "Epoch :  7   -----------> Loss :  349.61875915527344\n",
            "Epoch :  8   -----------> Loss :  334.1374104817708\n",
            "Epoch :  9   -----------> Loss :  324.49818420410156\n",
            "Epoch :  10   -----------> Loss :  316.84901428222656\n",
            "Epoch :  11   -----------> Loss :  299.21881103515625\n",
            "Epoch :  12   -----------> Loss :  320.09405008951825\n",
            "Epoch :  13   -----------> Loss :  321.6381429036458\n",
            "Epoch :  14   -----------> Loss :  295.31541951497394\n",
            "Epoch :  15   -----------> Loss :  280.84820556640625\n",
            "Epoch :  16   -----------> Loss :  271.9108072916667\n",
            "Epoch :  17   -----------> Loss :  262.4658686319987\n",
            "Epoch :  18   -----------> Loss :  255.71523793538412\n",
            "Epoch :  19   -----------> Loss :  247.49270629882812\n",
            "Epoch :  20   -----------> Loss :  245.13501993815103\n",
            "Epoch :  21   -----------> Loss :  237.96351877848306\n",
            "Epoch :  22   -----------> Loss :  234.52808125813803\n",
            "Epoch :  23   -----------> Loss :  228.89133961995444\n",
            "Epoch :  24   -----------> Loss :  222.87447357177734\n",
            "Epoch :  25   -----------> Loss :  222.66695149739584\n",
            "Epoch :  26   -----------> Loss :  239.36779022216797\n",
            "Epoch :  27   -----------> Loss :  227.0672607421875\n",
            "Epoch :  28   -----------> Loss :  220.25568644205728\n",
            "Epoch :  29   -----------> Loss :  211.46809895833334\n",
            "Epoch :  30   -----------> Loss :  217.667849222819\n",
            "Epoch :  31   -----------> Loss :  223.32248179117838\n",
            "Epoch :  32   -----------> Loss :  209.1924311319987\n",
            "Epoch :  33   -----------> Loss :  203.2652816772461\n",
            "Epoch :  34   -----------> Loss :  199.5898640950521\n",
            "Epoch :  35   -----------> Loss :  195.25402069091797\n",
            "Epoch :  36   -----------> Loss :  197.31717681884766\n",
            "Epoch :  37   -----------> Loss :  194.2856190999349\n",
            "Epoch :  38   -----------> Loss :  194.989501953125\n",
            "Epoch :  39   -----------> Loss :  194.86717732747397\n",
            "Epoch :  40   -----------> Loss :  188.89538065592447\n",
            "Epoch :  41   -----------> Loss :  185.65167999267578\n",
            "Epoch :  42   -----------> Loss :  182.14230600992838\n",
            "Epoch :  43   -----------> Loss :  181.19593048095703\n",
            "Epoch :  44   -----------> Loss :  200.66040547688803\n",
            "Epoch :  45   -----------> Loss :  197.09088643391928\n",
            "Epoch :  46   -----------> Loss :  189.20333607991537\n",
            "Epoch :  47   -----------> Loss :  186.9898427327474\n",
            "Epoch :  48   -----------> Loss :  190.8288319905599\n",
            "Epoch :  49   -----------> Loss :  183.2047373453776\n",
            "Epoch :  50   -----------> Loss :  179.48678080240884\n",
            "Epoch :  51   -----------> Loss :  175.5149917602539\n",
            "Epoch :  52   -----------> Loss :  172.1003875732422\n",
            "Epoch :  53   -----------> Loss :  170.26453145345053\n",
            "Epoch :  54   -----------> Loss :  169.8534927368164\n",
            "Epoch :  55   -----------> Loss :  168.74632263183594\n",
            "Epoch :  56   -----------> Loss :  166.9828364054362\n",
            "Epoch :  57   -----------> Loss :  165.5956573486328\n",
            "Epoch :  58   -----------> Loss :  164.33502451578775\n",
            "Epoch :  59   -----------> Loss :  164.80521647135416\n",
            "Epoch :  60   -----------> Loss :  169.13656361897787\n",
            "Epoch :  61   -----------> Loss :  177.72480010986328\n",
            "Epoch :  62   -----------> Loss :  175.2925821940104\n",
            "Epoch :  63   -----------> Loss :  215.27666219075522\n",
            "Epoch :  64   -----------> Loss :  203.03726196289062\n",
            "Epoch :  65   -----------> Loss :  190.85192362467447\n",
            "Epoch :  66   -----------> Loss :  180.02938334147134\n",
            "Epoch :  67   -----------> Loss :  174.71251169840494\n",
            "Epoch :  68   -----------> Loss :  171.2303237915039\n",
            "Epoch :  69   -----------> Loss :  166.1603037516276\n",
            "Epoch :  70   -----------> Loss :  164.1324691772461\n",
            "Epoch :  71   -----------> Loss :  160.25760904947916\n",
            "Epoch :  72   -----------> Loss :  159.6467539469401\n",
            "Epoch :  73   -----------> Loss :  161.3875961303711\n",
            "Epoch :  74   -----------> Loss :  157.53548940022787\n",
            "Epoch :  75   -----------> Loss :  156.11092122395834\n",
            "Epoch :  76   -----------> Loss :  154.646359761556\n",
            "Epoch :  77   -----------> Loss :  151.85635630289713\n",
            "Epoch :  78   -----------> Loss :  151.02974700927734\n",
            "Epoch :  79   -----------> Loss :  149.87213643391928\n",
            "Epoch :  80   -----------> Loss :  154.67290496826172\n",
            "Epoch :  81   -----------> Loss :  155.845458984375\n",
            "Epoch :  82   -----------> Loss :  153.8085505167643\n",
            "Epoch :  83   -----------> Loss :  153.19872029622397\n",
            "Epoch :  84   -----------> Loss :  150.02617899576822\n",
            "Epoch :  85   -----------> Loss :  147.5378163655599\n",
            "Epoch :  86   -----------> Loss :  146.63319651285806\n",
            "Epoch :  87   -----------> Loss :  144.59578959147134\n",
            "Epoch :  88   -----------> Loss :  146.7866007486979\n",
            "Epoch :  89   -----------> Loss :  148.47738647460938\n",
            "Epoch :  90   -----------> Loss :  147.64032999674478\n",
            "Epoch :  91   -----------> Loss :  151.84540812174478\n",
            "Epoch :  92   -----------> Loss :  149.93036397298178\n",
            "Epoch :  93   -----------> Loss :  147.20094299316406\n",
            "Epoch :  94   -----------> Loss :  145.2578913370768\n",
            "Epoch :  95   -----------> Loss :  142.16429392496744\n",
            "Epoch :  96   -----------> Loss :  139.70174662272134\n",
            "Epoch :  97   -----------> Loss :  139.43437703450522\n",
            "Epoch :  98   -----------> Loss :  138.05599466959634\n",
            "Epoch :  99   -----------> Loss :  137.2467295328776\n",
            "Epoch :  100   -----------> Loss :  137.80880228678384\n"
          ]
        }
      ]
    },
    {
      "cell_type": "code",
      "source": [
        "plt.plot(COST)"
      ],
      "metadata": {
        "id": "3lgGpF_wybkp",
        "colab": {
          "base_uri": "https://localhost:8080/",
          "height": 447
        },
        "outputId": "3be7cd33-847a-44cd-f961-80dcc9fa0810"
      },
      "execution_count": 329,
      "outputs": [
        {
          "output_type": "execute_result",
          "data": {
            "text/plain": [
              "[<matplotlib.lines.Line2D at 0x7b35b10be080>]"
            ]
          },
          "metadata": {},
          "execution_count": 329
        },
        {
          "output_type": "display_data",
          "data": {
            "text/plain": [
              "<Figure size 640x480 with 1 Axes>"
            ],
            "image/png": "[encoded data removed]"
          },
          "metadata": {}
        }
      ]
    },
    {
      "cell_type": "code",
      "source": [
        "test = prior.sample((50,))\n",
        "test"
      ],
      "metadata": {
        "id": "qJy70H-_O_pw",
        "colab": {
          "base_uri": "https://localhost:8080/"
        },
        "outputId": "e6443e4a-9c05-4aa9-de3d-a483078fc2a3"
      },
      "execution_count": 330,
      "outputs": [
        {
          "output_type": "execute_result",
          "data": {
            "text/plain": [
              "tensor([[ 0.2507,  1.1792, -0.3012,  ..., -0.1789, -0.5580,  1.5503],\n",
              "        [ 0.2264, -0.3725, -0.1210,  ..., -0.2092,  0.7089,  1.3768],\n",
              "        [-0.8384,  1.3377,  1.1958,  ..., -2.5913, -0.9310, -0.5243],\n",
              "        ...,\n",
              "        [-0.1407, -0.9377, -1.5993,  ..., -0.1129, -0.9301, -0.3378],\n",
              "        [ 0.1643, -1.0266, -1.6477,  ..., -0.1154,  1.6028, -0.1695],\n",
              "        [-0.6822,  1.1528, -1.1176,  ...,  0.1766, -1.5237, -0.1016]])"
            ]
          },
          "metadata": {},
          "execution_count": 330
        }
      ]
    },
    {
      "cell_type": "code",
      "source": [
        "sonuc = model.f_inv(test)\n",
        "sonuc"
      ],
      "metadata": {
        "id": "rjNtmsr9O_sB",
        "colab": {
          "base_uri": "https://localhost:8080/"
        },
        "outputId": "0a7bd27d-5e53-40f0-a44a-3c174036cade"
      },
      "execution_count": 331,
      "outputs": [
        {
          "output_type": "execute_result",
          "data": {
            "text/plain": [
              "tensor([[ 3.2380e-01,  2.7793e+00,  6.6324e+00,  ...,  1.1408e+01,\n",
              "          7.5585e+00,  5.9619e+00],\n",
              "        [-2.6315e-02, -3.4816e-01,  9.8491e+00,  ...,  7.1232e+00,\n",
              "          3.9885e+00,  2.0552e+00],\n",
              "        [-1.5031e+00,  2.0765e+00,  7.5643e+00,  ...,  2.5742e+01,\n",
              "          8.8374e+00,  8.6367e-01],\n",
              "        ...,\n",
              "        [-2.1626e-01, -4.6601e-01, -4.6015e-01,  ...,  1.0216e+01,\n",
              "          2.2189e+00, -1.2361e+00],\n",
              "        [ 1.8537e-02, -2.1385e+00, -9.4818e-02,  ...,  1.4529e+01,\n",
              "          5.3272e+00,  6.4732e-01],\n",
              "        [-9.3672e-01,  3.2784e+00,  1.2464e+01,  ..., -1.4421e+00,\n",
              "         -1.4703e+00, -9.0803e-01]], grad_fn=<CopySlices>)"
            ]
          },
          "metadata": {},
          "execution_count": 331
        }
      ]
    },
    {
      "cell_type": "code",
      "source": [
        "test = prior.sample((50,))\n",
        "sonuc = model.f_inv(test)\n",
        "\n",
        "fig, axs = plt.subplots(5, 10, sharex=True, sharey=True, figsize=(18, 8))\n",
        "\n",
        "for i in range(0,10):\n",
        "\n",
        "    axs[0, i].imshow(torch.nn.ReLU()(sonuc[i]).detach().numpy().reshape((8,8)), cmap='gray')\n",
        "    axs[1, i].imshow(torch.nn.ReLU()(sonuc[10+i]).detach().numpy().reshape((8,8)), cmap='gray')\n",
        "    axs[2, i].imshow(torch.nn.ReLU()(sonuc[20+i]).detach().numpy().reshape((8,8)), cmap='gray')\n",
        "    axs[3, i].imshow(torch.nn.ReLU()(sonuc[30+i]).detach().numpy().reshape((8,8)), cmap='gray')\n",
        "    axs[4, i].imshow(torch.nn.ReLU()(sonuc[40+i]).detach().numpy().reshape((8,8)), cmap='gray')\n",
        "    axs[0, i].axis('off')\n",
        "    axs[1, i].axis('off')\n",
        "    axs[2, i].axis('off')\n",
        "    axs[3, i].axis('off')\n",
        "    axs[4, i].axis('off')\n",
        "fig.show()"
      ],
      "metadata": {
        "id": "EJXVv9wyPMXm",
        "colab": {
          "base_uri": "https://localhost:8080/",
          "height": 653
        },
        "outputId": "6750bee8-118c-4a83-bb5e-db2821ec8751"
      },
      "execution_count": 332,
      "outputs": [
        {
          "output_type": "display_data",
          "data": {
            "text/plain": [
              "<Figure size 1800x800 with 50 Axes>"
            ],
            "image/png": "[encoded data removed]"
          },
          "metadata": {}
        }
      ]
    },
    {
      "cell_type": "code",
      "source": [],
      "metadata": {
        "id": "Hh8kh82aFumO"
      },
      "execution_count": 332,
      "outputs": []
    }
  ]
}