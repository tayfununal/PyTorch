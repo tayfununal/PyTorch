{
  "nbformat": 4,
  "nbformat_minor": 0,
  "metadata": {
    "colab": {
      "provenance": [],
      "machine_shape": "hm",
      "gpuType": "A100",
      "authorship_tag": "ABX9TyN7KbUOI3LLpv7odXoHVFxw",
      "include_colab_link": true
    },
    "kernelspec": {
      "name": "python3",
      "display_name": "Python 3"
    },
    "language_info": {
      "name": "python"
    },
    "accelerator": "GPU"
  },
  "cells": [
    {
      "cell_type": "markdown",
      "metadata": {
        "id": "view-in-github",
        "colab_type": "text"
      },
      "source": [
        "<a href=\"https://colab.research.google.com/github/tayfununal/PyTorch/blob/main/02_nice_with_digits.ipynb\" target=\"_parent\"><img src=\"https://colab.research.google.com/assets/colab-badge.svg\" alt=\"Open In Colab\"/></a>"
      ]
    },
    {
      "cell_type": "code",
      "execution_count": 246,
      "metadata": {
        "id": "87RALZ-3O9AN"
      },
      "outputs": [],
      "source": [
        "import torch\n",
        "import numpy as np\n",
        "import matplotlib.pyplot as plt\n",
        "import seaborn as sns\n",
        "from torch import nn\n",
        "import torchvision\n",
        "from torch.utils.data import DataLoader, Dataset\n",
        "from torchvision import transforms\n",
        "\n",
        "from sklearn.datasets import load_digits\n",
        "from sklearn.model_selection import train_test_split\n",
        "from sklearn.datasets import make_moons"
      ]
    },
    {
      "cell_type": "code",
      "source": [
        "class Data(Dataset):\n",
        "    def __init__(self, dataset):\n",
        "        super(Data, self).__init__()\n",
        "\n",
        "        self.dataset = dataset\n",
        "\n",
        "    def __len__(self):\n",
        "        return len(self.dataset)\n",
        "\n",
        "    def __getitem__(self, idx):\n",
        "        x = self.dataset[idx]\n",
        "        return x"
      ],
      "metadata": {
        "id": "y_iZwiHXO_bt"
      },
      "execution_count": 247,
      "outputs": []
    },
    {
      "cell_type": "code",
      "source": [
        "class NICE(nn.Module):\n",
        "    def __init__(self, input_dim, hidden_layer, num_flows=2):\n",
        "        super(NICE, self).__init__()\n",
        "\n",
        "        self.input_dim = input_dim\n",
        "        self.hidden_layer = hidden_layer\n",
        "        self.num_flows = num_flows\n",
        "\n",
        "        self.net = lambda : nn.Sequential(\n",
        "                                 nn.Linear(self.input_dim//2, self.hidden_layer), nn.ReLU(),\n",
        "                                 nn.Linear(self.hidden_layer, self.hidden_layer), nn.ReLU(),\n",
        "                                 nn.Linear(self.hidden_layer, self.hidden_layer), nn.ReLU(),\n",
        "                                 nn.Linear(self.hidden_layer, self.hidden_layer), nn.ReLU(),\n",
        "                                 nn.Linear(self.hidden_layer, self.hidden_layer), nn.ReLU(),\n",
        "                                 nn.Linear(self.hidden_layer, self.hidden_layer), nn.ReLU(),\n",
        "                                 nn.Linear(self.hidden_layer, self.hidden_layer), nn.ReLU(),\n",
        "                                 nn.Linear(self.hidden_layer, self.input_dim//2), nn.ReLU()) # input dimension must be equal to output dimension\n",
        "\n",
        "        self.m = nn.ModuleList([self.net() for _ in range(self.num_flows)])\n",
        "\n",
        "        self.s = nn.Parameter(torch.rand(1, input_dim), requires_grad=True)\n",
        "\n",
        "        self.per_list = self.permutation()\n",
        "\n",
        "    def forward(self, x):\n",
        "        x = x.view(len(x), -1,).to(torch.float32)\n",
        "        return self.f(x)\n",
        "\n",
        "    def permutation(self):\n",
        "        per_list =[]\n",
        "\n",
        "        p = torch.eye(self.input_dim)\n",
        "        for flow in range(self.num_flows):\n",
        "            per_list.append(p[torch.randperm(p.size()[0])])\n",
        "\n",
        "        return per_list\n",
        "\n",
        "    def coupling_layer(self, x, m, flow, forward=True):\n",
        "\n",
        "        x_a = x[:, ::2] if flow%2==0 else x[:, 1::2]\n",
        "        x_b = x[:, 1::2] if flow%2==0 else x[:, ::2]\n",
        "\n",
        "        if forward:\n",
        "            y_b = x_b - m(x_a)\n",
        "        else:\n",
        "            y_b = x_b + m(x_a)\n",
        "\n",
        "        #z = torch.concat((x_a, y_b), axis=1) if flow%2==0 else torch.concat((y_b, x_a), axis=1)\n",
        "        z = torch.empty(x.shape)\n",
        "        z[:, ::2] = x_a if flow%2==0 else y_b\n",
        "        z[:, 1::2] = y_b if flow%2==0 else x_a\n",
        "\n",
        "        return z\n",
        "\n",
        "\n",
        "    def f(self, x):\n",
        "        z = x / torch.exp(self.s)\n",
        "\n",
        "        for flow, model in enumerate(self.m, start=0):\n",
        "            z = torch.matmul(z, self.per_list[flow])\n",
        "            z = self.coupling_layer(z, model, flow, forward=True)\n",
        "\n",
        "        log_det_j = torch.sum(self.s)\n",
        "\n",
        "        return z, log_det_j\n",
        "\n",
        "    def f_inv(self, z):\n",
        "\n",
        "        for flow, model in reversed(list(enumerate(self.m, start=0))):\n",
        "            z = self.coupling_layer(z, model, flow, forward=False)\n",
        "            z = torch.matmul(z, self.per_list[flow].T)\n",
        "\n",
        "        x = z * torch.exp(self.s)\n",
        "\n",
        "        return x\n",
        "\n",
        "    def criterion(self, z, prior, log_det_j, reduction = \"sum\"):\n",
        "\n",
        "        if reduction == \"sum\":\n",
        "            loss = - (prior.log_prob(z) + log_det_j).sum()\n",
        "        else:\n",
        "\n",
        "            loss = - (prior.log_prob(z) - log_det_j).mean()\n",
        "        return loss"
      ],
      "metadata": {
        "id": "dNv7fminO_d7"
      },
      "execution_count": 248,
      "outputs": []
    },
    {
      "cell_type": "code",
      "source": [
        "digits = load_digits()\n",
        "\n",
        "X_train, X_test, y_train, y_test = train_test_split(digits.data, digits.target,\n",
        "                                                    stratify=digits.target,\n",
        "                                                    test_size=0.01,\n",
        "                                                   random_state=42)\n",
        "\n",
        "X_train = (X_train - X_train.min()) / (X_train.max()-X_train.min())\n",
        "\n",
        "train_data = Data(X_train)\n"
      ],
      "metadata": {
        "id": "61Bk8bccO_gl"
      },
      "execution_count": 249,
      "outputs": []
    },
    {
      "cell_type": "code",
      "source": [
        "random_number = torch.randint(0,9,[1]).item()\n",
        "image_train, category_train = X_train[random_number], y_train[random_number]\n",
        "image_test, category_test = X_test[random_number], y_test[random_number]\n",
        "\n",
        "\n",
        "plt.figure(figsize=(5,5))\n",
        "plt.subplot(1,2,1)\n",
        "plt.imshow(image_train.reshape((8,8)), cmap='gray')\n",
        "plt.title(f'train\\ntarget : {category_train}')\n",
        "plt.axis('off')\n",
        "\n",
        "plt.subplot(1,2,2)\n",
        "plt.imshow(image_test.reshape((8,8)), cmap='gray')\n",
        "plt.title(f'test\\ntarget : {category_test}')\n",
        "plt.axis('off')\n",
        "\n",
        "plt.show()"
      ],
      "metadata": {
        "id": "mn2HDNucO_i_",
        "outputId": "51911484-057f-4d07-a0d6-9ec60f60b51c",
        "colab": {
          "base_uri": "https://localhost:8080/",
          "height": 256
        }
      },
      "execution_count": 250,
      "outputs": [
        {
          "output_type": "display_data",
          "data": {
            "text/plain": [
              "<Figure size 500x500 with 2 Axes>"
            ],
            "image/png": "[encoded data removed]"
          },
          "metadata": {}
        }
      ]
    },
    {
      "cell_type": "code",
      "source": [
        "data_dim = 8*8\n",
        "\n",
        "prior = torch.distributions.multivariate_normal.MultivariateNormal(loc=torch.zeros((data_dim)),\n",
        "                                                    scale_tril=torch.diag(torch.ones((data_dim))))\n",
        "\"\"\"\n",
        "prior = torch.distributions.normal.Normal(loc=torch.zeros((data_dim)),\n",
        "                                                    scale=torch.ones((data_dim)))\n",
        "\"\"\"\n",
        "model = NICE(input_dim=data_dim, hidden_layer=512, num_flows=10)\n",
        "\n",
        "train_loader = DataLoader(train_data, batch_size=250, shuffle=True)\n"
      ],
      "metadata": {
        "id": "rQs7Q0x8O_lW"
      },
      "execution_count": 251,
      "outputs": []
    },
    {
      "cell_type": "code",
      "source": [
        "epochs = 200\n",
        "optimizer = torch.optim.Adam(model.parameters(), lr=0.005)   # weight_decay=0.9\n",
        "\n",
        "COST = []\n",
        "\n",
        "for epoch in range(epochs):\n",
        "    total_loss = []\n",
        "\n",
        "    for x in train_loader:\n",
        "\n",
        "        z, log_det_j = model.forward(x)\n",
        "        loss = model.criterion(z, prior, log_det_j, reduction=\"avg\")\n",
        "\n",
        "        optimizer.zero_grad()\n",
        "        loss.backward()\n",
        "        optimizer.step()\n",
        "\n",
        "        total_loss.append(loss.item())\n",
        "\n",
        "    COST.append(np.mean(total_loss))\n",
        "\n",
        "    if epoch==0:\n",
        "        print(\"Epoch : \", epoch+1, \"  -----------> Loss : \", np.mean(total_loss))\n",
        "    elif (epoch+1)%100 == 0:\n",
        "        print(\"Epoch : \", epoch+1, \"  -----------> Loss : \", np.mean(total_loss))"
      ],
      "metadata": {
        "id": "wwMpBqaBO_np",
        "outputId": "4b62272c-f921-421a-895f-ca6c74b8edb9",
        "colab": {
          "base_uri": "https://localhost:8080/"
        }
      },
      "execution_count": 252,
      "outputs": [
        {
          "output_type": "stream",
          "name": "stdout",
          "text": [
            "Epoch :  1   -----------> Loss :  96.70656394958496\n",
            "Epoch :  100   -----------> Loss :  -58.189992904663086\n",
            "Epoch :  200   -----------> Loss :  -94.65971279144287\n"
          ]
        }
      ]
    },
    {
      "cell_type": "code",
      "source": [
        "plt.plot(COST)"
      ],
      "metadata": {
        "id": "3lgGpF_wybkp",
        "colab": {
          "base_uri": "https://localhost:8080/",
          "height": 447
        },
        "outputId": "46f1f36b-21dd-42d0-c347-8a6052097057"
      },
      "execution_count": 253,
      "outputs": [
        {
          "output_type": "execute_result",
          "data": {
            "text/plain": [
              "[<matplotlib.lines.Line2D at 0x79b29c960b20>]"
            ]
          },
          "metadata": {},
          "execution_count": 253
        },
        {
          "output_type": "display_data",
          "data": {
            "text/plain": [
              "<Figure size 640x480 with 1 Axes>"
            ],
            "image/png": "[encoded data removed]"
          },
          "metadata": {}
        }
      ]
    },
    {
      "cell_type": "code",
      "source": [
        "test = prior.sample((50,))\n",
        "test"
      ],
      "metadata": {
        "id": "qJy70H-_O_pw",
        "colab": {
          "base_uri": "https://localhost:8080/"
        },
        "outputId": "9b6f2b07-628b-4b30-a133-5c8873f48d89"
      },
      "execution_count": 254,
      "outputs": [
        {
          "output_type": "execute_result",
          "data": {
            "text/plain": [
              "tensor([[-0.0437, -1.3766, -0.3073,  ...,  0.4920, -0.6283,  0.1812],\n",
              "        [-0.6408,  0.5044, -0.1705,  ..., -0.2529,  1.1832,  0.0299],\n",
              "        [-0.4113, -0.0701, -0.7447,  ..., -0.1636,  0.7037, -0.1125],\n",
              "        ...,\n",
              "        [ 1.4962, -0.5792,  1.2922,  ..., -0.0950,  1.2505, -1.9760],\n",
              "        [ 0.4043,  0.6374,  1.0916,  ...,  1.5000,  2.3546,  0.7352],\n",
              "        [-0.3528,  0.1595,  1.0111,  ..., -0.1454, -0.2959, -1.0447]])"
            ]
          },
          "metadata": {},
          "execution_count": 254
        }
      ]
    },
    {
      "cell_type": "code",
      "source": [
        "sonuc = model.f_inv(test)\n",
        "sonuc"
      ],
      "metadata": {
        "id": "rjNtmsr9O_sB",
        "colab": {
          "base_uri": "https://localhost:8080/"
        },
        "outputId": "a50dbfed-e350-429d-958c-e7f8d4723826"
      },
      "execution_count": 255,
      "outputs": [
        {
          "output_type": "execute_result",
          "data": {
            "text/plain": [
              "tensor([[ 1.4458e-04,  3.5914e-02,  3.0713e-01,  ...,  1.6657e-01,\n",
              "          1.7765e-01, -5.3539e-02],\n",
              "        [-8.5595e-04,  5.2496e-02,  2.8840e-01,  ...,  5.3625e-01,\n",
              "         -1.1282e-01, -1.3223e-01],\n",
              "        [ 7.3584e-04,  1.1265e-01,  1.6555e-01,  ...,  1.5365e-01,\n",
              "         -3.1101e-02, -1.8672e-01],\n",
              "        ...,\n",
              "        [ 9.5714e-04,  7.8618e-02,  5.8110e-01,  ...,  2.0301e-01,\n",
              "          3.7430e-02, -9.0999e-02],\n",
              "        [-5.4825e-04, -1.1494e-01,  7.7168e-01,  ...,  8.0114e-01,\n",
              "          2.0088e-01, -8.5298e-02],\n",
              "        [-3.9633e-04, -4.3185e-03,  4.2292e-01,  ...,  6.9297e-01,\n",
              "          1.2622e-01,  6.3241e-03]], grad_fn=<MulBackward0>)"
            ]
          },
          "metadata": {},
          "execution_count": 255
        }
      ]
    },
    {
      "cell_type": "code",
      "source": [
        "test = prior.sample((1797,))\n",
        "sonuc = torch.nn.ReLU()(model.f_inv(test))\n",
        "\n",
        "fig, axs = plt.subplots(5, 10, sharex=True, sharey=True, figsize=(18, 8), subplot_kw={'xticks':[], 'yticks':[]}, gridspec_kw=dict(hspace=0.1, wspace=0.1))\n",
        "\n",
        "for i in range(0,10):\n",
        "\n",
        "    axs[0, i].imshow((sonuc[i]).detach().numpy().reshape((8,8)), cmap='binary', interpolation='nearest', clim=(0, 0.7))\n",
        "    axs[1, i].imshow((sonuc[10+i]).detach().numpy().reshape((8,8)), cmap='binary', interpolation='nearest', clim=(0, 0.7))\n",
        "    axs[2, i].imshow((sonuc[20+i]).detach().numpy().reshape((8,8)), cmap='binary', interpolation='nearest', clim=(0, 0.7))\n",
        "    axs[3, i].imshow((sonuc[30+i]).detach().numpy().reshape((8,8)), cmap='binary', interpolation='nearest', clim=(0, 0.7))\n",
        "    axs[4, i].imshow((sonuc[40+i]).detach().numpy().reshape((8,8)), cmap='binary', interpolation='nearest', clim=(0, 0.7))\n",
        "fig.show()\n"
      ],
      "metadata": {
        "id": "EJXVv9wyPMXm",
        "colab": {
          "base_uri": "https://localhost:8080/",
          "height": 652
        },
        "outputId": "0349173f-b93e-40f0-9969-447c7d4b4b99"
      },
      "execution_count": 272,
      "outputs": [
        {
          "output_type": "display_data",
          "data": {
            "text/plain": [
              "<Figure size 1800x800 with 50 Axes>"
            ],
            "image/png": "[encoded data removed]"
          },
          "metadata": {}
        }
      ]
    },
    {
      "cell_type": "code",
      "source": [
        "from sklearn.decomposition import PCA\n",
        "pca = PCA(n_components=2)\n",
        "#pca.fit(sonuc)"
      ],
      "metadata": {
        "id": "Hh8kh82aFumO"
      },
      "execution_count": 257,
      "outputs": []
    },
    {
      "cell_type": "code",
      "source": [
        "forward, logdet_j = model.forward(torch.tensor(X_test))\n",
        "backward = model.f_inv(forward)"
      ],
      "metadata": {
        "id": "DOBJKKwxXh89"
      },
      "execution_count": 258,
      "outputs": []
    },
    {
      "cell_type": "code",
      "source": [
        "pca = PCA(2)  # project from 64 to 2 dimensions\n",
        "projected = pca.fit_transform(backward.detach().numpy())          #sonuc.detach().numpy()\n",
        "print(digits.data.shape)\n",
        "print(projected.shape)"
      ],
      "metadata": {
        "colab": {
          "base_uri": "https://localhost:8080/"
        },
        "id": "yeC_qG00LgpN",
        "outputId": "3cca66a7-81d8-40ea-b273-04b6bebf46da"
      },
      "execution_count": 259,
      "outputs": [
        {
          "output_type": "stream",
          "name": "stdout",
          "text": [
            "(1797, 64)\n",
            "(18, 2)\n"
          ]
        }
      ]
    },
    {
      "cell_type": "code",
      "source": [
        "projected_raw = pca.fit_transform(X_test)          #sonuc.detach().numpy()\n",
        "print(digits.data.shape)\n",
        "print(projected_raw.shape)"
      ],
      "metadata": {
        "colab": {
          "base_uri": "https://localhost:8080/"
        },
        "id": "Em1Ans1vaNHt",
        "outputId": "7f097ce9-94b2-482c-e1ea-aeb2c71b2f65"
      },
      "execution_count": 260,
      "outputs": [
        {
          "output_type": "stream",
          "name": "stdout",
          "text": [
            "(1797, 64)\n",
            "(18, 2)\n"
          ]
        }
      ]
    },
    {
      "cell_type": "code",
      "source": [
        "fig = plt.figure(figsize=(15,5))\n",
        "\n",
        "ax1 = fig.add_subplot(1, 2, 1)\n",
        "im1 = ax1.scatter(projected_raw[:, 0], projected_raw[:, 1],\n",
        "            c=y_test, edgecolor='none', alpha=0.5,\n",
        "            cmap=plt.get_cmap('Paired', 10))\n",
        "ax1.set_xlabel('component 1')\n",
        "ax1.set_ylabel('component 2')\n",
        "plt.colorbar(im1, ax=ax1)\n",
        "\n",
        "ax2 = fig.add_subplot(1, 2, 2)\n",
        "im2 = ax2.scatter(projected[:, 0], projected[:, 1],\n",
        "            c=y_test, edgecolor='none', alpha=0.5,\n",
        "            cmap=plt.get_cmap('Paired', 10))\n",
        "ax2.set_xlabel('component 1')\n",
        "ax2.set_ylabel('component 2')\n",
        "plt.colorbar(im2, ax=ax2)\n",
        "\n",
        "plt.show()"
      ],
      "metadata": {
        "colab": {
          "base_uri": "https://localhost:8080/",
          "height": 470
        },
        "id": "JV8-ymICfIST",
        "outputId": "b9f4c3b9-2453-4bb5-e51b-c8fca1537aea"
      },
      "execution_count": 261,
      "outputs": [
        {
          "output_type": "display_data",
          "data": {
            "text/plain": [
              "<Figure size 1500x500 with 4 Axes>"
            ],
            "image/png": "[encoded data removed]"
          },
          "metadata": {}
        }
      ]
    },
    {
      "cell_type": "code",
      "source": [],
      "metadata": {
        "id": "0e5_QsYSAiZJ"
      },
      "execution_count": 261,
      "outputs": []
    }
  ]
}