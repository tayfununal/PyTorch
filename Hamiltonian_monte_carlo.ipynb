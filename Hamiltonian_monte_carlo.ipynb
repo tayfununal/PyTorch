{
  "nbformat": 4,
  "nbformat_minor": 0,
  "metadata": {
    "colab": {
      "private_outputs": true,
      "provenance": [],
      "authorship_tag": "ABX9TyM5+W4NCUafSA7W/tJ0t/p/",
      "include_colab_link": true
    },
    "kernelspec": {
      "name": "python3",
      "display_name": "Python 3"
    },
    "language_info": {
      "name": "python"
    }
  },
  "cells": [
    {
      "cell_type": "markdown",
      "metadata": {
        "id": "view-in-github",
        "colab_type": "text"
      },
      "source": [
        "<a href=\"https://colab.research.google.com/github/tayfununal/PyTorch/blob/main/Hamiltonian_monte_carlo.ipynb\" target=\"_parent\"><img src=\"https://colab.research.google.com/assets/colab-badge.svg\" alt=\"Open In Colab\"/></a>"
      ]
    },
    {
      "cell_type": "code",
      "execution_count": null,
      "metadata": {
        "id": "NbrjcaA1ddzP"
      },
      "outputs": [],
      "source": [
        "import numpy as np\n",
        "import matplotlib.pyplot as plt\n",
        "\n",
        "def target_distribution(x, y):\n",
        "    return np.exp(-0.5 * (x**2 + y**2))\n",
        "\n",
        "def hamiltonian_dynamics(x, y, px, py):\n",
        "    # Potansiyel enerji\n",
        "    U = 0.5 * (x**2 + y**2)\n",
        "\n",
        "    # Hamiltonian\n",
        "    H = U + 0.5 * (px**2 + py**2)\n",
        "\n",
        "    return U, H\n",
        "\n",
        "def metropolis_hastings_acceptance(current_H, proposed_H):\n",
        "    return min(1, np.exp(current_H - proposed_H))\n",
        "\n",
        "def hamiltonian_monte_carlo(num_samples, leapfrog_steps):\n",
        "    samples = []\n",
        "\n",
        "    x, y = np.random.randn(2)  # Başlangıç değerleri\n",
        "    for _ in range(num_samples):\n",
        "        px, py = np.random.randn(2)  # Rasgele momentum\n",
        "        current_U, current_H = hamiltonian_dynamics(x, y, px, py)\n",
        "\n",
        "        # Hamiltonian Monte Carlo adımları\n",
        "        for _ in range(leapfrog_steps):\n",
        "            px -= 0.5 * 0.01 * x\n",
        "            py -= 0.5 * 0.01 * y\n",
        "            x += 0.01 * px\n",
        "            y += 0.01 * py\n",
        "            px -= 0.5 * 0.01 * x\n",
        "            py -= 0.5 * 0.01 * y\n",
        "\n",
        "        proposed_U, proposed_H = hamiltonian_dynamics(x, y, px, py)\n",
        "\n",
        "        # Metropol Hızı ile örneği kabul et veya reddet\n",
        "        if np.random.uniform() < metropolis_hastings_acceptance(current_H, proposed_H):\n",
        "            samples.append((x, y))\n",
        "\n",
        "    return np.array(samples)\n",
        "\n",
        "# Hamiltonian Monte Carlo uygula\n",
        "samples = hamiltonian_monte_carlo(num_samples=1000, leapfrog_steps=50)\n",
        "\n",
        "# Sonuçları görselleştir\n",
        "plt.scatter(samples[:, 0], samples[:, 1], alpha=0.5)\n",
        "plt.title('Hamiltonian Monte Carlo Örneği')\n",
        "plt.xlabel('x')\n",
        "plt.ylabel('y')\n",
        "plt.show()\n"
      ]
    }
  ]
}