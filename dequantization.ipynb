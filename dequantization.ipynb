{
  "nbformat": 4,
  "nbformat_minor": 0,
  "metadata": {
    "colab": {
      "provenance": [],
      "authorship_tag": "ABX9TyNaKSbAKWhCnH7nGVXj4+BU",
      "include_colab_link": true
    },
    "kernelspec": {
      "name": "python3",
      "display_name": "Python 3"
    },
    "language_info": {
      "name": "python"
    }
  },
  "cells": [
    {
      "cell_type": "markdown",
      "metadata": {
        "id": "view-in-github",
        "colab_type": "text"
      },
      "source": [
        "<a href=\"https://colab.research.google.com/github/tayfununal/PyTorch/blob/main/dequantization.ipynb\" target=\"_parent\"><img src=\"https://colab.research.google.com/assets/colab-badge.svg\" alt=\"Open In Colab\"/></a>"
      ]
    },
    {
      "cell_type": "code",
      "execution_count": 251,
      "metadata": {
        "id": "pLs5mv7p-Fjf"
      },
      "outputs": [],
      "source": [
        "import numpy as np\n",
        "import pandas as pd\n",
        "import matplotlib.pyplot as plt\n",
        "import torch"
      ]
    },
    {
      "cell_type": "code",
      "source": [
        "def rescale(x, lo, hi):\n",
        "    \"\"\"Rescale a tensor to [lo,hi].\"\"\"\n",
        "    assert(lo < hi), \"[rescale] lo={0} must be smaller than hi={1}\".format(lo,hi)\n",
        "    old_width = torch.max(x)-torch.min(x)\n",
        "    old_center = torch.min(x) + (old_width / 2.)\n",
        "    new_width = float(hi-lo)\n",
        "    new_center = lo + (new_width / 2.)\n",
        "    # shift everything back to zero:\n",
        "    x = x - old_center\n",
        "    # rescale to correct width:\n",
        "    x = x * (new_width / old_width)\n",
        "    # shift everything to the new center:\n",
        "    x = x + new_center\n",
        "    # return:\n",
        "    return x"
      ],
      "metadata": {
        "id": "ZB3DX0od4zhy"
      },
      "execution_count": 252,
      "outputs": []
    },
    {
      "cell_type": "code",
      "source": [
        "\"\"\"x = torch.tensor([[10, 10], [10, 15],\n",
        "                  [15, 10], [15, 15]]).to(torch.float32)\n",
        "\n",
        "y = torch.tensor([[5, 5], [5, 10],\n",
        "                  [10, 5], [10, 10]]).to(torch.float32)\n",
        "\n",
        "a = torch.concat((x,y),0)\n",
        "\n",
        "uniform = torch.distributions.uniform.Uniform(torch.tensor([-0.5]), torch.tensor([0.5]))\n",
        "u_sample = uniform.sample((4,2)).reshape((4,2))\n",
        "\"\"\"\n",
        "\"\"\"x = x.div(15.) + u_sample\n",
        "x = rescale(x, 0, 1)\n",
        "x\"\"\""
      ],
      "metadata": {
        "colab": {
          "base_uri": "https://localhost:8080/",
          "height": 36
        },
        "id": "CEUgbIcV47Kf",
        "outputId": "a2396414-1561-40ae-f4cd-dba3a1d4b282"
      },
      "execution_count": 253,
      "outputs": [
        {
          "output_type": "execute_result",
          "data": {
            "text/plain": [
              "'x = x.div(15.) + u_sample\\nx = rescale(x, 0, 1)\\nx'"
            ],
            "application/vnd.google.colaboratory.intrinsic+json": {
              "type": "string"
            }
          },
          "metadata": {},
          "execution_count": 253
        }
      ]
    },
    {
      "cell_type": "code",
      "source": [
        "x = torch.tensor([[1, 1], [1, 2],\n",
        "                  [2, 1], [2, 2]]).to(torch.float32)\n",
        "\n",
        "z = torch.tensor([[1, 3], [1, 4],\n",
        "                  [2, 3], [2, 4]]).to(torch.float32)\n",
        "\n",
        "t = torch.tensor([[3, 1], [3, 2],\n",
        "                  [4, 1], [4, 2]]).to(torch.float32)\n",
        "\n",
        "y = torch.tensor([[3, 3], [3, 4],\n",
        "                  [4, 3], [4, 4]]).to(torch.float32)\n",
        "\n",
        "a = torch.concat((x,z,t,y),0)\n",
        "\n",
        "uniform = torch.distributions.uniform.Uniform(torch.tensor([-0.5]), torch.tensor([0.5]))\n",
        "u_sample = uniform.sample((4,2)).reshape((4,2))\n"
      ],
      "metadata": {
        "id": "VuZyNyPuCXjS"
      },
      "execution_count": 254,
      "outputs": []
    },
    {
      "cell_type": "code",
      "source": [
        "X = torch.zeros((160000,2))\n",
        "\n",
        "for i in range(10000):\n",
        "  b = a + uniform.sample((16,2)).squeeze()\n",
        "  b = b / b.max()\n",
        "  X[i*16:(i+1)*16,:] = b\n",
        "\n",
        "X = rescale(X, 0, 1)\n",
        "\n",
        "\n",
        "plt.scatter(X[::16, 0], X[::16, 1], color='red')\n",
        "plt.scatter(X[1::16, 0], X[1::16, 1], color='orange')\n",
        "plt.scatter(X[2::16, 0], X[2::16, 1], color='blue')\n",
        "plt.scatter(X[3::16, 0], X[3::16, 1], color='green')\n",
        "\n",
        "plt.scatter(X[4::16, 0], X[4::16, 1], color='yellow')\n",
        "plt.scatter(X[5::16, 0], X[5::16, 1], color='grey')\n",
        "plt.scatter(X[6::16, 0], X[6::16, 1], color='brown')\n",
        "plt.scatter(X[7::16, 0], X[7::16, 1], color='magenta')\n",
        "\n",
        "plt.scatter(X[8::16, 0], X[8::16, 1], color='cyan')\n",
        "plt.scatter(X[9::16, 0], X[9::16, 1], color='pink')\n",
        "plt.scatter(X[10::16, 0], X[10::16, 1], color='black')\n",
        "plt.scatter(X[11::16, 0], X[11::16, 1], color='purple')\n",
        "\n",
        "plt.scatter(X[12::16, 0], X[12::16, 1], color='olive')\n",
        "plt.scatter(X[13::16, 0], X[13::16, 1], color='palegreen')\n",
        "plt.scatter(X[14::16, 0], X[14::16, 1], color='teal')\n",
        "plt.scatter(X[15::16, 0], X[15::16, 1], color='gold')\n",
        "\n",
        "plt.show()\n",
        "\"\"\"Y = torch.zeros((4000,2))\n",
        "\n",
        "for i in range(1000):\n",
        "  Y[i*4:(i+1)*4,:] = (y + uniform.sample((4,2)).reshape((4,2))).div(15.)\n",
        "\n",
        "Y = rescale(Y, 0, 1)\n",
        "plt.scatter(Y[::4, 0], Y[::4, 1])\n",
        "plt.scatter(Y[1::4, 0], Y[1::4, 1])\n",
        "plt.scatter(Y[2::4, 0], Y[2::4, 1])\n",
        "plt.scatter(Y[3::4, 0], Y[3::4, 1])\"\"\""
      ],
      "metadata": {
        "colab": {
          "base_uri": "https://localhost:8080/",
          "height": 468
        },
        "id": "zg7KPlUo-LuJ",
        "outputId": "0d34c652-5325-46b1-b7d8-76bcaec47a6d"
      },
      "execution_count": 269,
      "outputs": [
        {
          "output_type": "display_data",
          "data": {
            "text/plain": [
              "<Figure size 640x480 with 1 Axes>"
            ],
            "image/png": "[encoded data removed]"
          },
          "metadata": {}
        },
        {
          "output_type": "execute_result",
          "data": {
            "text/plain": [
              "'Y = torch.zeros((4000,2))\\n\\nfor i in range(1000):\\n  Y[i*4:(i+1)*4,:] = (y + uniform.sample((4,2)).reshape((4,2))).div(15.)\\n\\nY = rescale(Y, 0, 1)\\nplt.scatter(Y[::4, 0], Y[::4, 1])\\nplt.scatter(Y[1::4, 0], Y[1::4, 1])\\nplt.scatter(Y[2::4, 0], Y[2::4, 1])\\nplt.scatter(Y[3::4, 0], Y[3::4, 1])'"
            ],
            "application/vnd.google.colaboratory.intrinsic+json": {
              "type": "string"
            }
          },
          "metadata": {},
          "execution_count": 269
        }
      ]
    },
    {
      "cell_type": "code",
      "source": [
        "torch.concat((x,x),0)[::4,:]"
      ],
      "metadata": {
        "colab": {
          "base_uri": "https://localhost:8080/"
        },
        "id": "9AjlN1mC-bkP",
        "outputId": "4da9f427-e757-4846-c3ae-a34fe6324b86"
      },
      "execution_count": 256,
      "outputs": [
        {
          "output_type": "execute_result",
          "data": {
            "text/plain": [
              "tensor([[1., 1.],\n",
              "        [1., 1.]])"
            ]
          },
          "metadata": {},
          "execution_count": 256
        }
      ]
    },
    {
      "cell_type": "code",
      "source": [
        "torch.tensor(x).div_(256.) + torch.rand_like(torch.tensor(x))"
      ],
      "metadata": {
        "colab": {
          "base_uri": "https://localhost:8080/"
        },
        "id": "VCsYp0d-E0ze",
        "outputId": "84542eef-891f-4fe6-f712-85fd5f009490"
      },
      "execution_count": 257,
      "outputs": [
        {
          "output_type": "stream",
          "name": "stderr",
          "text": [
            "<ipython-input-257-abb3ec2367be>:1: UserWarning: To copy construct from a tensor, it is recommended to use sourceTensor.clone().detach() or sourceTensor.clone().detach().requires_grad_(True), rather than torch.tensor(sourceTensor).\n",
            "  torch.tensor(x).div_(256.) + torch.rand_like(torch.tensor(x))\n"
          ]
        },
        {
          "output_type": "execute_result",
          "data": {
            "text/plain": [
              "tensor([[0.9326, 0.0988],\n",
              "        [0.6083, 0.2297],\n",
              "        [0.2039, 0.0497],\n",
              "        [0.2388, 0.6370]])"
            ]
          },
          "metadata": {},
          "execution_count": 257
        }
      ]
    },
    {
      "cell_type": "code",
      "source": [],
      "metadata": {
        "id": "ALbf-R641BBi"
      },
      "execution_count": 257,
      "outputs": []
    }
  ]
}