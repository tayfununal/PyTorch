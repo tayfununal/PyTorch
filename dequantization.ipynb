{
  "nbformat": 4,
  "nbformat_minor": 0,
  "metadata": {
    "colab": {
      "private_outputs": true,
      "provenance": [],
      "authorship_tag": "ABX9TyPX/XXF+DpOHSB3+IOvQHT+",
      "include_colab_link": true
    },
    "kernelspec": {
      "name": "python3",
      "display_name": "Python 3"
    },
    "language_info": {
      "name": "python"
    }
  },
  "cells": [
    {
      "cell_type": "markdown",
      "metadata": {
        "id": "view-in-github",
        "colab_type": "text"
      },
      "source": [
        "<a href=\"https://colab.research.google.com/github/tayfununal/PyTorch/blob/main/dequantization.ipynb\" target=\"_parent\"><img src=\"https://colab.research.google.com/assets/colab-badge.svg\" alt=\"Open In Colab\"/></a>"
      ]
    },
    {
      "cell_type": "code",
      "execution_count": null,
      "metadata": {
        "id": "pLs5mv7p-Fjf"
      },
      "outputs": [],
      "source": [
        "import numpy as np\n",
        "import pandas as pd\n",
        "import matplotlib.pyplot as plt\n",
        "import torch"
      ]
    },
    {
      "cell_type": "code",
      "source": [
        "x = torch.tensor([[0, 0], [0, 1],\n",
        "                  [1, 0], [1, 1]])\n",
        "\n",
        "uniform = torch.distributions.uniform.Uniform(torch.tensor([-0.5]), torch.tensor([0.5]))\n",
        "u_sample = uniform.sample((4,2)).reshape((4,2))\n",
        "\n",
        "X = torch.zeros((4000,2))\n",
        "j=0\n",
        "for i in range(1000):\n",
        "  X[i*4:(i+1)*4,:] = x + uniform.sample((4,2)).reshape((4,2))\n"
      ],
      "metadata": {
        "id": "zg7KPlUo-LuJ"
      },
      "execution_count": null,
      "outputs": []
    },
    {
      "cell_type": "code",
      "source": [
        "plt.scatter(X[::4, 0], X[::4, 1])\n",
        "plt.scatter(X[1::4, 0], X[1::4, 1])\n",
        "plt.scatter(X[2::4, 0], X[2::4, 1])\n",
        "plt.scatter(X[3::4, 0], X[3::4, 1])"
      ],
      "metadata": {
        "id": "BmLuivRh-ZDh"
      },
      "execution_count": null,
      "outputs": []
    },
    {
      "cell_type": "code",
      "source": [
        "torch.concat((x,x),0)[::4,:]"
      ],
      "metadata": {
        "id": "9AjlN1mC-bkP"
      },
      "execution_count": null,
      "outputs": []
    },
    {
      "cell_type": "code",
      "source": [],
      "metadata": {
        "id": "VCsYp0d-E0ze"
      },
      "execution_count": null,
      "outputs": []
    }
  ]
}