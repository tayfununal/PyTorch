{
  "nbformat": 4,
  "nbformat_minor": 0,
  "metadata": {
    "colab": {
      "provenance": [],
      "authorship_tag": "ABX9TyMLbUGGbM8zLp4HX0N4+5pF",
      "include_colab_link": true
    },
    "kernelspec": {
      "name": "python3",
      "display_name": "Python 3"
    },
    "language_info": {
      "name": "python"
    }
  },
  "cells": [
    {
      "cell_type": "markdown",
      "metadata": {
        "id": "view-in-github",
        "colab_type": "text"
      },
      "source": [
        "<a href=\"https://colab.research.google.com/github/tayfununal/PyTorch/blob/main/dequantization.ipynb\" target=\"_parent\"><img src=\"https://colab.research.google.com/assets/colab-badge.svg\" alt=\"Open In Colab\"/></a>"
      ]
    },
    {
      "cell_type": "code",
      "execution_count": 244,
      "metadata": {
        "id": "pLs5mv7p-Fjf"
      },
      "outputs": [],
      "source": [
        "import numpy as np\n",
        "import pandas as pd\n",
        "import matplotlib.pyplot as plt\n",
        "import torch"
      ]
    },
    {
      "cell_type": "code",
      "source": [
        "def rescale(x, lo, hi):\n",
        "    \"\"\"Rescale a tensor to [lo,hi].\"\"\"\n",
        "    assert(lo < hi), \"[rescale] lo={0} must be smaller than hi={1}\".format(lo,hi)\n",
        "    old_width = torch.max(x)-torch.min(x)\n",
        "    old_center = torch.min(x) + (old_width / 2.)\n",
        "    new_width = float(hi-lo)\n",
        "    new_center = lo + (new_width / 2.)\n",
        "    # shift everything back to zero:\n",
        "    x = x - old_center\n",
        "    # rescale to correct width:\n",
        "    x = x * (new_width / old_width)\n",
        "    # shift everything to the new center:\n",
        "    x = x + new_center\n",
        "    # return:\n",
        "    return x"
      ],
      "metadata": {
        "id": "ZB3DX0od4zhy"
      },
      "execution_count": 245,
      "outputs": []
    },
    {
      "cell_type": "code",
      "source": [
        "\"\"\"x = torch.tensor([[10, 10], [10, 15],\n",
        "                  [15, 10], [15, 15]]).to(torch.float32)\n",
        "\n",
        "y = torch.tensor([[5, 5], [5, 10],\n",
        "                  [10, 5], [10, 10]]).to(torch.float32)\n",
        "\n",
        "a = torch.concat((x,y),0)\n",
        "\n",
        "uniform = torch.distributions.uniform.Uniform(torch.tensor([-0.5]), torch.tensor([0.5]))\n",
        "u_sample = uniform.sample((4,2)).reshape((4,2))\n",
        "\"\"\"\n",
        "\"\"\"x = x.div(15.) + u_sample\n",
        "x = rescale(x, 0, 1)\n",
        "x\"\"\""
      ],
      "metadata": {
        "colab": {
          "base_uri": "https://localhost:8080/",
          "height": 36
        },
        "id": "CEUgbIcV47Kf",
        "outputId": "e984ef2a-afc7-4e0a-eff6-13775ca7c834"
      },
      "execution_count": 291,
      "outputs": [
        {
          "output_type": "execute_result",
          "data": {
            "text/plain": [
              "'x = x.div(15.) + u_sample\\nx = rescale(x, 0, 1)\\nx'"
            ],
            "application/vnd.google.colaboratory.intrinsic+json": {
              "type": "string"
            }
          },
          "metadata": {},
          "execution_count": 291
        }
      ]
    },
    {
      "cell_type": "code",
      "source": [
        "x = torch.tensor([[0, 0], [0, 256],\n",
        "                  [256, 0], [256, 256]]).to(torch.float32)\n",
        "\n",
        "y = torch.tensor([[20, 20], [20, 200],\n",
        "                  [200, 20], [200, 200]]).to(torch.float32)\n",
        "\n",
        "a = torch.concat((x,y),0)\n",
        "\n",
        "uniform = torch.distributions.uniform.Uniform(torch.tensor([-0.5]), torch.tensor([0.5]))\n",
        "u_sample = uniform.sample((4,2)).reshape((4,2))\n"
      ],
      "metadata": {
        "id": "VuZyNyPuCXjS"
      },
      "execution_count": 301,
      "outputs": []
    },
    {
      "cell_type": "code",
      "source": [
        "X = torch.zeros((800,2))\n",
        "\n",
        "for i in range(100):\n",
        "  X[i*8:(i+1)*8,:] = a.div(256.) + uniform.sample((8,2)).reshape((8,2))\n",
        "\n",
        "X = rescale(X, 0, 1)\n",
        "\n",
        "\n",
        "plt.scatter(X[::8, 0], X[::8, 1])\n",
        "plt.scatter(X[1::8, 0], X[1::8, 1])\n",
        "plt.scatter(X[2::8, 0], X[2::8, 1])\n",
        "plt.scatter(X[3::8, 0], X[3::8, 1])\n",
        "\n",
        "\"\"\"Y = torch.zeros((4000,2))\n",
        "\n",
        "for i in range(1000):\n",
        "  Y[i*4:(i+1)*4,:] = (y + uniform.sample((4,2)).reshape((4,2))).div(15.)\n",
        "\n",
        "Y = rescale(Y, 0, 1)\n",
        "plt.scatter(Y[::4, 0], Y[::4, 1])\n",
        "plt.scatter(Y[1::4, 0], Y[1::4, 1])\n",
        "plt.scatter(Y[2::4, 0], Y[2::4, 1])\n",
        "plt.scatter(Y[3::4, 0], Y[3::4, 1])\"\"\""
      ],
      "metadata": {
        "colab": {
          "base_uri": "https://localhost:8080/",
          "height": 468
        },
        "id": "zg7KPlUo-LuJ",
        "outputId": "ff7fb6fa-5d8c-4de2-e148-b2ceaaa8f04d"
      },
      "execution_count": 305,
      "outputs": [
        {
          "output_type": "execute_result",
          "data": {
            "text/plain": [
              "'Y = torch.zeros((4000,2))\\n\\nfor i in range(1000):\\n  Y[i*4:(i+1)*4,:] = (y + uniform.sample((4,2)).reshape((4,2))).div(15.)\\n\\nY = rescale(Y, 0, 1)\\nplt.scatter(Y[::4, 0], Y[::4, 1])\\nplt.scatter(Y[1::4, 0], Y[1::4, 1])\\nplt.scatter(Y[2::4, 0], Y[2::4, 1])\\nplt.scatter(Y[3::4, 0], Y[3::4, 1])'"
            ],
            "application/vnd.google.colaboratory.intrinsic+json": {
              "type": "string"
            }
          },
          "metadata": {},
          "execution_count": 305
        },
        {
          "output_type": "display_data",
          "data": {
            "text/plain": [
              "<Figure size 640x480 with 1 Axes>"
            ],
            "image/png": "[encoded data removed]"
          },
          "metadata": {}
        }
      ]
    },
    {
      "cell_type": "code",
      "source": [
        "torch.concat((x,x),0)[::4,:]"
      ],
      "metadata": {
        "colab": {
          "base_uri": "https://localhost:8080/"
        },
        "id": "9AjlN1mC-bkP",
        "outputId": "2fab0cd1-3b06-4a96-d788-d35621c9fb6c"
      },
      "execution_count": 259,
      "outputs": [
        {
          "output_type": "execute_result",
          "data": {
            "text/plain": [
              "tensor([[10., 10.],\n",
              "        [10., 10.]])"
            ]
          },
          "metadata": {},
          "execution_count": 259
        }
      ]
    },
    {
      "cell_type": "code",
      "source": [
        "torch.tensor(x).div_(256.) + torch.rand_like(torch.tensor(x))"
      ],
      "metadata": {
        "colab": {
          "base_uri": "https://localhost:8080/"
        },
        "id": "VCsYp0d-E0ze",
        "outputId": "c8aec276-6a64-436e-c211-af815355cf4c"
      },
      "execution_count": 249,
      "outputs": [
        {
          "output_type": "stream",
          "name": "stderr",
          "text": [
            "<ipython-input-249-abb3ec2367be>:1: UserWarning: To copy construct from a tensor, it is recommended to use sourceTensor.clone().detach() or sourceTensor.clone().detach().requires_grad_(True), rather than torch.tensor(sourceTensor).\n",
            "  torch.tensor(x).div_(256.) + torch.rand_like(torch.tensor(x))\n"
          ]
        },
        {
          "output_type": "execute_result",
          "data": {
            "text/plain": [
              "tensor([[0.2344, 0.8009],\n",
              "        [0.9800, 0.2120],\n",
              "        [0.9901, 0.8940],\n",
              "        [0.4829, 0.6917]])"
            ]
          },
          "metadata": {},
          "execution_count": 249
        }
      ]
    }
  ]
}