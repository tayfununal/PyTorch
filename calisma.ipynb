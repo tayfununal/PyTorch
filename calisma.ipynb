{
  "nbformat": 4,
  "nbformat_minor": 0,
  "metadata": {
    "colab": {
      "private_outputs": true,
      "provenance": [],
      "authorship_tag": "ABX9TyM9tTegsqbxOq6AJ2F47f8x",
      "include_colab_link": true
    },
    "kernelspec": {
      "name": "python3",
      "display_name": "Python 3"
    },
    "language_info": {
      "name": "python"
    }
  },
  "cells": [
    {
      "cell_type": "markdown",
      "metadata": {
        "id": "view-in-github",
        "colab_type": "text"
      },
      "source": [
        "<a href=\"https://colab.research.google.com/github/tayfununal/PyTorch/blob/main/calisma.ipynb\" target=\"_parent\"><img src=\"https://colab.research.google.com/assets/colab-badge.svg\" alt=\"Open In Colab\"/></a>"
      ]
    },
    {
      "cell_type": "code",
      "execution_count": null,
      "metadata": {
        "id": "-hTCTYtjMxzc"
      },
      "outputs": [],
      "source": [
        "import matplotlib.pyplot as plt\n",
        "x = np.linspace(-10, 10, 100)\n",
        "\n",
        "def f(x):\n",
        "  return (x+4)**2 * 1/200\n",
        "\n",
        "# Plot the function\n",
        "plt.plot(x, f(x))\n",
        "\n",
        "# Shade the area between 0.3 and 0.5\n",
        "plt.fill_between(x, f(x), where=(3. <= x) & (x <= 6.), color='salmon')\n",
        "\n",
        "plt.scatter(3, 0, color='red')\n",
        "plt.scatter(6, 0,color='red')\n",
        "\n",
        "plt.text(7, f(7), 'p(x)', color='blue', fontsize=14)\n",
        "\n",
        "plt.axvline(3, ymax=f(3)/f(x[-1]), color='red', linestyle='--')\n",
        "plt.axvline(6, ymax=f(6)/f(x[-1]), color='red', linestyle='--')\n",
        "\n",
        "\n",
        "#plt.xlim(-10,10)\n",
        "\n",
        "plt.xticks(np.arange(-10, 11, 1))\n",
        "\n",
        "plt.show()"
      ]
    },
    {
      "cell_type": "code",
      "source": [
        "x[-1]"
      ],
      "metadata": {
        "id": "E0dOypyVf0vR"
      },
      "execution_count": null,
      "outputs": []
    },
    {
      "cell_type": "code",
      "source": [],
      "metadata": {
        "id": "MO9XZvEMPiVG"
      },
      "execution_count": null,
      "outputs": []
    },
    {
      "cell_type": "code",
      "source": [
        "import numpy as np\n",
        "import matplotlib.pyplot as plt\n",
        "\n",
        "# 0 ile 1 arasında 100 adet nokta oluşturun\n",
        "x = np.linspace(0, 1, 100)\n",
        "\n",
        "# Dalgalı bir fonksiyon örneği olarak sinüs fonksiyonu kullanalım\n",
        "y = np.sin(2 * np.pi * x)\n",
        "\n",
        "# Grafiği çizelim\n",
        "plt.plot(x, y)\n",
        "plt.title('Dalgalı Fonksiyon')\n",
        "plt.xlabel('x')\n",
        "plt.ylabel('f(x)')\n",
        "plt.show()\n",
        "\n"
      ],
      "metadata": {
        "id": "ha-QOZkrOnhw"
      },
      "execution_count": null,
      "outputs": []
    },
    {
      "cell_type": "code",
      "source": [
        "import matplotlib.pyplot as plt\n",
        "\n",
        "# Scatter plot için örnek veriler oluşturalım\n",
        "x = [1, 2, 3, 4, 5]\n",
        "y = [2, 4, 6, 8, 10]\n",
        "\n",
        "# Scatter plot'u çizelim\n",
        "plt.scatter(x, y)\n",
        "plt.title('Scatter Plot')\n",
        "plt.xlabel('x')\n",
        "plt.ylabel('y')\n",
        "plt.xticks(0.5)\n",
        "# Gridleri gösterelim\n",
        "plt.grid(True)\n",
        "\n",
        "# Grafiği gösterelim\n",
        "plt.show()\n"
      ],
      "metadata": {
        "id": "XLU6-8oGTrGB"
      },
      "execution_count": null,
      "outputs": []
    },
    {
      "cell_type": "code",
      "source": [],
      "metadata": {
        "id": "irvj-5zQWlIX"
      },
      "execution_count": null,
      "outputs": []
    }
  ]
}