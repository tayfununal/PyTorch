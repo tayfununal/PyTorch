{
  "nbformat": 4,
  "nbformat_minor": 0,
  "metadata": {
    "colab": {
      "private_outputs": true,
      "provenance": [],
      "authorship_tag": "ABX9TyMQgol8GPXrIMG4Qe0WSzBu",
      "include_colab_link": true
    },
    "kernelspec": {
      "name": "python3",
      "display_name": "Python 3"
    },
    "language_info": {
      "name": "python"
    }
  },
  "cells": [
    {
      "cell_type": "markdown",
      "metadata": {
        "id": "view-in-github",
        "colab_type": "text"
      },
      "source": [
        "<a href=\"https://colab.research.google.com/github/tayfununal/PyTorch/blob/main/toy_dataset.ipynb\" target=\"_parent\"><img src=\"https://colab.research.google.com/assets/colab-badge.svg\" alt=\"Open In Colab\"/></a>"
      ]
    },
    {
      "cell_type": "code",
      "execution_count": null,
      "metadata": {
        "id": "W-SPkUTQunb1"
      },
      "outputs": [],
      "source": [
        "# These are the libraries will be used for this lab.\n",
        "\n",
        "import torch\n",
        "from torch.utils.data import Dataset\n",
        "torch.manual_seed(1)"
      ]
    },
    {
      "cell_type": "code",
      "source": [
        "class toy_dataset(Dataset):\n",
        "  def __init__(self, length=100, transform=None):\n",
        "    \n",
        "    self.len = length\n",
        "    self.x = 2 * torch.ones(length, 2)\n",
        "    self.y = torch.ones(length, 1)\n",
        "    self.transform = transform\n",
        "\n",
        "  def __getitem__(self, index):\n",
        "    sample = self.x[index], self.y[index]\n",
        "    if self.transform:\n",
        "      sample = self.transform(sample)\n",
        "    return sample\n",
        "\n",
        "  def __len__(self):\n",
        "    return self.len\n"
      ],
      "metadata": {
        "id": "MvZnjSG8uuJc"
      },
      "execution_count": null,
      "outputs": []
    },
    {
      "cell_type": "code",
      "source": [
        "dataset = toy_dataset()"
      ],
      "metadata": {
        "id": "QxI3iPCMyYF2"
      },
      "execution_count": null,
      "outputs": []
    },
    {
      "cell_type": "code",
      "source": [
        "x, y = dataset[:]"
      ],
      "metadata": {
        "id": "BeqyCn8BuuL_"
      },
      "execution_count": null,
      "outputs": []
    },
    {
      "cell_type": "code",
      "source": [
        "len(dataset)"
      ],
      "metadata": {
        "id": "mBkTKQK2uuPx"
      },
      "execution_count": null,
      "outputs": []
    },
    {
      "cell_type": "code",
      "source": [
        "for i in range(3):\n",
        "  x, y = dataset[i]\n",
        "  print('x:',x , 'y:', y)"
      ],
      "metadata": {
        "id": "XmW1tPeky1F_"
      },
      "execution_count": null,
      "outputs": []
    },
    {
      "cell_type": "markdown",
      "source": [
        "The dataset object is an Iterable; as a result, we apply the loop directly on the dataset object"
      ],
      "metadata": {
        "id": "BWfXH5DFzscz"
      }
    },
    {
      "cell_type": "code",
      "source": [
        "for x, y in dataset:\n",
        "    print(' x:', x, 'y:', y)"
      ],
      "metadata": {
        "id": "qsjZCpD_zEOK"
      },
      "execution_count": null,
      "outputs": []
    },
    {
      "cell_type": "markdown",
      "source": [
        "<h1 id=\"Transforms\">Transforms</h1>\n"
      ],
      "metadata": {
        "id": "s6dtDpCr0m1k"
      }
    },
    {
      "cell_type": "code",
      "source": [
        "# Create tranform class add_mult\n",
        "\n",
        "class add_mult(object):\n",
        "    \n",
        "    # Constructor\n",
        "    def __init__(self, addx = 1, muly = 2):\n",
        "        self.addx = addx\n",
        "        self.muly = muly\n",
        "    \n",
        "    # Executor\n",
        "    def __call__(self, sample):\n",
        "        x = sample[0]\n",
        "        y = sample[1]\n",
        "        x = x + self.addx\n",
        "        y = y * self.muly\n",
        "        sample = x, y\n",
        "        return sample"
      ],
      "metadata": {
        "id": "hNox5wsIzi32"
      },
      "execution_count": null,
      "outputs": []
    },
    {
      "cell_type": "code",
      "source": [
        "example_transform = add_mult(addx=2, muly=5) "
      ],
      "metadata": {
        "id": "mo-QsF8m00V1"
      },
      "execution_count": null,
      "outputs": []
    },
    {
      "cell_type": "code",
      "source": [
        "sample = torch.tensor([2., 2.], dtype= torch.float32), torch.tensor(1., dtype= torch.float32)\n",
        "example_transform(sample)"
      ],
      "metadata": {
        "id": "CT32KKwQ1AQZ"
      },
      "execution_count": null,
      "outputs": []
    },
    {
      "cell_type": "code",
      "source": [
        "data_transform_one = add_mult()\n",
        "dataset_ = toy_dataset(transform =data_transform)\n",
        "for x_, y_ in dataset_:\n",
        "  print('x_:', x_, 'y:', y_)"
      ],
      "metadata": {
        "id": "g20si9dT2Tjl"
      },
      "execution_count": null,
      "outputs": []
    },
    {
      "cell_type": "markdown",
      "source": [
        "<h2 id=\"Compose\">Compose more than one transform</h2>"
      ],
      "metadata": {
        "id": "X_Z4KRx57QkB"
      }
    },
    {
      "cell_type": "code",
      "source": [
        "from torchvision import transforms"
      ],
      "metadata": {
        "id": "BT3DhN9U7Nua"
      },
      "execution_count": null,
      "outputs": []
    },
    {
      "cell_type": "code",
      "source": [
        "# Create tranform class mult\n",
        "\n",
        "class mult(object):\n",
        "    \n",
        "    # Constructor\n",
        "    def __init__(self, mult = 100):\n",
        "        self.mult = mult\n",
        "        \n",
        "    # Executor\n",
        "    def __call__(self, sample):\n",
        "        x = sample[0]\n",
        "        y = sample[1]\n",
        "        x = x * self.mult\n",
        "        y = y * self.mult\n",
        "        sample = x, y\n",
        "        return sample"
      ],
      "metadata": {
        "id": "1fIzkiTz7c-i"
      },
      "execution_count": null,
      "outputs": []
    },
    {
      "cell_type": "code",
      "source": [
        "# Combine the add_mult() and mult()\n",
        "\n",
        "data_transform = transforms.Compose([add_mult(), mult()])\n",
        "print(\"The combination of transforms (Compose): \", data_transform)"
      ],
      "metadata": {
        "id": "z0U5O82k7ftc"
      },
      "execution_count": null,
      "outputs": []
    },
    {
      "cell_type": "code",
      "source": [
        "data_transform(dataset[0])"
      ],
      "metadata": {
        "id": "eYn-w4Qm7jWV"
      },
      "execution_count": null,
      "outputs": []
    },
    {
      "cell_type": "code",
      "source": [
        "dataset_compose = toy_dataset(transform = data_transform) "
      ],
      "metadata": {
        "id": "WgzY6sHy7olo"
      },
      "execution_count": null,
      "outputs": []
    },
    {
      "cell_type": "code",
      "source": [
        "dataset_compose[0]"
      ],
      "metadata": {
        "id": "hfNH1W_L8Kpl"
      },
      "execution_count": null,
      "outputs": []
    },
    {
      "cell_type": "code",
      "source": [
        "for x_, y_ in dataset_compose:\n",
        "  print('x_', x_, 'y_', y_)"
      ],
      "metadata": {
        "id": "ofl64Bnr8KsG"
      },
      "execution_count": null,
      "outputs": []
    },
    {
      "cell_type": "code",
      "source": [],
      "metadata": {
        "id": "7GQ81sg_8KuZ"
      },
      "execution_count": null,
      "outputs": []
    }
  ]
}