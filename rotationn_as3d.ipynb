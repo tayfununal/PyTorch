{
  "nbformat": 4,
  "nbformat_minor": 0,
  "metadata": {
    "colab": {
      "private_outputs": true,
      "provenance": [],
      "authorship_tag": "ABX9TyOPYTrV9TTauynfW92aK392",
      "include_colab_link": true
    },
    "kernelspec": {
      "name": "python3",
      "display_name": "Python 3"
    },
    "language_info": {
      "name": "python"
    }
  },
  "cells": [
    {
      "cell_type": "markdown",
      "metadata": {
        "id": "view-in-github",
        "colab_type": "text"
      },
      "source": [
        "<a href=\"https://colab.research.google.com/github/tayfununal/PyTorch/blob/main/rotationn_as3d.ipynb\" target=\"_parent\"><img src=\"https://colab.research.google.com/assets/colab-badge.svg\" alt=\"Open In Colab\"/></a>"
      ]
    },
    {
      "cell_type": "code",
      "execution_count": null,
      "metadata": {
        "id": "woHnFZ9-i8cR"
      },
      "outputs": [],
      "source": [
        "import torch\n",
        "import numpy as np\n",
        "import matplotlib.pyplot as plt\n",
        "import seaborn as sns\n",
        "import sklearn.datasets as datasets"
      ]
    },
    {
      "cell_type": "code",
      "source": [
        "x = torch.distributions.Uniform(low=-1, high=1)"
      ],
      "metadata": {
        "id": "U0qFGQUNjB3w"
      },
      "execution_count": null,
      "outputs": []
    },
    {
      "cell_type": "code",
      "source": [
        "x.sample([100])"
      ],
      "metadata": {
        "id": "Y8PEk7vzjN-Y"
      },
      "execution_count": null,
      "outputs": []
    },
    {
      "cell_type": "code",
      "source": [
        "sns.histplot(x.sample([1000]))"
      ],
      "metadata": {
        "id": "dL7zlvmSjPqO"
      },
      "execution_count": null,
      "outputs": []
    },
    {
      "cell_type": "code",
      "source": [
        "z1 = torch.cos(torch.pi * x.sample([1000]))"
      ],
      "metadata": {
        "id": "tg8Gz-tZjZHe"
      },
      "execution_count": null,
      "outputs": []
    },
    {
      "cell_type": "code",
      "source": [
        "sns.histplot(z1)"
      ],
      "metadata": {
        "id": "TSyPccjZlR2p"
      },
      "execution_count": null,
      "outputs": []
    },
    {
      "cell_type": "code",
      "source": [
        "data = datasets.load_digits()"
      ],
      "metadata": {
        "id": "s42_ktaKlTpf"
      },
      "execution_count": null,
      "outputs": []
    },
    {
      "cell_type": "code",
      "source": [
        "d = torch.clip(torch.from_numpy(data.data[0]),0.,1.)"
      ],
      "metadata": {
        "id": "gHgh-Ck1yn-J"
      },
      "execution_count": null,
      "outputs": []
    },
    {
      "cell_type": "code",
      "source": [
        "plt.imshow(d.reshape((8,8)), cmap=\"gray\")"
      ],
      "metadata": {
        "id": "iLv_OvawyqBA"
      },
      "execution_count": null,
      "outputs": []
    },
    {
      "cell_type": "code",
      "source": [
        "one = torch.zeros((6,6))\n",
        "one[:,3] = 1\n",
        "one[0,2] = 1\n",
        "one[1,1] = 1\n",
        "one[2,0] = 1"
      ],
      "metadata": {
        "id": "v6c9p6aVy5c5"
      },
      "execution_count": null,
      "outputs": []
    },
    {
      "cell_type": "code",
      "source": [
        "r = torch.tensor([[np.sqrt(3.)/2, -1/2, 0, 0, 0, 0],\n",
        "                  [1/2, np.sqrt(3.)/2, 0, 0, 0, 0],\n",
        "                  [0, 0, 1, 0, 0, 0],\n",
        "                  [0, 0, 0, 1, 0, 0],\n",
        "                  [0, 0, 0, 0, 1, 0],\n",
        "                  [0, 0, 0, 0, 0, 1]], dtype=torch.float32)\n",
        "\n",
        "new = torch.eye(36)\n",
        "new [0:6,0:6] = r\n",
        "new"
      ],
      "metadata": {
        "id": "XjAyUCo9j3_c"
      },
      "execution_count": null,
      "outputs": []
    },
    {
      "cell_type": "code",
      "source": [
        "plt.imshow(torch.matmul(new, torch.flatten(one)).reshape(6,6))"
      ],
      "metadata": {
        "id": "iAWyzkfKjp7E"
      },
      "execution_count": null,
      "outputs": []
    },
    {
      "cell_type": "code",
      "source": [
        "x = torch.tensor([0,1,2,3,4,5])\n",
        "konum = torch.zeros((36,2))\n",
        "k = 0\n",
        "for i in x:\n",
        "  for j in x:\n",
        "    konum[k,:] = torch.tensor([i, j])\n",
        "    k+=1"
      ],
      "metadata": {
        "id": "7c8uAwpJ05gg"
      },
      "execution_count": null,
      "outputs": []
    },
    {
      "cell_type": "code",
      "source": [
        "data3d = torch.concat((konum, one.reshape(-1,1)), axis=1)\n",
        "data3d.shape"
      ],
      "metadata": {
        "id": "9DEpaGA69kh0"
      },
      "execution_count": null,
      "outputs": []
    },
    {
      "cell_type": "code",
      "source": [
        "rot = torch.tensor([[np.sqrt(3.)/2, -1/2, 0],\n",
        "                    [1/2, np.sqrt(3.)/2, 0],\n",
        "                    [0, 0, 1]], dtype=torch.float32)\n",
        "\n",
        "rotated = torch.matmul(data3d, rot)"
      ],
      "metadata": {
        "id": "M7I2S6ogEfSa"
      },
      "execution_count": null,
      "outputs": []
    },
    {
      "cell_type": "code",
      "source": [
        "\"plt.figure(figsize=(5,5))\n",
        "\"plt.scater( rotated[:,0], rotated[:,1])"
      ],
      "metadata": {
        "id": "qVMgaLBYJMa3"
      },
      "execution_count": null,
      "outputs": []
    },
    {
      "cell_type": "code",
      "source": [
        "plt.imshow(rotated[:,2].reshape(6,6), origin=\"lower\")"
      ],
      "metadata": {
        "id": "wrNlBF620CI5"
      },
      "execution_count": null,
      "outputs": []
    },
    {
      "cell_type": "code",
      "source": [],
      "metadata": {
        "id": "wseECCXk0Cog"
      },
      "execution_count": null,
      "outputs": []
    }
  ]
}