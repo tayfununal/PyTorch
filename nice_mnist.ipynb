{
  "nbformat": 4,
  "nbformat_minor": 0,
  "metadata": {
    "colab": {
      "provenance": [],
      "gpuType": "T4",
      "authorship_tag": "ABX9TyOF3im5FVDyOa2VI3t8vloa",
      "include_colab_link": true
    },
    "kernelspec": {
      "name": "python3",
      "display_name": "Python 3"
    },
    "language_info": {
      "name": "python"
    },
    "accelerator": "GPU"
  },
  "cells": [
    {
      "cell_type": "markdown",
      "metadata": {
        "id": "view-in-github",
        "colab_type": "text"
      },
      "source": [
        "<a href=\"https://colab.research.google.com/github/tayfununal/PyTorch/blob/main/nice_mnist.ipynb\" target=\"_parent\"><img src=\"https://colab.research.google.com/assets/colab-badge.svg\" alt=\"Open In Colab\"/></a>"
      ]
    },
    {
      "cell_type": "code",
      "execution_count": 1,
      "metadata": {
        "id": "t5hSIGdS4qky"
      },
      "outputs": [],
      "source": [
        "import torch\n",
        "import numpy as np\n",
        "import matplotlib.pyplot as plt\n",
        "import seaborn as sns\n",
        "from torch import nn\n",
        "import torchvision\n",
        "from torch.utils.data import DataLoader, Dataset\n",
        "from torchvision import transforms\n",
        "\n",
        "from sklearn.datasets import load_digits\n",
        "from sklearn.datasets import make_moons"
      ]
    },
    {
      "cell_type": "code",
      "source": [
        "class Data(Dataset):\n",
        "    def __init__(self, dataset):\n",
        "        super(Data, self).__init__()\n",
        "\n",
        "        self.dataset = dataset\n",
        "\n",
        "    def __len__(self):\n",
        "        return len(self.dataset)\n",
        "\n",
        "    def __getitem__(self, idx):\n",
        "        x = self.dataset.data[idx]\n",
        "        y = self.dataset.targets[idx]\n",
        "        return x, y"
      ],
      "metadata": {
        "id": "Do8qM6_E4sPr"
      },
      "execution_count": 2,
      "outputs": []
    },
    {
      "cell_type": "code",
      "source": [
        "class NICE(nn.Module):\n",
        "    def __init__(self, input_dim, hidden_layer, num_flows=2):\n",
        "        super(NICE, self).__init__()\n",
        "\n",
        "        self.input_dim = input_dim\n",
        "        self.hidden_layer = hidden_layer\n",
        "        self.num_flows = num_flows\n",
        "\n",
        "        self.net = lambda : nn.Sequential(\n",
        "                                 nn.Linear(self.input_dim//2, self.hidden_layer), nn.ReLU(),\n",
        "                                 nn.Linear(self.hidden_layer, self.hidden_layer), nn.ReLU(),\n",
        "                                 nn.Linear(self.hidden_layer, self.hidden_layer), nn.ReLU(),\n",
        "                                 nn.Linear(self.hidden_layer, self.hidden_layer), nn.ReLU(),\n",
        "                                 nn.Linear(self.hidden_layer, self.hidden_layer), nn.ReLU(),\n",
        "                                 nn.Linear(self.hidden_layer, self.hidden_layer), nn.ReLU(),\n",
        "                                 nn.Linear(self.hidden_layer, self.hidden_layer), nn.ReLU(),\n",
        "                                 nn.Linear(self.hidden_layer, self.input_dim//2)) # input dimension must be equal to output dimension\n",
        "\n",
        "        self.m = nn.ModuleList([self.net() for _ in range(self.num_flows)])\n",
        "\n",
        "        self.s = nn.Parameter(torch.rand(input_dim), requires_grad=True)\n",
        "\n",
        "\n",
        "    def forward(self, x):\n",
        "        x = x[0].to(torch.float32)\n",
        "        x = x.view(len(x), -1,)\n",
        "        #x = (x - torch.mean(x, axis=0).reshape(1, -1)) / (torch.std(x, axis=0).reshape(1, -1) + 0.00001)\n",
        "\n",
        "        return self.f(x)\n",
        "\n",
        "    def coupling_layer(self, x, m, forward=True):\n",
        "\n",
        "        x_a = x[:, : x.shape[1]//2].reshape((len(x), -1,))\n",
        "        x_b = x[:, x.shape[1]//2 :].reshape((len(x), -1, ))\n",
        "\n",
        "        if forward:\n",
        "            y_b = x_b - m(x_a)\n",
        "        else:\n",
        "            y_b = x_b + m(x_a)\n",
        "\n",
        "        z = torch.concat((x_a, y_b), axis=1)\n",
        "\n",
        "        return z\n",
        "\n",
        "\n",
        "    def f(self, x):\n",
        "        z = x\n",
        "\n",
        "        for model in self.m:\n",
        "            z = self.coupling_layer(z, model, forward=True)\n",
        "\n",
        "        z = z * torch.exp(-self.s)\n",
        "        log_det_j = torch.sum(self.s)      # eksi olabilir başında\n",
        "\n",
        "        return z, log_det_j\n",
        "\n",
        "    def f_inv(self, z):\n",
        "        x = z * torch.exp(self.s)\n",
        "\n",
        "        for model in reversed(self.m):\n",
        "            x = self.coupling_layer(x, model, forward=False)\n",
        "\n",
        "        return x\n",
        "\n",
        "    def criterion(self, z, prior, log_det_j, reduction = \"sum\"):\n",
        "\n",
        "        if reduction == \"sum\":\n",
        "            loss = - (prior.log_prob(z) - log_det_j).sum()\n",
        "        else:\n",
        "\n",
        "            loss = - (prior.log_prob(z).sum(dim=1) - log_det_j).mean()\n",
        "        return loss"
      ],
      "metadata": {
        "id": "Gb_fRI-a4sSL"
      },
      "execution_count": 3,
      "outputs": []
    },
    {
      "cell_type": "code",
      "source": [
        "train_image = torchvision.datasets.MNIST(root='dataset', train=True, download=True, transform=transforms.ToTensor())\n",
        "test_image = torchvision.datasets.MNIST(root='dataset', train=False, download=True, transform=transforms.ToTensor())\n",
        "\n",
        "train_data = Data(train_image)\n",
        "test_data = Data(test_image)"
      ],
      "metadata": {
        "colab": {
          "base_uri": "https://localhost:8080/"
        },
        "id": "o49UogIA4sUc",
        "outputId": "68863831-0bec-46a8-b7e2-b6f8d9e3c4b0"
      },
      "execution_count": 4,
      "outputs": [
        {
          "output_type": "stream",
          "name": "stdout",
          "text": [
            "Downloading http://yann.lecun.com/exdb/mnist/train-images-idx3-ubyte.gz\n",
            "Downloading http://yann.lecun.com/exdb/mnist/train-images-idx3-ubyte.gz to dataset/MNIST/raw/train-images-idx3-ubyte.gz\n"
          ]
        },
        {
          "output_type": "stream",
          "name": "stderr",
          "text": [
            "100%|██████████| 9912422/9912422 [00:00<00:00, 162910398.83it/s]\n"
          ]
        },
        {
          "output_type": "stream",
          "name": "stdout",
          "text": [
            "Extracting dataset/MNIST/raw/train-images-idx3-ubyte.gz to dataset/MNIST/raw\n",
            "\n",
            "Downloading http://yann.lecun.com/exdb/mnist/train-labels-idx1-ubyte.gz\n",
            "Downloading http://yann.lecun.com/exdb/mnist/train-labels-idx1-ubyte.gz to dataset/MNIST/raw/train-labels-idx1-ubyte.gz\n"
          ]
        },
        {
          "output_type": "stream",
          "name": "stderr",
          "text": [
            "100%|██████████| 28881/28881 [00:00<00:00, 134445831.10it/s]\n"
          ]
        },
        {
          "output_type": "stream",
          "name": "stdout",
          "text": [
            "Extracting dataset/MNIST/raw/train-labels-idx1-ubyte.gz to dataset/MNIST/raw\n",
            "\n",
            "Downloading http://yann.lecun.com/exdb/mnist/t10k-images-idx3-ubyte.gz\n",
            "Downloading http://yann.lecun.com/exdb/mnist/t10k-images-idx3-ubyte.gz to dataset/MNIST/raw/t10k-images-idx3-ubyte.gz\n"
          ]
        },
        {
          "output_type": "stream",
          "name": "stderr",
          "text": [
            "100%|██████████| 1648877/1648877 [00:00<00:00, 64229314.11it/s]\n"
          ]
        },
        {
          "output_type": "stream",
          "name": "stdout",
          "text": [
            "Extracting dataset/MNIST/raw/t10k-images-idx3-ubyte.gz to dataset/MNIST/raw\n",
            "\n",
            "Downloading http://yann.lecun.com/exdb/mnist/t10k-labels-idx1-ubyte.gz\n",
            "Downloading http://yann.lecun.com/exdb/mnist/t10k-labels-idx1-ubyte.gz to dataset/MNIST/raw/t10k-labels-idx1-ubyte.gz\n"
          ]
        },
        {
          "output_type": "stream",
          "name": "stderr",
          "text": [
            "100%|██████████| 4542/4542 [00:00<00:00, 14302198.77it/s]\n"
          ]
        },
        {
          "output_type": "stream",
          "name": "stdout",
          "text": [
            "Extracting dataset/MNIST/raw/t10k-labels-idx1-ubyte.gz to dataset/MNIST/raw\n",
            "\n"
          ]
        }
      ]
    },
    {
      "cell_type": "code",
      "source": [
        "image_train, category_train = train_data[0]\n",
        "image_test, category_test = test_data[0]\n",
        "\n",
        "\n",
        "plt.figure(figsize=(5,5))\n",
        "plt.subplot(1,2,1)\n",
        "plt.imshow(image_train.reshape((28,28)), cmap='gray')\n",
        "plt.title(f'train\\ntarget : {category_train}')\n",
        "plt.axis('off')\n",
        "\n",
        "plt.subplot(1,2,2)\n",
        "plt.imshow(image_test.reshape((28,28)), cmap='gray')\n",
        "plt.title(f'test\\ntarget : {category_test}')\n",
        "plt.axis('off')\n",
        "\n",
        "plt.show()"
      ],
      "metadata": {
        "colab": {
          "base_uri": "https://localhost:8080/",
          "height": 256
        },
        "id": "8Zbs0NRj4sXG",
        "outputId": "077ae573-0bb1-4a23-c8dc-49d3c06805e8"
      },
      "execution_count": 5,
      "outputs": [
        {
          "output_type": "display_data",
          "data": {
            "text/plain": [
              "<Figure size 500x500 with 2 Axes>"
            ],
            "image/png": "[encoded data removed]"
          },
          "metadata": {}
        }
      ]
    },
    {
      "cell_type": "code",
      "source": [
        "data_dim = 28*28\n",
        "prior = torch.distributions.Normal(loc=torch.zeros((data_dim)), scale=torch.ones((data_dim)))\n",
        "\n",
        "model = NICE(input_dim=data_dim, hidden_layer=64, num_flows=5)\n",
        "\n",
        "train_loader = DataLoader(train_data, batch_size=30000)"
      ],
      "metadata": {
        "id": "zE04QHeM4sZL"
      },
      "execution_count": 6,
      "outputs": []
    },
    {
      "cell_type": "code",
      "source": [
        "epochs = 500\n",
        "optimizer = torch.optim.Adam(model.parameters(), lr=0.03)\n",
        "\n",
        "COST = []\n",
        "\n",
        "for epoch in range(epochs):\n",
        "    total_loss = []\n",
        "\n",
        "    for x in train_loader:\n",
        "\n",
        "        z, log_det_j = model.forward(x)\n",
        "        loss = model.criterion(z, prior, log_det_j, reduction=\"avg\")\n",
        "\n",
        "        optimizer.zero_grad()\n",
        "        loss.backward()\n",
        "        optimizer.step()\n",
        "\n",
        "        total_loss.append(loss.item())\n",
        "\n",
        "    COST.append(np.mean(total_loss))\n",
        "\n",
        "    if epoch==0:\n",
        "        print(\"Epoch : \", epoch+1, \"  -----------> Loss : \", np.mean(total_loss))\n",
        "    elif (epoch+1)%10 == 0:\n",
        "        print(\"Epoch : \", epoch+1, \"  -----------> Loss : \", np.mean(total_loss))"
      ],
      "metadata": {
        "colab": {
          "base_uri": "https://localhost:8080/"
        },
        "id": "pmISR2Nl4sbL",
        "outputId": "3d077c48-ec8f-4094-8b9c-3db3e820fcba"
      },
      "execution_count": 7,
      "outputs": [
        {
          "output_type": "stream",
          "name": "stdout",
          "text": [
            "Epoch :  1   -----------> Loss :  83351579.4375\n",
            "Epoch :  10   -----------> Loss :  519684.90625\n",
            "Epoch :  20   -----------> Loss :  341229.3125\n",
            "Epoch :  30   -----------> Loss :  284896.125\n",
            "Epoch :  40   -----------> Loss :  252847.3515625\n",
            "Epoch :  50   -----------> Loss :  230659.6953125\n",
            "Epoch :  60   -----------> Loss :  215070.7421875\n",
            "Epoch :  70   -----------> Loss :  202887.5546875\n",
            "Epoch :  80   -----------> Loss :  192711.375\n",
            "Epoch :  90   -----------> Loss :  183780.3203125\n",
            "Epoch :  100   -----------> Loss :  175857.453125\n",
            "Epoch :  110   -----------> Loss :  168537.8125\n",
            "Epoch :  120   -----------> Loss :  161654.1796875\n",
            "Epoch :  130   -----------> Loss :  155472.0\n",
            "Epoch :  140   -----------> Loss :  149588.9140625\n",
            "Epoch :  150   -----------> Loss :  143454.890625\n",
            "Epoch :  160   -----------> Loss :  138451.125\n",
            "Epoch :  170   -----------> Loss :  132100.6796875\n",
            "Epoch :  180   -----------> Loss :  128439.58203125\n",
            "Epoch :  190   -----------> Loss :  122110.8359375\n",
            "Epoch :  200   -----------> Loss :  116907.453125\n",
            "Epoch :  210   -----------> Loss :  112046.3046875\n",
            "Epoch :  220   -----------> Loss :  108097.5859375\n",
            "Epoch :  230   -----------> Loss :  104075.984375\n",
            "Epoch :  240   -----------> Loss :  101129.37890625\n",
            "Epoch :  250   -----------> Loss :  97887.25\n",
            "Epoch :  260   -----------> Loss :  94731.80859375\n",
            "Epoch :  270   -----------> Loss :  91954.71875\n",
            "Epoch :  280   -----------> Loss :  89039.9453125\n",
            "Epoch :  290   -----------> Loss :  86948.10546875\n",
            "Epoch :  300   -----------> Loss :  146020.484375\n",
            "Epoch :  310   -----------> Loss :  100358.51953125\n",
            "Epoch :  320   -----------> Loss :  93847.2890625\n",
            "Epoch :  330   -----------> Loss :  89640.375\n",
            "Epoch :  340   -----------> Loss :  85939.42578125\n",
            "Epoch :  350   -----------> Loss :  83078.82421875\n",
            "Epoch :  360   -----------> Loss :  80025.0859375\n",
            "Epoch :  370   -----------> Loss :  77514.3828125\n",
            "Epoch :  380   -----------> Loss :  75207.6953125\n",
            "Epoch :  390   -----------> Loss :  73046.5546875\n",
            "Epoch :  400   -----------> Loss :  70987.95703125\n",
            "Epoch :  410   -----------> Loss :  69031.66796875\n",
            "Epoch :  420   -----------> Loss :  67202.55859375\n",
            "Epoch :  430   -----------> Loss :  65436.611328125\n",
            "Epoch :  440   -----------> Loss :  63751.484375\n",
            "Epoch :  450   -----------> Loss :  62104.73828125\n",
            "Epoch :  460   -----------> Loss :  60533.2734375\n",
            "Epoch :  470   -----------> Loss :  59025.048828125\n",
            "Epoch :  480   -----------> Loss :  57584.322265625\n",
            "Epoch :  490   -----------> Loss :  56168.076171875\n",
            "Epoch :  500   -----------> Loss :  54832.681640625\n"
          ]
        }
      ]
    },
    {
      "cell_type": "code",
      "source": [
        "plt.plot(COST)"
      ],
      "metadata": {
        "colab": {
          "base_uri": "https://localhost:8080/",
          "height": 463
        },
        "id": "DbatHxEn4sdd",
        "outputId": "0e858a6d-a635-4091-e060-1e06642f7415"
      },
      "execution_count": 8,
      "outputs": [
        {
          "output_type": "execute_result",
          "data": {
            "text/plain": [
              "[<matplotlib.lines.Line2D at 0x7ecae9d154b0>]"
            ]
          },
          "metadata": {},
          "execution_count": 8
        },
        {
          "output_type": "display_data",
          "data": {
            "text/plain": [
              "<Figure size 640x480 with 1 Axes>"
            ],
            "image/png": "[encoded data removed]"
          },
          "metadata": {}
        }
      ]
    },
    {
      "cell_type": "code",
      "source": [
        "test = prior.sample((50,))\n",
        "test"
      ],
      "metadata": {
        "colab": {
          "base_uri": "https://localhost:8080/"
        },
        "id": "OvbEnKvl4sfu",
        "outputId": "64dfab39-6430-46f3-f5c4-6202562ac540"
      },
      "execution_count": 9,
      "outputs": [
        {
          "output_type": "execute_result",
          "data": {
            "text/plain": [
              "tensor([[ 0.6077,  0.8858,  1.2036,  ..., -1.5062,  0.9240,  0.8399],\n",
              "        [-0.4879, -1.2420, -0.8708,  ...,  2.3522, -1.2461,  0.4959],\n",
              "        [-0.1457,  0.3488, -0.3792,  ..., -0.6915, -0.7831, -0.4634],\n",
              "        ...,\n",
              "        [ 0.5431, -0.4176,  0.5603,  ..., -0.5961, -0.1892, -0.7135],\n",
              "        [-1.6699, -0.6298, -0.5674,  ..., -0.7411,  0.3892,  0.4616],\n",
              "        [ 0.4226,  0.1085,  1.0010,  ..., -0.3917,  0.0262, -1.1329]])"
            ]
          },
          "metadata": {},
          "execution_count": 9
        }
      ]
    },
    {
      "cell_type": "code",
      "source": [
        "sonuc = model.f_inv(test)\n",
        "sonuc[0].shape"
      ],
      "metadata": {
        "colab": {
          "base_uri": "https://localhost:8080/"
        },
        "id": "VVj1Wx-N4shz",
        "outputId": "91509577-4af2-4bcc-f1a6-b1fb9955f7a9"
      },
      "execution_count": 10,
      "outputs": [
        {
          "output_type": "execute_result",
          "data": {
            "text/plain": [
              "torch.Size([784])"
            ]
          },
          "metadata": {},
          "execution_count": 10
        }
      ]
    },
    {
      "cell_type": "code",
      "source": [
        "plt.figure(figsize=(12, 12))\n",
        "\n",
        "for i in range(1, 11):\n",
        "    plt.subplot(1,10,i)\n",
        "    plt.imshow(sonuc[(i-1)*4].detach().numpy().reshape((28,28)), cmap='gray')\n",
        "    plt.axis('off')\n",
        "\n",
        "plt.show()"
      ],
      "metadata": {
        "colab": {
          "base_uri": "https://localhost:8080/",
          "height": 115
        },
        "id": "1jsrBvjo4skE",
        "outputId": "5184e198-b16a-46d1-c27f-c49aa0b90fdc"
      },
      "execution_count": 15,
      "outputs": [
        {
          "output_type": "display_data",
          "data": {
            "text/plain": [
              "<Figure size 1200x1200 with 10 Axes>"
            ],
            "image/png": "[encoded data removed]"
          },
          "metadata": {}
        }
      ]
    },
    {
      "cell_type": "code",
      "source": [],
      "metadata": {
        "id": "OLsyHHg1IMcz"
      },
      "execution_count": null,
      "outputs": []
    }
  ]
}