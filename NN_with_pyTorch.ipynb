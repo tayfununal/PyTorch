{
  "nbformat": 4,
  "nbformat_minor": 0,
  "metadata": {
    "colab": {
      "name": "NN_with_pyTorch.ipynb",
      "private_outputs": true,
      "provenance": [],
      "authorship_tag": "ABX9TyNy6d+PMxcqaKA5SKwCNSZi",
      "include_colab_link": true
    },
    "kernelspec": {
      "name": "python3",
      "display_name": "Python 3"
    },
    "language_info": {
      "name": "python"
    }
  },
  "cells": [
    {
      "cell_type": "markdown",
      "metadata": {
        "id": "view-in-github",
        "colab_type": "text"
      },
      "source": [
        "<a href=\"https://colab.research.google.com/github/tayfununal/PyTorch/blob/main/NN_with_pyTorch.ipynb\" target=\"_parent\"><img src=\"https://colab.research.google.com/assets/colab-badge.svg\" alt=\"Open In Colab\"/></a>"
      ]
    },
    {
      "cell_type": "code",
      "execution_count": null,
      "metadata": {
        "id": "Q5hbqXbW0sKI"
      },
      "outputs": [],
      "source": [
        "import torch\n",
        "from torch import nn\n",
        "import pandas as pd\n",
        "import numpy as np\n",
        "\n",
        "!pip install playground-data\n",
        "import plygdata as pg"
      ]
    },
    {
      "cell_type": "code",
      "source": [
        "device = \"cuda\" if torch.cuda.is_available() else \"cpu\"\n",
        "print(f\"Using {device} device\")"
      ],
      "metadata": {
        "id": "D13kdsIj26UL"
      },
      "execution_count": null,
      "outputs": []
    },
    {
      "cell_type": "code",
      "source": [
        "class Model(nn.Module):\n",
        "\n",
        "  def __init__(self, input_dim, hidden_1, hidden_2, output_dim):\n",
        "    super(Model, self).__init__()\n",
        "    \n",
        "    self.linear_1 = nn.Linear(input_dim, hidden_1)\n",
        "    self.linear_2 = nn.Linear(hidden_1, hidden_2)\n",
        "    self.linear_3 = nn.Linear(hidden_2, output_dim)\n",
        "\n",
        "  def forward(self, x):\n",
        "    x = torch.relu(self.linear_1(x))\n",
        "    x = torch.relu(self.linear_2(x))\n",
        "    x = torch.sigmoid(self.linear_3(x))\n",
        "    return x"
      ],
      "metadata": {
        "id": "yOGA6you0z1H"
      },
      "execution_count": null,
      "outputs": []
    },
    {
      "cell_type": "code",
      "source": [
        "model = Model(input_dim=2, hidden_1=32, hidden_2=32, output_dim=1).to(device)\n",
        "model"
      ],
      "metadata": {
        "id": "sKigNrf11HYl"
      },
      "execution_count": null,
      "outputs": []
    },
    {
      "cell_type": "code",
      "source": [
        "df = pd.DataFrame(pg.dataset.DataGenerator.classify_xor(1000, noise=0.1),columns=[\"x1\", \"x2\", \"y\"])"
      ],
      "metadata": {
        "id": "IthDcd_F-gMj"
      },
      "execution_count": null,
      "outputs": []
    },
    {
      "cell_type": "code",
      "source": [
        "X = df[[\"x1\",\"x2\"]].to_numpy()\n",
        "y = df[[\"y\"]].to_numpy()\n",
        "\n",
        "from torch.utils.data import TensorDataset\n",
        "\n",
        "train_ds = TensorDataset(X, y)\n",
        "torch.manual_seed(1)\n",
        "batch_size = 2\n",
        "train_dl = DataLoader(train_ds, batch_size, shuffle=True)"
      ],
      "metadata": {
        "id": "mxcqI39WADch"
      },
      "execution_count": null,
      "outputs": []
    },
    {
      "cell_type": "code",
      "source": [
        "learning_rate = 0.001\n",
        "loss_fn = nn.CrossEntropyLoss()\n",
        "optimizer = torch.optim.Adam(model.parameters(), lr=learning_rate)"
      ],
      "metadata": {
        "id": "id51h1UBBPPy"
      },
      "execution_count": null,
      "outputs": []
    },
    {
      "cell_type": "code",
      "source": [
        "num_epochs = 100\n",
        "loss_hist = [0] * num_epochs\n",
        "accuracy_hist = [0] * num_epochs\n",
        "for epoch in range(num_epochs):\n",
        "  for x_batch, y_batch in train_dl:\n",
        "    pred = model(x_batch)\n",
        "    loss = loss_fn(pred, y_batch)\n",
        "    loss.backward()\n",
        "    optimizer.step()\n",
        "    optimizer.zero_grad()\n",
        "    loss_hist[epoch] += loss.item()*y_batch.size(0)\n",
        "    is_correct = (torch.argmax(pred, dim=1) == y_batch).float()\n",
        "    accuracy_hist[epoch] += is_correct.mean()\n",
        "    loss_hist[epoch] /= len(train_dl.dataset)\n",
        "    accuracy_hist[epoch] /= len(train_dl.dataset)"
      ],
      "metadata": {
        "id": "5eNeAjJtCnwZ"
      },
      "execution_count": null,
      "outputs": []
    }
  ]
}