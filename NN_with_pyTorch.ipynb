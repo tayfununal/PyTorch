{
  "nbformat": 4,
  "nbformat_minor": 0,
  "metadata": {
    "colab": {
      "name": "NN_with_pyTorch.ipynb",
      "private_outputs": true,
      "provenance": [],
      "authorship_tag": "ABX9TyN5R4GL37okCk5P1kX1Pg76",
      "include_colab_link": true
    },
    "kernelspec": {
      "name": "python3",
      "display_name": "Python 3"
    },
    "language_info": {
      "name": "python"
    }
  },
  "cells": [
    {
      "cell_type": "markdown",
      "metadata": {
        "id": "view-in-github",
        "colab_type": "text"
      },
      "source": [
        "<a href=\"https://colab.research.google.com/github/tayfununal/PyTorch/blob/main/NN_with_pyTorch.ipynb\" target=\"_parent\"><img src=\"https://colab.research.google.com/assets/colab-badge.svg\" alt=\"Open In Colab\"/></a>"
      ]
    },
    {
      "cell_type": "code",
      "execution_count": null,
      "metadata": {
        "id": "Q5hbqXbW0sKI"
      },
      "outputs": [],
      "source": [
        "import torch\n",
        "from torch import nn\n",
        "from torch.utils.data.DataLoader import "
      ]
    },
    {
      "cell_type": "code",
      "source": [
        "device = \"cuda\" if torch.cuda.is_available() else \"cpu\"\n",
        "print(f\"Using {device} device\")"
      ],
      "metadata": {
        "id": "D13kdsIj26UL"
      },
      "execution_count": null,
      "outputs": []
    },
    {
      "cell_type": "code",
      "source": [
        "class Model(nn.Module):\n",
        "\n",
        "  def __init__(self, input_dim, hidden_1, hidden_2, output_dim):\n",
        "    super(Model, self).__init__()\n",
        "    \n",
        "    self.linear_1 = nn.Linear(input_dim, hidden_1)\n",
        "    self.linear_2 = nn.Linear(hidden_1, hidden_2)\n",
        "    self.linear_3 = nn.Linear(hidden_2, output_dim)\n",
        "\n",
        "  def forward(self, x):\n",
        "    x = torch.relu(self.linear_1(x))\n",
        "    x = torch.relu(self.linear_2(x))\n",
        "    x = self.linear_3(x)\n",
        "    return x"
      ],
      "metadata": {
        "id": "yOGA6you0z1H"
      },
      "execution_count": null,
      "outputs": []
    },
    {
      "cell_type": "code",
      "source": [
        "model = Model(input_dim=1, hidden_1=32, hidden_2=32, output_dim=2).to(device)\n",
        "model"
      ],
      "metadata": {
        "id": "sKigNrf11HYl"
      },
      "execution_count": null,
      "outputs": []
    },
    {
      "cell_type": "code",
      "source": [
        ""
      ],
      "metadata": {
        "id": "BGco7qta4i49"
      },
      "execution_count": null,
      "outputs": []
    }
  ]
}