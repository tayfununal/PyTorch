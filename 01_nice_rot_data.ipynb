{
  "nbformat": 4,
  "nbformat_minor": 0,
  "metadata": {
    "colab": {
      "provenance": [],
      "gpuType": "V100",
      "authorship_tag": "ABX9TyMPxy5FfFn5E6wz/dqkr2Kq",
      "include_colab_link": true
    },
    "kernelspec": {
      "name": "python3",
      "display_name": "Python 3"
    },
    "language_info": {
      "name": "python"
    },
    "accelerator": "GPU"
  },
  "cells": [
    {
      "cell_type": "markdown",
      "metadata": {
        "id": "view-in-github",
        "colab_type": "text"
      },
      "source": [
        "<a href=\"https://colab.research.google.com/github/tayfununal/PyTorch/blob/main/01_nice_rot_data.ipynb\" target=\"_parent\"><img src=\"https://colab.research.google.com/assets/colab-badge.svg\" alt=\"Open In Colab\"/></a>"
      ]
    },
    {
      "cell_type": "code",
      "execution_count": 1,
      "metadata": {
        "id": "lECaEbyzFNqO"
      },
      "outputs": [],
      "source": [
        "import torch\n",
        "import numpy as np\n",
        "import pandas as pd\n",
        "import matplotlib.pyplot as plt\n",
        "import seaborn as sns\n",
        "from torch import nn\n",
        "import torchvision\n",
        "from torch.utils.data import DataLoader, Dataset\n",
        "from torchvision import transforms\n",
        "\n",
        "import imutils\n",
        "\n",
        "from sklearn.datasets import load_digits\n",
        "from sklearn.model_selection import train_test_split\n",
        "from sklearn.datasets import make_moons"
      ]
    },
    {
      "cell_type": "code",
      "source": [
        "class Data(Dataset):\n",
        "    def __init__(self, dataset):\n",
        "        super(Data, self).__init__()\n",
        "\n",
        "        self.dataset = dataset\n",
        "\n",
        "    def __len__(self):\n",
        "        return len(self.dataset)\n",
        "\n",
        "    def __getitem__(self, idx):\n",
        "        x = self.dataset[idx]\n",
        "        return x"
      ],
      "metadata": {
        "id": "7s-5iiehO0SI"
      },
      "execution_count": 2,
      "outputs": []
    },
    {
      "cell_type": "code",
      "source": [
        "\n",
        "class NICE(nn.Module):\n",
        "    def __init__(self, input_dim, hidden_layer, num_flows=2):\n",
        "        super(NICE, self).__init__()\n",
        "\n",
        "        self.input_dim = input_dim\n",
        "        self.hidden_layer = hidden_layer\n",
        "        self.num_flows = num_flows\n",
        "\n",
        "        self.net = lambda : nn.Sequential(\n",
        "                                 nn.Linear(self.input_dim//2, self.hidden_layer), nn.ReLU(),\n",
        "                                 nn.Linear(self.hidden_layer, self.hidden_layer), nn.ReLU(),\n",
        "                                 nn.Linear(self.hidden_layer, self.hidden_layer), nn.ReLU(),\n",
        "                                 nn.Linear(self.hidden_layer, self.hidden_layer), nn.ReLU(),\n",
        "                                 nn.Linear(self.hidden_layer, self.hidden_layer), nn.ReLU(),\n",
        "                                 nn.Linear(self.hidden_layer, self.hidden_layer), nn.ReLU(),\n",
        "                                 nn.Linear(self.hidden_layer, self.hidden_layer), nn.ReLU(),\n",
        "                                 nn.Linear(self.hidden_layer, self.input_dim//2), nn.ReLU()) # input dimension must be equal to output dimension\n",
        "\n",
        "        self.m = nn.ModuleList([self.net() for _ in range(self.num_flows)])\n",
        "\n",
        "        self.s = nn.Parameter(torch.rand(1, input_dim), requires_grad=True)\n",
        "\n",
        "        self.per_list = self.permutation()\n",
        "\n",
        "    def forward(self, x):\n",
        "        x = x.view(len(x), -1,).to(torch.float32)\n",
        "        return self.f(x)\n",
        "\n",
        "    def permutation(self):\n",
        "        per_list =[]\n",
        "\n",
        "        p = torch.eye(self.input_dim)\n",
        "        for flow in range(self.num_flows):\n",
        "            per_list.append(p[torch.randperm(p.size()[0])])\n",
        "\n",
        "        return per_list\n",
        "\n",
        "    def coupling_layer(self, x, m, flow, forward=True):\n",
        "\n",
        "        x_a = x[:, ::2] if flow%2==0 else x[:, 1::2]\n",
        "        x_b = x[:, 1::2] if flow%2==0 else x[:, ::2]\n",
        "\n",
        "        if forward:\n",
        "            y_b = x_b - m(x_a)\n",
        "        else:\n",
        "            y_b = x_b + m(x_a)\n",
        "\n",
        "        #z = torch.concat((x_a, y_b), axis=1) if flow%2==0 else torch.concat((y_b, x_a), axis=1)\n",
        "        z = torch.empty(x.shape)\n",
        "        z[:, ::2] = x_a if flow%2==0 else y_b\n",
        "        z[:, 1::2] = y_b if flow%2==0 else x_a\n",
        "\n",
        "        return z\n",
        "\n",
        "\n",
        "    def f(self, x):\n",
        "        z = x / torch.exp(self.s)\n",
        "\n",
        "        for flow, model in enumerate(self.m, start=0):\n",
        "            z = torch.matmul(z, self.per_list[flow])\n",
        "            z = self.coupling_layer(z, model, flow, forward=True)\n",
        "\n",
        "        log_det_j = torch.sum(self.s)\n",
        "\n",
        "        return z, log_det_j\n",
        "\n",
        "    def f_inv(self, z):\n",
        "\n",
        "        for flow, model in reversed(list(enumerate(self.m, start=0))):\n",
        "            z = self.coupling_layer(z, model, flow, forward=False)\n",
        "            z = torch.matmul(z, self.per_list[flow].T)\n",
        "\n",
        "        x = z * torch.exp(self.s)\n",
        "\n",
        "        return x\n",
        "\n",
        "    def criterion(self, z, prior, log_det_j, reduction = \"sum\"):\n",
        "\n",
        "        if reduction == \"sum\":\n",
        "            loss = - (prior.log_prob(z) + log_det_j).sum()\n",
        "        else:\n",
        "\n",
        "            loss = - (prior.log_prob(z) - log_det_j).mean()\n",
        "        return loss"
      ],
      "metadata": {
        "id": "ppsqgU4WO4wO"
      },
      "execution_count": 3,
      "outputs": []
    },
    {
      "cell_type": "code",
      "source": [
        "digits = load_digits()\n",
        "\n",
        "X_train, X_test, y_train, y_test = train_test_split(digits.data, digits.target,\n",
        "                                                    stratify=digits.target,\n",
        "                                                    test_size=0.20,\n",
        "                                                   random_state=42)\n",
        "\n",
        "X_train = (X_train - X_train.min()) / (X_train.max()-X_train.min())\n",
        "\n",
        "#train_data = Data(X_train)"
      ],
      "metadata": {
        "id": "BlJdx4u-PLsX"
      },
      "execution_count": 4,
      "outputs": []
    },
    {
      "cell_type": "code",
      "source": [
        "list_train = []\n",
        "list_y_train = []\n",
        "\n",
        "for i in range(10):\n",
        "  random = np.random.randint(0,140,30) # gives 30 integers betw. 0 and 140\n",
        "\n",
        "  list_train.append(X_train[y_train[:]==i][random])\n",
        "  list_y_train.append([y_train[y_train[:]==i][random]])\n",
        "\n",
        "\n",
        "\n",
        "gen_train = torch.tensor(np.array(list_train)).reshape(300,64)\n",
        "gen_y_train = torch.tensor(np.array(list_y_train)).reshape(300)\n"
      ],
      "metadata": {
        "id": "xZQzJvzoPOBH"
      },
      "execution_count": 5,
      "outputs": []
    },
    {
      "cell_type": "code",
      "source": [
        "image=299\n",
        "plt.imshow(gen_train[image].reshape(8,8))\n",
        "plt.title('{}'.format(gen_y_train[image]))"
      ],
      "metadata": {
        "colab": {
          "base_uri": "https://localhost:8080/",
          "height": 469
        },
        "id": "9ruZZiVJwEit",
        "outputId": "04709e0c-66aa-494b-ed5d-39d414e61e88"
      },
      "execution_count": 6,
      "outputs": [
        {
          "output_type": "execute_result",
          "data": {
            "text/plain": [
              "Text(0.5, 1.0, '9')"
            ]
          },
          "metadata": {},
          "execution_count": 6
        },
        {
          "output_type": "display_data",
          "data": {
            "text/plain": [
              "<Figure size 640x480 with 1 Axes>"
            ],
            "image/png": "[encoded data removed]"
          },
          "metadata": {}
        }
      ]
    },
    {
      "cell_type": "code",
      "source": [
        "for i in range(len(gen_train)):\n",
        "  for j in [90,180,270]:\n",
        "    rotated_im = imutils.rotate(gen_train[i].numpy().reshape(8,8), angle=j).reshape((1,64))\n",
        "    gen_train = torch.cat((gen_train, torch.tensor(rotated_im)), 0)\n",
        "    gen_y_train = torch.cat((gen_y_train, gen_y_train[i].reshape((1))), 0)"
      ],
      "metadata": {
        "id": "V8nDaXdWPgwH"
      },
      "execution_count": 7,
      "outputs": []
    },
    {
      "cell_type": "code",
      "source": [
        "train_data = Data(gen_train)"
      ],
      "metadata": {
        "id": "OgM3bvoZKNqS"
      },
      "execution_count": 8,
      "outputs": []
    },
    {
      "cell_type": "code",
      "source": [
        "image=1199\n",
        "plt.imshow(gen_train[image].reshape(8,8))\n",
        "plt.title('{}'.format(gen_y_train[image]))"
      ],
      "metadata": {
        "colab": {
          "base_uri": "https://localhost:8080/",
          "height": 469
        },
        "id": "tXkPAFeV7Gwc",
        "outputId": "1c2d7458-dbe5-4afa-d6c8-4e101cb83173"
      },
      "execution_count": 9,
      "outputs": [
        {
          "output_type": "execute_result",
          "data": {
            "text/plain": [
              "Text(0.5, 1.0, '9')"
            ]
          },
          "metadata": {},
          "execution_count": 9
        },
        {
          "output_type": "display_data",
          "data": {
            "text/plain": [
              "<Figure size 640x480 with 1 Axes>"
            ],
            "image/png": "[encoded data removed]"
          },
          "metadata": {}
        }
      ]
    },
    {
      "cell_type": "code",
      "source": [
        "data_dim = 8*8\n",
        "\n",
        "prior = torch.distributions.multivariate_normal.MultivariateNormal(loc=torch.zeros((data_dim)),\n",
        "                                                    scale_tril=torch.diag(torch.ones((data_dim))))\n",
        "\"\"\"\n",
        "prior = torch.distributions.normal.Normal(loc=torch.zeros((data_dim)),\n",
        "                                                    scale=torch.ones((data_dim)))\n",
        "\"\"\"\n",
        "model = NICE(input_dim=data_dim, hidden_layer=512, num_flows=10)\n",
        "\n",
        "train_loader = DataLoader(train_data, batch_size=250, shuffle=True)\n"
      ],
      "metadata": {
        "id": "a_mcJQBSc_5F"
      },
      "execution_count": 10,
      "outputs": []
    },
    {
      "cell_type": "code",
      "source": [
        "epochs = 1000\n",
        "optimizer = torch.optim.Adam(model.parameters(), lr=0.001)   # weight_decay=0.9\n",
        "\n",
        "COST = []\n",
        "\n",
        "for epoch in range(epochs):\n",
        "    total_loss = []\n",
        "\n",
        "    for x in train_loader:\n",
        "\n",
        "        z, log_det_j = model.forward(x)\n",
        "        loss = model.criterion(z, prior, log_det_j, reduction=\"avg\")\n",
        "\n",
        "        optimizer.zero_grad()\n",
        "        loss.backward()\n",
        "        optimizer.step()\n",
        "\n",
        "        total_loss.append(loss.item())\n",
        "\n",
        "    COST.append(np.mean(total_loss))\n",
        "\n",
        "    if epoch==0:\n",
        "        print(\"Epoch : \", epoch+1, \"  -----------> Loss : \", np.mean(total_loss))\n",
        "    elif (epoch+1)%100 == 0:\n",
        "        print(\"Epoch : \", epoch+1, \"  -----------> Loss : \", np.mean(total_loss))\n",
        ""
      ],
      "metadata": {
        "colab": {
          "base_uri": "https://localhost:8080/"
        },
        "id": "B0cack7AJ3CM",
        "outputId": "7c5e61ce-917b-492f-bae5-162234446d7e"
      },
      "execution_count": 11,
      "outputs": [
        {
          "output_type": "stream",
          "name": "stdout",
          "text": [
            "Epoch :  1   -----------> Loss :  91.71099548339843\n",
            "Epoch :  100   -----------> Loss :  58.137175750732425\n",
            "Epoch :  200   -----------> Loss :  26.220858764648437\n",
            "Epoch :  300   -----------> Loss :  -4.936117362976074\n",
            "Epoch :  400   -----------> Loss :  -33.469398498535156\n",
            "Epoch :  500   -----------> Loss :  -60.34126663208008\n",
            "Epoch :  600   -----------> Loss :  -76.60957183837891\n",
            "Epoch :  700   -----------> Loss :  -89.93367919921874\n",
            "Epoch :  800   -----------> Loss :  -102.38656921386719\n",
            "Epoch :  900   -----------> Loss :  -101.54031982421876\n",
            "Epoch :  1000   -----------> Loss :  -105.66699981689453\n"
          ]
        }
      ]
    },
    {
      "cell_type": "code",
      "source": [
        "test = prior.sample((50,))\n",
        "test"
      ],
      "metadata": {
        "colab": {
          "base_uri": "https://localhost:8080/"
        },
        "id": "o4vTmx0DJ5rk",
        "outputId": "7e175c65-e6b3-4381-ad82-e04f7e1d3b99"
      },
      "execution_count": 12,
      "outputs": [
        {
          "output_type": "execute_result",
          "data": {
            "text/plain": [
              "tensor([[ 0.1411,  0.2753, -1.5029,  ..., -2.0030,  0.9533,  0.9810],\n",
              "        [ 0.6241, -0.5702,  0.5776,  ...,  0.1136, -0.7002, -0.4960],\n",
              "        [ 0.9818, -1.1503, -0.3559,  ..., -0.9094,  2.0267,  0.5477],\n",
              "        ...,\n",
              "        [-1.8963, -0.6869, -0.1829,  ..., -1.4718,  1.4658, -1.2688],\n",
              "        [ 1.2236, -1.8670, -2.0258,  ...,  0.3080,  0.0626,  0.2343],\n",
              "        [-1.5156,  0.3978,  0.0595,  ..., -1.1231,  1.0982, -1.5212]])"
            ]
          },
          "metadata": {},
          "execution_count": 12
        }
      ]
    },
    {
      "cell_type": "code",
      "source": [
        "\n",
        "sonuc = model.f_inv(test)\n",
        "sonuc\n",
        ""
      ],
      "metadata": {
        "colab": {
          "base_uri": "https://localhost:8080/"
        },
        "id": "osmraCclJ5t0",
        "outputId": "9e8896f0-8d70-4dcd-b81a-0c2e690b4718"
      },
      "execution_count": 13,
      "outputs": [
        {
          "output_type": "execute_result",
          "data": {
            "text/plain": [
              "tensor([[ 0.0094, -0.0343,  0.0340,  ...,  0.5422,  0.6372,  0.1059],\n",
              "        [ 0.0055,  0.0256,  0.4579,  ...,  0.2334,  0.0287, -0.0404],\n",
              "        [-0.0143,  0.0184, -0.0315,  ...,  0.7119,  0.1405, -0.0467],\n",
              "        ...,\n",
              "        [ 0.0130, -0.0328,  0.2451,  ..., -0.1084,  0.0516, -0.0181],\n",
              "        [-0.0025,  0.0280,  0.0330,  ...,  0.0695,  0.0691, -0.1323],\n",
              "        [ 0.0114,  0.0255,  0.0860,  ...,  0.2525, -0.0145,  0.0282]],\n",
              "       grad_fn=<MulBackward0>)"
            ]
          },
          "metadata": {},
          "execution_count": 13
        }
      ]
    },
    {
      "cell_type": "code",
      "source": [
        "test = prior.sample((1797,))\n",
        "sonuc = torch.nn.ReLU()(model.f_inv(test))\n",
        "\n",
        "fig, axs = plt.subplots(5, 10, sharex=True, sharey=True, figsize=(18, 8), subplot_kw={'xticks':[], 'yticks':[]}, gridspec_kw=dict(hspace=0.1, wspace=0.1))\n",
        "\n",
        "for i in range(0,10):\n",
        "\n",
        "    axs[0, i].imshow((sonuc[i]).detach().numpy().reshape((8,8)), cmap='binary', interpolation='nearest', clim=(0, 0.8))\n",
        "    axs[1, i].imshow((sonuc[10+i]).detach().numpy().reshape((8,8)), cmap='binary', interpolation='nearest', clim=(0, 0.8))\n",
        "    axs[2, i].imshow((sonuc[20+i]).detach().numpy().reshape((8,8)), cmap='binary', interpolation='nearest', clim=(0, 0.8))\n",
        "    axs[3, i].imshow((sonuc[30+i]).detach().numpy().reshape((8,8)), cmap='binary', interpolation='nearest', clim=(0, 0.8))\n",
        "    axs[4, i].imshow((sonuc[40+i]).detach().numpy().reshape((8,8)), cmap='binary', interpolation='nearest', clim=(0, 0.8))\n",
        "fig.show()"
      ],
      "metadata": {
        "colab": {
          "base_uri": "https://localhost:8080/",
          "height": 652
        },
        "id": "yWSekFGVJ5wd",
        "outputId": "ab567653-3d40-47aa-e863-1db293c0374a"
      },
      "execution_count": 14,
      "outputs": [
        {
          "output_type": "display_data",
          "data": {
            "text/plain": [
              "<Figure size 1800x800 with 50 Axes>"
            ],
            "image/png": "[encoded data removed]"
          },
          "metadata": {}
        }
      ]
    },
    {
      "cell_type": "code",
      "source": [],
      "metadata": {
        "id": "MMoFQngAJ5yX"
      },
      "execution_count": 14,
      "outputs": []
    }
  ]
}