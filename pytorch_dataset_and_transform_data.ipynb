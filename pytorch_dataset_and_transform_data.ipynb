{
  "nbformat": 4,
  "nbformat_minor": 0,
  "metadata": {
    "colab": {
      "private_outputs": true,
      "provenance": [],
      "authorship_tag": "ABX9TyN5xcBHe1lnYUy/LxW8sodB",
      "include_colab_link": true
    },
    "kernelspec": {
      "name": "python3",
      "display_name": "Python 3"
    },
    "language_info": {
      "name": "python"
    }
  },
  "cells": [
    {
      "cell_type": "markdown",
      "metadata": {
        "id": "view-in-github",
        "colab_type": "text"
      },
      "source": [
        "<a href=\"https://colab.research.google.com/github/tayfununal/PyTorch/blob/main/pytorch_dataset_and_transform_data.ipynb\" target=\"_parent\"><img src=\"https://colab.research.google.com/assets/colab-badge.svg\" alt=\"Open In Colab\"/></a>"
      ]
    },
    {
      "cell_type": "code",
      "execution_count": null,
      "metadata": {
        "id": "1Kj0yo1iEZOS"
      },
      "outputs": [],
      "source": [
        "import torch\n",
        "import numpy as np\n",
        "import matplotlib.pyplot as plt\n",
        "%matplotlib inline"
      ]
    },
    {
      "cell_type": "code",
      "source": [
        "x = torch.linspace(0, 2*np.pi, 100)"
      ],
      "metadata": {
        "id": "rVPP4XvcEf8W"
      },
      "execution_count": null,
      "outputs": []
    },
    {
      "cell_type": "code",
      "source": [
        "plt.plot(x, np.sin(x))"
      ],
      "metadata": {
        "id": "5Ke-fhhfEnG0"
      },
      "execution_count": null,
      "outputs": []
    },
    {
      "cell_type": "code",
      "source": [
        "from torch.utils.data import Dataset\n",
        "from torchvision import transforms"
      ],
      "metadata": {
        "id": "vHfVZJOZEsbM"
      },
      "execution_count": null,
      "outputs": []
    },
    {
      "cell_type": "code",
      "source": [
        "class toy_set(Dataset):\n",
        "\n",
        "  def __init__(self, length=100, transform=None):\n",
        "\n",
        "    self.length = length\n",
        "    self.transform = transform\n",
        "\n",
        "    self.x = torch.normal(mean=0, std=1, size=((self.length,2)))\n",
        "    self.y = torch.ones((self.length))\n",
        "\n",
        "  def __getitem__(self, index):\n",
        "\n",
        "    sample = self.x[index], self.y[index]\n",
        "\n",
        "    if self.transform:\n",
        "\n",
        "      sample = self.transform(sample)\n",
        "\n",
        "    return sample\n",
        "\n",
        "  def __len__(self):\n",
        "    return self.length\n",
        "\n",
        "class trans_one(object):\n",
        "\n",
        "  def __init__(self, add=2, mult=1):\n",
        "\n",
        "    self.add = add\n",
        "    self.mult = mult\n",
        "\n",
        "  def __call__(self, sample):\n",
        "\n",
        "    x = sample[0]\n",
        "    y = sample[1]\n",
        "\n",
        "    x_trans = x + self.add\n",
        "    y_trans = y * self.mult\n",
        "\n",
        "    sample = x_trans, y_trans\n",
        "    return  sample\n",
        "\n",
        "class trans_two(object):\n",
        "  def __init__(self, mult=100):\n",
        "    self.mult = mult\n",
        "\n",
        "  def __call__(self, sample):\n",
        "\n",
        "    x = sample[0]\n",
        "    y = sample[1]\n",
        "\n",
        "    x_trans = x * self.mult\n",
        "    y_trans = y * self.mult\n",
        "\n",
        "    sample = x_trans, y_trans\n",
        "    return sample"
      ],
      "metadata": {
        "id": "q3aAMHXtRgoa"
      },
      "execution_count": null,
      "outputs": []
    },
    {
      "cell_type": "code",
      "source": [
        "#transform_data_one = trans_one(add=5, mult=3)\n",
        "#transform_data_two = trans_two(mult=100)\n",
        "\n",
        "trans = transforms.Compose([trans_one(add=4, mult=1), trans_two(mult=100)])\n",
        "\n",
        "dataset_ = toy_set(length=1000, transform=trans)"
      ],
      "metadata": {
        "id": "NoGQ1QrfTnNR"
      },
      "execution_count": null,
      "outputs": []
    },
    {
      "cell_type": "code",
      "source": [
        "a = dataset_[:][0][:,0]\n",
        "b = dataset_[:][0][:,1]\n",
        "plt.scatter(a, b)"
      ],
      "metadata": {
        "id": "Glp40_TxUA9C"
      },
      "execution_count": null,
      "outputs": []
    },
    {
      "cell_type": "code",
      "source": [
        "dataset_[0]"
      ],
      "metadata": {
        "id": "y-Y7iI-pXSxp"
      },
      "execution_count": null,
      "outputs": []
    },
    {
      "cell_type": "code",
      "source": [],
      "metadata": {
        "id": "DKJFWAPiYiBZ"
      },
      "execution_count": null,
      "outputs": []
    }
  ]
}