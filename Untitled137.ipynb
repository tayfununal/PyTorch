{
  "nbformat": 4,
  "nbformat_minor": 0,
  "metadata": {
    "colab": {
      "private_outputs": true,
      "provenance": [],
      "authorship_tag": "ABX9TyOmi1+O+cm/tHNHVHXL/Hx1",
      "include_colab_link": true
    },
    "kernelspec": {
      "name": "python3",
      "display_name": "Python 3"
    },
    "language_info": {
      "name": "python"
    }
  },
  "cells": [
    {
      "cell_type": "markdown",
      "metadata": {
        "id": "view-in-github",
        "colab_type": "text"
      },
      "source": [
        "<a href=\"https://colab.research.google.com/github/tayfununal/PyTorch/blob/main/Untitled137.ipynb\" target=\"_parent\"><img src=\"https://colab.research.google.com/assets/colab-badge.svg\" alt=\"Open In Colab\"/></a>"
      ]
    },
    {
      "cell_type": "code",
      "execution_count": null,
      "metadata": {
        "id": "lr1U_WQrCR5n"
      },
      "outputs": [],
      "source": [
        "import numpy as np\n",
        "import matplotlib.pyplot as plt\n",
        "import pandas as pd\n",
        "import torch\n",
        "import seaborn as sns"
      ]
    },
    {
      "cell_type": "code",
      "source": [
        "x_1 = torch.normal(torch.tensor(0.), torch.tensor(1.,), size=(500,2))\n",
        "x_2 = torch.normal(torch.tensor(5.), torch.tensor(1.,), size=(500,2))\n",
        "\n",
        "y_1 = torch.zeros((500,1))\n",
        "y_2 = torch.ones((500,1))\n",
        "\n",
        "x = torch.concat((x_1, x_2), axis=0)\n",
        "y = torch.concat((y_1, y_2), axis=0)\n",
        "\n",
        "data = torch.concat((x,y), axis=1)"
      ],
      "metadata": {
        "id": "QgicSWttCecJ"
      },
      "execution_count": null,
      "outputs": []
    },
    {
      "cell_type": "code",
      "source": [
        "data = pd.DataFrame(data, columns=['x1', 'x2', 'y'])"
      ],
      "metadata": {
        "id": "SRJcMqTqDp1p"
      },
      "execution_count": null,
      "outputs": []
    },
    {
      "cell_type": "code",
      "source": [
        "data"
      ],
      "metadata": {
        "id": "FKjyg_xJHBpY"
      },
      "execution_count": null,
      "outputs": []
    },
    {
      "cell_type": "code",
      "source": [
        "sns.scatterplot(data=data, x='x1', y='x2', hue='y')"
      ],
      "metadata": {
        "id": "4G-GCexzE2yZ"
      },
      "execution_count": null,
      "outputs": []
    },
    {
      "cell_type": "code",
      "source": [
        "class Perceptron:\n",
        "  def __init__(self, number_feature):\n",
        "    self.number_feature = number_feature\n",
        "    self.weight = torch.zeros(number_feature)\n",
        "    self.bias = torch.tensor(0.)\n",
        "\n",
        "  def forward(self, x):\n",
        "    prediction = torch.dot(x, self.weight) + self.bias\n",
        "\n",
        "    prediction = torch.where(prediction<0., 0., 1.)\n",
        "\n",
        "    return prediction\n",
        "\n",
        "  def update(self, x, y_true):\n",
        "    y_hat = self.forward(x)\n",
        "    error = y_true - y_hat\n",
        "\n",
        "    self.weight += error * x\n",
        "    self.bias += error\n",
        "\n",
        "    return error"
      ],
      "metadata": {
        "id": "c9B_CR8VGVR5"
      },
      "execution_count": null,
      "outputs": []
    },
    {
      "cell_type": "code",
      "source": [
        "ppn = Perceptron(number_feature = 2)"
      ],
      "metadata": {
        "id": "QEHfjf6CIzlp"
      },
      "execution_count": null,
      "outputs": []
    },
    {
      "cell_type": "code",
      "source": [
        "def train(model, x, y, epochs):\n",
        "\n",
        "  for i in range(epochs):\n",
        "    error_count= 0\n",
        "    for a, b in zip(x, y):\n",
        "      error = model.update(a, b)\n",
        "      error_count += abs(error)\n",
        "\n",
        "    print(error_count)\n"
      ],
      "metadata": {
        "id": "eztMHTlEI6JP"
      },
      "execution_count": null,
      "outputs": []
    },
    {
      "cell_type": "code",
      "source": [
        "x = data[['x1','x2']].values\n",
        "y = data['y'].values\n",
        "\n",
        "x = torch.from_numpy(x)\n",
        "y = torch.from_numpy(y)\n",
        "train(ppn, x , y , 20)"
      ],
      "metadata": {
        "id": "JK1DVuHCOZi3"
      },
      "execution_count": null,
      "outputs": []
    },
    {
      "cell_type": "code",
      "source": [
        "ppn.weight"
      ],
      "metadata": {
        "id": "w0SMNTMyOvhG"
      },
      "execution_count": null,
      "outputs": []
    },
    {
      "cell_type": "code",
      "source": [
        "def plot_boundary(model):\n",
        "\n",
        "    w1, w2 = model.weight[0], model.weight[1]\n",
        "    b = model.bias\n",
        "\n",
        "    x1_min = -5\n",
        "    x2_min = (-(w1 * x1_min) - b) / w2\n",
        "\n",
        "    x1_max = 10\n",
        "    x2_max = (-(w1 * x1_max) - b) / w2\n",
        "\n",
        "    return x1_min, x1_max, x2_min, x2_max\n",
        "\n",
        "x1_min, x1_max, x2_min, x2_max = plot_boundary(ppn)\n",
        "plt.plot([x1_min, x1_max], [x2_min, x2_max], color=\"k\")\n",
        "sns.scatterplot(data=data, x='x1', y='x2', hue='y')"
      ],
      "metadata": {
        "id": "sYBuoWH5QC_G"
      },
      "execution_count": null,
      "outputs": []
    },
    {
      "cell_type": "code",
      "source": [],
      "metadata": {
        "id": "eOU03hfLWCpV"
      },
      "execution_count": null,
      "outputs": []
    }
  ]
}