{
  "nbformat": 4,
  "nbformat_minor": 0,
  "metadata": {
    "colab": {
      "private_outputs": true,
      "provenance": [],
      "authorship_tag": "ABX9TyM/Z1WJEv46KJoQWwITbO1h",
      "include_colab_link": true
    },
    "kernelspec": {
      "name": "python3",
      "display_name": "Python 3"
    },
    "language_info": {
      "name": "python"
    }
  },
  "cells": [
    {
      "cell_type": "markdown",
      "metadata": {
        "id": "view-in-github",
        "colab_type": "text"
      },
      "source": [
        "<a href=\"https://colab.research.google.com/github/tayfununal/PyTorch/blob/main/regression_without_nnModule.ipynb\" target=\"_parent\"><img src=\"https://colab.research.google.com/assets/colab-badge.svg\" alt=\"Open In Colab\"/></a>"
      ]
    },
    {
      "cell_type": "code",
      "execution_count": null,
      "metadata": {
        "id": "uISOUBCpEK2j"
      },
      "outputs": [],
      "source": [
        "import torch\n",
        "import numpy as np\n",
        "from torch import nn\n",
        "import matplotlib.pyplot as plt\n",
        "from torch.utils.data import Dataset, DataLoader\n",
        "\n",
        "torch.manual_seed(1)"
      ]
    },
    {
      "cell_type": "code",
      "source": [
        "class Data(Dataset):\n",
        "  \n",
        "  def __init__(self):\n",
        "\n",
        "    self.x = torch.arange(-4, 4, 0.1).view(-1,1)\n",
        "    self.y = -2*self.x + 1 + torch.normal(mean = 0, std = 0.5, size = self.x.shape)\n",
        "\n",
        "    self.len = self.x.shape[0]\n",
        "\n",
        "  def __getitem__(self, index):\n",
        "    sample = self.x[index], self.y[index]\n",
        "    return sample\n",
        "\n",
        "  def __len__(self):\n",
        "    return self.len\n",
        "\n"
      ],
      "metadata": {
        "id": "JOBeRmlkEcsN"
      },
      "execution_count": null,
      "outputs": []
    },
    {
      "cell_type": "code",
      "source": [
        "dataset = Data()"
      ],
      "metadata": {
        "id": "wj3GPVjUFf2T"
      },
      "execution_count": null,
      "outputs": []
    },
    {
      "cell_type": "code",
      "source": [
        "plt.scatter(dataset[:][0], dataset[:][1])\n",
        "plt.show()"
      ],
      "metadata": {
        "id": "_MhOmfF_Gadj"
      },
      "execution_count": null,
      "outputs": []
    },
    {
      "cell_type": "code",
      "source": [
        "trainloader = DataLoader(dataset=dataset, batch_size = 40)"
      ],
      "metadata": {
        "id": "p6IMt-d5Ij8b"
      },
      "execution_count": null,
      "outputs": []
    },
    {
      "cell_type": "code",
      "source": [
        "class Our_model(nn.Module):\n",
        "  def __init__(self, w, b):\n",
        "    super(Our_model, self).__init__()\n",
        "\n",
        "    self.w = w\n",
        "    self.b = b\n",
        "\n",
        "  def forward(self, x):\n",
        "    out = self.w * x + self.b\n",
        "    return out\n",
        "  \n",
        "  def loss(self, y, yhat):\n",
        "    loss = torch.mean((y - yhat)**2)\n",
        "    return loss"
      ],
      "metadata": {
        "id": "ngNfKhTqOWUi"
      },
      "execution_count": null,
      "outputs": []
    },
    {
      "cell_type": "code",
      "source": [
        "w = torch.tensor(5.0, requires_grad=True)\n",
        "b = torch.tensor(0.0, requires_grad=True)\n",
        "\n",
        "model = Our_model(w, b)\n",
        "\n",
        "lr = 0.1\n",
        "for epoch in range(1,30):\n",
        "\n",
        "  for x, y in trainloader:\n",
        "\n",
        "    yhat = model.forward(x)\n",
        "    loss = model.loss(y, yhat)\n",
        "    loss.backward()\n",
        "    \n",
        "    w.data = w.data - lr * w.grad.data\n",
        "    b.data = b.data - lr * b.grad.data\n",
        "\n",
        "    w.grad.data.zero_()\n",
        "    b.grad.data.zero_()\n",
        "    "
      ],
      "metadata": {
        "id": "0udn73LXN4sQ"
      },
      "execution_count": null,
      "outputs": []
    },
    {
      "cell_type": "code",
      "source": [
        "w"
      ],
      "metadata": {
        "id": "ZLvXmzZaSUx4"
      },
      "execution_count": null,
      "outputs": []
    },
    {
      "cell_type": "code",
      "source": [
        "b"
      ],
      "metadata": {
        "id": "dyUlZp5zTKVo"
      },
      "execution_count": null,
      "outputs": []
    },
    {
      "cell_type": "code",
      "source": [
        "x = torch.arange(-4, 4, 0.1).view(-1,1)\n",
        "y = model.forward(x)\n",
        "\n",
        "plt.scatter(dataset[:][0], dataset[:][1] , c=\"r\")\n",
        "plt.plot(x.detach().numpy(), y.detach().numpy())\n",
        "plt.show()"
      ],
      "metadata": {
        "id": "gI4jDtb3TLHP"
      },
      "execution_count": null,
      "outputs": []
    },
    {
      "cell_type": "code",
      "source": [],
      "metadata": {
        "id": "W7-JPh73TgAG"
      },
      "execution_count": null,
      "outputs": []
    }
  ]
}