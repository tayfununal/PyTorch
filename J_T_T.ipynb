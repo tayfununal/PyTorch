{
  "nbformat": 4,
  "nbformat_minor": 0,
  "metadata": {
    "colab": {
      "provenance": [],
      "authorship_tag": "ABX9TyOcVRZ7p3jQh12e17uCJf+x",
      "include_colab_link": true
    },
    "kernelspec": {
      "name": "python3",
      "display_name": "Python 3"
    },
    "language_info": {
      "name": "python"
    }
  },
  "cells": [
    {
      "cell_type": "markdown",
      "metadata": {
        "id": "view-in-github",
        "colab_type": "text"
      },
      "source": [
        "<a href=\"https://colab.research.google.com/github/tayfununal/PyTorch/blob/main/J_T_T.ipynb\" target=\"_parent\"><img src=\"https://colab.research.google.com/assets/colab-badge.svg\" alt=\"Open In Colab\"/></a>"
      ]
    },
    {
      "cell_type": "code",
      "execution_count": 405,
      "metadata": {
        "id": "GKODGoj0lqt8"
      },
      "outputs": [],
      "source": [
        "import numpy as np\n",
        "import torch\n",
        "from torch import nn, optim\n",
        "import torchvision\n",
        "import matplotlib.pyplot as plt\n",
        "from sklearn.datasets import load_digits"
      ]
    },
    {
      "cell_type": "code",
      "source": [
        "dataset = load_digits()"
      ],
      "metadata": {
        "id": "juu9D5C-lyhM"
      },
      "execution_count": 406,
      "outputs": []
    },
    {
      "cell_type": "code",
      "source": [
        "x = dataset.data\n",
        "y = dataset.target"
      ],
      "metadata": {
        "id": "6nlGBmDVmfvs"
      },
      "execution_count": 407,
      "outputs": []
    },
    {
      "cell_type": "code",
      "source": [
        "x.shape, y.shape"
      ],
      "metadata": {
        "colab": {
          "base_uri": "https://localhost:8080/"
        },
        "id": "Rreio82Qmmt0",
        "outputId": "e9faab49-b8f3-4214-9c16-ac776e70c5ac"
      },
      "execution_count": 408,
      "outputs": [
        {
          "output_type": "execute_result",
          "data": {
            "text/plain": [
              "((1797, 64), (1797,))"
            ]
          },
          "metadata": {},
          "execution_count": 408
        }
      ]
    },
    {
      "cell_type": "code",
      "source": [
        "ones = torch.from_numpy(x[y == 1]).to(torch.float32)"
      ],
      "metadata": {
        "id": "zT20eSWUmobr"
      },
      "execution_count": 409,
      "outputs": []
    },
    {
      "cell_type": "code",
      "source": [
        "\n",
        "plt.imshow(ones[0].reshape((8,8)))"
      ],
      "metadata": {
        "colab": {
          "base_uri": "https://localhost:8080/",
          "height": 448
        },
        "id": "9QSe2xMNmu5L",
        "outputId": "c75632d9-ec4a-4be9-ffb8-5998e86cdf99"
      },
      "execution_count": 410,
      "outputs": [
        {
          "output_type": "execute_result",
          "data": {
            "text/plain": [
              "<matplotlib.image.AxesImage at 0x7d02cfd26ec0>"
            ]
          },
          "metadata": {},
          "execution_count": 410
        },
        {
          "output_type": "display_data",
          "data": {
            "text/plain": [
              "<Figure size 640x480 with 1 Axes>"
            ],
            "image/png": "[encoded data removed]"
          },
          "metadata": {}
        }
      ]
    },
    {
      "cell_type": "code",
      "source": [
        "D = 64\n",
        "model = nn.Sequential(nn.Linear(D,D))"
      ],
      "metadata": {
        "id": "jcWg1P2wnOzM"
      },
      "execution_count": 411,
      "outputs": []
    },
    {
      "cell_type": "code",
      "source": [
        "x_hat = model.forward(ones[0])"
      ],
      "metadata": {
        "id": "jOfZOPieoLKH"
      },
      "execution_count": 412,
      "outputs": []
    },
    {
      "cell_type": "code",
      "source": [
        "plt.imshow(x_hat.detach().numpy().reshape((8,8)))"
      ],
      "metadata": {
        "colab": {
          "base_uri": "https://localhost:8080/",
          "height": 448
        },
        "id": "SlIYme6-om6b",
        "outputId": "1a9bb6c4-809e-4f04-abb7-7f34f82b6e2c"
      },
      "execution_count": 413,
      "outputs": [
        {
          "output_type": "execute_result",
          "data": {
            "text/plain": [
              "<matplotlib.image.AxesImage at 0x7d02cfb9b010>"
            ]
          },
          "metadata": {},
          "execution_count": 413
        },
        {
          "output_type": "display_data",
          "data": {
            "text/plain": [
              "<Figure size 640x480 with 1 Axes>"
            ],
            "image/png": "[encoded data removed]"
          },
          "metadata": {}
        }
      ]
    },
    {
      "cell_type": "code",
      "source": [
        "prior = torch.distributions.MultivariateNormal(loc=torch.zeros(64), scale_tril=torch.eye(64))"
      ],
      "metadata": {
        "id": "HW_Kp2WLvmGu"
      },
      "execution_count": 414,
      "outputs": []
    },
    {
      "cell_type": "code",
      "source": [
        "prior.sample([1])"
      ],
      "metadata": {
        "colab": {
          "base_uri": "https://localhost:8080/"
        },
        "id": "Je82m6f5v8Ed",
        "outputId": "a750d700-df2a-4df3-f931-2890cd662cbe"
      },
      "execution_count": 415,
      "outputs": [
        {
          "output_type": "execute_result",
          "data": {
            "text/plain": [
              "tensor([[ 1.8146e-01, -4.8106e-01,  4.4034e-02,  3.5054e-01, -9.4610e-03,\n",
              "          1.8498e-02, -3.8465e-01,  1.6369e+00, -6.9996e-01, -8.9054e-01,\n",
              "         -1.1377e+00,  5.4330e-01,  5.3379e-01, -2.9422e-01, -1.9777e+00,\n",
              "         -2.7260e-01, -5.4173e-01, -3.3395e+00,  1.1524e+00, -6.4423e-01,\n",
              "          7.6024e-02,  1.3297e+00,  1.1741e+00, -7.6171e-01,  1.0522e+00,\n",
              "          1.2969e-01, -1.4771e+00, -4.7019e-01,  3.2872e-01, -1.1790e-01,\n",
              "          8.4557e-01, -1.1115e+00,  1.3636e+00,  1.1758e+00, -8.3815e-01,\n",
              "          4.0265e-01, -2.0009e-01,  9.3582e-01, -6.1487e-01,  2.3181e-03,\n",
              "         -1.4730e+00, -2.1083e+00,  6.6362e-01,  9.5277e-01,  2.6728e+00,\n",
              "         -3.4687e-01, -3.5911e-01, -1.4210e+00,  2.2022e+00, -1.1670e+00,\n",
              "          1.9467e+00,  2.2214e+00,  9.2778e-01,  2.2660e+00, -5.4684e-01,\n",
              "          1.6868e+00,  1.7179e+00, -1.0213e+00, -1.8667e-01, -1.6993e+00,\n",
              "          2.3146e-01,  1.1914e+00, -9.1817e-01,  1.5295e+00]])"
            ]
          },
          "metadata": {},
          "execution_count": 415
        }
      ]
    },
    {
      "cell_type": "code",
      "source": [
        "def criterion(z, prior, parameters):\n",
        "  log_det_j = torch.linalg.det(torch.linalg.pinv(parameters['0.weight']))\n",
        "\n",
        "  loss = - (prior.log_prob(z) - log_det_j).mean()\n",
        "\n",
        "  return loss"
      ],
      "metadata": {
        "id": "bwDVRqwxul36"
      },
      "execution_count": 416,
      "outputs": []
    },
    {
      "cell_type": "code",
      "source": [
        "model.state_dict()['0.weight']"
      ],
      "metadata": {
        "colab": {
          "base_uri": "https://localhost:8080/"
        },
        "id": "4LvMKKEEw6sv",
        "outputId": "cb667baa-888c-44c4-eead-fdf6c2a4fe96"
      },
      "execution_count": 417,
      "outputs": [
        {
          "output_type": "execute_result",
          "data": {
            "text/plain": [
              "tensor([[-0.0071, -0.1188, -0.0680,  ..., -0.0083,  0.1027, -0.0546],\n",
              "        [ 0.0592,  0.1037,  0.0594,  ..., -0.0237,  0.0367, -0.1066],\n",
              "        [ 0.0207, -0.0689,  0.1027,  ..., -0.0505, -0.0892,  0.0805],\n",
              "        ...,\n",
              "        [ 0.0561,  0.1175,  0.0272,  ...,  0.0985, -0.0184,  0.0697],\n",
              "        [ 0.0303, -0.1246, -0.0699,  ...,  0.1135, -0.0508, -0.0915],\n",
              "        [ 0.0382, -0.0619,  0.0638,  ...,  0.0756,  0.1099, -0.0355]])"
            ]
          },
          "metadata": {},
          "execution_count": 417
        }
      ]
    },
    {
      "cell_type": "code",
      "source": [
        "model.state_dict()['0.bias']"
      ],
      "metadata": {
        "colab": {
          "base_uri": "https://localhost:8080/"
        },
        "id": "DFDHPMYwyDme",
        "outputId": "235e1356-4ed8-4e42-c8fa-bd484a10e6fe"
      },
      "execution_count": 418,
      "outputs": [
        {
          "output_type": "execute_result",
          "data": {
            "text/plain": [
              "tensor([ 0.0133,  0.1029,  0.0572,  0.0103,  0.0729,  0.1104,  0.0585,  0.0515,\n",
              "         0.1126,  0.1070, -0.1148,  0.0017,  0.0774, -0.0530,  0.0469,  0.1055,\n",
              "         0.0705,  0.0885, -0.0406, -0.1099, -0.0289,  0.0429, -0.0405, -0.0208,\n",
              "         0.0198,  0.0310,  0.0583,  0.0037, -0.1042,  0.0325,  0.0366, -0.0517,\n",
              "         0.0183,  0.0636,  0.0922, -0.0037,  0.0878, -0.0256, -0.0508, -0.0260,\n",
              "        -0.0650, -0.0586, -0.0378, -0.0119,  0.1201, -0.0610, -0.0493,  0.1143,\n",
              "        -0.1123,  0.1079,  0.1177, -0.0741, -0.0461,  0.0671, -0.0033,  0.0620,\n",
              "        -0.0543, -0.0476,  0.1207,  0.0996,  0.0779,  0.0794, -0.0744,  0.0829])"
            ]
          },
          "metadata": {},
          "execution_count": 418
        }
      ]
    },
    {
      "cell_type": "code",
      "source": [
        "learning_rate = 1e-2\n",
        "optimizer = optim.SGD(model.parameters(), lr=learning_rate)\n",
        "\n",
        "n_epochs = 10\n",
        "for epoch in range(n_epochs):\n",
        "  z = model(ones)\n",
        "  loss = criterion(z, prior, model.state_dict())\n",
        "\n",
        "  optimizer.zero_grad()\n",
        "  loss.backward()\n",
        "  optimizer.step()"
      ],
      "metadata": {
        "id": "YsFB1Rr9rFil"
      },
      "execution_count": 419,
      "outputs": []
    },
    {
      "cell_type": "code",
      "source": [
        "a = torch.matmul(torch.linalg.pinv(model.state_dict()['0.weight']), prior.sample([1]).T - model.state_dict()['0.bias'].reshape((64,1)))\n",
        "a.mean()"
      ],
      "metadata": {
        "colab": {
          "base_uri": "https://localhost:8080/"
        },
        "id": "n7S6QMChuh4e",
        "outputId": "5c81cfa9-93bc-4947-a6c1-4c5a3be04a28"
      },
      "execution_count": 420,
      "outputs": [
        {
          "output_type": "execute_result",
          "data": {
            "text/plain": [
              "tensor(-0.0015)"
            ]
          },
          "metadata": {},
          "execution_count": 420
        }
      ]
    },
    {
      "cell_type": "code",
      "source": [
        "plt.imshow(np.clip(a, a.min(), a.mean()-0.0025).detach().numpy().reshape((8,8)))"
      ],
      "metadata": {
        "colab": {
          "base_uri": "https://localhost:8080/",
          "height": 448
        },
        "id": "xXzvDUpa1Rx_",
        "outputId": "a31a02ff-19b7-4603-c129-412db64d1955"
      },
      "execution_count": 421,
      "outputs": [
        {
          "output_type": "execute_result",
          "data": {
            "text/plain": [
              "<matplotlib.image.AxesImage at 0x7d02cfc262c0>"
            ]
          },
          "metadata": {},
          "execution_count": 421
        },
        {
          "output_type": "display_data",
          "data": {
            "text/plain": [
              "<Figure size 640x480 with 1 Axes>"
            ],
            "image/png": "[encoded data removed]"
          },
          "metadata": {}
        }
      ]
    },
    {
      "cell_type": "code",
      "source": [
        "model(ones).mean()"
      ],
      "metadata": {
        "colab": {
          "base_uri": "https://localhost:8080/"
        },
        "id": "r8B95KDU9WMH",
        "outputId": "7a87a40a-98ca-403f-abf0-8ea6f6e81faa"
      },
      "execution_count": 422,
      "outputs": [
        {
          "output_type": "execute_result",
          "data": {
            "text/plain": [
              "tensor(-2.1741e+14, grad_fn=<MeanBackward0>)"
            ]
          },
          "metadata": {},
          "execution_count": 422
        }
      ]
    },
    {
      "cell_type": "code",
      "source": [],
      "metadata": {
        "id": "kys24dYF_HZW"
      },
      "execution_count": 422,
      "outputs": []
    }
  ]
}