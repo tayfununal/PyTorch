{
  "nbformat": 4,
  "nbformat_minor": 0,
  "metadata": {
    "colab": {
      "provenance": [],
      "gpuType": "T4",
      "include_colab_link": true
    },
    "kernelspec": {
      "name": "python3",
      "display_name": "Python 3"
    },
    "language_info": {
      "name": "python"
    },
    "accelerator": "GPU"
  },
  "cells": [
    {
      "cell_type": "markdown",
      "metadata": {
        "id": "view-in-github",
        "colab_type": "text"
      },
      "source": [
        "<a href=\"https://colab.research.google.com/github/tayfununal/PyTorch/blob/main/05_mnist_nice_son.ipynb\" target=\"_parent\"><img src=\"https://colab.research.google.com/assets/colab-badge.svg\" alt=\"Open In Colab\"/></a>"
      ]
    },
    {
      "cell_type": "code",
      "execution_count": 85,
      "metadata": {
        "id": "87RALZ-3O9AN"
      },
      "outputs": [],
      "source": [
        "import torch\n",
        "import numpy as np\n",
        "import matplotlib.pyplot as plt\n",
        "import seaborn as sns\n",
        "from torch import nn\n",
        "import torchvision\n",
        "from torch.utils.data import DataLoader, Dataset\n",
        "from torchvision import transforms\n",
        "\n",
        "from sklearn.datasets import load_digits\n",
        "from sklearn.datasets import make_moons"
      ]
    },
    {
      "cell_type": "code",
      "source": [
        "class Data(Dataset):\n",
        "    def __init__(self, dataset):\n",
        "        super(Data, self).__init__()\n",
        "\n",
        "        self.dataset = dataset\n",
        "\n",
        "    def __len__(self):\n",
        "        return len(self.dataset)\n",
        "\n",
        "    def __getitem__(self, idx):\n",
        "        x = self.dataset.data[idx]\n",
        "        y = self.dataset.targets[idx]\n",
        "        return x, y"
      ],
      "metadata": {
        "id": "y_iZwiHXO_bt"
      },
      "execution_count": 86,
      "outputs": []
    },
    {
      "cell_type": "code",
      "source": [
        "class NICE(nn.Module):\n",
        "    def __init__(self, input_dim, hidden_layer, num_flows=2):\n",
        "        super(NICE, self).__init__()\n",
        "\n",
        "        self.input_dim = input_dim\n",
        "        self.hidden_layer = hidden_layer\n",
        "        self.num_flows = num_flows\n",
        "\n",
        "        self.net = lambda : nn.Sequential(\n",
        "                                 nn.Linear(self.input_dim//2, self.hidden_layer), nn.ReLU(),\n",
        "                                 nn.Linear(self.hidden_layer, self.hidden_layer), nn.ReLU(),\n",
        "                                 nn.Linear(self.hidden_layer, self.hidden_layer), nn.ReLU(),\n",
        "                                 nn.Linear(self.hidden_layer, self.hidden_layer), nn.ReLU(),\n",
        "                                 nn.Linear(self.hidden_layer, self.hidden_layer), nn.ReLU(),\n",
        "                                 nn.Linear(self.hidden_layer, self.hidden_layer), nn.ReLU(),\n",
        "                                 nn.Linear(self.hidden_layer, self.hidden_layer), nn.ReLU(),\n",
        "                                 nn.Linear(self.hidden_layer, self.input_dim//2)) # input dimension must be equal to output dimension\n",
        "\n",
        "        self.m = nn.ModuleList([self.net() for _ in range(self.num_flows)])\n",
        "\n",
        "        self.s = nn.Parameter(torch.rand(1, input_dim), requires_grad=True)\n",
        "\n",
        "\n",
        "    def forward(self, x):\n",
        "        x = x[0].to(torch.float32)\n",
        "        x = x.view(len(x), -1,) / 255\n",
        "        return self.f(x)\n",
        "\n",
        "    def coupling_layer(self, x, m, flow, forward=True):\n",
        "        x = x.clone()\n",
        "\n",
        "        x_a = x[:, ::2] if flow%2==0 else x[:, 1::2]\n",
        "        x_b = x[:, 1::2] if flow%2==0 else x[:, ::2]\n",
        "\n",
        "        if forward:\n",
        "            y_b = x_b - m(x_a)\n",
        "        else:\n",
        "            y_b = x_b + m(x_a)\n",
        "\n",
        "        #z = torch.concat((x_a, y_b), axis=1) if flow%2==0 else torch.concat((y_b, x_a), axis=1)\n",
        "        z = torch.empty(x.shape)\n",
        "        z[:, ::2] = x_a if flow%2==0 else y_b\n",
        "        z[:, 1::2] = y_b if flow%2==0 else x_a\n",
        "        return z\n",
        "\n",
        "\n",
        "    def f(self, x):\n",
        "        z = x\n",
        "\n",
        "        for flow, model in enumerate(self.m, start=0):\n",
        "            z = self.coupling_layer(z, model, flow, forward=True)\n",
        "\n",
        "        z = z * torch.exp(-self.s)\n",
        "        log_det_j = torch.sum(-self.s)\n",
        "\n",
        "        return z, log_det_j\n",
        "\n",
        "    def f_inv(self, z):\n",
        "        x = z * torch.exp(self.s)\n",
        "\n",
        "        for flow, model in reversed(list(enumerate(self.m, start=0))):\n",
        "            x = self.coupling_layer(x, model, flow,forward=False)\n",
        "\n",
        "        return x\n",
        "\n",
        "    def criterion(self, z, prior, log_det_j, reduction = \"sum\"):\n",
        "\n",
        "        if reduction == \"sum\":\n",
        "            loss = - (prior.log_prob(z) + log_det_j).sum()\n",
        "        else:\n",
        "\n",
        "            loss = - (prior.log_prob(z) + log_det_j).mean()\n",
        "        return loss"
      ],
      "metadata": {
        "id": "dNv7fminO_d7"
      },
      "execution_count": 87,
      "outputs": []
    },
    {
      "cell_type": "code",
      "source": [
        "train_image = torchvision.datasets.MNIST(root='dataset', train=True, download=True, transform=transforms.ToTensor())\n",
        "test_image = torchvision.datasets.MNIST(root='dataset', train=False, download=True, transform=transforms.ToTensor())\n",
        "\n",
        "\n",
        "\n",
        "train_data = Data(train_image)\n",
        "test_data = Data(test_image)"
      ],
      "metadata": {
        "id": "61Bk8bccO_gl"
      },
      "execution_count": 88,
      "outputs": []
    },
    {
      "cell_type": "code",
      "source": [
        "image_train, category_train = train_data[0]\n",
        "image_test, category_test = test_data[0]\n",
        "\n",
        "\n",
        "plt.figure(figsize=(5,5))\n",
        "plt.subplot(1,2,1)\n",
        "plt.imshow(image_train.reshape((28,28)), cmap='gray')\n",
        "plt.title(f'train\\ntarget : {category_train}')\n",
        "plt.axis('off')\n",
        "\n",
        "plt.subplot(1,2,2)\n",
        "plt.imshow(image_test.reshape((28,28)), cmap='gray')\n",
        "plt.title(f'test\\ntarget : {category_test}')\n",
        "plt.axis('off')\n",
        "\n",
        "plt.show()"
      ],
      "metadata": {
        "colab": {
          "base_uri": "https://localhost:8080/",
          "height": 256
        },
        "id": "mn2HDNucO_i_",
        "outputId": "eb749578-9764-4f1f-d33f-dda727f58b47"
      },
      "execution_count": 89,
      "outputs": [
        {
          "output_type": "display_data",
          "data": {
            "text/plain": [
              "<Figure size 500x500 with 2 Axes>"
            ],
            "image/png": "[encoded data removed]"
          },
          "metadata": {}
        }
      ]
    },
    {
      "cell_type": "code",
      "source": [
        "data_dim = 28*28\n",
        "prior = torch.distributions.multivariate_normal.MultivariateNormal(loc=torch.zeros((data_dim)),\n",
        "                                                    scale_tril=torch.diag(torch.ones((data_dim))))\n",
        "\n",
        "model = NICE(input_dim=data_dim, hidden_layer=64, num_flows=10)\n",
        "\n",
        "train_loader = DataLoader(train_data, batch_size=5000, shuffle=True)\n"
      ],
      "metadata": {
        "id": "rQs7Q0x8O_lW"
      },
      "execution_count": 90,
      "outputs": []
    },
    {
      "cell_type": "code",
      "source": [
        "epochs = 100\n",
        "optimizer = torch.optim.Adam(model.parameters(), lr=0.01)   # weight_decay=0.9\n",
        "\n",
        "COST = []\n",
        "\n",
        "for epoch in range(epochs):\n",
        "    total_loss = []\n",
        "\n",
        "    for x in train_loader:\n",
        "\n",
        "        z, log_det_j = model.forward(x)\n",
        "        loss = model.criterion(z, prior, log_det_j, reduction=\"avg\")\n",
        "\n",
        "        optimizer.zero_grad()\n",
        "        loss.backward()\n",
        "        optimizer.step()\n",
        "\n",
        "        total_loss.append(loss.item())\n",
        "\n",
        "    COST.append(np.mean(total_loss))\n",
        "\n",
        "    if epoch==0:\n",
        "        print(\"Epoch : \", epoch+1, \"  -----------> Loss : \", np.mean(total_loss))\n",
        "    elif (epoch+1)%1 == 0:\n",
        "        print(\"Epoch : \", epoch+1, \"  -----------> Loss : \", np.mean(total_loss))"
      ],
      "metadata": {
        "colab": {
          "base_uri": "https://localhost:8080/"
        },
        "id": "wwMpBqaBO_np",
        "outputId": "03912211-cb85-45e5-f8f0-563bee98c632"
      },
      "execution_count": 91,
      "outputs": [
        {
          "output_type": "stream",
          "name": "stdout",
          "text": [
            "Epoch :  1   -----------> Loss :  1094.8137715657551\n",
            "Epoch :  2   -----------> Loss :  1001.1126454671224\n",
            "Epoch :  3   -----------> Loss :  909.2924397786459\n",
            "Epoch :  4   -----------> Loss :  818.0720876057943\n",
            "Epoch :  5   -----------> Loss :  728.5220438639323\n",
            "Epoch :  6   -----------> Loss :  640.5805714925131\n",
            "Epoch :  7   -----------> Loss :  553.3360697428385\n",
            "Epoch :  8   -----------> Loss :  468.27960205078125\n",
            "Epoch :  9   -----------> Loss :  386.77589416503906\n",
            "Epoch :  10   -----------> Loss :  305.53946685791016\n",
            "Epoch :  11   -----------> Loss :  228.85589090983072\n",
            "Epoch :  12   -----------> Loss :  157.55128733317056\n",
            "Epoch :  13   -----------> Loss :  85.01702340443929\n",
            "Epoch :  14   -----------> Loss :  28.436295588811237\n",
            "Epoch :  15   -----------> Loss :  -41.63316615422567\n",
            "Epoch :  16   -----------> Loss :  -103.80562019348145\n",
            "Epoch :  17   -----------> Loss :  -163.45368067423502\n",
            "Epoch :  18   -----------> Loss :  -216.2248738606771\n",
            "Epoch :  19   -----------> Loss :  -264.58145395914715\n",
            "Epoch :  20   -----------> Loss :  -309.38368225097656\n",
            "Epoch :  21   -----------> Loss :  -363.84529368082684\n",
            "Epoch :  22   -----------> Loss :  -407.3699467976888\n",
            "Epoch :  23   -----------> Loss :  -450.4875005086263\n",
            "Epoch :  24   -----------> Loss :  -496.9006805419922\n",
            "Epoch :  25   -----------> Loss :  -506.3424301147461\n",
            "Epoch :  26   -----------> Loss :  -556.2492116292318\n",
            "Epoch :  27   -----------> Loss :  -601.5320231119791\n",
            "Epoch :  28   -----------> Loss :  -636.7804514567057\n",
            "Epoch :  29   -----------> Loss :  -663.0885111490885\n",
            "Epoch :  30   -----------> Loss :  -696.1636505126953\n",
            "Epoch :  31   -----------> Loss :  -702.7407582600912\n",
            "Epoch :  32   -----------> Loss :  -727.3687540690104\n",
            "Epoch :  33   -----------> Loss :  -767.8790740966797\n",
            "Epoch :  34   -----------> Loss :  -808.0784505208334\n",
            "Epoch :  35   -----------> Loss :  -824.3310089111328\n",
            "Epoch :  36   -----------> Loss :  -854.6314290364584\n",
            "Epoch :  37   -----------> Loss :  -867.9817911783854\n",
            "Epoch :  38   -----------> Loss :  -897.0524444580078\n",
            "Epoch :  39   -----------> Loss :  -913.2516682942709\n",
            "Epoch :  40   -----------> Loss :  -930.6570281982422\n",
            "Epoch :  41   -----------> Loss :  -936.3188934326172\n",
            "Epoch :  42   -----------> Loss :  -970.2088216145834\n",
            "Epoch :  43   -----------> Loss :  -981.7509918212891\n",
            "Epoch :  44   -----------> Loss :  -969.5278574625651\n",
            "Epoch :  45   -----------> Loss :  -1002.1147054036459\n",
            "Epoch :  46   -----------> Loss :  -1021.4545135498047\n",
            "Epoch :  47   -----------> Loss :  -1024.4320678710938\n",
            "Epoch :  48   -----------> Loss :  -1032.937993367513\n",
            "Epoch :  49   -----------> Loss :  -1043.3122456868489\n",
            "Epoch :  50   -----------> Loss :  -1051.6703592936199\n",
            "Epoch :  51   -----------> Loss :  -1062.2224833170574\n",
            "Epoch :  52   -----------> Loss :  -1056.4513854980469\n",
            "Epoch :  53   -----------> Loss :  -1038.1480611165364\n",
            "Epoch :  54   -----------> Loss :  -1076.2819722493489\n",
            "Epoch :  55   -----------> Loss :  -1078.2764790852864\n",
            "Epoch :  56   -----------> Loss :  -1090.9067789713542\n",
            "Epoch :  57   -----------> Loss :  -1084.3900858561199\n",
            "Epoch :  58   -----------> Loss :  -1073.5929158528645\n",
            "Epoch :  59   -----------> Loss :  -1073.7377624511719\n",
            "Epoch :  60   -----------> Loss :  -1081.2008056640625\n",
            "Epoch :  61   -----------> Loss :  -1100.2704772949219\n",
            "Epoch :  62   -----------> Loss :  -1099.7634785970051\n",
            "Epoch :  63   -----------> Loss :  -1110.5571390787761\n",
            "Epoch :  64   -----------> Loss :  -1103.4259134928386\n",
            "Epoch :  65   -----------> Loss :  -1101.8217264811199\n",
            "Epoch :  66   -----------> Loss :  -1119.5820719401042\n",
            "Epoch :  67   -----------> Loss :  -1108.8769022623699\n",
            "Epoch :  68   -----------> Loss :  -1123.3936971028645\n",
            "Epoch :  69   -----------> Loss :  -1134.6497802734375\n",
            "Epoch :  70   -----------> Loss :  -1135.4447224934895\n",
            "Epoch :  71   -----------> Loss :  -1102.1048685709636\n",
            "Epoch :  72   -----------> Loss :  -1138.9445292154949\n",
            "Epoch :  73   -----------> Loss :  -1128.1098225911458\n",
            "Epoch :  74   -----------> Loss :  -1156.5634765625\n",
            "Epoch :  75   -----------> Loss :  -1167.7181905110676\n",
            "Epoch :  76   -----------> Loss :  -1158.3986714680989\n",
            "Epoch :  77   -----------> Loss :  -1158.9351501464844\n",
            "Epoch :  78   -----------> Loss :  -1158.2716166178386\n",
            "Epoch :  79   -----------> Loss :  -1151.8755493164062\n",
            "Epoch :  80   -----------> Loss :  -1167.1854146321614\n",
            "Epoch :  81   -----------> Loss :  -1160.6294759114583\n",
            "Epoch :  82   -----------> Loss :  -1153.9832255045574\n",
            "Epoch :  83   -----------> Loss :  -1167.5236002604167\n",
            "Epoch :  84   -----------> Loss :  -1179.3887939453125\n",
            "Epoch :  85   -----------> Loss :  -1167.5897928873699\n",
            "Epoch :  86   -----------> Loss :  -1173.6009724934895\n",
            "Epoch :  87   -----------> Loss :  -1181.479736328125\n",
            "Epoch :  88   -----------> Loss :  -1174.6276448567708\n",
            "Epoch :  89   -----------> Loss :  -1197.7636108398438\n",
            "Epoch :  90   -----------> Loss :  -1194.2410786946614\n",
            "Epoch :  91   -----------> Loss :  -1185.6315104166667\n",
            "Epoch :  92   -----------> Loss :  -1194.3258158365886\n",
            "Epoch :  93   -----------> Loss :  -1196.5443115234375\n",
            "Epoch :  94   -----------> Loss :  -1192.2607523600261\n",
            "Epoch :  95   -----------> Loss :  -1186.2674967447917\n",
            "Epoch :  96   -----------> Loss :  -1178.4889424641926\n",
            "Epoch :  97   -----------> Loss :  -1203.605712890625\n",
            "Epoch :  98   -----------> Loss :  -1181.9247639973958\n",
            "Epoch :  99   -----------> Loss :  -1179.501953125\n",
            "Epoch :  100   -----------> Loss :  -1197.5267435709636\n"
          ]
        }
      ]
    },
    {
      "cell_type": "code",
      "source": [
        "plt.plot(COST)"
      ],
      "metadata": {
        "id": "3lgGpF_wybkp",
        "outputId": "4b7f5aa3-0489-43cd-e9e2-b85391364ca8",
        "colab": {
          "base_uri": "https://localhost:8080/",
          "height": 448
        }
      },
      "execution_count": 92,
      "outputs": [
        {
          "output_type": "execute_result",
          "data": {
            "text/plain": [
              "[<matplotlib.lines.Line2D at 0x7fb4aabb91e0>]"
            ]
          },
          "metadata": {},
          "execution_count": 92
        },
        {
          "output_type": "display_data",
          "data": {
            "text/plain": [
              "<Figure size 640x480 with 1 Axes>"
            ],
            "image/png": "[encoded data removed]"
          },
          "metadata": {}
        }
      ]
    },
    {
      "cell_type": "code",
      "source": [
        "test = prior.sample((50,))\n",
        "test"
      ],
      "metadata": {
        "id": "qJy70H-_O_pw",
        "outputId": "b7e86369-6bf3-460b-f009-7bdfd1e2cc07",
        "colab": {
          "base_uri": "https://localhost:8080/"
        }
      },
      "execution_count": 93,
      "outputs": [
        {
          "output_type": "execute_result",
          "data": {
            "text/plain": [
              "tensor([[-0.9496,  1.2759, -0.5282,  ...,  0.4410, -0.2701, -0.0647],\n",
              "        [-1.0908, -1.1059, -0.2287,  ..., -1.0070,  0.1026,  0.2972],\n",
              "        [-0.9196,  0.0320,  0.1191,  ..., -1.1958,  1.3095,  1.3704],\n",
              "        ...,\n",
              "        [-1.0640, -0.2452,  1.3034,  ...,  0.2895,  0.0966,  0.5603],\n",
              "        [ 0.5154, -0.7996,  2.6288,  ...,  0.4008,  1.4295,  1.4929],\n",
              "        [-0.6779,  0.0662, -0.8429,  ...,  1.6278,  1.3766,  0.1510]])"
            ]
          },
          "metadata": {},
          "execution_count": 93
        }
      ]
    },
    {
      "cell_type": "code",
      "source": [
        "sonuc = model.f_inv(test)\n",
        "sonuc"
      ],
      "metadata": {
        "id": "rjNtmsr9O_sB",
        "colab": {
          "base_uri": "https://localhost:8080/"
        },
        "outputId": "a19aaa5e-ff2f-4cdf-f871-db32bc1d47ea"
      },
      "execution_count": 94,
      "outputs": [
        {
          "output_type": "execute_result",
          "data": {
            "text/plain": [
              "tensor([[-3.1695e-03,  5.7709e-03, -1.6154e-03,  ..., -3.0649e-03,\n",
              "         -1.4708e-03,  1.8919e-02],\n",
              "        [-3.6494e-03, -5.1251e-03, -5.0205e-04,  ..., -6.6885e-03,\n",
              "          3.3958e-04,  1.9369e-02],\n",
              "        [-3.0819e-03,  1.1864e-04,  1.1849e-03,  ..., -6.6553e-03,\n",
              "          6.2829e-03,  2.3708e-02],\n",
              "        ...,\n",
              "        [-3.5766e-03, -1.1861e-03,  6.4729e-03,  ..., -2.4279e-03,\n",
              "          4.3966e-05,  2.1529e-02],\n",
              "        [ 1.7864e-03, -3.7723e-03,  1.3078e-02,  ..., -2.8665e-03,\n",
              "          6.8753e-03,  2.3326e-02],\n",
              "        [-2.2346e-03,  2.4015e-04, -3.2320e-03,  ...,  2.9429e-03,\n",
              "          6.3907e-03,  1.8767e-02]], grad_fn=<CopySlices>)"
            ]
          },
          "metadata": {},
          "execution_count": 94
        }
      ]
    },
    {
      "cell_type": "code",
      "source": [
        "test = prior.sample((10,))\n",
        "sonuc = model.f_inv(test)\n",
        "\n",
        "fig, axs = plt.subplots(1, 10, sharex=True, sharey=True, figsize=(16, 8))\n",
        "\n",
        "for i in range(0,10):\n",
        "\n",
        "    axs[i].imshow(torch.nn.ReLU()(sonuc[i]).detach().numpy().reshape((28,28)), cmap='gray')\n",
        "    #axs[i].axis('off')\n",
        "\n",
        "fig.show()"
      ],
      "metadata": {
        "id": "EJXVv9wyPMXm",
        "outputId": "df0f07dc-cf3f-4eff-9596-81b6c8192ddc",
        "colab": {
          "base_uri": "https://localhost:8080/",
          "height": 169
        }
      },
      "execution_count": 95,
      "outputs": [
        {
          "output_type": "display_data",
          "data": {
            "text/plain": [
              "<Figure size 1600x800 with 10 Axes>"
            ],
            "image/png": "[encoded data removed]"
          },
          "metadata": {}
        }
      ]
    },
    {
      "cell_type": "code",
      "source": [],
      "metadata": {
        "id": "TtRXTPLzotDS"
      },
      "execution_count": 95,
      "outputs": []
    }
  ]
}