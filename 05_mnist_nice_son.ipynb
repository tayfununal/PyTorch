{
  "nbformat": 4,
  "nbformat_minor": 0,
  "metadata": {
    "colab": {
      "provenance": [],
      "gpuType": "T4",
      "include_colab_link": true
    },
    "kernelspec": {
      "name": "python3",
      "display_name": "Python 3"
    },
    "language_info": {
      "name": "python"
    },
    "accelerator": "GPU"
  },
  "cells": [
    {
      "cell_type": "markdown",
      "metadata": {
        "id": "view-in-github",
        "colab_type": "text"
      },
      "source": [
        "<a href=\"https://colab.research.google.com/github/tayfununal/PyTorch/blob/main/05_mnist_nice_son.ipynb\" target=\"_parent\"><img src=\"https://colab.research.google.com/assets/colab-badge.svg\" alt=\"Open In Colab\"/></a>"
      ]
    },
    {
      "cell_type": "code",
      "execution_count": 45,
      "metadata": {
        "id": "87RALZ-3O9AN"
      },
      "outputs": [],
      "source": [
        "import torch\n",
        "import numpy as np\n",
        "import matplotlib.pyplot as plt\n",
        "import seaborn as sns\n",
        "from torch import nn\n",
        "import torchvision\n",
        "from torch.utils.data import DataLoader, Dataset\n",
        "from torchvision import transforms\n",
        "\n",
        "from sklearn.datasets import load_digits\n",
        "from sklearn.datasets import make_moons"
      ]
    },
    {
      "cell_type": "code",
      "source": [
        "class Data(Dataset):\n",
        "    def __init__(self, dataset):\n",
        "        super(Data, self).__init__()\n",
        "\n",
        "        self.dataset = dataset\n",
        "\n",
        "    def __len__(self):\n",
        "        return len(self.dataset)\n",
        "\n",
        "    def __getitem__(self, idx):\n",
        "        x = self.dataset.data[idx]\n",
        "        y = self.dataset.targets[idx]\n",
        "        return x, y"
      ],
      "metadata": {
        "id": "y_iZwiHXO_bt"
      },
      "execution_count": 46,
      "outputs": []
    },
    {
      "cell_type": "code",
      "source": [
        "class NICE(nn.Module):\n",
        "    def __init__(self, input_dim, hidden_layer, num_flows=2):\n",
        "        super(NICE, self).__init__()\n",
        "\n",
        "        self.input_dim = input_dim\n",
        "        self.hidden_layer = hidden_layer\n",
        "        self.num_flows = num_flows\n",
        "\n",
        "        self.net = lambda : nn.Sequential(\n",
        "                                 nn.Linear(self.input_dim//2, self.hidden_layer), nn.ReLU(),\n",
        "                                 nn.Linear(self.hidden_layer, self.hidden_layer), nn.ReLU(),\n",
        "                                 nn.Linear(self.hidden_layer, self.hidden_layer), nn.ReLU(),\n",
        "                                 nn.Linear(self.hidden_layer, self.hidden_layer), nn.ReLU(),\n",
        "                                 nn.Linear(self.hidden_layer, self.hidden_layer), nn.ReLU(),\n",
        "                                 nn.Linear(self.hidden_layer, self.hidden_layer), nn.ReLU(),\n",
        "                                 nn.Linear(self.hidden_layer, self.hidden_layer), nn.ReLU(),\n",
        "                                 nn.Linear(self.hidden_layer, self.input_dim//2)) # input dimension must be equal to output dimension\n",
        "\n",
        "        self.m = nn.ModuleList([self.net() for _ in range(self.num_flows)])\n",
        "\n",
        "        self.s = nn.Parameter(torch.rand(1, input_dim), requires_grad=True)\n",
        "\n",
        "\n",
        "    def forward(self, x):\n",
        "        x = x[0].to(torch.float32)\n",
        "        x = x.view(len(x), -1,) / 255\n",
        "        return self.f(x)\n",
        "\n",
        "    def coupling_layer(self, x, m, flow, forward=True):\n",
        "        x = x.clone()\n",
        "\n",
        "        x_a = x[:, ::2] if flow%2==0 else x[:, 1::2]\n",
        "        x_b = x[:, 1::2] if flow%2==0 else x[:, ::2]\n",
        "\n",
        "        if forward:\n",
        "            y_b = x_b - m(x_a)\n",
        "        else:\n",
        "            y_b = x_b + m(x_a)\n",
        "\n",
        "        #z = torch.concat((x_a, y_b), axis=1) if flow%2==0 else torch.concat((y_b, x_a), axis=1)\n",
        "        z = torch.empty(x.shape)\n",
        "        z[:, ::2] = x_a if flow%2==0 else y_b\n",
        "        z[:, 1::2] = y_b if flow%2==0 else x_a\n",
        "        return z\n",
        "\n",
        "\n",
        "    def f(self, x):\n",
        "        z = x\n",
        "\n",
        "        for flow, model in enumerate(self.m, start=0):\n",
        "            z = self.coupling_layer(z, model, flow, forward=True)\n",
        "\n",
        "        z = z * torch.exp(-self.s)\n",
        "        log_det_j = torch.sum(-self.s)\n",
        "\n",
        "        return z, log_det_j\n",
        "\n",
        "    def f_inv(self, z):\n",
        "        x = z * torch.exp(self.s)\n",
        "\n",
        "        for flow, model in reversed(list(enumerate(self.m, start=0))):\n",
        "            x = self.coupling_layer(x, model, flow,forward=False)\n",
        "\n",
        "        return x\n",
        "\n",
        "    def criterion(self, z, prior, log_det_j, reduction = \"sum\"):\n",
        "\n",
        "        if reduction == \"sum\":\n",
        "            loss = - (prior.log_prob(z) + log_det_j).sum()\n",
        "        else:\n",
        "\n",
        "            loss = - (prior.log_prob(z) + log_det_j).mean()\n",
        "        return loss"
      ],
      "metadata": {
        "id": "dNv7fminO_d7"
      },
      "execution_count": 47,
      "outputs": []
    },
    {
      "cell_type": "code",
      "source": [
        "train_image = torchvision.datasets.MNIST(root='dataset', train=True, download=True, transform=transforms.ToTensor())\n",
        "test_image = torchvision.datasets.MNIST(root='dataset', train=False, download=True, transform=transforms.ToTensor())\n",
        "\n",
        "\n",
        "\n",
        "train_data = Data(train_image)\n",
        "test_data = Data(test_image)"
      ],
      "metadata": {
        "id": "61Bk8bccO_gl"
      },
      "execution_count": 48,
      "outputs": []
    },
    {
      "cell_type": "code",
      "source": [
        "image_train, category_train = train_data[0]\n",
        "image_test, category_test = test_data[0]\n",
        "\n",
        "\n",
        "plt.figure(figsize=(5,5))\n",
        "plt.subplot(1,2,1)\n",
        "plt.imshow(image_train.reshape((28,28)), cmap='gray')\n",
        "plt.title(f'train\\ntarget : {category_train}')\n",
        "plt.axis('off')\n",
        "\n",
        "plt.subplot(1,2,2)\n",
        "plt.imshow(image_test.reshape((28,28)), cmap='gray')\n",
        "plt.title(f'test\\ntarget : {category_test}')\n",
        "plt.axis('off')\n",
        "\n",
        "plt.show()"
      ],
      "metadata": {
        "colab": {
          "base_uri": "https://localhost:8080/",
          "height": 256
        },
        "id": "mn2HDNucO_i_",
        "outputId": "14a9bd4d-441c-443c-ee2a-6f0bd67eca9b"
      },
      "execution_count": 49,
      "outputs": [
        {
          "output_type": "display_data",
          "data": {
            "text/plain": [
              "<Figure size 500x500 with 2 Axes>"
            ],
            "image/png": "[encoded data removed]"
          },
          "metadata": {}
        }
      ]
    },
    {
      "cell_type": "code",
      "source": [
        "data_dim = 28*28\n",
        "prior = torch.distributions.multivariate_normal.MultivariateNormal(loc=torch.zeros((data_dim)),\n",
        "                                                    scale_tril=torch.diag(torch.ones((data_dim))))\n",
        "\n",
        "model = NICE(input_dim=data_dim, hidden_layer=64, num_flows=10)\n",
        "\n",
        "train_loader = DataLoader(train_data, batch_size=5000, shuffle=True)\n"
      ],
      "metadata": {
        "id": "rQs7Q0x8O_lW"
      },
      "execution_count": 50,
      "outputs": []
    },
    {
      "cell_type": "code",
      "source": [
        "epochs = 50\n",
        "optimizer = torch.optim.Adam(model.parameters(), lr=0.01)   # weight_decay=0.9\n",
        "\n",
        "COST = []\n",
        "\n",
        "for epoch in range(epochs):\n",
        "    total_loss = []\n",
        "\n",
        "    for x in train_loader:\n",
        "\n",
        "        z, log_det_j = model.forward(x)\n",
        "        loss = model.criterion(z, prior, log_det_j, reduction=\"avg\")\n",
        "\n",
        "        optimizer.zero_grad()\n",
        "        loss.backward()\n",
        "        optimizer.step()\n",
        "\n",
        "        total_loss.append(loss.item())\n",
        "\n",
        "    COST.append(np.mean(total_loss))\n",
        "\n",
        "    if epoch==0:\n",
        "        print(\"Epoch : \", epoch+1, \"  -----------> Loss : \", np.mean(total_loss))\n",
        "    elif (epoch+1)%1 == 0:\n",
        "        print(\"Epoch : \", epoch+1, \"  -----------> Loss : \", np.mean(total_loss))"
      ],
      "metadata": {
        "colab": {
          "base_uri": "https://localhost:8080/"
        },
        "id": "wwMpBqaBO_np",
        "outputId": "8b67ad62-d483-49f4-fad3-eb67492bb73f"
      },
      "execution_count": 51,
      "outputs": [
        {
          "output_type": "stream",
          "name": "stdout",
          "text": [
            "Epoch :  1   -----------> Loss :  1080.6515808105469\n",
            "Epoch :  2   -----------> Loss :  987.8847249348959\n",
            "Epoch :  3   -----------> Loss :  895.8265177408854\n",
            "Epoch :  4   -----------> Loss :  804.2411549886068\n",
            "Epoch :  5   -----------> Loss :  714.1033782958984\n",
            "Epoch :  6   -----------> Loss :  625.8276112874349\n",
            "Epoch :  7   -----------> Loss :  539.1452458699545\n",
            "Epoch :  8   -----------> Loss :  454.73616282145184\n",
            "Epoch :  9   -----------> Loss :  374.613774617513\n",
            "Epoch :  10   -----------> Loss :  295.91514587402344\n",
            "Epoch :  11   -----------> Loss :  218.9482053120931\n",
            "Epoch :  12   -----------> Loss :  147.10353151957193\n",
            "Epoch :  13   -----------> Loss :  79.97043514251709\n",
            "Epoch :  14   -----------> Loss :  14.168432394663492\n",
            "Epoch :  15   -----------> Loss :  -52.85277430216471\n",
            "Epoch :  16   -----------> Loss :  -114.66226259867351\n",
            "Epoch :  17   -----------> Loss :  -173.52780405680338\n",
            "Epoch :  18   -----------> Loss :  -227.0411605834961\n",
            "Epoch :  19   -----------> Loss :  -271.51075236002606\n",
            "Epoch :  20   -----------> Loss :  -327.1993637084961\n",
            "Epoch :  21   -----------> Loss :  -375.92073313395184\n",
            "Epoch :  22   -----------> Loss :  -412.8357747395833\n",
            "Epoch :  23   -----------> Loss :  -457.98002370198566\n",
            "Epoch :  24   -----------> Loss :  -503.1337076822917\n",
            "Epoch :  25   -----------> Loss :  -513.3532765706381\n",
            "Epoch :  26   -----------> Loss :  -511.0450948079427\n",
            "Epoch :  27   -----------> Loss :  -582.2042694091797\n",
            "Epoch :  28   -----------> Loss :  -629.3079071044922\n",
            "Epoch :  29   -----------> Loss :  -664.9132232666016\n",
            "Epoch :  30   -----------> Loss :  -693.255116780599\n",
            "Epoch :  31   -----------> Loss :  -726.5118052164713\n",
            "Epoch :  32   -----------> Loss :  -691.022959391276\n",
            "Epoch :  33   -----------> Loss :  -707.4750773111979\n",
            "Epoch :  34   -----------> Loss :  -772.9515940348307\n",
            "Epoch :  35   -----------> Loss :  -809.7865193684896\n",
            "Epoch :  36   -----------> Loss :  -835.3833465576172\n",
            "Epoch :  37   -----------> Loss :  -859.4399261474609\n",
            "Epoch :  38   -----------> Loss :  -887.9589589436849\n",
            "Epoch :  39   -----------> Loss :  -899.595458984375\n",
            "Epoch :  40   -----------> Loss :  -904.6305338541666\n",
            "Epoch :  41   -----------> Loss :  -944.9257049560547\n",
            "Epoch :  42   -----------> Loss :  -956.1786905924479\n",
            "Epoch :  43   -----------> Loss :  -975.0990702311198\n",
            "Epoch :  44   -----------> Loss :  -975.7606048583984\n",
            "Epoch :  45   -----------> Loss :  -990.9893188476562\n",
            "Epoch :  46   -----------> Loss :  -1009.7247467041016\n",
            "Epoch :  47   -----------> Loss :  -1015.6825459798177\n",
            "Epoch :  48   -----------> Loss :  -1033.922871907552\n",
            "Epoch :  49   -----------> Loss :  -1031.1527811686199\n",
            "Epoch :  50   -----------> Loss :  -1038.206822713216\n"
          ]
        }
      ]
    },
    {
      "cell_type": "code",
      "source": [
        "plt.plot(COST)"
      ],
      "metadata": {
        "id": "3lgGpF_wybkp",
        "outputId": "522de6fc-d9dc-4280-d02b-f69fd23c9167",
        "colab": {
          "base_uri": "https://localhost:8080/",
          "height": 448
        }
      },
      "execution_count": 52,
      "outputs": [
        {
          "output_type": "execute_result",
          "data": {
            "text/plain": [
              "[<matplotlib.lines.Line2D at 0x7fb4aa2043d0>]"
            ]
          },
          "metadata": {},
          "execution_count": 52
        },
        {
          "output_type": "display_data",
          "data": {
            "text/plain": [
              "<Figure size 640x480 with 1 Axes>"
            ],
            "image/png": "[encoded data removed]"
          },
          "metadata": {}
        }
      ]
    },
    {
      "cell_type": "code",
      "source": [
        "test = prior.sample((50,))\n",
        "test"
      ],
      "metadata": {
        "id": "qJy70H-_O_pw",
        "outputId": "2f23fa44-a21f-4cef-a1e4-c54063ea5c57",
        "colab": {
          "base_uri": "https://localhost:8080/"
        }
      },
      "execution_count": 58,
      "outputs": [
        {
          "output_type": "execute_result",
          "data": {
            "text/plain": [
              "tensor([[ 0.4100,  0.1962,  2.2625,  ...,  0.8298, -0.0737,  0.4732],\n",
              "        [ 0.0618,  1.0191,  1.1002,  ..., -1.4561,  0.9116, -0.1179],\n",
              "        [-0.3589, -1.1141, -0.5241,  ...,  0.8060,  0.4083,  0.9773],\n",
              "        ...,\n",
              "        [-0.3941,  1.9192,  1.1323,  ...,  0.4111,  0.8251,  1.6982],\n",
              "        [-0.4108,  0.4871,  0.0673,  ...,  0.1461,  1.6016,  0.0085],\n",
              "        [ 0.7309, -0.0150,  0.1051,  ...,  0.2726,  0.8939, -0.7615]])"
            ]
          },
          "metadata": {},
          "execution_count": 58
        }
      ]
    },
    {
      "cell_type": "code",
      "source": [
        "sonuc = model.f_inv(test)\n",
        "sonuc"
      ],
      "metadata": {
        "id": "rjNtmsr9O_sB",
        "colab": {
          "base_uri": "https://localhost:8080/"
        },
        "outputId": "e290c58c-c946-4385-a8ee-e62dbd4dfba0"
      },
      "execution_count": 59,
      "outputs": [
        {
          "output_type": "execute_result",
          "data": {
            "text/plain": [
              "tensor([[ 0.0088,  0.0011,  0.0204,  ...,  0.0076,  0.0028,  0.0021],\n",
              "        [ 0.0094,  0.0122,  0.0130,  ..., -0.0078,  0.0082, -0.0013],\n",
              "        [ 0.0011, -0.0149, -0.0022,  ...,  0.0076,  0.0048,  0.0053],\n",
              "        ...,\n",
              "        [ 0.0018,  0.0218,  0.0104,  ...,  0.0052,  0.0085,  0.0109],\n",
              "        [ 0.0009,  0.0057,  0.0033,  ...,  0.0036,  0.0143, -0.0005],\n",
              "        [ 0.0139, -0.0037,  0.0029,  ...,  0.0044,  0.0102, -0.0059]],\n",
              "       grad_fn=<CopySlices>)"
            ]
          },
          "metadata": {},
          "execution_count": 59
        }
      ]
    },
    {
      "cell_type": "code",
      "source": [
        "test = prior.sample((10,))\n",
        "sonuc = model.f_inv(test)\n",
        "\n",
        "fig, axs = plt.subplots(1, 10, sharex=True, sharey=True, figsize=(16, 8))\n",
        "\n",
        "for i in range(0,10):\n",
        "\n",
        "    axs[i].imshow(torch.nn.ReLU()(sonuc[i]).detach().numpy().reshape((28,28)), cmap='gray')\n",
        "    #axs[i].axis('off')\n",
        "\n",
        "fig.show()"
      ],
      "metadata": {
        "id": "EJXVv9wyPMXm",
        "outputId": "7147dcd0-bd0b-4aa4-8339-3a3e9e69555b",
        "colab": {
          "base_uri": "https://localhost:8080/",
          "height": 169
        }
      },
      "execution_count": 84,
      "outputs": [
        {
          "output_type": "display_data",
          "data": {
            "text/plain": [
              "<Figure size 1600x800 with 10 Axes>"
            ],
            "image/png": "[encoded data removed]"
          },
          "metadata": {}
        }
      ]
    },
    {
      "cell_type": "code",
      "source": [],
      "metadata": {
        "id": "TtRXTPLzotDS"
      },
      "execution_count": 55,
      "outputs": []
    }
  ]
}