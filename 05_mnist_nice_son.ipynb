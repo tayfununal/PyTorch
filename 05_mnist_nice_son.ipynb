{
  "nbformat": 4,
  "nbformat_minor": 0,
  "metadata": {
    "colab": {
      "provenance": [],
      "gpuType": "T4",
      "authorship_tag": "ABX9TyOddMxxqQ7Y1IpdTgdisqft",
      "include_colab_link": true
    },
    "kernelspec": {
      "name": "python3",
      "display_name": "Python 3"
    },
    "language_info": {
      "name": "python"
    },
    "accelerator": "GPU"
  },
  "cells": [
    {
      "cell_type": "markdown",
      "metadata": {
        "id": "view-in-github",
        "colab_type": "text"
      },
      "source": [
        "<a href=\"https://colab.research.google.com/github/tayfununal/PyTorch/blob/main/05_mnist_nice_son.ipynb\" target=\"_parent\"><img src=\"https://colab.research.google.com/assets/colab-badge.svg\" alt=\"Open In Colab\"/></a>"
      ]
    },
    {
      "cell_type": "code",
      "execution_count": 34,
      "metadata": {
        "id": "87RALZ-3O9AN"
      },
      "outputs": [],
      "source": [
        "import torch\n",
        "import numpy as np\n",
        "import matplotlib.pyplot as plt\n",
        "import seaborn as sns\n",
        "from torch import nn\n",
        "import torchvision\n",
        "from torch.utils.data import DataLoader, Dataset\n",
        "from torchvision import transforms\n",
        "\n",
        "from sklearn.datasets import load_digits\n",
        "from sklearn.datasets import make_moons"
      ]
    },
    {
      "cell_type": "code",
      "source": [
        "class Data(Dataset):\n",
        "    def __init__(self, dataset):\n",
        "        super(Data, self).__init__()\n",
        "\n",
        "        self.dataset = dataset\n",
        "\n",
        "    def __len__(self):\n",
        "        return len(self.dataset)\n",
        "\n",
        "    def __getitem__(self, idx):\n",
        "        x = self.dataset.data[idx]\n",
        "        y = self.dataset.targets[idx]\n",
        "        return x, y"
      ],
      "metadata": {
        "id": "y_iZwiHXO_bt"
      },
      "execution_count": 35,
      "outputs": []
    },
    {
      "cell_type": "code",
      "source": [
        "class NICE(nn.Module):\n",
        "    def __init__(self, input_dim, hidden_layer, num_flows=2):\n",
        "        super(NICE, self).__init__()\n",
        "\n",
        "        self.input_dim = input_dim\n",
        "        self.hidden_layer = hidden_layer\n",
        "        self.num_flows = num_flows\n",
        "\n",
        "        self.net = lambda : nn.Sequential(\n",
        "                                 nn.Linear(self.input_dim//2, self.hidden_layer), nn.ReLU(),\n",
        "                                 nn.Linear(self.hidden_layer, self.hidden_layer), nn.ReLU(),\n",
        "                                 nn.Linear(self.hidden_layer, self.hidden_layer), nn.ReLU(),\n",
        "                                 nn.Linear(self.hidden_layer, self.hidden_layer), nn.ReLU(),\n",
        "                                 nn.Linear(self.hidden_layer, self.hidden_layer), nn.ReLU(),\n",
        "                                 nn.Linear(self.hidden_layer, self.hidden_layer), nn.ReLU(),\n",
        "                                 nn.Linear(self.hidden_layer, self.hidden_layer), nn.ReLU(),\n",
        "                                 nn.Linear(self.hidden_layer, self.input_dim//2), nn.ReLU()) # input dimension must be equal to output dimension\n",
        "\n",
        "        self.m = nn.ModuleList([self.net() for _ in range(self.num_flows)])\n",
        "\n",
        "        self.s = nn.Parameter(torch.rand(input_dim), requires_grad=True)\n",
        "\n",
        "\n",
        "    def forward(self, x):\n",
        "        x = x[0].to(torch.float32)\n",
        "        x = x.view(len(x), -1,) / 255\n",
        "        return self.f(x)\n",
        "\n",
        "    def coupling_layer(self, x, m, flow, forward=True):\n",
        "\n",
        "        x_a = x[:, : x.shape[1]//2] if flow%2==0 else x[:, x.shape[1]//2 :]\n",
        "        x_b = x[:, x.shape[1]//2 :] if flow%2==0 else x[:, : x.shape[1]//2]\n",
        "\n",
        "        if forward:\n",
        "            y_b = (x_b - m(x_a))\n",
        "        else:\n",
        "            y_b = (x_b + m(x_a))\n",
        "\n",
        "        z = torch.concat((x_a, y_b), axis=1) if flow%2==0 else torch.concat((y_b, x_a), axis=1)\n",
        "\n",
        "        return z\n",
        "\n",
        "\n",
        "    def f(self, x):\n",
        "        z = x\n",
        "\n",
        "        for flow, model in enumerate(self.m, start=1):\n",
        "            z = self.coupling_layer(z, model, flow, forward=True)\n",
        "\n",
        "        z = z * torch.exp(-self.s)\n",
        "        log_det_j = torch.sum(-self.s)\n",
        "\n",
        "        return z, log_det_j\n",
        "\n",
        "    def f_inv(self, z):\n",
        "        x = z * torch.exp(self.s)\n",
        "\n",
        "        for flow, model in reversed(list(enumerate(self.m, start=1))):\n",
        "            x = self.coupling_layer(x, model, flow,forward=False)\n",
        "\n",
        "        return x\n",
        "\n",
        "    def criterion(self, z, prior, log_det_j, reduction = \"sum\"):\n",
        "\n",
        "        if reduction == \"sum\":\n",
        "            loss = - (prior.log_prob(z) + log_det_j).sum()\n",
        "        else:\n",
        "\n",
        "            loss = - (prior.log_prob(z) + log_det_j).mean()\n",
        "        return loss"
      ],
      "metadata": {
        "id": "dNv7fminO_d7"
      },
      "execution_count": 36,
      "outputs": []
    },
    {
      "cell_type": "code",
      "source": [
        "train_image = torchvision.datasets.MNIST(root='dataset', train=True, download=True, transform=transforms.ToTensor())\n",
        "test_image = torchvision.datasets.MNIST(root='dataset', train=False, download=True, transform=transforms.ToTensor())\n",
        "\n",
        "\n",
        "\n",
        "train_data = Data(train_image)\n",
        "test_data = Data(test_image)"
      ],
      "metadata": {
        "id": "61Bk8bccO_gl"
      },
      "execution_count": 37,
      "outputs": []
    },
    {
      "cell_type": "code",
      "source": [
        "image_train, category_train = train_data[0]\n",
        "image_test, category_test = test_data[0]\n",
        "\n",
        "\n",
        "plt.figure(figsize=(5,5))\n",
        "plt.subplot(1,2,1)\n",
        "plt.imshow(image_train.reshape((28,28)), cmap='gray')\n",
        "plt.title(f'train\\ntarget : {category_train}')\n",
        "plt.axis('off')\n",
        "\n",
        "plt.subplot(1,2,2)\n",
        "plt.imshow(image_test.reshape((28,28)), cmap='gray')\n",
        "plt.title(f'test\\ntarget : {category_test}')\n",
        "plt.axis('off')\n",
        "\n",
        "plt.show()"
      ],
      "metadata": {
        "colab": {
          "base_uri": "https://localhost:8080/",
          "height": 256
        },
        "id": "mn2HDNucO_i_",
        "outputId": "4eff615a-e7a9-4bcf-f7a6-7a654be77e1c"
      },
      "execution_count": 38,
      "outputs": [
        {
          "output_type": "display_data",
          "data": {
            "text/plain": [
              "<Figure size 500x500 with 2 Axes>"
            ],
            "image/png": "[encoded data removed]"
          },
          "metadata": {}
        }
      ]
    },
    {
      "cell_type": "code",
      "source": [
        "data_dim = 28*28\n",
        "prior = torch.distributions.multivariate_normal.MultivariateNormal(loc=torch.zeros((data_dim)),\n",
        "                                                    scale_tril=torch.diag(torch.ones((data_dim))))\n",
        "\n",
        "model = NICE(input_dim=data_dim, hidden_layer=128, num_flows=20)\n",
        "\n",
        "train_loader = DataLoader(train_data, batch_size=20000)\n"
      ],
      "metadata": {
        "id": "rQs7Q0x8O_lW"
      },
      "execution_count": 39,
      "outputs": []
    },
    {
      "cell_type": "code",
      "source": [
        "epochs = 20\n",
        "optimizer = torch.optim.Adam(model.parameters(), lr=0.01)\n",
        "\n",
        "COST = []\n",
        "\n",
        "for epoch in range(epochs):\n",
        "    total_loss = []\n",
        "\n",
        "    for x in train_loader:\n",
        "\n",
        "        z, log_det_j = model.forward(x)\n",
        "        loss = model.criterion(z, prior, log_det_j, reduction=\"avg\")\n",
        "\n",
        "        optimizer.zero_grad()\n",
        "        loss.backward()\n",
        "        optimizer.step()\n",
        "\n",
        "        total_loss.append(loss.item())\n",
        "\n",
        "    COST.append(np.mean(total_loss))\n",
        "\n",
        "    if epoch==0:\n",
        "        print(\"Epoch : \", epoch+1, \"  -----------> Loss : \", np.mean(total_loss))\n",
        "    elif (epoch+1)%1 == 0:\n",
        "        print(\"Epoch : \", epoch+1, \"  -----------> Loss : \", np.mean(total_loss))"
      ],
      "metadata": {
        "colab": {
          "base_uri": "https://localhost:8080/"
        },
        "id": "wwMpBqaBO_np",
        "outputId": "10256093-88c1-427c-f2a1-ad5105db3959"
      },
      "execution_count": 40,
      "outputs": [
        {
          "output_type": "stream",
          "name": "stdout",
          "text": [
            "Epoch :  1   -----------> Loss :  341.32787068684894\n",
            "Epoch :  2   -----------> Loss :  313.8085428873698\n",
            "Epoch :  3   -----------> Loss :  289.4921875\n",
            "Epoch :  4   -----------> Loss :  265.24317423502606\n",
            "Epoch :  5   -----------> Loss :  240.96836853027344\n",
            "Epoch :  6   -----------> Loss :  216.77385457356772\n",
            "Epoch :  7   -----------> Loss :  192.6920369466146\n",
            "Epoch :  8   -----------> Loss :  168.57988993326822\n",
            "Epoch :  9   -----------> Loss :  144.57770284016928\n",
            "Epoch :  10   -----------> Loss :  120.6489766438802\n",
            "Epoch :  11   -----------> Loss :  96.78119659423828\n",
            "Epoch :  12   -----------> Loss :  72.97783660888672\n",
            "Epoch :  13   -----------> Loss :  49.22779846191406\n",
            "Epoch :  14   -----------> Loss :  25.52720769246419\n",
            "Epoch :  15   -----------> Loss :  1.836934010187785\n",
            "Epoch :  16   -----------> Loss :  -21.748108863830566\n",
            "Epoch :  17   -----------> Loss :  -45.36462275187174\n",
            "Epoch :  18   -----------> Loss :  -68.9583740234375\n",
            "Epoch :  19   -----------> Loss :  -92.53658803304036\n",
            "Epoch :  20   -----------> Loss :  -116.09154510498047\n"
          ]
        }
      ]
    },
    {
      "cell_type": "code",
      "source": [
        "test = prior.sample((50,))\n",
        "test"
      ],
      "metadata": {
        "colab": {
          "base_uri": "https://localhost:8080/"
        },
        "id": "qJy70H-_O_pw",
        "outputId": "01937b13-9edd-4a5a-9a5e-b8c79b12b8ba"
      },
      "execution_count": 41,
      "outputs": [
        {
          "output_type": "execute_result",
          "data": {
            "text/plain": [
              "tensor([[-1.3065, -0.3427, -0.0239,  ...,  0.1802,  0.3870,  0.4966],\n",
              "        [-0.8859,  0.8159,  0.9804,  ...,  1.0856, -0.5229, -0.1595],\n",
              "        [ 0.3062,  0.7999,  0.5130,  ...,  1.1399,  1.0202, -0.0801],\n",
              "        ...,\n",
              "        [ 1.9391,  0.4756, -1.5728,  ...,  0.6543, -0.4709,  0.8078],\n",
              "        [ 0.7112,  1.3784,  0.4378,  ..., -0.5080, -1.2805, -1.4083],\n",
              "        [-0.3732,  0.5342,  2.0975,  ..., -0.1333, -0.3126, -0.1643]])"
            ]
          },
          "metadata": {},
          "execution_count": 41
        }
      ]
    },
    {
      "cell_type": "code",
      "source": [
        "sonuc = model.f_inv(test)\n"
      ],
      "metadata": {
        "id": "rjNtmsr9O_sB"
      },
      "execution_count": 42,
      "outputs": []
    },
    {
      "cell_type": "code",
      "source": [
        "test = prior.sample((10,))\n",
        "sonuc = model.f_inv(test)\n",
        "\n",
        "fig, axs = plt.subplots(1, 10, sharex=True, sharey=True, figsize=(16, 8))\n",
        "\n",
        "for i in range(0,10):\n",
        "\n",
        "    axs[i].imshow(sonuc[i].detach().numpy().reshape((28,28)), cmap='gray')\n",
        "    #axs[i].axis('off')\n",
        "\n",
        "fig.show()"
      ],
      "metadata": {
        "colab": {
          "base_uri": "https://localhost:8080/",
          "height": 169
        },
        "id": "EJXVv9wyPMXm",
        "outputId": "7aae3082-fe69-4c5b-ea1f-f6bafb143c9b"
      },
      "execution_count": 46,
      "outputs": [
        {
          "output_type": "display_data",
          "data": {
            "text/plain": [
              "<Figure size 1600x800 with 10 Axes>"
            ],
            "image/png": "[encoded data removed]"
          },
          "metadata": {}
        }
      ]
    }
  ]
}