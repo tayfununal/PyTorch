{
  "nbformat": 4,
  "nbformat_minor": 0,
  "metadata": {
    "colab": {
      "provenance": [],
      "gpuType": "T4",
      "include_colab_link": true
    },
    "kernelspec": {
      "name": "python3",
      "display_name": "Python 3"
    },
    "language_info": {
      "name": "python"
    },
    "accelerator": "GPU"
  },
  "cells": [
    {
      "cell_type": "markdown",
      "metadata": {
        "id": "view-in-github",
        "colab_type": "text"
      },
      "source": [
        "<a href=\"https://colab.research.google.com/github/tayfununal/PyTorch/blob/main/05_mnist_nice_son.ipynb\" target=\"_parent\"><img src=\"https://colab.research.google.com/assets/colab-badge.svg\" alt=\"Open In Colab\"/></a>"
      ]
    },
    {
      "cell_type": "code",
      "execution_count": 101,
      "metadata": {
        "id": "87RALZ-3O9AN"
      },
      "outputs": [],
      "source": [
        "import torch\n",
        "import numpy as np\n",
        "import matplotlib.pyplot as plt\n",
        "import seaborn as sns\n",
        "from torch import nn\n",
        "import torchvision\n",
        "from torch.utils.data import DataLoader, Dataset\n",
        "from torchvision import transforms\n",
        "\n",
        "from sklearn.datasets import load_digits\n",
        "from sklearn.datasets import make_moons"
      ]
    },
    {
      "cell_type": "code",
      "source": [
        "class Data(Dataset):\n",
        "    def __init__(self, dataset):\n",
        "        super(Data, self).__init__()\n",
        "\n",
        "        self.dataset = dataset\n",
        "\n",
        "    def __len__(self):\n",
        "        return len(self.dataset)\n",
        "\n",
        "    def __getitem__(self, idx):\n",
        "        x = self.dataset.data[idx]\n",
        "        y = self.dataset.targets[idx]\n",
        "        return x, y"
      ],
      "metadata": {
        "id": "y_iZwiHXO_bt"
      },
      "execution_count": 102,
      "outputs": []
    },
    {
      "cell_type": "code",
      "source": [
        "class NICE(nn.Module):\n",
        "    def __init__(self, input_dim, hidden_layer, num_flows=2):\n",
        "        super(NICE, self).__init__()\n",
        "\n",
        "        self.input_dim = input_dim\n",
        "        self.hidden_layer = hidden_layer\n",
        "        self.num_flows = num_flows\n",
        "\n",
        "        self.net = lambda : nn.Sequential(\n",
        "                                 nn.Linear(self.input_dim//2, self.hidden_layer), nn.ReLU(),\n",
        "                                 nn.Linear(self.hidden_layer, self.hidden_layer), nn.ReLU(),\n",
        "                                 nn.Linear(self.hidden_layer, self.hidden_layer), nn.ReLU(),\n",
        "                                 nn.Linear(self.hidden_layer, self.hidden_layer), nn.ReLU(),\n",
        "                                 nn.Linear(self.hidden_layer, self.hidden_layer), nn.ReLU(),\n",
        "                                 nn.Linear(self.hidden_layer, self.hidden_layer), nn.ReLU(),\n",
        "                                 nn.Linear(self.hidden_layer, self.hidden_layer), nn.ReLU(),\n",
        "                                 nn.Linear(self.hidden_layer, self.input_dim//2)) # input dimension must be equal to output dimension\n",
        "\n",
        "        self.m = nn.ModuleList([self.net() for _ in range(self.num_flows)])\n",
        "\n",
        "        self.s = nn.Parameter(torch.rand(1, input_dim), requires_grad=True)\n",
        "\n",
        "\n",
        "    def forward(self, x):\n",
        "        x = x[0].to(torch.float32)\n",
        "        x = x.view(len(x), -1,) / 255\n",
        "        return self.f(x)\n",
        "\n",
        "    def coupling_layer(self, x, m, flow, forward=True):\n",
        "        x = x.clone()\n",
        "\n",
        "        x_a = x[:, ::2] if flow%2==0 else x[:, 1::2]\n",
        "        x_b = x[:, 1::2] if flow%2==0 else x[:, ::2]\n",
        "\n",
        "        if forward:\n",
        "            y_b = x_b - m(x_a)\n",
        "        else:\n",
        "            y_b = x_b + m(x_a)\n",
        "\n",
        "        #z = torch.concat((x_a, y_b), axis=1) if flow%2==0 else torch.concat((y_b, x_a), axis=1)\n",
        "        z = torch.empty(x.shape)\n",
        "        z[:, ::2] = x_a if flow%2==0 else y_b\n",
        "        z[:, 1::2] = y_b if flow%2==0 else x_a\n",
        "        return z\n",
        "\n",
        "\n",
        "    def f(self, x):\n",
        "        z = x\n",
        "\n",
        "        for flow, model in enumerate(self.m, start=0):\n",
        "            z = self.coupling_layer(z, model, flow, forward=True)\n",
        "\n",
        "        z = z * torch.exp(-self.s)\n",
        "        log_det_j = torch.sum(-self.s)\n",
        "\n",
        "        return z, log_det_j\n",
        "\n",
        "    def f_inv(self, z):\n",
        "        x = z * torch.exp(self.s)\n",
        "\n",
        "        for flow, model in reversed(list(enumerate(self.m, start=0))):\n",
        "            x = self.coupling_layer(x, model, flow,forward=False)\n",
        "\n",
        "        return x\n",
        "\n",
        "    def criterion(self, z, prior, log_det_j, reduction = \"sum\"):\n",
        "\n",
        "        if reduction == \"sum\":\n",
        "            loss = - (prior.log_prob(z) + log_det_j).sum()\n",
        "        else:\n",
        "\n",
        "            loss = - (prior.log_prob(z) + log_det_j).mean()\n",
        "        return loss"
      ],
      "metadata": {
        "id": "dNv7fminO_d7"
      },
      "execution_count": 103,
      "outputs": []
    },
    {
      "cell_type": "code",
      "source": [
        "train_image = torchvision.datasets.MNIST(root='dataset', train=True, download=True, transform=transforms.ToTensor())\n",
        "test_image = torchvision.datasets.MNIST(root='dataset', train=False, download=True, transform=transforms.ToTensor())\n",
        "\n",
        "\n",
        "\n",
        "train_data = Data(train_image)\n",
        "test_data = Data(test_image)"
      ],
      "metadata": {
        "id": "61Bk8bccO_gl"
      },
      "execution_count": 104,
      "outputs": []
    },
    {
      "cell_type": "code",
      "source": [
        "image_train, category_train = train_data[0]\n",
        "image_test, category_test = test_data[0]\n",
        "\n",
        "\n",
        "plt.figure(figsize=(5,5))\n",
        "plt.subplot(1,2,1)\n",
        "plt.imshow(image_train.reshape((28,28)), cmap='gray')\n",
        "plt.title(f'train\\ntarget : {category_train}')\n",
        "plt.axis('off')\n",
        "\n",
        "plt.subplot(1,2,2)\n",
        "plt.imshow(image_test.reshape((28,28)), cmap='gray')\n",
        "plt.title(f'test\\ntarget : {category_test}')\n",
        "plt.axis('off')\n",
        "\n",
        "plt.show()"
      ],
      "metadata": {
        "colab": {
          "base_uri": "https://localhost:8080/",
          "height": 256
        },
        "id": "mn2HDNucO_i_",
        "outputId": "21811840-30a9-4375-b3c2-5416e239ac24"
      },
      "execution_count": 105,
      "outputs": [
        {
          "output_type": "display_data",
          "data": {
            "text/plain": [
              "<Figure size 500x500 with 2 Axes>"
            ],
            "image/png": "[encoded data removed]"
          },
          "metadata": {}
        }
      ]
    },
    {
      "cell_type": "code",
      "source": [
        "data_dim = 28*28\n",
        "prior = torch.distributions.multivariate_normal.MultivariateNormal(loc=torch.zeros((data_dim)),\n",
        "                                                    scale_tril=torch.diag(torch.ones((data_dim))))\n",
        "\n",
        "model = NICE(input_dim=data_dim, hidden_layer=64, num_flows=15)\n",
        "\n",
        "train_loader = DataLoader(train_data, batch_size=5000, shuffle=True)\n"
      ],
      "metadata": {
        "id": "rQs7Q0x8O_lW"
      },
      "execution_count": 106,
      "outputs": []
    },
    {
      "cell_type": "code",
      "source": [
        "epochs = 100\n",
        "optimizer = torch.optim.Adam(model.parameters(), lr=0.01)   # weight_decay=0.9\n",
        "\n",
        "COST = []\n",
        "\n",
        "for epoch in range(epochs):\n",
        "    total_loss = []\n",
        "\n",
        "    for x in train_loader:\n",
        "\n",
        "        z, log_det_j = model.forward(x)\n",
        "        loss = model.criterion(z, prior, log_det_j, reduction=\"avg\")\n",
        "\n",
        "        optimizer.zero_grad()\n",
        "        loss.backward()\n",
        "        optimizer.step()\n",
        "\n",
        "        total_loss.append(loss.item())\n",
        "\n",
        "    COST.append(np.mean(total_loss))\n",
        "\n",
        "    if epoch==0:\n",
        "        print(\"Epoch : \", epoch+1, \"  -----------> Loss : \", np.mean(total_loss))\n",
        "    elif (epoch+1)%1 == 0:\n",
        "        print(\"Epoch : \", epoch+1, \"  -----------> Loss : \", np.mean(total_loss))"
      ],
      "metadata": {
        "colab": {
          "base_uri": "https://localhost:8080/"
        },
        "id": "wwMpBqaBO_np",
        "outputId": "4c713067-c147-40df-9989-ac0af82db2f3"
      },
      "execution_count": 107,
      "outputs": [
        {
          "output_type": "stream",
          "name": "stdout",
          "text": [
            "Epoch :  1   -----------> Loss :  1091.4835408528645\n",
            "Epoch :  2   -----------> Loss :  997.6963907877604\n",
            "Epoch :  3   -----------> Loss :  905.6798502604166\n",
            "Epoch :  4   -----------> Loss :  814.0391591389974\n",
            "Epoch :  5   -----------> Loss :  723.6631673177084\n",
            "Epoch :  6   -----------> Loss :  635.0898793538412\n",
            "Epoch :  7   -----------> Loss :  549.8942565917969\n",
            "Epoch :  8   -----------> Loss :  464.9267323811849\n",
            "Epoch :  9   -----------> Loss :  381.4833017985026\n",
            "Epoch :  10   -----------> Loss :  300.9627329508464\n",
            "Epoch :  11   -----------> Loss :  225.9231274922689\n",
            "Epoch :  12   -----------> Loss :  151.56617863972983\n",
            "Epoch :  13   -----------> Loss :  81.27022329966228\n",
            "Epoch :  14   -----------> Loss :  16.37449061870575\n",
            "Epoch :  15   -----------> Loss :  -50.00456555684408\n",
            "Epoch :  16   -----------> Loss :  -111.39458020528157\n",
            "Epoch :  17   -----------> Loss :  -157.85769526163736\n",
            "Epoch :  18   -----------> Loss :  -216.12097295125326\n",
            "Epoch :  19   -----------> Loss :  -242.3311678568522\n",
            "Epoch :  20   -----------> Loss :  -309.10850524902344\n",
            "Epoch :  21   -----------> Loss :  -361.42400614420575\n",
            "Epoch :  22   -----------> Loss :  -399.93327077229816\n",
            "Epoch :  23   -----------> Loss :  -444.7487513224284\n",
            "Epoch :  24   -----------> Loss :  -489.0448964436849\n",
            "Epoch :  25   -----------> Loss :  -521.1659749348959\n",
            "Epoch :  26   -----------> Loss :  -545.6566518147787\n",
            "Epoch :  27   -----------> Loss :  -590.5616200764974\n",
            "Epoch :  28   -----------> Loss :  -630.7596435546875\n",
            "Epoch :  29   -----------> Loss :  -660.1383870442709\n",
            "Epoch :  30   -----------> Loss :  -670.6150665283203\n",
            "Epoch :  31   -----------> Loss :  -713.1409912109375\n",
            "Epoch :  32   -----------> Loss :  -741.5198415120443\n",
            "Epoch :  33   -----------> Loss :  -771.0833740234375\n",
            "Epoch :  34   -----------> Loss :  -787.9115091959635\n",
            "Epoch :  35   -----------> Loss :  -758.9735361735026\n",
            "Epoch :  36   -----------> Loss :  -809.2646433512369\n",
            "Epoch :  37   -----------> Loss :  -848.5942942301432\n",
            "Epoch :  38   -----------> Loss :  -871.8660227457682\n",
            "Epoch :  39   -----------> Loss :  -895.2483317057291\n",
            "Epoch :  40   -----------> Loss :  -901.4876505533854\n",
            "Epoch :  41   -----------> Loss :  -926.6639048258463\n",
            "Epoch :  42   -----------> Loss :  -942.3046824137369\n",
            "Epoch :  43   -----------> Loss :  -933.7605539957682\n",
            "Epoch :  44   -----------> Loss :  -967.2053883870443\n",
            "Epoch :  45   -----------> Loss :  -984.1503448486328\n",
            "Epoch :  46   -----------> Loss :  -988.9046020507812\n",
            "Epoch :  47   -----------> Loss :  -981.5057779947916\n",
            "Epoch :  48   -----------> Loss :  -994.6657002766927\n",
            "Epoch :  49   -----------> Loss :  -1005.4350229899088\n",
            "Epoch :  50   -----------> Loss :  -1025.4015401204426\n",
            "Epoch :  51   -----------> Loss :  -1027.9189554850261\n",
            "Epoch :  52   -----------> Loss :  -1031.0294748942058\n",
            "Epoch :  53   -----------> Loss :  -1030.3729044596355\n",
            "Epoch :  54   -----------> Loss :  -1034.9181722005208\n",
            "Epoch :  55   -----------> Loss :  -1030.4600168863933\n",
            "Epoch :  56   -----------> Loss :  -1051.905008951823\n",
            "Epoch :  57   -----------> Loss :  -1046.1651306152344\n",
            "Epoch :  58   -----------> Loss :  -1044.4666341145833\n",
            "Epoch :  59   -----------> Loss :  -1074.0550944010417\n",
            "Epoch :  60   -----------> Loss :  -1070.4988301595051\n",
            "Epoch :  61   -----------> Loss :  -1087.7116088867188\n",
            "Epoch :  62   -----------> Loss :  -1068.8559977213542\n",
            "Epoch :  63   -----------> Loss :  -1090.6876220703125\n",
            "Epoch :  64   -----------> Loss :  -1073.628682454427\n",
            "Epoch :  65   -----------> Loss :  -1109.03955078125\n",
            "Epoch :  66   -----------> Loss :  -1096.4524434407551\n",
            "Epoch :  67   -----------> Loss :  -1090.1250101725261\n",
            "Epoch :  68   -----------> Loss :  -1097.1629536946614\n",
            "Epoch :  69   -----------> Loss :  -1107.269755045573\n",
            "Epoch :  70   -----------> Loss :  -1102.4065551757812\n",
            "Epoch :  71   -----------> Loss :  -1116.6692301432292\n",
            "Epoch :  72   -----------> Loss :  -1102.6296691894531\n",
            "Epoch :  73   -----------> Loss :  -1119.2639567057292\n",
            "Epoch :  74   -----------> Loss :  -1136.9605611165364\n",
            "Epoch :  75   -----------> Loss :  -1119.1326904296875\n",
            "Epoch :  76   -----------> Loss :  -1121.8599853515625\n",
            "Epoch :  77   -----------> Loss :  -1127.6500549316406\n",
            "Epoch :  78   -----------> Loss :  -1145.0409240722656\n",
            "Epoch :  79   -----------> Loss :  -1147.6348063151042\n",
            "Epoch :  80   -----------> Loss :  -1136.5737915039062\n",
            "Epoch :  81   -----------> Loss :  -1145.3131001790364\n",
            "Epoch :  82   -----------> Loss :  -1141.5361836751301\n",
            "Epoch :  83   -----------> Loss :  -1132.8936971028645\n",
            "Epoch :  84   -----------> Loss :  -1115.6968587239583\n",
            "Epoch :  85   -----------> Loss :  -1131.6886189778645\n",
            "Epoch :  86   -----------> Loss :  -1153.2354736328125\n",
            "Epoch :  87   -----------> Loss :  -1168.158711751302\n",
            "Epoch :  88   -----------> Loss :  -1164.2816874186199\n",
            "Epoch :  89   -----------> Loss :  -1153.156005859375\n",
            "Epoch :  90   -----------> Loss :  -1157.2628173828125\n",
            "Epoch :  91   -----------> Loss :  -1154.4126892089844\n",
            "Epoch :  92   -----------> Loss :  -1157.1786499023438\n",
            "Epoch :  93   -----------> Loss :  -1174.510030110677\n",
            "Epoch :  94   -----------> Loss :  -1162.1825256347656\n",
            "Epoch :  95   -----------> Loss :  -1169.7597961425781\n",
            "Epoch :  96   -----------> Loss :  -1190.8976643880208\n",
            "Epoch :  97   -----------> Loss :  -1178.4537048339844\n",
            "Epoch :  98   -----------> Loss :  -1152.9580078125\n",
            "Epoch :  99   -----------> Loss :  -1150.7603251139324\n",
            "Epoch :  100   -----------> Loss :  -1188.921895345052\n"
          ]
        }
      ]
    },
    {
      "cell_type": "code",
      "source": [
        "plt.plot(COST)"
      ],
      "metadata": {
        "id": "3lgGpF_wybkp",
        "outputId": "3ebf2cf3-f112-40ea-9020-2e99117862ab",
        "colab": {
          "base_uri": "https://localhost:8080/",
          "height": 448
        }
      },
      "execution_count": 108,
      "outputs": [
        {
          "output_type": "execute_result",
          "data": {
            "text/plain": [
              "[<matplotlib.lines.Line2D at 0x7fb4aa69eb30>]"
            ]
          },
          "metadata": {},
          "execution_count": 108
        },
        {
          "output_type": "display_data",
          "data": {
            "text/plain": [
              "<Figure size 640x480 with 1 Axes>"
            ],
            "image/png": "[encoded data removed]"
          },
          "metadata": {}
        }
      ]
    },
    {
      "cell_type": "code",
      "source": [
        "test = prior.sample((50,))\n",
        "test"
      ],
      "metadata": {
        "id": "qJy70H-_O_pw",
        "outputId": "db92cb9e-6935-4f2f-9a35-9cd003db26b6",
        "colab": {
          "base_uri": "https://localhost:8080/"
        }
      },
      "execution_count": 109,
      "outputs": [
        {
          "output_type": "execute_result",
          "data": {
            "text/plain": [
              "tensor([[ 0.5540,  0.7124, -0.0116,  ...,  0.8300, -0.5143, -0.7089],\n",
              "        [ 1.3000, -0.7430, -0.2257,  ...,  0.1218, -0.7866,  0.0702],\n",
              "        [ 0.6554, -0.5591, -0.4663,  ...,  1.4927, -0.4221, -1.0200],\n",
              "        ...,\n",
              "        [ 0.5575,  1.0608,  0.2314,  ..., -0.2837,  0.3559,  0.6195],\n",
              "        [-0.7367, -1.0465, -0.0843,  ...,  2.1774, -0.0484,  0.5614],\n",
              "        [ 0.6987,  1.7966, -0.5474,  ..., -1.2464, -0.6912,  0.0392]])"
            ]
          },
          "metadata": {},
          "execution_count": 109
        }
      ]
    },
    {
      "cell_type": "code",
      "source": [
        "sonuc = model.f_inv(test)\n",
        "sonuc"
      ],
      "metadata": {
        "id": "rjNtmsr9O_sB",
        "colab": {
          "base_uri": "https://localhost:8080/"
        },
        "outputId": "ffbe2891-ffe8-4240-ab6d-450f70df2385"
      },
      "execution_count": 110,
      "outputs": [
        {
          "output_type": "execute_result",
          "data": {
            "text/plain": [
              "tensor([[-6.1625e-04,  8.8159e-03, -6.2905e-04,  ...,  4.9649e-03,\n",
              "         -2.7060e-03, -4.0620e-03],\n",
              "        [ 1.8286e-03, -2.7766e-04, -2.0782e-03,  ...,  9.2700e-04,\n",
              "         -4.6111e-03,  5.7387e-04],\n",
              "        [ 7.8958e-05,  7.2823e-04, -2.8868e-03,  ...,  9.1241e-03,\n",
              "         -1.9278e-03, -5.5461e-03],\n",
              "        ...,\n",
              "        [-2.9311e-04,  1.1493e-02,  3.1439e-04,  ..., -1.8702e-03,\n",
              "          3.2325e-03,  3.8422e-03],\n",
              "        [-5.6668e-03, -1.6982e-03, -1.0795e-03,  ...,  1.2970e-02,\n",
              "         -2.8551e-05,  3.3275e-03],\n",
              "        [ 1.0344e-04,  1.7431e-02, -3.6014e-03,  ..., -6.9517e-03,\n",
              "         -3.7913e-03,  5.5161e-04]], grad_fn=<CopySlices>)"
            ]
          },
          "metadata": {},
          "execution_count": 110
        }
      ]
    },
    {
      "cell_type": "code",
      "source": [
        "test = prior.sample((10,))\n",
        "sonuc = model.f_inv(test)\n",
        "\n",
        "fig, axs = plt.subplots(1, 10, sharex=True, sharey=True, figsize=(16, 8))\n",
        "\n",
        "for i in range(0,10):\n",
        "\n",
        "    axs[i].imshow(torch.nn.ReLU()(sonuc[i]).detach().numpy().reshape((28,28)), cmap='gray')\n",
        "    #axs[i].axis('off')\n",
        "\n",
        "fig.show()"
      ],
      "metadata": {
        "id": "EJXVv9wyPMXm",
        "outputId": "df8cb097-0e59-4f29-a578-6d426e79051e",
        "colab": {
          "base_uri": "https://localhost:8080/",
          "height": 169
        }
      },
      "execution_count": 111,
      "outputs": [
        {
          "output_type": "display_data",
          "data": {
            "text/plain": [
              "<Figure size 1600x800 with 10 Axes>"
            ],
            "image/png": "[encoded data removed]"
          },
          "metadata": {}
        }
      ]
    },
    {
      "cell_type": "code",
      "source": [],
      "metadata": {
        "id": "TtRXTPLzotDS"
      },
      "execution_count": 111,
      "outputs": []
    }
  ]
}