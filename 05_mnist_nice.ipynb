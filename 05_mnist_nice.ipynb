{
  "nbformat": 4,
  "nbformat_minor": 0,
  "metadata": {
    "colab": {
      "provenance": [],
      "machine_shape": "hm",
      "gpuType": "T4",
      "include_colab_link": true
    },
    "kernelspec": {
      "name": "python3",
      "display_name": "Python 3"
    },
    "language_info": {
      "name": "python"
    },
    "accelerator": "GPU"
  },
  "cells": [
    {
      "cell_type": "markdown",
      "metadata": {
        "id": "view-in-github",
        "colab_type": "text"
      },
      "source": [
        "<a href=\"https://colab.research.google.com/github/tayfununal/PyTorch/blob/main/05_mnist_nice.ipynb\" target=\"_parent\"><img src=\"https://colab.research.google.com/assets/colab-badge.svg\" alt=\"Open In Colab\"/></a>"
      ]
    },
    {
      "cell_type": "code",
      "execution_count": 1,
      "metadata": {
        "id": "87RALZ-3O9AN"
      },
      "outputs": [],
      "source": [
        "import torch\n",
        "import numpy as np\n",
        "import matplotlib.pyplot as plt\n",
        "import seaborn as sns\n",
        "from torch import nn\n",
        "import torchvision\n",
        "from torch.utils.data import DataLoader, Dataset\n",
        "from torchvision import transforms\n",
        "\n",
        "from sklearn.datasets import load_digits\n",
        "from sklearn.model_selection import train_test_split\n",
        "from sklearn.datasets import make_moons"
      ]
    },
    {
      "cell_type": "code",
      "source": [
        "class Data(Dataset):\n",
        "    def __init__(self, dataset):\n",
        "        super(Data, self).__init__()\n",
        "\n",
        "        self.dataset = dataset\n",
        "\n",
        "    def __len__(self):\n",
        "        return len(self.dataset)\n",
        "\n",
        "    def __getitem__(self, idx):\n",
        "        x = self.dataset[idx]\n",
        "        return x"
      ],
      "metadata": {
        "id": "QI3ugepai5u7"
      },
      "execution_count": 2,
      "outputs": []
    },
    {
      "cell_type": "code",
      "source": [
        "\"\"\"class Data(Dataset):\n",
        "    def __init__(self, dataset):\n",
        "        super(Data, self).__init__()\n",
        "\n",
        "        self.dataset = dataset\n",
        "\n",
        "    def __len__(self):\n",
        "        return len(self.dataset)\n",
        "\n",
        "    def __getitem__(self, idx):\n",
        "        x = self.dataset.data[idx]\n",
        "        y = self.dataset.targets[idx]\n",
        "        return x, y\"\"\""
      ],
      "metadata": {
        "id": "y_iZwiHXO_bt",
        "colab": {
          "base_uri": "https://localhost:8080/",
          "height": 55
        },
        "outputId": "61a745fa-3a91-4664-dc67-e8b25c9d22e8"
      },
      "execution_count": 3,
      "outputs": [
        {
          "output_type": "execute_result",
          "data": {
            "text/plain": [
              "'class Data(Dataset):\\n    def __init__(self, dataset):\\n        super(Data, self).__init__()\\n\\n        self.dataset = dataset\\n\\n    def __len__(self):\\n        return len(self.dataset)\\n\\n    def __getitem__(self, idx):\\n        x = self.dataset.data[idx]\\n        y = self.dataset.targets[idx]\\n        return x, y'"
            ],
            "application/vnd.google.colaboratory.intrinsic+json": {
              "type": "string"
            }
          },
          "metadata": {},
          "execution_count": 3
        }
      ]
    },
    {
      "cell_type": "code",
      "source": [
        "class NICE(nn.Module):\n",
        "    def __init__(self, input_dim, hidden_layer, num_flows=2):\n",
        "        super(NICE, self).__init__()\n",
        "\n",
        "        self.input_dim = input_dim\n",
        "        self.hidden_layer = hidden_layer\n",
        "        self.num_flows = num_flows\n",
        "\n",
        "        self.net = lambda : nn.Sequential(\n",
        "                                 nn.Linear(self.input_dim//2, self.hidden_layer), nn.ReLU(), nn.BatchNorm1d(self.hidden_layer),\n",
        "                                 nn.Linear(self.hidden_layer, self.hidden_layer), nn.ReLU(), nn.BatchNorm1d(self.hidden_layer),\n",
        "                                 nn.Linear(self.hidden_layer, self.hidden_layer), nn.ReLU(), nn.BatchNorm1d(self.hidden_layer),\n",
        "                                 nn.Linear(self.hidden_layer, self.hidden_layer), nn.ReLU(), nn.BatchNorm1d(self.hidden_layer),\n",
        "                                 nn.Linear(self.hidden_layer, self.hidden_layer), nn.ReLU(), nn.BatchNorm1d(self.hidden_layer),\n",
        "                                 nn.Linear(self.hidden_layer, self.hidden_layer), nn.ReLU(), nn.BatchNorm1d(self.hidden_layer),\n",
        "                                 nn.Linear(self.hidden_layer, self.hidden_layer), nn.ReLU(), nn.BatchNorm1d(self.hidden_layer),\n",
        "                                 nn.Linear(self.hidden_layer, self.input_dim//2)) # input dimension must be equal to output dimension\n",
        "\n",
        "        self.m = nn.ModuleList([self.net() for _ in range(self.num_flows)])\n",
        "\n",
        "        self.s = nn.Parameter(torch.rand(1, input_dim), requires_grad=True)\n",
        "\n",
        "        self.per_list = self.permutation()\n",
        "\n",
        "    def forward(self, x):\n",
        "        x = x.view(len(x), -1,).to(torch.float32)\n",
        "        return self.f(x)\n",
        "\n",
        "    def permutation(self):\n",
        "        per_list =[]\n",
        "\n",
        "        p = torch.eye(self.input_dim)\n",
        "        for flow in range(self.num_flows):\n",
        "            per_list.append(p[torch.randperm(p.size()[0])])\n",
        "\n",
        "        return per_list\n",
        "\n",
        "    def coupling_layer(self, x, m, flow, forward=True):\n",
        "\n",
        "        x_a = x[:, ::2] if flow%2==0 else x[:, 1::2]\n",
        "        x_b = x[:, 1::2] if flow%2==0 else x[:, ::2]\n",
        "\n",
        "        if forward:\n",
        "            y_b = x_b - m(x_a)\n",
        "        else:\n",
        "            y_b = x_b + m(x_a)\n",
        "\n",
        "        #z = torch.concat((x_a, y_b), axis=1) if flow%2==0 else torch.concat((y_b, x_a), axis=1)\n",
        "        z = torch.empty(x.shape)\n",
        "        z[:, ::2] = x_a if flow%2==0 else y_b\n",
        "        z[:, 1::2] = y_b if flow%2==0 else x_a\n",
        "        return z\n",
        "\n",
        "\n",
        "    def f(self, x):\n",
        "        z = x / torch.exp(self.s)\n",
        "\n",
        "        for flow, model in enumerate(self.m, start=0):\n",
        "            z = torch.matmul(z, self.per_list[flow])\n",
        "            z = self.coupling_layer(z, model, flow, forward=True)\n",
        "\n",
        "        log_det_j = torch.sum(-self.s)\n",
        "\n",
        "        return z, log_det_j\n",
        "\n",
        "    def f_inv(self, z):\n",
        "\n",
        "        for flow, model in reversed(list(enumerate(self.m, start=0))):\n",
        "            z = self.coupling_layer(z, model, flow,forward=False)\n",
        "            z = torch.matmul(z, self.per_list[flow].T)\n",
        "\n",
        "        x = z * torch.exp(self.s)\n",
        "        return x\n",
        "\n",
        "    def criterion(self, z, prior, log_det_j, reduction = \"sum\"):\n",
        "\n",
        "        if reduction == \"sum\":\n",
        "            loss = - (prior.log_prob(z) + log_det_j).sum()\n",
        "        else:\n",
        "\n",
        "            loss = - (prior.log_prob(z) + log_det_j).mean()\n",
        "        return loss"
      ],
      "metadata": {
        "id": "dNv7fminO_d7"
      },
      "execution_count": 4,
      "outputs": []
    },
    {
      "cell_type": "code",
      "source": [
        "def rescale(x, lo, hi):\n",
        "    \"\"\"Rescale a tensor to [lo,hi].\"\"\"\n",
        "    assert(lo < hi), \"[rescale] lo={0} must be smaller than hi={1}\".format(lo,hi)\n",
        "    old_width = torch.max(x)-torch.min(x)\n",
        "    old_center = torch.min(x) + (old_width / 2.)\n",
        "    new_width = float(hi-lo)\n",
        "    new_center = lo + (new_width / 2.)\n",
        "    # shift everything back to zero:\n",
        "    x = x - old_center\n",
        "    # rescale to correct width:\n",
        "    x = x * (new_width / old_width)\n",
        "    # shift everything to the new center:\n",
        "    x = x + new_center\n",
        "    # return:\n",
        "    return x"
      ],
      "metadata": {
        "id": "Y5sYlrIWap1J"
      },
      "execution_count": 5,
      "outputs": []
    },
    {
      "cell_type": "code",
      "source": [
        "train_image = torchvision.datasets.MNIST(root='dataset', train=True, download=True, transform=transforms.ToTensor())\n",
        "test_image = torchvision.datasets.MNIST(root='dataset', train=False, download=True, transform=transforms.ToTensor())\n",
        "\n",
        "X_train = train_image.data.type(dtype=torch.float32)\n",
        "y_train = train_image.targets\n",
        "\n",
        "X_test = test_image.data.type(dtype=torch.float32)\n",
        "y_test = test_image.targets\n",
        "\n",
        "# Dequantization\n",
        "X_train = torch.tensor(X_train) + torch.rand_like(torch.tensor(X_train)).div_(256.)\n",
        "X_train = rescale(X_train, 0., 1.).numpy()"
      ],
      "metadata": {
        "colab": {
          "base_uri": "https://localhost:8080/"
        },
        "id": "2fhoxicmbPyc",
        "outputId": "82c4d8cd-36a1-4868-b4f5-54899426e25e"
      },
      "execution_count": 6,
      "outputs": [
        {
          "output_type": "stream",
          "name": "stdout",
          "text": [
            "Downloading http://yann.lecun.com/exdb/mnist/train-images-idx3-ubyte.gz\n",
            "Downloading http://yann.lecun.com/exdb/mnist/train-images-idx3-ubyte.gz to dataset/MNIST/raw/train-images-idx3-ubyte.gz\n"
          ]
        },
        {
          "output_type": "stream",
          "name": "stderr",
          "text": [
            "100%|██████████| 9912422/9912422 [00:00<00:00, 57257750.14it/s]\n"
          ]
        },
        {
          "output_type": "stream",
          "name": "stdout",
          "text": [
            "Extracting dataset/MNIST/raw/train-images-idx3-ubyte.gz to dataset/MNIST/raw\n",
            "\n",
            "Downloading http://yann.lecun.com/exdb/mnist/train-labels-idx1-ubyte.gz\n",
            "Downloading http://yann.lecun.com/exdb/mnist/train-labels-idx1-ubyte.gz to dataset/MNIST/raw/train-labels-idx1-ubyte.gz\n"
          ]
        },
        {
          "output_type": "stream",
          "name": "stderr",
          "text": [
            "100%|██████████| 28881/28881 [00:00<00:00, 26095582.47it/s]"
          ]
        },
        {
          "output_type": "stream",
          "name": "stdout",
          "text": [
            "Extracting dataset/MNIST/raw/train-labels-idx1-ubyte.gz to dataset/MNIST/raw\n",
            "\n",
            "Downloading http://yann.lecun.com/exdb/mnist/t10k-images-idx3-ubyte.gz\n",
            "Downloading http://yann.lecun.com/exdb/mnist/t10k-images-idx3-ubyte.gz to dataset/MNIST/raw/t10k-images-idx3-ubyte.gz\n"
          ]
        },
        {
          "output_type": "stream",
          "name": "stderr",
          "text": [
            "\n",
            "100%|██████████| 1648877/1648877 [00:00<00:00, 22971422.77it/s]\n"
          ]
        },
        {
          "output_type": "stream",
          "name": "stdout",
          "text": [
            "Extracting dataset/MNIST/raw/t10k-images-idx3-ubyte.gz to dataset/MNIST/raw\n",
            "\n",
            "Downloading http://yann.lecun.com/exdb/mnist/t10k-labels-idx1-ubyte.gz\n",
            "Downloading http://yann.lecun.com/exdb/mnist/t10k-labels-idx1-ubyte.gz to dataset/MNIST/raw/t10k-labels-idx1-ubyte.gz\n"
          ]
        },
        {
          "output_type": "stream",
          "name": "stderr",
          "text": [
            "100%|██████████| 4542/4542 [00:00<00:00, 6689090.16it/s]\n"
          ]
        },
        {
          "output_type": "stream",
          "name": "stdout",
          "text": [
            "Extracting dataset/MNIST/raw/t10k-labels-idx1-ubyte.gz to dataset/MNIST/raw\n",
            "\n"
          ]
        },
        {
          "output_type": "stream",
          "name": "stderr",
          "text": [
            "<ipython-input-6-8d23df9458ef>:11: UserWarning: To copy construct from a tensor, it is recommended to use sourceTensor.clone().detach() or sourceTensor.clone().detach().requires_grad_(True), rather than torch.tensor(sourceTensor).\n",
            "  X_train = torch.tensor(X_train) + torch.rand_like(torch.tensor(X_train)).div_(256.)\n"
          ]
        }
      ]
    },
    {
      "cell_type": "code",
      "source": [
        "train_data = Data(X_train)\n",
        "test_data = Data(X_test)"
      ],
      "metadata": {
        "id": "61Bk8bccO_gl"
      },
      "execution_count": 7,
      "outputs": []
    },
    {
      "cell_type": "code",
      "source": [
        "image_train = train_data[0]\n",
        "category_train = y_train[0]\n",
        "image_test = test_data[0]\n",
        "category_test = y_test[0]\n",
        "\n",
        "plt.figure(figsize=(5,5))\n",
        "plt.subplot(1,2,1)\n",
        "plt.imshow(image_train.reshape((28,28)), cmap='gray')\n",
        "plt.title(f'train\\ntarget : {category_train}')\n",
        "plt.axis('off')\n",
        "\n",
        "plt.subplot(1,2,2)\n",
        "plt.imshow(image_test.reshape((28,28)), cmap='gray')\n",
        "plt.title(f'test\\ntarget : {category_test}')\n",
        "plt.axis('off')\n",
        "\n",
        "plt.show()"
      ],
      "metadata": {
        "colab": {
          "base_uri": "https://localhost:8080/",
          "height": 256
        },
        "id": "mn2HDNucO_i_",
        "outputId": "f010774a-64d1-4141-9aeb-68aef73d6885"
      },
      "execution_count": 8,
      "outputs": [
        {
          "output_type": "display_data",
          "data": {
            "text/plain": [
              "<Figure size 500x500 with 2 Axes>"
            ],
            "image/png": "[encoded data removed]"
          },
          "metadata": {}
        }
      ]
    },
    {
      "cell_type": "code",
      "source": [
        "data_dim = 28*28\n",
        "prior = torch.distributions.multivariate_normal.MultivariateNormal(loc=torch.zeros((data_dim)),\n",
        "                                                    scale_tril=torch.diag(torch.ones((data_dim))))\n",
        "\"\"\"\n",
        "prior = torch.distributions.normal.Normal(loc=torch.zeros((data_dim)),\n",
        "                                                    scale=torch.ones((data_dim)))\n",
        "\"\"\"\n",
        "model = NICE(input_dim=data_dim, hidden_layer=256, num_flows=10)\n",
        "\n",
        "train_loader = DataLoader(train_data, batch_size=10000, shuffle=True)\n"
      ],
      "metadata": {
        "id": "rQs7Q0x8O_lW"
      },
      "execution_count": 9,
      "outputs": []
    },
    {
      "cell_type": "code",
      "source": [
        "epochs = 1000\n",
        "optimizer = torch.optim.Adam(model.parameters(), lr=0.005)   # weight_decay=0.9\n",
        "\n",
        "COST = []\n",
        "\n",
        "for epoch in range(epochs):\n",
        "    total_loss = []\n",
        "\n",
        "    for x in train_loader:\n",
        "\n",
        "        z, log_det_j = model.forward(x)\n",
        "        loss = model.criterion(z, prior, log_det_j, reduction=\"avg\")\n",
        "\n",
        "        optimizer.zero_grad()\n",
        "        loss.backward()\n",
        "        optimizer.step()\n",
        "\n",
        "        total_loss.append(loss.item())\n",
        "\n",
        "    COST.append(np.mean(total_loss))\n",
        "\n",
        "    if epoch==0:\n",
        "        print(\"Epoch : \", epoch+1, \"  -----------> Loss : \", np.mean(total_loss))\n",
        "    elif (epoch+1)%10 == 0:\n",
        "        print(\"Epoch : \", epoch+1, \"  -----------> Loss : \", np.mean(total_loss))"
      ],
      "metadata": {
        "colab": {
          "base_uri": "https://localhost:8080/"
        },
        "id": "wwMpBqaBO_np",
        "outputId": "d2445ee1-7719-444b-887b-090153a22d00"
      },
      "execution_count": 10,
      "outputs": [
        {
          "output_type": "stream",
          "name": "stdout",
          "text": [
            "Epoch :  1   -----------> Loss :  1633.629903157552\n",
            "Epoch :  10   -----------> Loss :  979.253896077474\n",
            "Epoch :  20   -----------> Loss :  782.4918212890625\n",
            "Epoch :  30   -----------> Loss :  585.8950907389323\n",
            "Epoch :  40   -----------> Loss :  390.04808044433594\n",
            "Epoch :  50   -----------> Loss :  193.92272440592447\n",
            "Epoch :  60   -----------> Loss :  2.0541271468003592\n",
            "Epoch :  70   -----------> Loss :  -184.61337280273438\n",
            "Epoch :  80   -----------> Loss :  -360.3739878336589\n",
            "Epoch :  90   -----------> Loss :  -527.8745727539062\n",
            "Epoch :  100   -----------> Loss :  -687.2193908691406\n",
            "Epoch :  110   -----------> Loss :  -833.7474263509115\n",
            "Epoch :  120   -----------> Loss :  -975.4815979003906\n",
            "Epoch :  130   -----------> Loss :  -1102.6018473307292\n",
            "Epoch :  140   -----------> Loss :  -1227.3664957682292\n",
            "Epoch :  150   -----------> Loss :  -1335.9872639973958\n",
            "Epoch :  160   -----------> Loss :  -1443.5686645507812\n",
            "Epoch :  170   -----------> Loss :  -1532.8291625976562\n",
            "Epoch :  180   -----------> Loss :  -1628.5718383789062\n",
            "Epoch :  190   -----------> Loss :  -1707.3052571614583\n",
            "Epoch :  200   -----------> Loss :  -1759.5720825195312\n",
            "Epoch :  210   -----------> Loss :  -1850.2325236002605\n",
            "Epoch :  220   -----------> Loss :  -1898.2236735026042\n",
            "Epoch :  230   -----------> Loss :  -1959.645487467448\n",
            "Epoch :  240   -----------> Loss :  -2010.9298095703125\n",
            "Epoch :  250   -----------> Loss :  -2058.9663899739585\n",
            "Epoch :  260   -----------> Loss :  -2108.8445638020835\n",
            "Epoch :  270   -----------> Loss :  -2143.621866861979\n",
            "Epoch :  280   -----------> Loss :  -2196.8487548828125\n",
            "Epoch :  290   -----------> Loss :  -2224.6123046875\n",
            "Epoch :  300   -----------> Loss :  -2260.794881184896\n",
            "Epoch :  310   -----------> Loss :  -2253.7481689453125\n",
            "Epoch :  320   -----------> Loss :  -2291.0882568359375\n",
            "Epoch :  330   -----------> Loss :  -2372.226114908854\n",
            "Epoch :  340   -----------> Loss :  -2363.7972819010415\n",
            "Epoch :  350   -----------> Loss :  -2423.995890299479\n",
            "Epoch :  360   -----------> Loss :  -2459.266845703125\n",
            "Epoch :  370   -----------> Loss :  -2452.2652587890625\n",
            "Epoch :  380   -----------> Loss :  -2428.9246826171875\n",
            "Epoch :  390   -----------> Loss :  -2509.7332356770835\n",
            "Epoch :  400   -----------> Loss :  -2509.5414225260415\n",
            "Epoch :  410   -----------> Loss :  -2519.7425944010415\n",
            "Epoch :  420   -----------> Loss :  -2532.532674153646\n",
            "Epoch :  430   -----------> Loss :  -2557.610148111979\n",
            "Epoch :  440   -----------> Loss :  -2572.945027669271\n",
            "Epoch :  450   -----------> Loss :  -2591.086181640625\n",
            "Epoch :  460   -----------> Loss :  -2579.6759033203125\n",
            "Epoch :  470   -----------> Loss :  -2546.268025716146\n",
            "Epoch :  480   -----------> Loss :  -2548.3994954427085\n",
            "Epoch :  490   -----------> Loss :  -2571.4137369791665\n",
            "Epoch :  500   -----------> Loss :  -2621.444620768229\n",
            "Epoch :  510   -----------> Loss :  -2608.951171875\n",
            "Epoch :  520   -----------> Loss :  -2451.96435546875\n",
            "Epoch :  530   -----------> Loss :  -2546.871785481771\n",
            "Epoch :  540   -----------> Loss :  -2615.858113606771\n",
            "Epoch :  550   -----------> Loss :  -2590.38623046875\n",
            "Epoch :  560   -----------> Loss :  -2470.1117350260415\n",
            "Epoch :  570   -----------> Loss :  -2577.24267578125\n",
            "Epoch :  580   -----------> Loss :  -2607.216267903646\n",
            "Epoch :  590   -----------> Loss :  -2564.42041015625\n",
            "Epoch :  600   -----------> Loss :  -2453.210408528646\n",
            "Epoch :  610   -----------> Loss :  -2292.7210693359375\n",
            "Epoch :  620   -----------> Loss :  -2472.989949544271\n",
            "Epoch :  630   -----------> Loss :  -2533.7197265625\n",
            "Epoch :  640   -----------> Loss :  -2355.448689778646\n",
            "Epoch :  650   -----------> Loss :  -2314.1758626302085\n",
            "Epoch :  660   -----------> Loss :  -2516.3810221354165\n",
            "Epoch :  670   -----------> Loss :  -2472.7049560546875\n",
            "Epoch :  680   -----------> Loss :  -2565.9955240885415\n",
            "Epoch :  690   -----------> Loss :  -2578.154581705729\n",
            "Epoch :  700   -----------> Loss :  -2570.38623046875\n",
            "Epoch :  710   -----------> Loss :  -2577.75048828125\n",
            "Epoch :  720   -----------> Loss :  -2609.845458984375\n",
            "Epoch :  730   -----------> Loss :  -2612.5503743489585\n",
            "Epoch :  740   -----------> Loss :  -2626.9935709635415\n",
            "Epoch :  750   -----------> Loss :  -2640.048299153646\n",
            "Epoch :  760   -----------> Loss :  -2639.4212239583335\n",
            "Epoch :  770   -----------> Loss :  -2645.1995849609375\n",
            "Epoch :  780   -----------> Loss :  -2666.9654947916665\n",
            "Epoch :  790   -----------> Loss :  -2645.927978515625\n",
            "Epoch :  800   -----------> Loss :  -2557.949991861979\n",
            "Epoch :  810   -----------> Loss :  -2631.0711263020835\n",
            "Epoch :  820   -----------> Loss :  -2624.148396809896\n",
            "Epoch :  830   -----------> Loss :  -2665.1827392578125\n",
            "Epoch :  840   -----------> Loss :  -2679.830851236979\n",
            "Epoch :  850   -----------> Loss :  -2679.596476236979\n",
            "Epoch :  860   -----------> Loss :  -2518.5338541666665\n",
            "Epoch :  870   -----------> Loss :  -2451.4735107421875\n",
            "Epoch :  880   -----------> Loss :  -2583.4814453125\n",
            "Epoch :  890   -----------> Loss :  -2660.933837890625\n",
            "Epoch :  900   -----------> Loss :  -2676.249226888021\n",
            "Epoch :  910   -----------> Loss :  -2693.274617513021\n",
            "Epoch :  920   -----------> Loss :  -2703.7332356770835\n",
            "Epoch :  930   -----------> Loss :  -2713.0340576171875\n",
            "Epoch :  940   -----------> Loss :  -2713.296671549479\n",
            "Epoch :  950   -----------> Loss :  -2706.365030924479\n",
            "Epoch :  960   -----------> Loss :  -2660.73974609375\n",
            "Epoch :  970   -----------> Loss :  -2604.3505045572915\n",
            "Epoch :  980   -----------> Loss :  -2290.747314453125\n",
            "Epoch :  990   -----------> Loss :  -2582.7255045572915\n",
            "Epoch :  1000   -----------> Loss :  -2665.1276041666665\n"
          ]
        }
      ]
    },
    {
      "cell_type": "code",
      "source": [
        "plt.plot(COST)"
      ],
      "metadata": {
        "id": "3lgGpF_wybkp",
        "outputId": "300b15d3-0b72-43cd-8630-918a1e10e1b6",
        "colab": {
          "base_uri": "https://localhost:8080/",
          "height": 448
        }
      },
      "execution_count": 11,
      "outputs": [
        {
          "output_type": "execute_result",
          "data": {
            "text/plain": [
              "[<matplotlib.lines.Line2D at 0x7b2ec442f1f0>]"
            ]
          },
          "metadata": {},
          "execution_count": 11
        },
        {
          "output_type": "display_data",
          "data": {
            "text/plain": [
              "<Figure size 640x480 with 1 Axes>"
            ],
            "image/png": "[encoded data removed]"
          },
          "metadata": {}
        }
      ]
    },
    {
      "cell_type": "code",
      "source": [
        "test = prior.sample((50,))\n",
        "test"
      ],
      "metadata": {
        "id": "qJy70H-_O_pw",
        "outputId": "7a4cfa05-da69-4352-b677-3b212f04a9a2",
        "colab": {
          "base_uri": "https://localhost:8080/"
        }
      },
      "execution_count": 12,
      "outputs": [
        {
          "output_type": "execute_result",
          "data": {
            "text/plain": [
              "tensor([[-0.1261,  0.0170, -0.4511,  ...,  1.2161, -0.3747, -2.2427],\n",
              "        [ 0.6095,  0.8064, -0.7912,  ...,  1.3883,  0.1375,  1.4389],\n",
              "        [-0.2518, -0.2091, -0.2132,  ..., -1.1970,  0.3752, -0.0951],\n",
              "        ...,\n",
              "        [-1.4179, -1.3632, -1.1042,  ...,  0.6467, -0.3854, -0.1425],\n",
              "        [ 1.4590,  2.1984, -0.9564,  ..., -1.1355,  0.1156, -0.3183],\n",
              "        [ 1.7016, -0.0721,  0.4013,  ...,  1.7998,  0.6497,  0.5482]])"
            ]
          },
          "metadata": {},
          "execution_count": 12
        }
      ]
    },
    {
      "cell_type": "code",
      "source": [
        "sonuc = model.f_inv(test)\n",
        "sonuc"
      ],
      "metadata": {
        "id": "rjNtmsr9O_sB",
        "outputId": "ed0f75f2-826d-412d-e660-ea72a3810713",
        "colab": {
          "base_uri": "https://localhost:8080/"
        }
      },
      "execution_count": 13,
      "outputs": [
        {
          "output_type": "execute_result",
          "data": {
            "text/plain": [
              "tensor([[ 1.1341e-05,  2.6154e-06,  5.6931e-06,  ...,  9.2961e-06,\n",
              "          7.8501e-06,  1.8430e-05],\n",
              "        [ 3.1214e-06,  1.1461e-05,  3.3463e-05,  ...,  5.1873e-06,\n",
              "          8.1906e-06,  9.5199e-06],\n",
              "        [ 4.1665e-06,  2.4265e-05, -1.1960e-05,  ...,  1.3553e-06,\n",
              "          1.3847e-05, -5.7882e-06],\n",
              "        ...,\n",
              "        [ 2.9250e-06,  3.8292e-06, -1.9328e-06,  ...,  2.7445e-09,\n",
              "          1.7116e-05,  1.6186e-06],\n",
              "        [ 1.2916e-06,  1.3422e-05,  1.5046e-05,  ...,  7.0658e-06,\n",
              "          6.2486e-06,  2.9631e-06],\n",
              "        [ 7.2453e-06,  3.7174e-06,  8.8509e-07,  ...,  4.8412e-06,\n",
              "          1.7948e-05,  8.1716e-06]], grad_fn=<MulBackward0>)"
            ]
          },
          "metadata": {},
          "execution_count": 13
        }
      ]
    },
    {
      "cell_type": "code",
      "source": [
        "test = prior.sample((50,))\n",
        "sonuc = model.f_inv(test)\n",
        "sonuc[sonuc[:]>=0.5] = 1\n",
        "sonuc[sonuc[:]<0.5] = 0\n",
        "fig, axs = plt.subplots(5, 10, sharex=True, sharey=True, figsize=(18, 8))\n",
        "\n",
        "for i in range(0,10):\n",
        "\n",
        "    axs[0, i].imshow((sonuc[i]).detach().numpy().reshape((28,28)))\n",
        "    axs[1, i].imshow((sonuc[10+i]).detach().numpy().reshape((28,28)))\n",
        "    axs[2, i].imshow((sonuc[20+i]).detach().numpy().reshape((28,28)))\n",
        "    axs[3, i].imshow((sonuc[30+i]).detach().numpy().reshape((28,28)))\n",
        "    axs[4, i].imshow((sonuc[40+i]).detach().numpy().reshape((28,28)))\n",
        "    axs[0, i].axis('off')\n",
        "    axs[1, i].axis('off')\n",
        "    axs[2, i].axis('off')\n",
        "    axs[3, i].axis('off')\n",
        "    axs[4, i].axis('off')\n",
        "fig.show()"
      ],
      "metadata": {
        "id": "EJXVv9wyPMXm",
        "outputId": "02cae94e-53c1-45be-f713-f768b6617891",
        "colab": {
          "base_uri": "https://localhost:8080/",
          "height": 653
        }
      },
      "execution_count": 38,
      "outputs": [
        {
          "output_type": "display_data",
          "data": {
            "text/plain": [
              "<Figure size 1800x800 with 50 Axes>"
            ],
            "image/png": "[encoded data removed]"
          },
          "metadata": {}
        }
      ]
    },
    {
      "cell_type": "code",
      "source": [
        "test = prior.sample((1797,))\n",
        "sonuc = (model.f_inv(test))\n",
        "\n",
        "sonuc[sonuc[:]>=0.5] = 1\n",
        "sonuc[sonuc[:]<0.5] = 0\n",
        "fig, axs = plt.subplots(5, 10, sharex=True, sharey=True, figsize=(18, 8), subplot_kw={'xticks':[], 'yticks':[]}, gridspec_kw=dict(hspace=0.1, wspace=0.1))\n",
        "\n",
        "for i in range(0,10):\n",
        "\n",
        "    axs[0, i].imshow((sonuc[i]).detach().numpy().reshape((28,28)), cmap='binary', interpolation='nearest', clim=(0, 0.8))\n",
        "    axs[1, i].imshow((sonuc[10+i]).detach().numpy().reshape((28,28)), cmap='binary', interpolation='nearest', clim=(0, 0.8))\n",
        "    axs[2, i].imshow((sonuc[20+i]).detach().numpy().reshape((28,28)), cmap='binary', interpolation='nearest', clim=(0, 0.8))\n",
        "    axs[3, i].imshow((sonuc[30+i]).detach().numpy().reshape((28,28)), cmap='binary', interpolation='nearest', clim=(0, 0.8))\n",
        "    axs[4, i].imshow((sonuc[40+i]).detach().numpy().reshape((28,28)), cmap='binary', interpolation='nearest', clim=(0, 0.8))\n",
        "fig.show()"
      ],
      "metadata": {
        "id": "TtRXTPLzotDS",
        "outputId": "b792171c-bc35-44c6-85d9-e36254bde966",
        "colab": {
          "base_uri": "https://localhost:8080/",
          "height": 652
        }
      },
      "execution_count": 37,
      "outputs": [
        {
          "output_type": "display_data",
          "data": {
            "text/plain": [
              "<Figure size 1800x800 with 50 Axes>"
            ],
            "image/png": "[encoded data removed]"
          },
          "metadata": {}
        }
      ]
    },
    {
      "cell_type": "code",
      "source": [
        "test = prior.sample((1797,))\n",
        "sonuc = torch.abs(model.f_inv(test))\n",
        "sonuc[sonuc[:]>=0.5] = 1\n",
        "sonuc[sonuc[:]<0.5] = 0\n",
        "\n",
        "fig, axs = plt.subplots(5, 10, sharex=True, sharey=True, figsize=(18, 8), subplot_kw={'xticks':[], 'yticks':[]}, gridspec_kw=dict(hspace=0.1, wspace=0.1))\n",
        "\n",
        "for i in range(0,10):\n",
        "\n",
        "    axs[0, i].imshow((sonuc[i]).detach().numpy().reshape((28,28)), cmap='binary', interpolation='nearest', clim=(0, 0.8))\n",
        "    axs[1, i].imshow((sonuc[10+i]).detach().numpy().reshape((28,28)), cmap='binary', interpolation='nearest', clim=(0, 0.8))\n",
        "    axs[2, i].imshow((sonuc[20+i]).detach().numpy().reshape((28,28)), cmap='binary', interpolation='nearest', clim=(0, 0.8))\n",
        "    axs[3, i].imshow((sonuc[30+i]).detach().numpy().reshape((28,28)), cmap='binary', interpolation='nearest', clim=(0, 0.8))\n",
        "    axs[4, i].imshow((sonuc[40+i]).detach().numpy().reshape((28,28)), cmap='binary', interpolation='nearest', clim=(0, 0.8))\n",
        "fig.show()"
      ],
      "metadata": {
        "id": "Z7kxHCtiv9Bi",
        "outputId": "6324fb84-340a-4de0-dac6-8dd28b78b566",
        "colab": {
          "base_uri": "https://localhost:8080/",
          "height": 652
        }
      },
      "execution_count": 36,
      "outputs": [
        {
          "output_type": "display_data",
          "data": {
            "text/plain": [
              "<Figure size 1800x800 with 50 Axes>"
            ],
            "image/png": "[encoded data removed]"
          },
          "metadata": {}
        }
      ]
    },
    {
      "cell_type": "code",
      "source": [
        "test = prior.sample((1797,))\n",
        "sonuc = torch.nn.ReLU()(model.f_inv(test))\n",
        "sonuc[sonuc[:]>=0.5] = 1\n",
        "sonuc[sonuc[:]<0.5] = 0\n",
        "fig, axs = plt.subplots(5, 10, sharex=True, sharey=True, figsize=(18, 8), subplot_kw={'xticks':[], 'yticks':[]}, gridspec_kw=dict(hspace=0.1, wspace=0.1))\n",
        "\n",
        "for i in range(0,10):\n",
        "\n",
        "    axs[0, i].imshow((sonuc[i]).detach().numpy().reshape((28,28)), cmap='binary', interpolation='nearest', clim=(0, 0.8))\n",
        "    axs[1, i].imshow((sonuc[10+i]).detach().numpy().reshape((28,28)), cmap='binary', interpolation='nearest', clim=(0, 0.8))\n",
        "    axs[2, i].imshow((sonuc[20+i]).detach().numpy().reshape((28,28)), cmap='binary', interpolation='nearest', clim=(0, 0.8))\n",
        "    axs[3, i].imshow((sonuc[30+i]).detach().numpy().reshape((28,28)), cmap='binary', interpolation='nearest', clim=(0, 0.8))\n",
        "    axs[4, i].imshow((sonuc[40+i]).detach().numpy().reshape((28,28)), cmap='binary', interpolation='nearest', clim=(0, 0.8))\n",
        "fig.show()"
      ],
      "metadata": {
        "id": "1Mie1eTywaL2",
        "outputId": "128883f1-49e2-4c89-ab66-f520f459b58b",
        "colab": {
          "base_uri": "https://localhost:8080/",
          "height": 652
        }
      },
      "execution_count": 39,
      "outputs": [
        {
          "output_type": "display_data",
          "data": {
            "text/plain": [
              "<Figure size 1800x800 with 50 Axes>"
            ],
            "image/png": "[encoded data removed]"
          },
          "metadata": {}
        }
      ]
    },
    {
      "cell_type": "code",
      "source": [],
      "metadata": {
        "id": "e5Ezs0opyGEj"
      },
      "execution_count": null,
      "outputs": []
    }
  ]
}