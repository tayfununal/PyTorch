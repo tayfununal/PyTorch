{
  "nbformat": 4,
  "nbformat_minor": 0,
  "metadata": {
    "colab": {
      "provenance": [],
      "machine_shape": "hm",
      "gpuType": "T4",
      "include_colab_link": true
    },
    "kernelspec": {
      "name": "python3",
      "display_name": "Python 3"
    },
    "language_info": {
      "name": "python"
    },
    "accelerator": "GPU"
  },
  "cells": [
    {
      "cell_type": "markdown",
      "metadata": {
        "id": "view-in-github",
        "colab_type": "text"
      },
      "source": [
        "<a href=\"https://colab.research.google.com/github/tayfununal/PyTorch/blob/main/05_mnist_nice.ipynb\" target=\"_parent\"><img src=\"https://colab.research.google.com/assets/colab-badge.svg\" alt=\"Open In Colab\"/></a>"
      ]
    },
    {
      "cell_type": "code",
      "execution_count": 68,
      "metadata": {
        "id": "87RALZ-3O9AN"
      },
      "outputs": [],
      "source": [
        "import torch\n",
        "import numpy as np\n",
        "import matplotlib.pyplot as plt\n",
        "import seaborn as sns\n",
        "from torch import nn\n",
        "import torchvision\n",
        "from torch.utils.data import DataLoader, Dataset\n",
        "from torchvision import transforms\n",
        "\n",
        "from sklearn.datasets import load_digits\n",
        "from sklearn.model_selection import train_test_split\n",
        "from sklearn.datasets import make_moons"
      ]
    },
    {
      "cell_type": "code",
      "source": [
        "class Data(Dataset):\n",
        "    def __init__(self, dataset):\n",
        "        super(Data, self).__init__()\n",
        "\n",
        "        self.dataset = dataset\n",
        "\n",
        "    def __len__(self):\n",
        "        return len(self.dataset)\n",
        "\n",
        "    def __getitem__(self, idx):\n",
        "        x = self.dataset[idx]\n",
        "        return x"
      ],
      "metadata": {
        "id": "QI3ugepai5u7"
      },
      "execution_count": 69,
      "outputs": []
    },
    {
      "cell_type": "code",
      "source": [
        "\"\"\"class Data(Dataset):\n",
        "    def __init__(self, dataset):\n",
        "        super(Data, self).__init__()\n",
        "\n",
        "        self.dataset = dataset\n",
        "\n",
        "    def __len__(self):\n",
        "        return len(self.dataset)\n",
        "\n",
        "    def __getitem__(self, idx):\n",
        "        x = self.dataset.data[idx]\n",
        "        y = self.dataset.targets[idx]\n",
        "        return x, y\"\"\""
      ],
      "metadata": {
        "id": "y_iZwiHXO_bt",
        "colab": {
          "base_uri": "https://localhost:8080/",
          "height": 55
        },
        "outputId": "10564fde-7e90-41d5-b532-bea637407666"
      },
      "execution_count": 70,
      "outputs": [
        {
          "output_type": "execute_result",
          "data": {
            "text/plain": [
              "'class Data(Dataset):\\n    def __init__(self, dataset):\\n        super(Data, self).__init__()\\n\\n        self.dataset = dataset\\n\\n    def __len__(self):\\n        return len(self.dataset)\\n\\n    def __getitem__(self, idx):\\n        x = self.dataset.data[idx]\\n        y = self.dataset.targets[idx]\\n        return x, y'"
            ],
            "application/vnd.google.colaboratory.intrinsic+json": {
              "type": "string"
            }
          },
          "metadata": {},
          "execution_count": 70
        }
      ]
    },
    {
      "cell_type": "code",
      "source": [
        "class NICE(nn.Module):\n",
        "    def __init__(self, input_dim, hidden_layer, num_flows=2):\n",
        "        super(NICE, self).__init__()\n",
        "\n",
        "        self.input_dim = input_dim\n",
        "        self.hidden_layer = hidden_layer\n",
        "        self.num_flows = num_flows\n",
        "\n",
        "        self.net = lambda : nn.Sequential(\n",
        "                                 nn.Linear(self.input_dim//2, self.hidden_layer), nn.ReLU(),\n",
        "                                 nn.Linear(self.hidden_layer, self.hidden_layer), nn.ReLU(),\n",
        "                                 nn.Linear(self.hidden_layer, self.hidden_layer), nn.ReLU(),\n",
        "                                 nn.Linear(self.hidden_layer, self.hidden_layer), nn.ReLU(),\n",
        "                                 nn.Linear(self.hidden_layer, self.hidden_layer), nn.ReLU(),\n",
        "                                 nn.Linear(self.hidden_layer, self.hidden_layer), nn.ReLU(),\n",
        "                                 nn.Linear(self.hidden_layer, self.hidden_layer), nn.ReLU(),\n",
        "                                 nn.Linear(self.hidden_layer, self.input_dim//2)) # input dimension must be equal to output dimension\n",
        "\n",
        "        self.m = nn.ModuleList([self.net() for _ in range(self.num_flows)])\n",
        "\n",
        "        self.s = nn.Parameter(torch.rand(1, input_dim), requires_grad=True)\n",
        "\n",
        "        self.per_list = self.permutation()\n",
        "\n",
        "    def forward(self, x):\n",
        "        x = x.view(len(x), -1,).to(torch.float32)\n",
        "        return self.f(x)\n",
        "\n",
        "    def permutation(self):\n",
        "        per_list =[]\n",
        "\n",
        "        p = torch.eye(self.input_dim)\n",
        "        for flow in range(self.num_flows):\n",
        "            per_list.append(p[torch.randperm(p.size()[0])])\n",
        "\n",
        "        return per_list\n",
        "\n",
        "    def coupling_layer(self, x, m, flow, forward=True):\n",
        "\n",
        "        x_a = x[:, ::2] if flow%2==0 else x[:, 1::2]\n",
        "        x_b = x[:, 1::2] if flow%2==0 else x[:, ::2]\n",
        "\n",
        "        if forward:\n",
        "            y_b = x_b - m(x_a)\n",
        "        else:\n",
        "            y_b = x_b + m(x_a)\n",
        "\n",
        "        #z = torch.concat((x_a, y_b), axis=1) if flow%2==0 else torch.concat((y_b, x_a), axis=1)\n",
        "        z = torch.empty(x.shape)\n",
        "        z[:, ::2] = x_a if flow%2==0 else y_b\n",
        "        z[:, 1::2] = y_b if flow%2==0 else x_a\n",
        "        return z\n",
        "\n",
        "\n",
        "    def f(self, x):\n",
        "        z = x / torch.exp(self.s)\n",
        "\n",
        "        for flow, model in enumerate(self.m, start=0):\n",
        "            z = torch.matmul(z, self.per_list[flow])\n",
        "            z = self.coupling_layer(z, model, flow, forward=True)\n",
        "\n",
        "        log_det_j = torch.sum(-self.s)\n",
        "\n",
        "        return z, log_det_j\n",
        "\n",
        "    def f_inv(self, z):\n",
        "\n",
        "        for flow, model in reversed(list(enumerate(self.m, start=0))):\n",
        "            z = self.coupling_layer(z, model, flow,forward=False)\n",
        "            z = torch.matmul(z, self.per_list[flow].T)\n",
        "\n",
        "        x = z * torch.exp(self.s)\n",
        "        return x\n",
        "\n",
        "    def criterion(self, z, prior, log_det_j, reduction = \"sum\"):\n",
        "\n",
        "        if reduction == \"sum\":\n",
        "            loss = - (prior.log_prob(z) + log_det_j).sum()\n",
        "        else:\n",
        "\n",
        "            loss = - (prior.log_prob(z) + log_det_j).mean()\n",
        "        return loss"
      ],
      "metadata": {
        "id": "dNv7fminO_d7"
      },
      "execution_count": 71,
      "outputs": []
    },
    {
      "cell_type": "code",
      "source": [
        "def rescale(x, lo, hi):\n",
        "    \"\"\"Rescale a tensor to [lo,hi].\"\"\"\n",
        "    assert(lo < hi), \"[rescale] lo={0} must be smaller than hi={1}\".format(lo,hi)\n",
        "    old_width = torch.max(x)-torch.min(x)\n",
        "    old_center = torch.min(x) + (old_width / 2.)\n",
        "    new_width = float(hi-lo)\n",
        "    new_center = lo + (new_width / 2.)\n",
        "    # shift everything back to zero:\n",
        "    x = x - old_center\n",
        "    # rescale to correct width:\n",
        "    x = x * (new_width / old_width)\n",
        "    # shift everything to the new center:\n",
        "    x = x + new_center\n",
        "    # return:\n",
        "    return x"
      ],
      "metadata": {
        "id": "Y5sYlrIWap1J"
      },
      "execution_count": 72,
      "outputs": []
    },
    {
      "cell_type": "code",
      "source": [
        "train_image = torchvision.datasets.MNIST(root='dataset', train=True, download=True, transform=transforms.ToTensor())\n",
        "test_image = torchvision.datasets.MNIST(root='dataset', train=False, download=True, transform=transforms.ToTensor())\n",
        "\n",
        "X_train = train_image.data.type(dtype=torch.float32)\n",
        "y_train = train_image.targets\n",
        "\n",
        "X_test = test_image.data.type(dtype=torch.float32)\n",
        "y_test = test_image.targets\n",
        "\n",
        "# Dequantization\n",
        "uniform = torch.distributions.uniform.Uniform(torch.tensor([-0.5]), torch.tensor([0.5]))\n",
        "\n",
        "X_train = torch.tensor(X_train) + uniform.sample(X_train.shape).squeeze()\n",
        "X_train = rescale(X_train, 0., 1.).numpy()\n",
        "\n",
        "X_test = torch.tensor(X_test)+ uniform.sample(X_test.shape).squeeze()\n",
        "X_test = rescale(X_test, 0., 1.).numpy()"
      ],
      "metadata": {
        "colab": {
          "base_uri": "https://localhost:8080/"
        },
        "id": "2fhoxicmbPyc",
        "outputId": "77ec19ae-da9e-4130-d4f5-2411a32d16ee"
      },
      "execution_count": 73,
      "outputs": [
        {
          "output_type": "stream",
          "name": "stderr",
          "text": [
            "<ipython-input-73-2bf555d63314>:13: UserWarning: To copy construct from a tensor, it is recommended to use sourceTensor.clone().detach() or sourceTensor.clone().detach().requires_grad_(True), rather than torch.tensor(sourceTensor).\n",
            "  X_train = torch.tensor(X_train) + uniform.sample(X_train.shape).squeeze()\n",
            "<ipython-input-73-2bf555d63314>:16: UserWarning: To copy construct from a tensor, it is recommended to use sourceTensor.clone().detach() or sourceTensor.clone().detach().requires_grad_(True), rather than torch.tensor(sourceTensor).\n",
            "  X_test = torch.tensor(X_test)+ uniform.sample(X_test.shape).squeeze()\n"
          ]
        }
      ]
    },
    {
      "cell_type": "code",
      "source": [
        "train_data = Data(X_train)\n",
        "test_data = Data(X_test)"
      ],
      "metadata": {
        "id": "61Bk8bccO_gl"
      },
      "execution_count": 74,
      "outputs": []
    },
    {
      "cell_type": "code",
      "source": [
        "image_train = train_data[0]\n",
        "category_train = y_train[0]\n",
        "image_test = test_data[0]\n",
        "category_test = y_test[0]\n",
        "\n",
        "plt.figure(figsize=(5,5))\n",
        "plt.subplot(1,2,1)\n",
        "plt.imshow(image_train.reshape((28,28)), cmap='gray')\n",
        "plt.title(f'train\\ntarget : {category_train}')\n",
        "plt.axis('off')\n",
        "\n",
        "plt.subplot(1,2,2)\n",
        "plt.imshow(image_test.reshape((28,28)), cmap='gray')\n",
        "plt.title(f'test\\ntarget : {category_test}')\n",
        "plt.axis('off')\n",
        "\n",
        "plt.show()"
      ],
      "metadata": {
        "colab": {
          "base_uri": "https://localhost:8080/",
          "height": 256
        },
        "id": "mn2HDNucO_i_",
        "outputId": "3aa71cf4-8e23-4765-88a5-545d36869aa6"
      },
      "execution_count": 75,
      "outputs": [
        {
          "output_type": "display_data",
          "data": {
            "text/plain": [
              "<Figure size 500x500 with 2 Axes>"
            ],
            "image/png": "[encoded data removed]"
          },
          "metadata": {}
        }
      ]
    },
    {
      "cell_type": "code",
      "source": [
        "data_dim = 28*28\n",
        "prior = torch.distributions.multivariate_normal.MultivariateNormal(loc=torch.zeros((data_dim)),\n",
        "                                                    scale_tril=torch.diag(torch.ones((data_dim))))\n",
        "\"\"\"\n",
        "prior = torch.distributions.normal.Normal(loc=torch.zeros((data_dim)),\n",
        "                                                    scale=torch.ones((data_dim)))\n",
        "\"\"\"\n",
        "model = NICE(input_dim=data_dim, hidden_layer=512, num_flows=10)\n",
        "\n",
        "train_loader = DataLoader(train_data, batch_size=5000, shuffle=True)\n"
      ],
      "metadata": {
        "id": "rQs7Q0x8O_lW"
      },
      "execution_count": 76,
      "outputs": []
    },
    {
      "cell_type": "code",
      "source": [
        "epochs = 200\n",
        "optimizer = torch.optim.Adam(model.parameters(), lr=0.003)   # weight_decay=0.9\n",
        "\n",
        "COST = []\n",
        "\n",
        "for epoch in range(epochs):\n",
        "    total_loss = []\n",
        "\n",
        "    for x in train_loader:\n",
        "\n",
        "        z, log_det_j = model.forward(x)\n",
        "        loss = model.criterion(z, prior, log_det_j, reduction=\"avg\")\n",
        "\n",
        "        optimizer.zero_grad()\n",
        "        loss.backward()\n",
        "        optimizer.step()\n",
        "\n",
        "        total_loss.append(loss.item())\n",
        "\n",
        "    COST.append(np.mean(total_loss))\n",
        "\n",
        "    if epoch==0:\n",
        "        print(\"Epoch : \", epoch+1, \"  -----------> Loss : \", np.mean(total_loss))\n",
        "    elif (epoch+1)%1 == 0:\n",
        "        print(\"Epoch : \", epoch+1, \"  -----------> Loss : \", np.mean(total_loss))"
      ],
      "metadata": {
        "colab": {
          "base_uri": "https://localhost:8080/"
        },
        "id": "wwMpBqaBO_np",
        "outputId": "a6388bf4-cc49-40b5-c72e-3a44b7397bcb"
      },
      "execution_count": 77,
      "outputs": [
        {
          "output_type": "stream",
          "name": "stdout",
          "text": [
            "Epoch :  1   -----------> Loss :  1106.9191996256511\n",
            "Epoch :  2   -----------> Loss :  1076.9982096354167\n",
            "Epoch :  3   -----------> Loss :  1047.836446126302\n",
            "Epoch :  4   -----------> Loss :  1018.8868408203125\n",
            "Epoch :  5   -----------> Loss :  990.4835968017578\n",
            "Epoch :  6   -----------> Loss :  962.4368336995443\n",
            "Epoch :  7   -----------> Loss :  934.4670918782552\n",
            "Epoch :  8   -----------> Loss :  906.7183074951172\n",
            "Epoch :  9   -----------> Loss :  878.6989898681641\n",
            "Epoch :  10   -----------> Loss :  851.1366678873698\n",
            "Epoch :  11   -----------> Loss :  823.3165537516276\n",
            "Epoch :  12   -----------> Loss :  795.6844635009766\n",
            "Epoch :  13   -----------> Loss :  768.3495076497396\n",
            "Epoch :  14   -----------> Loss :  740.6522623697916\n",
            "Epoch :  15   -----------> Loss :  713.4246063232422\n",
            "Epoch :  16   -----------> Loss :  686.2158762613932\n",
            "Epoch :  17   -----------> Loss :  658.8372395833334\n",
            "Epoch :  18   -----------> Loss :  631.5706837972006\n",
            "Epoch :  19   -----------> Loss :  604.8424530029297\n",
            "Epoch :  20   -----------> Loss :  577.3686472574869\n",
            "Epoch :  21   -----------> Loss :  550.1084035237631\n",
            "Epoch :  22   -----------> Loss :  523.9359436035156\n",
            "Epoch :  23   -----------> Loss :  496.3336690266927\n",
            "Epoch :  24   -----------> Loss :  468.57288360595703\n",
            "Epoch :  25   -----------> Loss :  442.6107355753581\n",
            "Epoch :  26   -----------> Loss :  415.5164337158203\n",
            "Epoch :  27   -----------> Loss :  388.482182820638\n",
            "Epoch :  28   -----------> Loss :  362.2131881713867\n",
            "Epoch :  29   -----------> Loss :  336.14928944905597\n",
            "Epoch :  30   -----------> Loss :  308.5683898925781\n",
            "Epoch :  31   -----------> Loss :  283.87152608235675\n",
            "Epoch :  32   -----------> Loss :  257.0223846435547\n",
            "Epoch :  33   -----------> Loss :  230.05115254720053\n",
            "Epoch :  34   -----------> Loss :  204.32862599690756\n",
            "Epoch :  35   -----------> Loss :  180.59183247884116\n",
            "Epoch :  36   -----------> Loss :  153.89198557535806\n",
            "Epoch :  37   -----------> Loss :  127.82403818766277\n",
            "Epoch :  38   -----------> Loss :  102.8089205423991\n",
            "Epoch :  39   -----------> Loss :  76.46128527323405\n",
            "Epoch :  40   -----------> Loss :  53.75153319040934\n",
            "Epoch :  41   -----------> Loss :  28.870588461558025\n",
            "Epoch :  42   -----------> Loss :  1.5814768448472023\n",
            "Epoch :  43   -----------> Loss :  -19.827369213104248\n",
            "Epoch :  44   -----------> Loss :  -43.48807684580485\n",
            "Epoch :  45   -----------> Loss :  -70.66735585530598\n",
            "Epoch :  46   -----------> Loss :  -94.21071879069011\n",
            "Epoch :  47   -----------> Loss :  -111.36783409118652\n",
            "Epoch :  48   -----------> Loss :  -138.39080619812012\n",
            "Epoch :  49   -----------> Loss :  -165.21478017171225\n",
            "Epoch :  50   -----------> Loss :  -186.51637903849283\n",
            "Epoch :  51   -----------> Loss :  -203.32766723632812\n",
            "Epoch :  52   -----------> Loss :  -229.99308013916016\n",
            "Epoch :  53   -----------> Loss :  -256.4181429545085\n",
            "Epoch :  54   -----------> Loss :  -276.27661387125653\n",
            "Epoch :  55   -----------> Loss :  -291.0323435465495\n",
            "Epoch :  56   -----------> Loss :  -316.3969014485677\n",
            "Epoch :  57   -----------> Loss :  -341.59489186604816\n",
            "Epoch :  58   -----------> Loss :  -364.6453501383464\n",
            "Epoch :  59   -----------> Loss :  -379.9933090209961\n",
            "Epoch :  60   -----------> Loss :  -396.3372217814128\n",
            "Epoch :  61   -----------> Loss :  -424.17574310302734\n",
            "Epoch :  62   -----------> Loss :  -446.71482849121094\n",
            "Epoch :  63   -----------> Loss :  -462.0770568847656\n",
            "Epoch :  64   -----------> Loss :  -475.64142354329425\n",
            "Epoch :  65   -----------> Loss :  -496.5936787923177\n",
            "Epoch :  66   -----------> Loss :  -523.4541422526041\n",
            "Epoch :  67   -----------> Loss :  -543.8600616455078\n",
            "Epoch :  68   -----------> Loss :  -551.7226104736328\n",
            "Epoch :  69   -----------> Loss :  -574.1671956380209\n",
            "Epoch :  70   -----------> Loss :  -597.3228302001953\n",
            "Epoch :  71   -----------> Loss :  -618.7132975260416\n",
            "Epoch :  72   -----------> Loss :  -627.1491139729818\n",
            "Epoch :  73   -----------> Loss :  -634.0970255533854\n",
            "Epoch :  74   -----------> Loss :  -663.3743336995443\n",
            "Epoch :  75   -----------> Loss :  -686.1782379150391\n",
            "Epoch :  76   -----------> Loss :  -702.6873881022135\n",
            "Epoch :  77   -----------> Loss :  -718.6825968424479\n",
            "Epoch :  78   -----------> Loss :  -732.1747843424479\n",
            "Epoch :  79   -----------> Loss :  -738.6364440917969\n",
            "Epoch :  80   -----------> Loss :  -757.4372914632162\n",
            "Epoch :  81   -----------> Loss :  -785.1365305582682\n",
            "Epoch :  82   -----------> Loss :  -804.8670756022135\n",
            "Epoch :  83   -----------> Loss :  -813.5610860188802\n",
            "Epoch :  84   -----------> Loss :  -813.973134358724\n",
            "Epoch :  85   -----------> Loss :  -831.6863810221354\n",
            "Epoch :  86   -----------> Loss :  -856.6129964192709\n",
            "Epoch :  87   -----------> Loss :  -878.8285776774088\n",
            "Epoch :  88   -----------> Loss :  -895.7240905761719\n",
            "Epoch :  89   -----------> Loss :  -895.0477701822916\n",
            "Epoch :  90   -----------> Loss :  -898.5153605143229\n",
            "Epoch :  91   -----------> Loss :  -920.4103291829427\n",
            "Epoch :  92   -----------> Loss :  -946.8690490722656\n",
            "Epoch :  93   -----------> Loss :  -967.5547027587891\n",
            "Epoch :  94   -----------> Loss :  -972.104970296224\n",
            "Epoch :  95   -----------> Loss :  -967.4558359781901\n",
            "Epoch :  96   -----------> Loss :  -990.3563232421875\n",
            "Epoch :  97   -----------> Loss :  -1010.6900838216146\n",
            "Epoch :  98   -----------> Loss :  -1032.5010782877605\n",
            "Epoch :  99   -----------> Loss :  -1047.3419087727864\n",
            "Epoch :  100   -----------> Loss :  -1033.771733601888\n",
            "Epoch :  101   -----------> Loss :  -1034.4799092610676\n",
            "Epoch :  102   -----------> Loss :  -1065.9871622721355\n",
            "Epoch :  103   -----------> Loss :  -1091.0721638997395\n",
            "Epoch :  104   -----------> Loss :  -1109.2362976074219\n",
            "Epoch :  105   -----------> Loss :  -1116.4921468098958\n",
            "Epoch :  106   -----------> Loss :  -1108.1600036621094\n",
            "Epoch :  107   -----------> Loss :  -1117.5024515787761\n",
            "Epoch :  108   -----------> Loss :  -1142.260233561198\n",
            "Epoch :  109   -----------> Loss :  -1164.3187255859375\n",
            "Epoch :  110   -----------> Loss :  -1181.3849487304688\n",
            "Epoch :  111   -----------> Loss :  -1179.8145243326824\n",
            "Epoch :  112   -----------> Loss :  -1177.5222473144531\n",
            "Epoch :  113   -----------> Loss :  -1183.6517232259114\n",
            "Epoch :  114   -----------> Loss :  -1209.7713012695312\n",
            "Epoch :  115   -----------> Loss :  -1231.0857849121094\n",
            "Epoch :  116   -----------> Loss :  -1244.5488586425781\n",
            "Epoch :  117   -----------> Loss :  -1248.6100972493489\n",
            "Epoch :  118   -----------> Loss :  -1245.6658020019531\n",
            "Epoch :  119   -----------> Loss :  -1254.097920735677\n",
            "Epoch :  120   -----------> Loss :  -1271.7574971516926\n",
            "Epoch :  121   -----------> Loss :  -1290.2867228190105\n",
            "Epoch :  122   -----------> Loss :  -1305.5278727213542\n",
            "Epoch :  123   -----------> Loss :  -1309.8189595540364\n",
            "Epoch :  124   -----------> Loss :  -1304.134256998698\n",
            "Epoch :  125   -----------> Loss :  -1296.9198099772136\n",
            "Epoch :  126   -----------> Loss :  -1319.8245035807292\n",
            "Epoch :  127   -----------> Loss :  -1342.2105000813801\n",
            "Epoch :  128   -----------> Loss :  -1358.8191935221355\n",
            "Epoch :  129   -----------> Loss :  -1372.1108296712239\n",
            "Epoch :  130   -----------> Loss :  -1376.2914021809895\n",
            "Epoch :  131   -----------> Loss :  -1375.0171508789062\n",
            "Epoch :  132   -----------> Loss :  -1374.1988830566406\n",
            "Epoch :  133   -----------> Loss :  -1382.0138142903645\n",
            "Epoch :  134   -----------> Loss :  -1400.9194030761719\n",
            "Epoch :  135   -----------> Loss :  -1416.9529724121094\n",
            "Epoch :  136   -----------> Loss :  -1429.4882710774739\n",
            "Epoch :  137   -----------> Loss :  -1438.4013264973958\n",
            "Epoch :  138   -----------> Loss :  -1439.3593139648438\n",
            "Epoch :  139   -----------> Loss :  -1442.9120076497395\n",
            "Epoch :  140   -----------> Loss :  -1447.3590698242188\n",
            "Epoch :  141   -----------> Loss :  -1455.6204528808594\n",
            "Epoch :  142   -----------> Loss :  -1465.6958516438801\n",
            "Epoch :  143   -----------> Loss :  -1476.1364339192708\n",
            "Epoch :  144   -----------> Loss :  -1486.6799825032551\n",
            "Epoch :  145   -----------> Loss :  -1494.2520039876301\n",
            "Epoch :  146   -----------> Loss :  -1499.3566487630208\n",
            "Epoch :  147   -----------> Loss :  -1505.6123657226562\n",
            "Epoch :  148   -----------> Loss :  -1510.8720703125\n",
            "Epoch :  149   -----------> Loss :  -1517.8930765787761\n",
            "Epoch :  150   -----------> Loss :  -1523.484598795573\n",
            "Epoch :  151   -----------> Loss :  -1528.0994771321614\n",
            "Epoch :  152   -----------> Loss :  -1533.8375244140625\n",
            "Epoch :  153   -----------> Loss :  -1537.1571044921875\n",
            "Epoch :  154   -----------> Loss :  -1546.1682230631511\n",
            "Epoch :  155   -----------> Loss :  -1552.775166829427\n",
            "Epoch :  156   -----------> Loss :  -1558.6070149739583\n",
            "Epoch :  157   -----------> Loss :  -1567.6896158854167\n",
            "Epoch :  158   -----------> Loss :  -1573.9909362792969\n",
            "Epoch :  159   -----------> Loss :  -1576.8890075683594\n",
            "Epoch :  160   -----------> Loss :  -1582.982930501302\n",
            "Epoch :  161   -----------> Loss :  -1588.910888671875\n",
            "Epoch :  162   -----------> Loss :  -1593.1177978515625\n",
            "Epoch :  163   -----------> Loss :  -1600.0063374837239\n",
            "Epoch :  164   -----------> Loss :  -1609.3199666341145\n",
            "Epoch :  165   -----------> Loss :  -1612.7668558756511\n",
            "Epoch :  166   -----------> Loss :  -1611.2488708496094\n",
            "Epoch :  167   -----------> Loss :  -1612.6877746582031\n",
            "Epoch :  168   -----------> Loss :  -1618.6146443684895\n",
            "Epoch :  169   -----------> Loss :  -1624.1883443196614\n",
            "Epoch :  170   -----------> Loss :  -1629.967061360677\n",
            "Epoch :  171   -----------> Loss :  -1637.5287170410156\n",
            "Epoch :  172   -----------> Loss :  -1644.7561950683594\n",
            "Epoch :  173   -----------> Loss :  -1649.790995279948\n",
            "Epoch :  174   -----------> Loss :  -1653.7232462565105\n",
            "Epoch :  175   -----------> Loss :  -1652.827128092448\n",
            "Epoch :  176   -----------> Loss :  -1657.0340779622395\n",
            "Epoch :  177   -----------> Loss :  -1660.5060221354167\n",
            "Epoch :  178   -----------> Loss :  -1663.7456665039062\n",
            "Epoch :  179   -----------> Loss :  -1667.7596842447917\n",
            "Epoch :  180   -----------> Loss :  -1672.3966776529949\n",
            "Epoch :  181   -----------> Loss :  -1666.2649739583333\n",
            "Epoch :  182   -----------> Loss :  -1674.3738810221355\n",
            "Epoch :  183   -----------> Loss :  -1680.4558817545574\n",
            "Epoch :  184   -----------> Loss :  -1688.2668558756511\n",
            "Epoch :  185   -----------> Loss :  -1694.5737813313801\n",
            "Epoch :  186   -----------> Loss :  -1698.6330871582031\n",
            "Epoch :  187   -----------> Loss :  -1699.9486185709636\n",
            "Epoch :  188   -----------> Loss :  -1708.213155110677\n",
            "Epoch :  189   -----------> Loss :  -1708.5447489420574\n",
            "Epoch :  190   -----------> Loss :  -1707.4131978352864\n",
            "Epoch :  191   -----------> Loss :  -1712.7323099772136\n",
            "Epoch :  192   -----------> Loss :  -1712.1897074381511\n",
            "Epoch :  193   -----------> Loss :  -1712.1795145670574\n",
            "Epoch :  194   -----------> Loss :  -1710.459981282552\n",
            "Epoch :  195   -----------> Loss :  -1710.111572265625\n",
            "Epoch :  196   -----------> Loss :  -1713.8730875651042\n",
            "Epoch :  197   -----------> Loss :  -1721.9627787272136\n",
            "Epoch :  198   -----------> Loss :  -1717.5829060872395\n",
            "Epoch :  199   -----------> Loss :  -1718.6605631510417\n",
            "Epoch :  200   -----------> Loss :  -1721.7419738769531\n"
          ]
        }
      ]
    },
    {
      "cell_type": "code",
      "source": [
        "plt.plot(COST)"
      ],
      "metadata": {
        "id": "3lgGpF_wybkp",
        "outputId": "691fb249-5b79-486e-b14a-e54cf514c757",
        "colab": {
          "base_uri": "https://localhost:8080/",
          "height": 448
        }
      },
      "execution_count": 78,
      "outputs": [
        {
          "output_type": "execute_result",
          "data": {
            "text/plain": [
              "[<matplotlib.lines.Line2D at 0x7ec95cc70e80>]"
            ]
          },
          "metadata": {},
          "execution_count": 78
        },
        {
          "output_type": "display_data",
          "data": {
            "text/plain": [
              "<Figure size 640x480 with 1 Axes>"
            ],
            "image/png": "[encoded data removed]"
          },
          "metadata": {}
        }
      ]
    },
    {
      "cell_type": "code",
      "source": [
        "test = prior.sample((50,))\n",
        "test"
      ],
      "metadata": {
        "id": "qJy70H-_O_pw",
        "outputId": "4b6822c6-7614-45c5-d904-faa26df092e8",
        "colab": {
          "base_uri": "https://localhost:8080/"
        }
      },
      "execution_count": 79,
      "outputs": [
        {
          "output_type": "execute_result",
          "data": {
            "text/plain": [
              "tensor([[-0.6449,  2.8130, -0.1249,  ..., -0.5365, -1.0132,  0.3253],\n",
              "        [-1.0861,  1.4134,  0.2314,  ..., -1.5847,  1.6243,  0.3304],\n",
              "        [ 0.2125, -0.2164,  1.7189,  ...,  0.3008, -0.0235,  0.5422],\n",
              "        ...,\n",
              "        [-0.0918,  1.0173, -0.6008,  ...,  0.2867,  0.6256, -2.0920],\n",
              "        [-0.3926,  0.4355,  1.6451,  ..., -0.6221,  0.0959,  0.5741],\n",
              "        [-1.2965, -0.8582,  0.6031,  ...,  0.3074, -0.8881, -1.9204]])"
            ]
          },
          "metadata": {},
          "execution_count": 79
        }
      ]
    },
    {
      "cell_type": "code",
      "source": [
        "sonuc = model.f_inv(test)\n",
        "sonuc"
      ],
      "metadata": {
        "id": "rjNtmsr9O_sB",
        "outputId": "e35262bd-9279-455a-cf7c-9680084f850b",
        "colab": {
          "base_uri": "https://localhost:8080/"
        }
      },
      "execution_count": 80,
      "outputs": [
        {
          "output_type": "execute_result",
          "data": {
            "text/plain": [
              "tensor([[ 3.6226e-03,  2.3924e-03,  1.1746e-03,  ...,  1.6881e-03,\n",
              "          1.2203e-03,  7.0996e-04],\n",
              "        [ 3.3240e-04, -1.7751e-03,  1.9576e-03,  ...,  1.4365e-03,\n",
              "          3.7676e-03,  2.3339e-03],\n",
              "        [ 2.4502e-03,  4.4906e-03,  1.3857e-03,  ..., -8.4609e-04,\n",
              "         -2.9234e-04,  2.5212e-03],\n",
              "        ...,\n",
              "        [ 4.4635e-03,  6.7997e-05,  3.9727e-03,  ...,  2.4443e-03,\n",
              "          5.2197e-04,  4.2901e-03],\n",
              "        [ 3.1982e-03,  2.0094e-04,  1.8171e-04,  ...,  2.7756e-03,\n",
              "         -7.4282e-04,  5.1714e-03],\n",
              "        [ 1.7124e-03,  9.6005e-04, -1.9643e-04,  ..., -6.3847e-04,\n",
              "          4.3031e-03,  8.4707e-04]], grad_fn=<MulBackward0>)"
            ]
          },
          "metadata": {},
          "execution_count": 80
        }
      ]
    },
    {
      "cell_type": "code",
      "source": [
        "test = prior.sample((1797,))\n",
        "sonuc = model.f_inv(test)\n",
        "sonuc[sonuc[:]>0.3] = 1\n",
        "sonuc[sonuc[:]<=0.3] = 0\n",
        "\n",
        "fig, axs = plt.subplots(5, 10, sharex=True, sharey=True, figsize=(18, 8), subplot_kw={'xticks':[], 'yticks':[]}, gridspec_kw=dict(hspace=0.1, wspace=0.1))\n",
        "\n",
        "for i in range(0,10):\n",
        "\n",
        "    axs[0, i].imshow((sonuc[i]).detach().numpy().reshape((28,28)), cmap='binary', interpolation='nearest', clim=(0, 1))\n",
        "    axs[1, i].imshow((sonuc[10+i]).detach().numpy().reshape((28,28)), cmap='binary', interpolation='nearest', clim=(0, 1))\n",
        "    axs[2, i].imshow((sonuc[20+i]).detach().numpy().reshape((28,28)), cmap='binary', interpolation='nearest', clim=(0, 1))\n",
        "    axs[3, i].imshow((sonuc[30+i]).detach().numpy().reshape((28,28)), cmap='binary', interpolation='nearest', clim=(0, 1))\n",
        "    axs[4, i].imshow((sonuc[40+i]).detach().numpy().reshape((28,28)), cmap='binary', interpolation='nearest', clim=(0, 1))\n",
        "fig.show()"
      ],
      "metadata": {
        "id": "4cOIEHbU1KL6",
        "outputId": "1d1c79e8-a6a7-42c3-be86-f91d22d69632",
        "colab": {
          "base_uri": "https://localhost:8080/",
          "height": 652
        }
      },
      "execution_count": 81,
      "outputs": [
        {
          "output_type": "display_data",
          "data": {
            "text/plain": [
              "<Figure size 1800x800 with 50 Axes>"
            ],
            "image/png": "[encoded data removed]"
          },
          "metadata": {}
        }
      ]
    },
    {
      "cell_type": "code",
      "source": [
        "test = prior.sample((50,))\n",
        "sonuc = model.f_inv(test)\n",
        "sonuc[sonuc[:]>0.4] = 1\n",
        "sonuc[sonuc[:]<=0.4] = 0\n",
        "fig, axs = plt.subplots(5, 10, sharex=True, sharey=True, figsize=(18, 8))\n",
        "\n",
        "for i in range(0,10):\n",
        "\n",
        "    axs[0, i].imshow((sonuc[i]).detach().numpy().reshape((28,28)), cmap='binary', interpolation='nearest', clim=(0, 1))\n",
        "    axs[1, i].imshow((sonuc[10+i]).detach().numpy().reshape((28,28)), cmap='binary', interpolation='nearest', clim=(0, 1))\n",
        "    axs[2, i].imshow((sonuc[20+i]).detach().numpy().reshape((28,28)), cmap='binary', interpolation='nearest', clim=(0, 1))\n",
        "    axs[3, i].imshow((sonuc[30+i]).detach().numpy().reshape((28,28)), cmap='binary', interpolation='nearest', clim=(0, 1))\n",
        "    axs[4, i].imshow((sonuc[40+i]).detach().numpy().reshape((28,28)), cmap='binary', interpolation='nearest', clim=(0, 1))\n",
        "    axs[0, i].axis('off')\n",
        "    axs[1, i].axis('off')\n",
        "    axs[2, i].axis('off')\n",
        "    axs[3, i].axis('off')\n",
        "    axs[4, i].axis('off')\n",
        "fig.show()"
      ],
      "metadata": {
        "id": "EJXVv9wyPMXm",
        "outputId": "3ad8e649-aab1-4475-ae98-2d3b945cf9a2",
        "colab": {
          "base_uri": "https://localhost:8080/",
          "height": 653
        }
      },
      "execution_count": 82,
      "outputs": [
        {
          "output_type": "display_data",
          "data": {
            "text/plain": [
              "<Figure size 1800x800 with 50 Axes>"
            ],
            "image/png": "[encoded data removed]"
          },
          "metadata": {}
        }
      ]
    },
    {
      "cell_type": "code",
      "source": [
        "test = prior.sample((1797,))\n",
        "sonuc = model.f_inv(test)\n",
        "\n",
        "sonuc[sonuc[:]>=0.5] = 1\n",
        "sonuc[sonuc[:]<0.5] = 0\n",
        "fig, axs = plt.subplots(5, 10, sharex=True, sharey=True, figsize=(18, 8), subplot_kw={'xticks':[], 'yticks':[]}, gridspec_kw=dict(hspace=0.1, wspace=0.1))\n",
        "\n",
        "for i in range(0,10):\n",
        "\n",
        "    axs[0, i].imshow((sonuc[i]).detach().numpy().reshape((28,28)), cmap='binary', interpolation='nearest', clim=(0, 1))\n",
        "    axs[1, i].imshow((sonuc[10+i]).detach().numpy().reshape((28,28)), cmap='binary', interpolation='nearest', clim=(0, 1))\n",
        "    axs[2, i].imshow((sonuc[20+i]).detach().numpy().reshape((28,28)), cmap='binary', interpolation='nearest', clim=(0, 1))\n",
        "    axs[3, i].imshow((sonuc[30+i]).detach().numpy().reshape((28,28)), cmap='binary', interpolation='nearest', clim=(0, 1))\n",
        "    axs[4, i].imshow((sonuc[40+i]).detach().numpy().reshape((28,28)), cmap='binary', interpolation='nearest', clim=(0, 1))\n",
        "fig.show()"
      ],
      "metadata": {
        "id": "TtRXTPLzotDS",
        "outputId": "55c6b8fe-c468-4e22-eccd-6dba8bbeb13a",
        "colab": {
          "base_uri": "https://localhost:8080/",
          "height": 652
        }
      },
      "execution_count": 83,
      "outputs": [
        {
          "output_type": "display_data",
          "data": {
            "text/plain": [
              "<Figure size 1800x800 with 50 Axes>"
            ],
            "image/png": "[encoded data removed]"
          },
          "metadata": {}
        }
      ]
    },
    {
      "cell_type": "code",
      "source": [
        "test = prior.sample((1797,))\n",
        "sonuc = model.f_inv(test)\n",
        "sonuc[sonuc[:]>0.6] = 1\n",
        "sonuc[sonuc[:]<=0.6] = 0\n",
        "\n",
        "fig, axs = plt.subplots(5, 10, sharex=True, sharey=True, figsize=(18, 8), subplot_kw={'xticks':[], 'yticks':[]}, gridspec_kw=dict(hspace=0.1, wspace=0.1))\n",
        "\n",
        "for i in range(0,10):\n",
        "\n",
        "    axs[0, i].imshow((sonuc[i]).detach().numpy().reshape((28,28)), cmap='binary', interpolation='nearest', clim=(0, 1))\n",
        "    axs[1, i].imshow((sonuc[10+i]).detach().numpy().reshape((28,28)), cmap='binary', interpolation='nearest', clim=(0, 1))\n",
        "    axs[2, i].imshow((sonuc[20+i]).detach().numpy().reshape((28,28)), cmap='binary', interpolation='nearest', clim=(0, 1))\n",
        "    axs[3, i].imshow((sonuc[30+i]).detach().numpy().reshape((28,28)), cmap='binary', interpolation='nearest', clim=(0, 1))\n",
        "    axs[4, i].imshow((sonuc[40+i]).detach().numpy().reshape((28,28)), cmap='binary', interpolation='nearest', clim=(0, 1))\n",
        "fig.show()"
      ],
      "metadata": {
        "id": "Z7kxHCtiv9Bi",
        "outputId": "ae4f7641-d012-4513-ef1a-313005187f6b",
        "colab": {
          "base_uri": "https://localhost:8080/",
          "height": 652
        }
      },
      "execution_count": 84,
      "outputs": [
        {
          "output_type": "display_data",
          "data": {
            "text/plain": [
              "<Figure size 1800x800 with 50 Axes>"
            ],
            "image/png": "[encoded data removed]"
          },
          "metadata": {}
        }
      ]
    },
    {
      "cell_type": "code",
      "source": [
        "test = prior.sample((1797,))\n",
        "sonuc = (model.f_inv(test))\n",
        "sonuc[sonuc[:]>0.7] = 1\n",
        "sonuc[sonuc[:]<=0.7] = 0\n",
        "fig, axs = plt.subplots(5, 10, sharex=True, sharey=True, figsize=(18, 8), subplot_kw={'xticks':[], 'yticks':[]}, gridspec_kw=dict(hspace=0.1, wspace=0.1))\n",
        "\n",
        "for i in range(0,10):\n",
        "\n",
        "    axs[0, i].imshow((sonuc[i]).detach().numpy().reshape((28,28)), cmap='binary', interpolation='nearest', clim=(0, 1))\n",
        "    axs[1, i].imshow((sonuc[10+i]).detach().numpy().reshape((28,28)), cmap='binary', interpolation='nearest', clim=(0, 1))\n",
        "    axs[2, i].imshow((sonuc[20+i]).detach().numpy().reshape((28,28)), cmap='binary', interpolation='nearest', clim=(0, 1))\n",
        "    axs[3, i].imshow((sonuc[30+i]).detach().numpy().reshape((28,28)), cmap='binary', interpolation='nearest', clim=(0, 1))\n",
        "    axs[4, i].imshow((sonuc[40+i]).detach().numpy().reshape((28,28)), cmap='binary', interpolation='nearest', clim=(0, 1))\n",
        "fig.show()"
      ],
      "metadata": {
        "id": "1Mie1eTywaL2",
        "outputId": "20229fc4-a0f4-43cc-eeb6-c307a86a1ac4",
        "colab": {
          "base_uri": "https://localhost:8080/",
          "height": 652
        }
      },
      "execution_count": 85,
      "outputs": [
        {
          "output_type": "display_data",
          "data": {
            "text/plain": [
              "<Figure size 1800x800 with 50 Axes>"
            ],
            "image/png": "[encoded data removed]"
          },
          "metadata": {}
        }
      ]
    },
    {
      "cell_type": "code",
      "source": [
        "test = prior.sample((1797,))\n",
        "sonuc = (model.f_inv(test))\n",
        "sonuc[sonuc[:]>0.8] = 1\n",
        "sonuc[sonuc[:]<=0.8] = 0\n",
        "fig, axs = plt.subplots(5, 10, sharex=True, sharey=True, figsize=(18, 8), subplot_kw={'xticks':[], 'yticks':[]}, gridspec_kw=dict(hspace=0.1, wspace=0.1))\n",
        "\n",
        "for i in range(0,10):\n",
        "\n",
        "    axs[0, i].imshow((sonuc[i]).detach().numpy().reshape((28,28)), cmap='binary', interpolation='nearest', clim=(0, 1))\n",
        "    axs[1, i].imshow((sonuc[10+i]).detach().numpy().reshape((28,28)), cmap='binary', interpolation='nearest', clim=(0, 1))\n",
        "    axs[2, i].imshow((sonuc[20+i]).detach().numpy().reshape((28,28)), cmap='binary', interpolation='nearest', clim=(0, 1))\n",
        "    axs[3, i].imshow((sonuc[30+i]).detach().numpy().reshape((28,28)), cmap='binary', interpolation='nearest', clim=(0, 1))\n",
        "    axs[4, i].imshow((sonuc[40+i]).detach().numpy().reshape((28,28)), cmap='binary', interpolation='nearest', clim=(0, 1))\n",
        "fig.show()"
      ],
      "metadata": {
        "id": "e5Ezs0opyGEj",
        "outputId": "52671651-8b3d-4b63-d2c8-9454269a537d",
        "colab": {
          "base_uri": "https://localhost:8080/",
          "height": 652
        }
      },
      "execution_count": 86,
      "outputs": [
        {
          "output_type": "display_data",
          "data": {
            "text/plain": [
              "<Figure size 1800x800 with 50 Axes>"
            ],
            "image/png": "[encoded data removed]"
          },
          "metadata": {}
        }
      ]
    },
    {
      "cell_type": "code",
      "source": [],
      "metadata": {
        "id": "AO6DAaFm1BC0"
      },
      "execution_count": 86,
      "outputs": []
    }
  ]
}