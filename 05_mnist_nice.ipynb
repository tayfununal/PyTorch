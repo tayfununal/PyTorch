{
  "nbformat": 4,
  "nbformat_minor": 0,
  "metadata": {
    "colab": {
      "provenance": [],
      "machine_shape": "hm",
      "gpuType": "T4",
      "include_colab_link": true
    },
    "kernelspec": {
      "name": "python3",
      "display_name": "Python 3"
    },
    "language_info": {
      "name": "python"
    },
    "accelerator": "GPU"
  },
  "cells": [
    {
      "cell_type": "markdown",
      "metadata": {
        "id": "view-in-github",
        "colab_type": "text"
      },
      "source": [
        "<a href=\"https://colab.research.google.com/github/tayfununal/PyTorch/blob/main/05_mnist_nice.ipynb\" target=\"_parent\"><img src=\"https://colab.research.google.com/assets/colab-badge.svg\" alt=\"Open In Colab\"/></a>"
      ]
    },
    {
      "cell_type": "code",
      "execution_count": 1,
      "metadata": {
        "id": "87RALZ-3O9AN"
      },
      "outputs": [],
      "source": [
        "import torch\n",
        "import numpy as np\n",
        "import matplotlib.pyplot as plt\n",
        "import seaborn as sns\n",
        "from torch import nn\n",
        "import torchvision\n",
        "from torch.utils.data import DataLoader, Dataset\n",
        "from torchvision import transforms\n",
        "\n",
        "from sklearn.datasets import load_digits\n",
        "from sklearn.model_selection import train_test_split\n",
        "from sklearn.datasets import make_moons"
      ]
    },
    {
      "cell_type": "code",
      "source": [
        "class Data(Dataset):\n",
        "    def __init__(self, dataset):\n",
        "        super(Data, self).__init__()\n",
        "\n",
        "        self.dataset = dataset\n",
        "\n",
        "    def __len__(self):\n",
        "        return len(self.dataset)\n",
        "\n",
        "    def __getitem__(self, idx):\n",
        "        x = self.dataset[idx]\n",
        "        return x"
      ],
      "metadata": {
        "id": "QI3ugepai5u7"
      },
      "execution_count": 2,
      "outputs": []
    },
    {
      "cell_type": "code",
      "source": [
        "\"\"\"class Data(Dataset):\n",
        "    def __init__(self, dataset):\n",
        "        super(Data, self).__init__()\n",
        "\n",
        "        self.dataset = dataset\n",
        "\n",
        "    def __len__(self):\n",
        "        return len(self.dataset)\n",
        "\n",
        "    def __getitem__(self, idx):\n",
        "        x = self.dataset.data[idx]\n",
        "        y = self.dataset.targets[idx]\n",
        "        return x, y\"\"\""
      ],
      "metadata": {
        "id": "y_iZwiHXO_bt",
        "colab": {
          "base_uri": "https://localhost:8080/",
          "height": 55
        },
        "outputId": "884d8ec9-f439-4696-9777-ad91b17257e6"
      },
      "execution_count": 3,
      "outputs": [
        {
          "output_type": "execute_result",
          "data": {
            "text/plain": [
              "'class Data(Dataset):\\n    def __init__(self, dataset):\\n        super(Data, self).__init__()\\n\\n        self.dataset = dataset\\n\\n    def __len__(self):\\n        return len(self.dataset)\\n\\n    def __getitem__(self, idx):\\n        x = self.dataset.data[idx]\\n        y = self.dataset.targets[idx]\\n        return x, y'"
            ],
            "application/vnd.google.colaboratory.intrinsic+json": {
              "type": "string"
            }
          },
          "metadata": {},
          "execution_count": 3
        }
      ]
    },
    {
      "cell_type": "code",
      "source": [
        "class NICE(nn.Module):\n",
        "    def __init__(self, input_dim, hidden_layer, num_flows=2):\n",
        "        super(NICE, self).__init__()\n",
        "\n",
        "        self.input_dim = input_dim\n",
        "        self.hidden_layer = hidden_layer\n",
        "        self.num_flows = num_flows\n",
        "\n",
        "        self.net = lambda : nn.Sequential(\n",
        "                                 nn.Linear(self.input_dim//2, self.hidden_layer), nn.ReLU(),\n",
        "                                 nn.Linear(self.hidden_layer, self.hidden_layer), nn.ReLU(),\n",
        "                                 nn.Linear(self.hidden_layer, self.hidden_layer), nn.ReLU(),\n",
        "                                 nn.Linear(self.hidden_layer, self.hidden_layer), nn.ReLU(),\n",
        "                                 nn.Linear(self.hidden_layer, self.hidden_layer), nn.ReLU(),\n",
        "                                 nn.Linear(self.hidden_layer, self.hidden_layer), nn.ReLU(),\n",
        "                                 nn.Linear(self.hidden_layer, self.hidden_layer), nn.ReLU(),\n",
        "                                 nn.Linear(self.hidden_layer, self.input_dim//2)) # input dimension must be equal to output dimension\n",
        "\n",
        "        self.m = nn.ModuleList([self.net() for _ in range(self.num_flows)])\n",
        "\n",
        "        self.s = nn.Parameter(torch.rand(1, input_dim), requires_grad=True)\n",
        "\n",
        "        self.per_list = self.permutation()\n",
        "\n",
        "    def forward(self, x):\n",
        "        x = x.view(len(x), -1,).to(torch.float32)\n",
        "        return self.f(x)\n",
        "\n",
        "    def permutation(self):\n",
        "        per_list =[]\n",
        "\n",
        "        p = torch.eye(self.input_dim)\n",
        "        for flow in range(self.num_flows):\n",
        "            per_list.append(p[torch.randperm(p.size()[0])])\n",
        "\n",
        "        return per_list\n",
        "\n",
        "    def coupling_layer(self, x, m, flow, forward=True):\n",
        "\n",
        "        x_a = x[:, ::2] if flow%2==0 else x[:, 1::2]\n",
        "        x_b = x[:, 1::2] if flow%2==0 else x[:, ::2]\n",
        "\n",
        "        if forward:\n",
        "            y_b = x_b - m(x_a)\n",
        "        else:\n",
        "            y_b = x_b + m(x_a)\n",
        "\n",
        "        #z = torch.concat((x_a, y_b), axis=1) if flow%2==0 else torch.concat((y_b, x_a), axis=1)\n",
        "        z = torch.empty(x.shape)\n",
        "        z[:, ::2] = x_a if flow%2==0 else y_b\n",
        "        z[:, 1::2] = y_b if flow%2==0 else x_a\n",
        "        return z\n",
        "\n",
        "\n",
        "    def f(self, x):\n",
        "        z = x / torch.exp(self.s)\n",
        "\n",
        "        for flow, model in enumerate(self.m, start=0):\n",
        "            z = torch.matmul(z, self.per_list[flow])\n",
        "            z = self.coupling_layer(z, model, flow, forward=True)\n",
        "\n",
        "        log_det_j = torch.sum(-self.s)\n",
        "\n",
        "        return z, log_det_j\n",
        "\n",
        "    def f_inv(self, z):\n",
        "\n",
        "        for flow, model in reversed(list(enumerate(self.m, start=0))):\n",
        "            z = self.coupling_layer(z, model, flow,forward=False)\n",
        "            z = torch.matmul(z, self.per_list[flow].T)\n",
        "\n",
        "        x = z * torch.exp(self.s)\n",
        "        return x\n",
        "\n",
        "    def criterion(self, z, prior, log_det_j, reduction = \"sum\"):\n",
        "\n",
        "        if reduction == \"sum\":\n",
        "            loss = - (prior.log_prob(z) + log_det_j).sum()\n",
        "        else:\n",
        "\n",
        "            loss = - (prior.log_prob(z) + log_det_j).mean()\n",
        "        return loss"
      ],
      "metadata": {
        "id": "dNv7fminO_d7"
      },
      "execution_count": 4,
      "outputs": []
    },
    {
      "cell_type": "code",
      "source": [
        "def rescale(x, lo, hi):\n",
        "    \"\"\"Rescale a tensor to [lo,hi].\"\"\"\n",
        "    assert(lo < hi), \"[rescale] lo={0} must be smaller than hi={1}\".format(lo,hi)\n",
        "    old_width = torch.max(x)-torch.min(x)\n",
        "    old_center = torch.min(x) + (old_width / 2.)\n",
        "    new_width = float(hi-lo)\n",
        "    new_center = lo + (new_width / 2.)\n",
        "    # shift everything back to zero:\n",
        "    x = x - old_center\n",
        "    # rescale to correct width:\n",
        "    x = x * (new_width / old_width)\n",
        "    # shift everything to the new center:\n",
        "    x = x + new_center\n",
        "    # return:\n",
        "    return x"
      ],
      "metadata": {
        "id": "Y5sYlrIWap1J"
      },
      "execution_count": 5,
      "outputs": []
    },
    {
      "cell_type": "code",
      "source": [
        "train_image = torchvision.datasets.MNIST(root='dataset', train=True, download=True, transform=transforms.ToTensor())\n",
        "test_image = torchvision.datasets.MNIST(root='dataset', train=False, download=True, transform=transforms.ToTensor())\n",
        "\n",
        "X_train = train_image.data.type(dtype=torch.float32)\n",
        "y_train = train_image.targets\n",
        "\n",
        "X_test = test_image.data.type(dtype=torch.float32)\n",
        "y_test = test_image.targets\n",
        "\n",
        "# Dequantization\n",
        "uniform = torch.distributions.uniform.Uniform(torch.tensor([-0.5]), torch.tensor([0.5]))\n",
        "\n",
        "X_train = torch.tensor(X_train) + uniform.sample(X_train.shape).squeeze()\n",
        "X_train = rescale(X_train, 0., 1.).numpy()\n",
        "\n",
        "X_test = torch.tensor(X_test)+ uniform.sample(X_test.shape).squeeze()\n",
        "X_test = rescale(X_test, 0., 1.).numpy()"
      ],
      "metadata": {
        "colab": {
          "base_uri": "https://localhost:8080/"
        },
        "id": "2fhoxicmbPyc",
        "outputId": "773bdbe1-f02b-4ef9-8724-f4a6d41b68d7"
      },
      "execution_count": 6,
      "outputs": [
        {
          "output_type": "stream",
          "name": "stdout",
          "text": [
            "Downloading http://yann.lecun.com/exdb/mnist/train-images-idx3-ubyte.gz\n",
            "Downloading http://yann.lecun.com/exdb/mnist/train-images-idx3-ubyte.gz to dataset/MNIST/raw/train-images-idx3-ubyte.gz\n"
          ]
        },
        {
          "output_type": "stream",
          "name": "stderr",
          "text": [
            "100%|██████████| 9912422/9912422 [00:00<00:00, 395729254.85it/s]"
          ]
        },
        {
          "output_type": "stream",
          "name": "stdout",
          "text": [
            "Extracting dataset/MNIST/raw/train-images-idx3-ubyte.gz to dataset/MNIST/raw\n"
          ]
        },
        {
          "output_type": "stream",
          "name": "stderr",
          "text": [
            "\n"
          ]
        },
        {
          "output_type": "stream",
          "name": "stdout",
          "text": [
            "\n",
            "Downloading http://yann.lecun.com/exdb/mnist/train-labels-idx1-ubyte.gz\n",
            "Downloading http://yann.lecun.com/exdb/mnist/train-labels-idx1-ubyte.gz to dataset/MNIST/raw/train-labels-idx1-ubyte.gz\n"
          ]
        },
        {
          "output_type": "stream",
          "name": "stderr",
          "text": [
            "100%|██████████| 28881/28881 [00:00<00:00, 34219122.55it/s]\n"
          ]
        },
        {
          "output_type": "stream",
          "name": "stdout",
          "text": [
            "Extracting dataset/MNIST/raw/train-labels-idx1-ubyte.gz to dataset/MNIST/raw\n",
            "\n",
            "Downloading http://yann.lecun.com/exdb/mnist/t10k-images-idx3-ubyte.gz\n",
            "Downloading http://yann.lecun.com/exdb/mnist/t10k-images-idx3-ubyte.gz to dataset/MNIST/raw/t10k-images-idx3-ubyte.gz\n"
          ]
        },
        {
          "output_type": "stream",
          "name": "stderr",
          "text": [
            "100%|██████████| 1648877/1648877 [00:00<00:00, 208278614.56it/s]"
          ]
        },
        {
          "output_type": "stream",
          "name": "stdout",
          "text": [
            "Extracting dataset/MNIST/raw/t10k-images-idx3-ubyte.gz to dataset/MNIST/raw\n",
            "\n",
            "Downloading http://yann.lecun.com/exdb/mnist/t10k-labels-idx1-ubyte.gz\n",
            "Downloading http://yann.lecun.com/exdb/mnist/t10k-labels-idx1-ubyte.gz to dataset/MNIST/raw/t10k-labels-idx1-ubyte.gz\n"
          ]
        },
        {
          "output_type": "stream",
          "name": "stderr",
          "text": [
            "\n",
            "100%|██████████| 4542/4542 [00:00<00:00, 4590488.86it/s]\n"
          ]
        },
        {
          "output_type": "stream",
          "name": "stdout",
          "text": [
            "Extracting dataset/MNIST/raw/t10k-labels-idx1-ubyte.gz to dataset/MNIST/raw\n",
            "\n"
          ]
        },
        {
          "output_type": "stream",
          "name": "stderr",
          "text": [
            "<ipython-input-6-2bf555d63314>:13: UserWarning: To copy construct from a tensor, it is recommended to use sourceTensor.clone().detach() or sourceTensor.clone().detach().requires_grad_(True), rather than torch.tensor(sourceTensor).\n",
            "  X_train = torch.tensor(X_train) + uniform.sample(X_train.shape).squeeze()\n",
            "<ipython-input-6-2bf555d63314>:16: UserWarning: To copy construct from a tensor, it is recommended to use sourceTensor.clone().detach() or sourceTensor.clone().detach().requires_grad_(True), rather than torch.tensor(sourceTensor).\n",
            "  X_test = torch.tensor(X_test)+ uniform.sample(X_test.shape).squeeze()\n"
          ]
        }
      ]
    },
    {
      "cell_type": "code",
      "source": [
        "train_data = Data(X_train)\n",
        "test_data = Data(X_test)"
      ],
      "metadata": {
        "id": "61Bk8bccO_gl"
      },
      "execution_count": 7,
      "outputs": []
    },
    {
      "cell_type": "code",
      "source": [
        "image_train = train_data[0]\n",
        "category_train = y_train[0]\n",
        "image_test = test_data[0]\n",
        "category_test = y_test[0]\n",
        "\n",
        "plt.figure(figsize=(5,5))\n",
        "plt.subplot(1,2,1)\n",
        "plt.imshow(image_train.reshape((28,28)), cmap='gray')\n",
        "plt.title(f'train\\ntarget : {category_train}')\n",
        "plt.axis('off')\n",
        "\n",
        "plt.subplot(1,2,2)\n",
        "plt.imshow(image_test.reshape((28,28)), cmap='gray')\n",
        "plt.title(f'test\\ntarget : {category_test}')\n",
        "plt.axis('off')\n",
        "\n",
        "plt.show()"
      ],
      "metadata": {
        "colab": {
          "base_uri": "https://localhost:8080/",
          "height": 256
        },
        "id": "mn2HDNucO_i_",
        "outputId": "c9274b8d-4b66-4af5-d52b-ba3237864e53"
      },
      "execution_count": 8,
      "outputs": [
        {
          "output_type": "display_data",
          "data": {
            "text/plain": [
              "<Figure size 500x500 with 2 Axes>"
            ],
            "image/png": "[encoded data removed]"
          },
          "metadata": {}
        }
      ]
    },
    {
      "cell_type": "code",
      "source": [
        "data_dim = 28*28\n",
        "prior = torch.distributions.multivariate_normal.MultivariateNormal(loc=torch.zeros((data_dim)),\n",
        "                                                    scale_tril=torch.diag(torch.ones((data_dim))))\n",
        "\"\"\"\n",
        "prior = torch.distributions.normal.Normal(loc=torch.zeros((data_dim)),\n",
        "                                                    scale=torch.ones((data_dim)))\n",
        "\"\"\"\n",
        "model = NICE(input_dim=data_dim, hidden_layer=512, num_flows=10)\n",
        "\n",
        "train_loader = DataLoader(train_data, batch_size=1000, shuffle=True)\n"
      ],
      "metadata": {
        "id": "rQs7Q0x8O_lW"
      },
      "execution_count": 9,
      "outputs": []
    },
    {
      "cell_type": "code",
      "source": [
        "epochs = 100\n",
        "optimizer = torch.optim.Adam(model.parameters(), lr=0.003)   # weight_decay=0.9\n",
        "\n",
        "COST = []\n",
        "\n",
        "for epoch in range(epochs):\n",
        "    total_loss = []\n",
        "\n",
        "    for x in train_loader:\n",
        "\n",
        "        z, log_det_j = model.forward(x)\n",
        "        loss = model.criterion(z, prior, log_det_j, reduction=\"avg\")\n",
        "\n",
        "        optimizer.zero_grad()\n",
        "        loss.backward()\n",
        "        optimizer.step()\n",
        "\n",
        "        total_loss.append(loss.item())\n",
        "\n",
        "    COST.append(np.mean(total_loss))\n",
        "\n",
        "    if epoch==0:\n",
        "        print(\"Epoch : \", epoch+1, \"  -----------> Loss : \", np.mean(total_loss))\n",
        "    elif (epoch+1)%1 == 0:\n",
        "        print(\"Epoch : \", epoch+1, \"  -----------> Loss : \", np.mean(total_loss))"
      ],
      "metadata": {
        "id": "wwMpBqaBO_np",
        "outputId": "2fe3b28c-63a1-484d-c90b-8c744d8346d6",
        "colab": {
          "base_uri": "https://localhost:8080/"
        }
      },
      "execution_count": 10,
      "outputs": [
        {
          "output_type": "stream",
          "name": "stdout",
          "text": [
            "Epoch :  1   -----------> Loss :  1051.0023885091146\n",
            "Epoch :  2   -----------> Loss :  909.751171875\n",
            "Epoch :  3   -----------> Loss :  771.5610636393229\n",
            "Epoch :  4   -----------> Loss :  635.0054748535156\n",
            "Epoch :  5   -----------> Loss :  499.9492731730143\n",
            "Epoch :  6   -----------> Loss :  367.0732121785482\n",
            "Epoch :  7   -----------> Loss :  236.981290435791\n",
            "Epoch :  8   -----------> Loss :  111.2063113530477\n",
            "Epoch :  9   -----------> Loss :  -10.332219039897124\n",
            "Epoch :  10   -----------> Loss :  -126.5261297861735\n",
            "Epoch :  11   -----------> Loss :  -236.19131113688152\n",
            "Epoch :  12   -----------> Loss :  -340.1127655029297\n",
            "Epoch :  13   -----------> Loss :  -437.8091105143229\n",
            "Epoch :  14   -----------> Loss :  -527.4343154907226\n",
            "Epoch :  15   -----------> Loss :  -613.2271250406901\n",
            "Epoch :  16   -----------> Loss :  -691.7567423502604\n",
            "Epoch :  17   -----------> Loss :  -766.028955078125\n",
            "Epoch :  18   -----------> Loss :  -836.2043629964193\n",
            "Epoch :  19   -----------> Loss :  -901.6952494303385\n",
            "Epoch :  20   -----------> Loss :  -961.8309661865235\n",
            "Epoch :  21   -----------> Loss :  -1018.3884897867839\n",
            "Epoch :  22   -----------> Loss :  -1071.453173828125\n",
            "Epoch :  23   -----------> Loss :  -1118.9139200846355\n",
            "Epoch :  24   -----------> Loss :  -1166.4615071614583\n",
            "Epoch :  25   -----------> Loss :  -1208.965887451172\n",
            "Epoch :  26   -----------> Loss :  -1248.2483764648437\n",
            "Epoch :  27   -----------> Loss :  -1281.8555908203125\n",
            "Epoch :  28   -----------> Loss :  -1317.538924153646\n",
            "Epoch :  29   -----------> Loss :  -1349.9794087727864\n",
            "Epoch :  30   -----------> Loss :  -1376.7402567545573\n",
            "Epoch :  31   -----------> Loss :  -1402.6276285807292\n",
            "Epoch :  32   -----------> Loss :  -1411.4865966796874\n",
            "Epoch :  33   -----------> Loss :  -1440.3458964029949\n",
            "Epoch :  34   -----------> Loss :  -1465.0295369466146\n",
            "Epoch :  35   -----------> Loss :  -1485.684346516927\n",
            "Epoch :  36   -----------> Loss :  -1502.953965250651\n",
            "Epoch :  37   -----------> Loss :  -1521.160420735677\n",
            "Epoch :  38   -----------> Loss :  -1536.3945149739584\n",
            "Epoch :  39   -----------> Loss :  -1538.4863850911458\n",
            "Epoch :  40   -----------> Loss :  -1548.4862263997395\n",
            "Epoch :  41   -----------> Loss :  -1561.3312377929688\n",
            "Epoch :  42   -----------> Loss :  -1567.9638509114584\n",
            "Epoch :  43   -----------> Loss :  -1576.0692342122395\n",
            "Epoch :  44   -----------> Loss :  -1585.4308959960938\n",
            "Epoch :  45   -----------> Loss :  -1590.2921610514322\n",
            "Epoch :  46   -----------> Loss :  -1594.4645731608073\n",
            "Epoch :  47   -----------> Loss :  -1604.847782389323\n",
            "Epoch :  48   -----------> Loss :  -1606.9515116373698\n",
            "Epoch :  49   -----------> Loss :  -1608.1123189290365\n",
            "Epoch :  50   -----------> Loss :  -1606.2851318359376\n",
            "Epoch :  51   -----------> Loss :  -1593.1141235351563\n",
            "Epoch :  52   -----------> Loss :  -1612.2820638020833\n",
            "Epoch :  53   -----------> Loss :  -1613.697617594401\n",
            "Epoch :  54   -----------> Loss :  -1613.0412292480469\n",
            "Epoch :  55   -----------> Loss :  -1604.5408284505208\n",
            "Epoch :  56   -----------> Loss :  -1609.0549763997396\n",
            "Epoch :  57   -----------> Loss :  -1618.1708374023438\n",
            "Epoch :  58   -----------> Loss :  -1632.2489440917968\n",
            "Epoch :  59   -----------> Loss :  -1631.518672688802\n",
            "Epoch :  60   -----------> Loss :  -1610.5963236490886\n",
            "Epoch :  61   -----------> Loss :  -1627.233974202474\n",
            "Epoch :  62   -----------> Loss :  -1621.9143127441407\n",
            "Epoch :  63   -----------> Loss :  -1637.079990641276\n",
            "Epoch :  64   -----------> Loss :  -1649.5540771484375\n",
            "Epoch :  65   -----------> Loss :  -1648.0536600748699\n",
            "Epoch :  66   -----------> Loss :  -1636.1320963541666\n",
            "Epoch :  67   -----------> Loss :  -1633.9329182942708\n",
            "Epoch :  68   -----------> Loss :  -1625.998848470052\n",
            "Epoch :  69   -----------> Loss :  -1641.3608927408854\n",
            "Epoch :  70   -----------> Loss :  -1654.4813171386718\n",
            "Epoch :  71   -----------> Loss :  -1658.7007283528646\n",
            "Epoch :  72   -----------> Loss :  -1629.0604614257813\n",
            "Epoch :  73   -----------> Loss :  -1615.2159790039063\n",
            "Epoch :  74   -----------> Loss :  -1630.2019266764323\n",
            "Epoch :  75   -----------> Loss :  -1638.330625406901\n",
            "Epoch :  76   -----------> Loss :  -1649.985860188802\n",
            "Epoch :  77   -----------> Loss :  -1648.1042622884115\n",
            "Epoch :  78   -----------> Loss :  -1661.1214619954428\n",
            "Epoch :  79   -----------> Loss :  -1662.9800944010417\n",
            "Epoch :  80   -----------> Loss :  -1660.8573974609376\n",
            "Epoch :  81   -----------> Loss :  -1657.5361897786458\n",
            "Epoch :  82   -----------> Loss :  -1642.3351420084634\n",
            "Epoch :  83   -----------> Loss :  -1585.1397491455077\n",
            "Epoch :  84   -----------> Loss :  -1620.611796061198\n",
            "Epoch :  85   -----------> Loss :  -1652.2096415201822\n",
            "Epoch :  86   -----------> Loss :  -1671.304219563802\n",
            "Epoch :  87   -----------> Loss :  -1678.3615458170573\n",
            "Epoch :  88   -----------> Loss :  -1678.782753499349\n",
            "Epoch :  89   -----------> Loss :  -1686.032421875\n",
            "Epoch :  90   -----------> Loss :  -1679.8330078125\n",
            "Epoch :  91   -----------> Loss :  -1679.6114481608072\n",
            "Epoch :  92   -----------> Loss :  -1677.3924621582032\n",
            "Epoch :  93   -----------> Loss :  -1671.7517354329427\n",
            "Epoch :  94   -----------> Loss :  -1679.329522705078\n",
            "Epoch :  95   -----------> Loss :  -1638.3815205891926\n",
            "Epoch :  96   -----------> Loss :  -1645.5724853515626\n",
            "Epoch :  97   -----------> Loss :  -1654.4483764648437\n",
            "Epoch :  98   -----------> Loss :  -1658.8102620442708\n",
            "Epoch :  99   -----------> Loss :  -1660.8447916666667\n",
            "Epoch :  100   -----------> Loss :  -1671.2153381347657\n"
          ]
        }
      ]
    },
    {
      "cell_type": "code",
      "source": [
        "plt.plot(COST)"
      ],
      "metadata": {
        "id": "3lgGpF_wybkp",
        "outputId": "c25f461f-8f28-4311-9d10-e9380278b491",
        "colab": {
          "base_uri": "https://localhost:8080/",
          "height": 448
        }
      },
      "execution_count": 11,
      "outputs": [
        {
          "data": {
            "text/plain": [
              "[<matplotlib.lines.Line2D at 0x7b9a20831ea0>]"
            ]
          },
          "execution_count": 11,
          "metadata": {},
          "output_type": "execute_result"
        },
        {
          "output_type": "display_data",
          "data": {
            "text/plain": [
              "<Figure size 640x480 with 1 Axes>"
            ],
            "image/png": "[encoded data removed]"
          },
          "metadata": {}
        }
      ]
    },
    {
      "cell_type": "code",
      "source": [
        "test = prior.sample((50,))\n",
        "test"
      ],
      "metadata": {
        "id": "qJy70H-_O_pw",
        "outputId": "08ef9279-a3ab-4632-f157-5b3a3a39b6b2",
        "colab": {
          "base_uri": "https://localhost:8080/"
        }
      },
      "execution_count": 12,
      "outputs": [
        {
          "output_type": "execute_result",
          "data": {
            "text/plain": [
              "tensor([[ 0.4537, -2.1083, -0.8300,  ...,  0.7813, -1.2661,  0.5437],\n",
              "        [ 1.1372,  1.3618,  2.1344,  ...,  0.5667, -0.1963,  0.1100],\n",
              "        [ 1.2799,  0.8698, -0.6450,  ..., -0.9506, -1.3495,  0.5942],\n",
              "        ...,\n",
              "        [ 0.4541,  0.3099, -0.5667,  ...,  1.6734, -0.6449, -1.6159],\n",
              "        [ 1.5707, -0.3821, -0.4799,  ..., -0.2565, -1.8660, -0.9070],\n",
              "        [ 0.1105, -0.7368,  0.4313,  ...,  1.2160,  1.0414,  1.2922]])"
            ]
          },
          "metadata": {},
          "execution_count": 12
        }
      ]
    },
    {
      "cell_type": "code",
      "source": [
        "sonuc = model.f_inv(test)\n",
        "sonuc"
      ],
      "metadata": {
        "id": "rjNtmsr9O_sB",
        "outputId": "5ca9bb00-0f65-4456-accf-46e4e41370cd",
        "colab": {
          "base_uri": "https://localhost:8080/"
        }
      },
      "execution_count": 13,
      "outputs": [
        {
          "output_type": "execute_result",
          "data": {
            "text/plain": [
              "tensor([[ 0.0006,  0.0024,  0.0026,  ...,  0.0006,  0.0014,  0.0020],\n",
              "        [ 0.0037,  0.0015, -0.0004,  ...,  0.0036,  0.0050,  0.0012],\n",
              "        [ 0.0027,  0.0019,  0.0030,  ...,  0.0015,  0.0036,  0.0018],\n",
              "        ...,\n",
              "        [ 0.0012,  0.0029,  0.0031,  ...,  0.0024,  0.0008,  0.0020],\n",
              "        [ 0.0022,  0.0017, -0.0004,  ...,  0.0026,  0.0027,  0.0008],\n",
              "        [ 0.0011,  0.0022,  0.0023,  ...,  0.0019,  0.0034,  0.0026]],\n",
              "       grad_fn=<MulBackward0>)"
            ]
          },
          "metadata": {},
          "execution_count": 13
        }
      ]
    },
    {
      "cell_type": "code",
      "source": [
        "test = prior.sample((1797,))\n",
        "sonuc = model.f_inv(test)\n",
        "sonuc[sonuc[:]>0.3] = 1\n",
        "sonuc[sonuc[:]<=0.3] = 0\n",
        "\n",
        "fig, axs = plt.subplots(5, 10, sharex=True, sharey=True, figsize=(18, 8), subplot_kw={'xticks':[], 'yticks':[]}, gridspec_kw=dict(hspace=0.1, wspace=0.1))\n",
        "\n",
        "for i in range(0,10):\n",
        "\n",
        "    axs[0, i].imshow((sonuc[i]).detach().numpy().reshape((28,28)), cmap='binary', interpolation='nearest', clim=(0, 1))\n",
        "    axs[1, i].imshow((sonuc[10+i]).detach().numpy().reshape((28,28)), cmap='binary', interpolation='nearest', clim=(0, 1))\n",
        "    axs[2, i].imshow((sonuc[20+i]).detach().numpy().reshape((28,28)), cmap='binary', interpolation='nearest', clim=(0, 1))\n",
        "    axs[3, i].imshow((sonuc[30+i]).detach().numpy().reshape((28,28)), cmap='binary', interpolation='nearest', clim=(0, 1))\n",
        "    axs[4, i].imshow((sonuc[40+i]).detach().numpy().reshape((28,28)), cmap='binary', interpolation='nearest', clim=(0, 1))\n",
        "fig.show()"
      ],
      "metadata": {
        "id": "4cOIEHbU1KL6",
        "outputId": "f49db746-1274-4e63-bde0-3f977daf1ae7",
        "colab": {
          "base_uri": "https://localhost:8080/",
          "height": 649
        }
      },
      "execution_count": 14,
      "outputs": [
        {
          "output_type": "display_data",
          "data": {
            "text/plain": [
              "<Figure size 1800x800 with 50 Axes>"
            ],
            "image/png": "[encoded data removed]"
          },
          "metadata": {}
        }
      ]
    },
    {
      "cell_type": "code",
      "source": [
        "test = prior.sample((50,))\n",
        "sonuc = model.f_inv(test)\n",
        "sonuc[sonuc[:]>0.4] = 1\n",
        "sonuc[sonuc[:]<=0.4] = 0\n",
        "fig, axs = plt.subplots(5, 10, sharex=True, sharey=True, figsize=(18, 8))\n",
        "\n",
        "for i in range(0,10):\n",
        "\n",
        "    axs[0, i].imshow((sonuc[i]).detach().numpy().reshape((28,28)), cmap='binary', interpolation='nearest', clim=(0, 1))\n",
        "    axs[1, i].imshow((sonuc[10+i]).detach().numpy().reshape((28,28)), cmap='binary', interpolation='nearest', clim=(0, 1))\n",
        "    axs[2, i].imshow((sonuc[20+i]).detach().numpy().reshape((28,28)), cmap='binary', interpolation='nearest', clim=(0, 1))\n",
        "    axs[3, i].imshow((sonuc[30+i]).detach().numpy().reshape((28,28)), cmap='binary', interpolation='nearest', clim=(0, 1))\n",
        "    axs[4, i].imshow((sonuc[40+i]).detach().numpy().reshape((28,28)), cmap='binary', interpolation='nearest', clim=(0, 1))\n",
        "    axs[0, i].axis('off')\n",
        "    axs[1, i].axis('off')\n",
        "    axs[2, i].axis('off')\n",
        "    axs[3, i].axis('off')\n",
        "    axs[4, i].axis('off')\n",
        "fig.show()"
      ],
      "metadata": {
        "id": "EJXVv9wyPMXm",
        "outputId": "d32263b9-58d2-4cc2-ade5-c36c465a7b9a",
        "colab": {
          "base_uri": "https://localhost:8080/",
          "height": 650
        }
      },
      "execution_count": 15,
      "outputs": [
        {
          "output_type": "display_data",
          "data": {
            "text/plain": [
              "<Figure size 1800x800 with 50 Axes>"
            ],
            "image/png": "[encoded data removed]"
          },
          "metadata": {}
        }
      ]
    },
    {
      "cell_type": "code",
      "source": [
        "test = prior.sample((1797,))\n",
        "sonuc = model.f_inv(test)\n",
        "\n",
        "sonuc[sonuc[:]>=0.5] = 1\n",
        "sonuc[sonuc[:]<0.5] = 0\n",
        "fig, axs = plt.subplots(5, 10, sharex=True, sharey=True, figsize=(18, 8), subplot_kw={'xticks':[], 'yticks':[]}, gridspec_kw=dict(hspace=0.1, wspace=0.1))\n",
        "\n",
        "for i in range(0,10):\n",
        "\n",
        "    axs[0, i].imshow((sonuc[i]).detach().numpy().reshape((28,28)), cmap='binary', interpolation='nearest', clim=(0, 1))\n",
        "    axs[1, i].imshow((sonuc[10+i]).detach().numpy().reshape((28,28)), cmap='binary', interpolation='nearest', clim=(0, 1))\n",
        "    axs[2, i].imshow((sonuc[20+i]).detach().numpy().reshape((28,28)), cmap='binary', interpolation='nearest', clim=(0, 1))\n",
        "    axs[3, i].imshow((sonuc[30+i]).detach().numpy().reshape((28,28)), cmap='binary', interpolation='nearest', clim=(0, 1))\n",
        "    axs[4, i].imshow((sonuc[40+i]).detach().numpy().reshape((28,28)), cmap='binary', interpolation='nearest', clim=(0, 1))\n",
        "fig.show()"
      ],
      "metadata": {
        "id": "TtRXTPLzotDS",
        "outputId": "bbf258f6-8e73-4d5c-989d-7de9719ae2bb",
        "colab": {
          "base_uri": "https://localhost:8080/",
          "height": 649
        }
      },
      "execution_count": 16,
      "outputs": [
        {
          "output_type": "display_data",
          "data": {
            "text/plain": [
              "<Figure size 1800x800 with 50 Axes>"
            ],
            "image/png": "[encoded data removed]"
          },
          "metadata": {}
        }
      ]
    },
    {
      "cell_type": "code",
      "source": [
        "test = prior.sample((1797,))\n",
        "sonuc = model.f_inv(test)\n",
        "sonuc[sonuc[:]>0.6] = 1\n",
        "sonuc[sonuc[:]<=0.6] = 0\n",
        "\n",
        "fig, axs = plt.subplots(5, 10, sharex=True, sharey=True, figsize=(18, 8), subplot_kw={'xticks':[], 'yticks':[]}, gridspec_kw=dict(hspace=0.1, wspace=0.1))\n",
        "\n",
        "for i in range(0,10):\n",
        "\n",
        "    axs[0, i].imshow((sonuc[i]).detach().numpy().reshape((28,28)), cmap='binary', interpolation='nearest', clim=(0, 1))\n",
        "    axs[1, i].imshow((sonuc[10+i]).detach().numpy().reshape((28,28)), cmap='binary', interpolation='nearest', clim=(0, 1))\n",
        "    axs[2, i].imshow((sonuc[20+i]).detach().numpy().reshape((28,28)), cmap='binary', interpolation='nearest', clim=(0, 1))\n",
        "    axs[3, i].imshow((sonuc[30+i]).detach().numpy().reshape((28,28)), cmap='binary', interpolation='nearest', clim=(0, 1))\n",
        "    axs[4, i].imshow((sonuc[40+i]).detach().numpy().reshape((28,28)), cmap='binary', interpolation='nearest', clim=(0, 1))\n",
        "fig.show()"
      ],
      "metadata": {
        "id": "Z7kxHCtiv9Bi",
        "outputId": "b6648b5f-16f8-45a6-dd7b-4965ee07549c",
        "colab": {
          "base_uri": "https://localhost:8080/",
          "height": 649
        }
      },
      "execution_count": 17,
      "outputs": [
        {
          "output_type": "display_data",
          "data": {
            "text/plain": [
              "<Figure size 1800x800 with 50 Axes>"
            ],
            "image/png": "[encoded data removed]"
          },
          "metadata": {}
        }
      ]
    },
    {
      "cell_type": "code",
      "source": [
        "test = prior.sample((1797,))\n",
        "sonuc = (model.f_inv(test))\n",
        "sonuc[sonuc[:]>0.7] = 1\n",
        "sonuc[sonuc[:]<=0.7] = 0\n",
        "fig, axs = plt.subplots(5, 10, sharex=True, sharey=True, figsize=(18, 8), subplot_kw={'xticks':[], 'yticks':[]}, gridspec_kw=dict(hspace=0.1, wspace=0.1))\n",
        "\n",
        "for i in range(0,10):\n",
        "\n",
        "    axs[0, i].imshow((sonuc[i]).detach().numpy().reshape((28,28)), cmap='binary', interpolation='nearest', clim=(0, 1))\n",
        "    axs[1, i].imshow((sonuc[10+i]).detach().numpy().reshape((28,28)), cmap='binary', interpolation='nearest', clim=(0, 1))\n",
        "    axs[2, i].imshow((sonuc[20+i]).detach().numpy().reshape((28,28)), cmap='binary', interpolation='nearest', clim=(0, 1))\n",
        "    axs[3, i].imshow((sonuc[30+i]).detach().numpy().reshape((28,28)), cmap='binary', interpolation='nearest', clim=(0, 1))\n",
        "    axs[4, i].imshow((sonuc[40+i]).detach().numpy().reshape((28,28)), cmap='binary', interpolation='nearest', clim=(0, 1))\n",
        "fig.show()"
      ],
      "metadata": {
        "id": "1Mie1eTywaL2",
        "outputId": "ba6015f0-ef7a-4535-e6f8-b419df64949a",
        "colab": {
          "base_uri": "https://localhost:8080/",
          "height": 649
        }
      },
      "execution_count": 18,
      "outputs": [
        {
          "output_type": "display_data",
          "data": {
            "text/plain": [
              "<Figure size 1800x800 with 50 Axes>"
            ],
            "image/png": "[encoded data removed]"
          },
          "metadata": {}
        }
      ]
    },
    {
      "cell_type": "code",
      "source": [
        "test = prior.sample((1797,))\n",
        "sonuc = (model.f_inv(test))\n",
        "sonuc[sonuc[:]>0.8] = 1\n",
        "sonuc[sonuc[:]<=0.8] = 0\n",
        "fig, axs = plt.subplots(5, 10, sharex=True, sharey=True, figsize=(18, 8), subplot_kw={'xticks':[], 'yticks':[]}, gridspec_kw=dict(hspace=0.1, wspace=0.1))\n",
        "\n",
        "for i in range(0,10):\n",
        "\n",
        "    axs[0, i].imshow((sonuc[i]).detach().numpy().reshape((28,28)), cmap='binary', interpolation='nearest', clim=(0, 1))\n",
        "    axs[1, i].imshow((sonuc[10+i]).detach().numpy().reshape((28,28)), cmap='binary', interpolation='nearest', clim=(0, 1))\n",
        "    axs[2, i].imshow((sonuc[20+i]).detach().numpy().reshape((28,28)), cmap='binary', interpolation='nearest', clim=(0, 1))\n",
        "    axs[3, i].imshow((sonuc[30+i]).detach().numpy().reshape((28,28)), cmap='binary', interpolation='nearest', clim=(0, 1))\n",
        "    axs[4, i].imshow((sonuc[40+i]).detach().numpy().reshape((28,28)), cmap='binary', interpolation='nearest', clim=(0, 1))\n",
        "fig.show()"
      ],
      "metadata": {
        "id": "e5Ezs0opyGEj",
        "outputId": "78df6ef7-06b3-4b90-dd56-16408e5cb486",
        "colab": {
          "base_uri": "https://localhost:8080/",
          "height": 649
        }
      },
      "execution_count": 19,
      "outputs": [
        {
          "output_type": "display_data",
          "data": {
            "text/plain": [
              "<Figure size 1800x800 with 50 Axes>"
            ],
            "image/png": "[encoded data removed]"
          },
          "metadata": {}
        }
      ]
    },
    {
      "cell_type": "code",
      "source": [],
      "metadata": {
        "id": "AO6DAaFm1BC0"
      },
      "execution_count": 19,
      "outputs": []
    }
  ]
}